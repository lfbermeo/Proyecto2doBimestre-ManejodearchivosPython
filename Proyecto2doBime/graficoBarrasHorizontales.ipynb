{
 "cells": [
  {
   "cell_type": "markdown",
   "metadata": {},
   "source": [
    "## Gráfica de barras horizontales"
   ]
  },
  {
   "cell_type": "markdown",
   "metadata": {},
   "source": [
    "En la primera línea realizamos la importación de la librería de pandas para leer los datos en el formato csv y la denominamos dp, las siguientes importaciones son de la librería de bokeh que es para realizar los gráficos estadísticos."
   ]
  },
  {
   "cell_type": "code",
   "execution_count": 1,
   "metadata": {},
   "outputs": [],
   "source": [
    "import pandas as pd\n",
    "from bokeh.plotting import figure, show, output_notebook\n",
    "from bokeh.models import ColumnDataSource\n",
    "from bokeh.models.tools import HoverTool\n",
    "from bokeh.transform import factor_cmap, transform\n",
    "from bokeh.palettes import Category20b"
   ]
  },
  {
   "cell_type": "markdown",
   "metadata": {},
   "source": [
    "\"output_notebook\" es una función de bokeh para hacer la presentación grafica."
   ]
  },
  {
   "cell_type": "code",
   "execution_count": 2,
   "metadata": {},
   "outputs": [
    {
     "data": {
      "text/html": [
       "\n",
       "    <div class=\"bk-root\">\n",
       "        <a href=\"https://bokeh.pydata.org\" target=\"_blank\" class=\"bk-logo bk-logo-small bk-logo-notebook\"></a>\n",
       "        <span id=\"1001\">Loading BokehJS ...</span>\n",
       "    </div>"
      ]
     },
     "metadata": {},
     "output_type": "display_data"
    },
    {
     "data": {
      "application/javascript": [
       "\n",
       "(function(root) {\n",
       "  function now() {\n",
       "    return new Date();\n",
       "  }\n",
       "\n",
       "  var force = true;\n",
       "\n",
       "  if (typeof (root._bokeh_onload_callbacks) === \"undefined\" || force === true) {\n",
       "    root._bokeh_onload_callbacks = [];\n",
       "    root._bokeh_is_loading = undefined;\n",
       "  }\n",
       "\n",
       "  var JS_MIME_TYPE = 'application/javascript';\n",
       "  var HTML_MIME_TYPE = 'text/html';\n",
       "  var EXEC_MIME_TYPE = 'application/vnd.bokehjs_exec.v0+json';\n",
       "  var CLASS_NAME = 'output_bokeh rendered_html';\n",
       "\n",
       "  /**\n",
       "   * Render data to the DOM node\n",
       "   */\n",
       "  function render(props, node) {\n",
       "    var script = document.createElement(\"script\");\n",
       "    node.appendChild(script);\n",
       "  }\n",
       "\n",
       "  /**\n",
       "   * Handle when an output is cleared or removed\n",
       "   */\n",
       "  function handleClearOutput(event, handle) {\n",
       "    var cell = handle.cell;\n",
       "\n",
       "    var id = cell.output_area._bokeh_element_id;\n",
       "    var server_id = cell.output_area._bokeh_server_id;\n",
       "    // Clean up Bokeh references\n",
       "    if (id != null && id in Bokeh.index) {\n",
       "      Bokeh.index[id].model.document.clear();\n",
       "      delete Bokeh.index[id];\n",
       "    }\n",
       "\n",
       "    if (server_id !== undefined) {\n",
       "      // Clean up Bokeh references\n",
       "      var cmd = \"from bokeh.io.state import curstate; print(curstate().uuid_to_server['\" + server_id + \"'].get_sessions()[0].document.roots[0]._id)\";\n",
       "      cell.notebook.kernel.execute(cmd, {\n",
       "        iopub: {\n",
       "          output: function(msg) {\n",
       "            var id = msg.content.text.trim();\n",
       "            if (id in Bokeh.index) {\n",
       "              Bokeh.index[id].model.document.clear();\n",
       "              delete Bokeh.index[id];\n",
       "            }\n",
       "          }\n",
       "        }\n",
       "      });\n",
       "      // Destroy server and session\n",
       "      var cmd = \"import bokeh.io.notebook as ion; ion.destroy_server('\" + server_id + \"')\";\n",
       "      cell.notebook.kernel.execute(cmd);\n",
       "    }\n",
       "  }\n",
       "\n",
       "  /**\n",
       "   * Handle when a new output is added\n",
       "   */\n",
       "  function handleAddOutput(event, handle) {\n",
       "    var output_area = handle.output_area;\n",
       "    var output = handle.output;\n",
       "\n",
       "    // limit handleAddOutput to display_data with EXEC_MIME_TYPE content only\n",
       "    if ((output.output_type != \"display_data\") || (!output.data.hasOwnProperty(EXEC_MIME_TYPE))) {\n",
       "      return\n",
       "    }\n",
       "\n",
       "    var toinsert = output_area.element.find(\".\" + CLASS_NAME.split(' ')[0]);\n",
       "\n",
       "    if (output.metadata[EXEC_MIME_TYPE][\"id\"] !== undefined) {\n",
       "      toinsert[toinsert.length - 1].firstChild.textContent = output.data[JS_MIME_TYPE];\n",
       "      // store reference to embed id on output_area\n",
       "      output_area._bokeh_element_id = output.metadata[EXEC_MIME_TYPE][\"id\"];\n",
       "    }\n",
       "    if (output.metadata[EXEC_MIME_TYPE][\"server_id\"] !== undefined) {\n",
       "      var bk_div = document.createElement(\"div\");\n",
       "      bk_div.innerHTML = output.data[HTML_MIME_TYPE];\n",
       "      var script_attrs = bk_div.children[0].attributes;\n",
       "      for (var i = 0; i < script_attrs.length; i++) {\n",
       "        toinsert[toinsert.length - 1].firstChild.setAttribute(script_attrs[i].name, script_attrs[i].value);\n",
       "      }\n",
       "      // store reference to server id on output_area\n",
       "      output_area._bokeh_server_id = output.metadata[EXEC_MIME_TYPE][\"server_id\"];\n",
       "    }\n",
       "  }\n",
       "\n",
       "  function register_renderer(events, OutputArea) {\n",
       "\n",
       "    function append_mime(data, metadata, element) {\n",
       "      // create a DOM node to render to\n",
       "      var toinsert = this.create_output_subarea(\n",
       "        metadata,\n",
       "        CLASS_NAME,\n",
       "        EXEC_MIME_TYPE\n",
       "      );\n",
       "      this.keyboard_manager.register_events(toinsert);\n",
       "      // Render to node\n",
       "      var props = {data: data, metadata: metadata[EXEC_MIME_TYPE]};\n",
       "      render(props, toinsert[toinsert.length - 1]);\n",
       "      element.append(toinsert);\n",
       "      return toinsert\n",
       "    }\n",
       "\n",
       "    /* Handle when an output is cleared or removed */\n",
       "    events.on('clear_output.CodeCell', handleClearOutput);\n",
       "    events.on('delete.Cell', handleClearOutput);\n",
       "\n",
       "    /* Handle when a new output is added */\n",
       "    events.on('output_added.OutputArea', handleAddOutput);\n",
       "\n",
       "    /**\n",
       "     * Register the mime type and append_mime function with output_area\n",
       "     */\n",
       "    OutputArea.prototype.register_mime_type(EXEC_MIME_TYPE, append_mime, {\n",
       "      /* Is output safe? */\n",
       "      safe: true,\n",
       "      /* Index of renderer in `output_area.display_order` */\n",
       "      index: 0\n",
       "    });\n",
       "  }\n",
       "\n",
       "  // register the mime type if in Jupyter Notebook environment and previously unregistered\n",
       "  if (root.Jupyter !== undefined) {\n",
       "    var events = require('base/js/events');\n",
       "    var OutputArea = require('notebook/js/outputarea').OutputArea;\n",
       "\n",
       "    if (OutputArea.prototype.mime_types().indexOf(EXEC_MIME_TYPE) == -1) {\n",
       "      register_renderer(events, OutputArea);\n",
       "    }\n",
       "  }\n",
       "\n",
       "  \n",
       "  if (typeof (root._bokeh_timeout) === \"undefined\" || force === true) {\n",
       "    root._bokeh_timeout = Date.now() + 5000;\n",
       "    root._bokeh_failed_load = false;\n",
       "  }\n",
       "\n",
       "  var NB_LOAD_WARNING = {'data': {'text/html':\n",
       "     \"<div style='background-color: #fdd'>\\n\"+\n",
       "     \"<p>\\n\"+\n",
       "     \"BokehJS does not appear to have successfully loaded. If loading BokehJS from CDN, this \\n\"+\n",
       "     \"may be due to a slow or bad network connection. Possible fixes:\\n\"+\n",
       "     \"</p>\\n\"+\n",
       "     \"<ul>\\n\"+\n",
       "     \"<li>re-rerun `output_notebook()` to attempt to load from CDN again, or</li>\\n\"+\n",
       "     \"<li>use INLINE resources instead, as so:</li>\\n\"+\n",
       "     \"</ul>\\n\"+\n",
       "     \"<code>\\n\"+\n",
       "     \"from bokeh.resources import INLINE\\n\"+\n",
       "     \"output_notebook(resources=INLINE)\\n\"+\n",
       "     \"</code>\\n\"+\n",
       "     \"</div>\"}};\n",
       "\n",
       "  function display_loaded() {\n",
       "    var el = document.getElementById(\"1001\");\n",
       "    if (el != null) {\n",
       "      el.textContent = \"BokehJS is loading...\";\n",
       "    }\n",
       "    if (root.Bokeh !== undefined) {\n",
       "      if (el != null) {\n",
       "        el.textContent = \"BokehJS \" + root.Bokeh.version + \" successfully loaded.\";\n",
       "      }\n",
       "    } else if (Date.now() < root._bokeh_timeout) {\n",
       "      setTimeout(display_loaded, 100)\n",
       "    }\n",
       "  }\n",
       "\n",
       "\n",
       "  function run_callbacks() {\n",
       "    try {\n",
       "      root._bokeh_onload_callbacks.forEach(function(callback) { callback() });\n",
       "    }\n",
       "    finally {\n",
       "      delete root._bokeh_onload_callbacks\n",
       "    }\n",
       "    console.info(\"Bokeh: all callbacks have finished\");\n",
       "  }\n",
       "\n",
       "  function load_libs(js_urls, callback) {\n",
       "    root._bokeh_onload_callbacks.push(callback);\n",
       "    if (root._bokeh_is_loading > 0) {\n",
       "      console.log(\"Bokeh: BokehJS is being loaded, scheduling callback at\", now());\n",
       "      return null;\n",
       "    }\n",
       "    if (js_urls == null || js_urls.length === 0) {\n",
       "      run_callbacks();\n",
       "      return null;\n",
       "    }\n",
       "    console.log(\"Bokeh: BokehJS not loaded, scheduling load and callback at\", now());\n",
       "    root._bokeh_is_loading = js_urls.length;\n",
       "    for (var i = 0; i < js_urls.length; i++) {\n",
       "      var url = js_urls[i];\n",
       "      var s = document.createElement('script');\n",
       "      s.src = url;\n",
       "      s.async = false;\n",
       "      s.onreadystatechange = s.onload = function() {\n",
       "        root._bokeh_is_loading--;\n",
       "        if (root._bokeh_is_loading === 0) {\n",
       "          console.log(\"Bokeh: all BokehJS libraries loaded\");\n",
       "          run_callbacks()\n",
       "        }\n",
       "      };\n",
       "      s.onerror = function() {\n",
       "        console.warn(\"failed to load library \" + url);\n",
       "      };\n",
       "      console.log(\"Bokeh: injecting script tag for BokehJS library: \", url);\n",
       "      document.getElementsByTagName(\"head\")[0].appendChild(s);\n",
       "    }\n",
       "  };var element = document.getElementById(\"1001\");\n",
       "  if (element == null) {\n",
       "    console.log(\"Bokeh: ERROR: autoload.js configured with elementid '1001' but no matching script tag was found. \")\n",
       "    return false;\n",
       "  }\n",
       "\n",
       "  var js_urls = [\"https://cdn.pydata.org/bokeh/release/bokeh-1.0.4.min.js\", \"https://cdn.pydata.org/bokeh/release/bokeh-widgets-1.0.4.min.js\", \"https://cdn.pydata.org/bokeh/release/bokeh-tables-1.0.4.min.js\", \"https://cdn.pydata.org/bokeh/release/bokeh-gl-1.0.4.min.js\"];\n",
       "\n",
       "  var inline_js = [\n",
       "    function(Bokeh) {\n",
       "      Bokeh.set_log_level(\"info\");\n",
       "    },\n",
       "    \n",
       "    function(Bokeh) {\n",
       "      \n",
       "    },\n",
       "    function(Bokeh) {\n",
       "      console.log(\"Bokeh: injecting CSS: https://cdn.pydata.org/bokeh/release/bokeh-1.0.4.min.css\");\n",
       "      Bokeh.embed.inject_css(\"https://cdn.pydata.org/bokeh/release/bokeh-1.0.4.min.css\");\n",
       "      console.log(\"Bokeh: injecting CSS: https://cdn.pydata.org/bokeh/release/bokeh-widgets-1.0.4.min.css\");\n",
       "      Bokeh.embed.inject_css(\"https://cdn.pydata.org/bokeh/release/bokeh-widgets-1.0.4.min.css\");\n",
       "      console.log(\"Bokeh: injecting CSS: https://cdn.pydata.org/bokeh/release/bokeh-tables-1.0.4.min.css\");\n",
       "      Bokeh.embed.inject_css(\"https://cdn.pydata.org/bokeh/release/bokeh-tables-1.0.4.min.css\");\n",
       "    }\n",
       "  ];\n",
       "\n",
       "  function run_inline_js() {\n",
       "    \n",
       "    if ((root.Bokeh !== undefined) || (force === true)) {\n",
       "      for (var i = 0; i < inline_js.length; i++) {\n",
       "        inline_js[i].call(root, root.Bokeh);\n",
       "      }if (force === true) {\n",
       "        display_loaded();\n",
       "      }} else if (Date.now() < root._bokeh_timeout) {\n",
       "      setTimeout(run_inline_js, 100);\n",
       "    } else if (!root._bokeh_failed_load) {\n",
       "      console.log(\"Bokeh: BokehJS failed to load within specified timeout.\");\n",
       "      root._bokeh_failed_load = true;\n",
       "    } else if (force !== true) {\n",
       "      var cell = $(document.getElementById(\"1001\")).parents('.cell').data().cell;\n",
       "      cell.output_area.append_execute_result(NB_LOAD_WARNING)\n",
       "    }\n",
       "\n",
       "  }\n",
       "\n",
       "  if (root._bokeh_is_loading === 0) {\n",
       "    console.log(\"Bokeh: BokehJS loaded, going straight to plotting\");\n",
       "    run_inline_js();\n",
       "  } else {\n",
       "    load_libs(js_urls, function() {\n",
       "      console.log(\"Bokeh: BokehJS plotting callback run at\", now());\n",
       "      run_inline_js();\n",
       "    });\n",
       "  }\n",
       "}(window));"
      ],
      "application/vnd.bokehjs_load.v0+json": "\n(function(root) {\n  function now() {\n    return new Date();\n  }\n\n  var force = true;\n\n  if (typeof (root._bokeh_onload_callbacks) === \"undefined\" || force === true) {\n    root._bokeh_onload_callbacks = [];\n    root._bokeh_is_loading = undefined;\n  }\n\n  \n\n  \n  if (typeof (root._bokeh_timeout) === \"undefined\" || force === true) {\n    root._bokeh_timeout = Date.now() + 5000;\n    root._bokeh_failed_load = false;\n  }\n\n  var NB_LOAD_WARNING = {'data': {'text/html':\n     \"<div style='background-color: #fdd'>\\n\"+\n     \"<p>\\n\"+\n     \"BokehJS does not appear to have successfully loaded. If loading BokehJS from CDN, this \\n\"+\n     \"may be due to a slow or bad network connection. Possible fixes:\\n\"+\n     \"</p>\\n\"+\n     \"<ul>\\n\"+\n     \"<li>re-rerun `output_notebook()` to attempt to load from CDN again, or</li>\\n\"+\n     \"<li>use INLINE resources instead, as so:</li>\\n\"+\n     \"</ul>\\n\"+\n     \"<code>\\n\"+\n     \"from bokeh.resources import INLINE\\n\"+\n     \"output_notebook(resources=INLINE)\\n\"+\n     \"</code>\\n\"+\n     \"</div>\"}};\n\n  function display_loaded() {\n    var el = document.getElementById(\"1001\");\n    if (el != null) {\n      el.textContent = \"BokehJS is loading...\";\n    }\n    if (root.Bokeh !== undefined) {\n      if (el != null) {\n        el.textContent = \"BokehJS \" + root.Bokeh.version + \" successfully loaded.\";\n      }\n    } else if (Date.now() < root._bokeh_timeout) {\n      setTimeout(display_loaded, 100)\n    }\n  }\n\n\n  function run_callbacks() {\n    try {\n      root._bokeh_onload_callbacks.forEach(function(callback) { callback() });\n    }\n    finally {\n      delete root._bokeh_onload_callbacks\n    }\n    console.info(\"Bokeh: all callbacks have finished\");\n  }\n\n  function load_libs(js_urls, callback) {\n    root._bokeh_onload_callbacks.push(callback);\n    if (root._bokeh_is_loading > 0) {\n      console.log(\"Bokeh: BokehJS is being loaded, scheduling callback at\", now());\n      return null;\n    }\n    if (js_urls == null || js_urls.length === 0) {\n      run_callbacks();\n      return null;\n    }\n    console.log(\"Bokeh: BokehJS not loaded, scheduling load and callback at\", now());\n    root._bokeh_is_loading = js_urls.length;\n    for (var i = 0; i < js_urls.length; i++) {\n      var url = js_urls[i];\n      var s = document.createElement('script');\n      s.src = url;\n      s.async = false;\n      s.onreadystatechange = s.onload = function() {\n        root._bokeh_is_loading--;\n        if (root._bokeh_is_loading === 0) {\n          console.log(\"Bokeh: all BokehJS libraries loaded\");\n          run_callbacks()\n        }\n      };\n      s.onerror = function() {\n        console.warn(\"failed to load library \" + url);\n      };\n      console.log(\"Bokeh: injecting script tag for BokehJS library: \", url);\n      document.getElementsByTagName(\"head\")[0].appendChild(s);\n    }\n  };var element = document.getElementById(\"1001\");\n  if (element == null) {\n    console.log(\"Bokeh: ERROR: autoload.js configured with elementid '1001' but no matching script tag was found. \")\n    return false;\n  }\n\n  var js_urls = [\"https://cdn.pydata.org/bokeh/release/bokeh-1.0.4.min.js\", \"https://cdn.pydata.org/bokeh/release/bokeh-widgets-1.0.4.min.js\", \"https://cdn.pydata.org/bokeh/release/bokeh-tables-1.0.4.min.js\", \"https://cdn.pydata.org/bokeh/release/bokeh-gl-1.0.4.min.js\"];\n\n  var inline_js = [\n    function(Bokeh) {\n      Bokeh.set_log_level(\"info\");\n    },\n    \n    function(Bokeh) {\n      \n    },\n    function(Bokeh) {\n      console.log(\"Bokeh: injecting CSS: https://cdn.pydata.org/bokeh/release/bokeh-1.0.4.min.css\");\n      Bokeh.embed.inject_css(\"https://cdn.pydata.org/bokeh/release/bokeh-1.0.4.min.css\");\n      console.log(\"Bokeh: injecting CSS: https://cdn.pydata.org/bokeh/release/bokeh-widgets-1.0.4.min.css\");\n      Bokeh.embed.inject_css(\"https://cdn.pydata.org/bokeh/release/bokeh-widgets-1.0.4.min.css\");\n      console.log(\"Bokeh: injecting CSS: https://cdn.pydata.org/bokeh/release/bokeh-tables-1.0.4.min.css\");\n      Bokeh.embed.inject_css(\"https://cdn.pydata.org/bokeh/release/bokeh-tables-1.0.4.min.css\");\n    }\n  ];\n\n  function run_inline_js() {\n    \n    if ((root.Bokeh !== undefined) || (force === true)) {\n      for (var i = 0; i < inline_js.length; i++) {\n        inline_js[i].call(root, root.Bokeh);\n      }if (force === true) {\n        display_loaded();\n      }} else if (Date.now() < root._bokeh_timeout) {\n      setTimeout(run_inline_js, 100);\n    } else if (!root._bokeh_failed_load) {\n      console.log(\"Bokeh: BokehJS failed to load within specified timeout.\");\n      root._bokeh_failed_load = true;\n    } else if (force !== true) {\n      var cell = $(document.getElementById(\"1001\")).parents('.cell').data().cell;\n      cell.output_area.append_execute_result(NB_LOAD_WARNING)\n    }\n\n  }\n\n  if (root._bokeh_is_loading === 0) {\n    console.log(\"Bokeh: BokehJS loaded, going straight to plotting\");\n    run_inline_js();\n  } else {\n    load_libs(js_urls, function() {\n      console.log(\"Bokeh: BokehJS plotting callback run at\", now());\n      run_inline_js();\n    });\n  }\n}(window));"
     },
     "metadata": {},
     "output_type": "display_data"
    }
   ],
   "source": [
    "output_notebook()"
   ]
  },
  {
   "cell_type": "markdown",
   "metadata": {},
   "source": [
    "Creo la variable df para que realice la lectura de la base de datos, la cual esta en formato .csv, para ello usamos read_csv."
   ]
  },
  {
   "cell_type": "code",
   "execution_count": 3,
   "metadata": {},
   "outputs": [],
   "source": [
    "df = pd.read_csv('data/nacimientos2014.csv', encoding='utf8')\n",
    "#df = df.sample(50)"
   ]
  },
  {
   "cell_type": "markdown",
   "metadata": {},
   "source": [
    "Creo una variable denominada grupo_EstadoCivil, la cuál por la función de bokeh que es groupby la cuál realiza grupos de las variables de datos que le asigno, el la siguiente línea creamos una variable source, que será a ColumnDataSoruce del grupo que definí en la anterior línea. \"ColumnDataSource\" la cuál convierte los datos de un objeto dataframe a un objeto de columnas de bokeh. Creó una variable estadoCivil la cual alamcena todos los datos en formato de lista de la columna \"est_civil\" de los datos source.\n",
    "Creo el objeto p, donde le coloco el rango en el eje de las y, igualandolo a la varibale estadoCivil"
   ]
  },
  {
   "cell_type": "code",
   "execution_count": 4,
   "metadata": {},
   "outputs": [],
   "source": [
    "grupo_EstadoCivil = df.groupby('est_civil').describe()\n",
    "source = ColumnDataSource(grupo_EstadoCivil)\n",
    "estadoCivil = source.data['est_civil'].tolist()\n",
    "p = figure(y_range=estadoCivil)"
   ]
  },
  {
   "cell_type": "markdown",
   "metadata": {},
   "source": [
    "Creo la variable mapa_color que será igual a una función de bokeh para definir los colores y el tamaño de la gráfica estadística. Usando el objeto creado le asigno funciones de bokeh para realizar la gráfica de barras que es \"hbar\" la misma que le asigno las datos que necesita para realizar la gráfica, para dibujar el resultado de los parámetros a dibujar."
   ]
  },
  {
   "cell_type": "code",
   "execution_count": 5,
   "metadata": {},
   "outputs": [
    {
     "data": {
      "text/html": [
       "<div style=\"display: table;\"><div style=\"display: table-row;\"><div style=\"display: table-cell;\"><b title=\"bokeh.models.renderers.GlyphRenderer\">GlyphRenderer</b>(</div><div style=\"display: table-cell;\">id&nbsp;=&nbsp;'1040', <span id=\"1043\" style=\"cursor: pointer;\">&hellip;)</span></div></div><div class=\"1042\" style=\"display: none;\"><div style=\"display: table-cell;\"></div><div style=\"display: table-cell;\">data_source&nbsp;=&nbsp;ColumnDataSource(id='1002', ...),</div></div><div class=\"1042\" style=\"display: none;\"><div style=\"display: table-cell;\"></div><div style=\"display: table-cell;\">glyph&nbsp;=&nbsp;HBar(id='1038', ...),</div></div><div class=\"1042\" style=\"display: none;\"><div style=\"display: table-cell;\"></div><div style=\"display: table-cell;\">hover_glyph&nbsp;=&nbsp;None,</div></div><div class=\"1042\" style=\"display: none;\"><div style=\"display: table-cell;\"></div><div style=\"display: table-cell;\">js_event_callbacks&nbsp;=&nbsp;{},</div></div><div class=\"1042\" style=\"display: none;\"><div style=\"display: table-cell;\"></div><div style=\"display: table-cell;\">js_property_callbacks&nbsp;=&nbsp;{},</div></div><div class=\"1042\" style=\"display: none;\"><div style=\"display: table-cell;\"></div><div style=\"display: table-cell;\">level&nbsp;=&nbsp;'glyph',</div></div><div class=\"1042\" style=\"display: none;\"><div style=\"display: table-cell;\"></div><div style=\"display: table-cell;\">muted&nbsp;=&nbsp;False,</div></div><div class=\"1042\" style=\"display: none;\"><div style=\"display: table-cell;\"></div><div style=\"display: table-cell;\">muted_glyph&nbsp;=&nbsp;None,</div></div><div class=\"1042\" style=\"display: none;\"><div style=\"display: table-cell;\"></div><div style=\"display: table-cell;\">name&nbsp;=&nbsp;None,</div></div><div class=\"1042\" style=\"display: none;\"><div style=\"display: table-cell;\"></div><div style=\"display: table-cell;\">nonselection_glyph&nbsp;=&nbsp;HBar(id='1039', ...),</div></div><div class=\"1042\" style=\"display: none;\"><div style=\"display: table-cell;\"></div><div style=\"display: table-cell;\">selection_glyph&nbsp;=&nbsp;None,</div></div><div class=\"1042\" style=\"display: none;\"><div style=\"display: table-cell;\"></div><div style=\"display: table-cell;\">subscribed_events&nbsp;=&nbsp;[],</div></div><div class=\"1042\" style=\"display: none;\"><div style=\"display: table-cell;\"></div><div style=\"display: table-cell;\">tags&nbsp;=&nbsp;[],</div></div><div class=\"1042\" style=\"display: none;\"><div style=\"display: table-cell;\"></div><div style=\"display: table-cell;\">view&nbsp;=&nbsp;CDSView(id='1041', ...),</div></div><div class=\"1042\" style=\"display: none;\"><div style=\"display: table-cell;\"></div><div style=\"display: table-cell;\">visible&nbsp;=&nbsp;True,</div></div><div class=\"1042\" style=\"display: none;\"><div style=\"display: table-cell;\"></div><div style=\"display: table-cell;\">x_range_name&nbsp;=&nbsp;'default',</div></div><div class=\"1042\" style=\"display: none;\"><div style=\"display: table-cell;\"></div><div style=\"display: table-cell;\">y_range_name&nbsp;=&nbsp;'default')</div></div></div>\n",
       "<script>\n",
       "(function() {\n",
       "  var expanded = false;\n",
       "  var ellipsis = document.getElementById(\"1043\");\n",
       "  ellipsis.addEventListener(\"click\", function() {\n",
       "    var rows = document.getElementsByClassName(\"1042\");\n",
       "    for (var i = 0; i < rows.length; i++) {\n",
       "      var el = rows[i];\n",
       "      el.style.display = expanded ? \"none\" : \"table-row\";\n",
       "    }\n",
       "    ellipsis.innerHTML = expanded ? \"&hellip;)\" : \"&lsaquo;&lsaquo;&lsaquo;\";\n",
       "    expanded = !expanded;\n",
       "  });\n",
       "})();\n",
       "</script>\n"
      ],
      "text/plain": [
       "GlyphRenderer(id='1040', ...)"
      ]
     },
     "execution_count": 5,
     "metadata": {},
     "output_type": "execute_result"
    }
   ],
   "source": [
    "mapa_color = factor_cmap(field_name='est_civil', palette=Category20b[len(estadoCivil)], factors=estadoCivil)\n",
    "p.hbar(y='est_civil', right='anio_insc_count', source=source, height=0.7, color=mapa_color)"
   ]
  },
  {
   "cell_type": "markdown",
   "metadata": {},
   "source": [
    "En las siguientes líneas de código le colocó el título a la gráfica y los nombres de las variables a dibujarse para mayor compresión del usuario."
   ]
  },
  {
   "cell_type": "code",
   "execution_count": 6,
   "metadata": {},
   "outputs": [],
   "source": [
    "p.title.text= 'Gráfica de barras verticales con respecto al estado civil  ({} muestras)'.format(len(df))\n",
    "p.xaxis.axis_label = 'Estado civil'\n",
    "p.yaxis.axis_label = '#'"
   ]
  },
  {
   "cell_type": "markdown",
   "metadata": {},
   "source": [
    "\"HoverTool\" es un objeto de bokeh el cuál me permite mostrar al usuario los datos exactos al momento de pasar el ratón o mouse por los datos dibujados"
   ]
  },
  {
   "cell_type": "code",
   "execution_count": 7,
   "metadata": {},
   "outputs": [],
   "source": [
    "hover = HoverTool()\n",
    "hover.tooltips = [\n",
    "    ('Valor', \"@anio_insc_count\"),\n",
    "    ('Estado civil', \"@est_civil\")\n",
    "]\n",
    "hover.mode = 'hline'\n",
    "p.add_tools(hover)"
   ]
  },
  {
   "cell_type": "markdown",
   "metadata": {},
   "source": [
    "Mostramos p, el cuál ya está creado, tiene todas las funciones como colores, los datos filtrados y la gráfica que debe realizar"
   ]
  },
  {
   "cell_type": "markdown",
   "metadata": {},
   "source": [
    "En la siguente gráfica de barras horizontales, lo que quiero demostrar cuál es el indice de mujeres con respecto al estado civil tiene hijos."
   ]
  },
  {
   "cell_type": "code",
   "execution_count": 8,
   "metadata": {},
   "outputs": [
    {
     "data": {
      "text/html": [
       "\n",
       "\n",
       "\n",
       "\n",
       "\n",
       "\n",
       "  <div class=\"bk-root\" id=\"efb8469e-c0ac-41ac-972f-6fd4a729d9e8\" data-root-id=\"1003\"></div>\n"
      ]
     },
     "metadata": {},
     "output_type": "display_data"
    },
    {
     "data": {
      "application/javascript": [
       "(function(root) {\n",
       "  function embed_document(root) {\n",
       "    \n",
       "  var docs_json = {\"e38e275b-139e-401b-9a3f-033114142c87\":{\"roots\":{\"references\":[{\"attributes\":{\"below\":[{\"id\":\"1012\",\"type\":\"LinearAxis\"}],\"left\":[{\"id\":\"1017\",\"type\":\"CategoricalAxis\"}],\"renderers\":[{\"id\":\"1012\",\"type\":\"LinearAxis\"},{\"id\":\"1016\",\"type\":\"Grid\"},{\"id\":\"1017\",\"type\":\"CategoricalAxis\"},{\"id\":\"1020\",\"type\":\"Grid\"},{\"id\":\"1029\",\"type\":\"BoxAnnotation\"},{\"id\":\"1040\",\"type\":\"GlyphRenderer\"}],\"title\":{\"id\":\"1044\",\"type\":\"Title\"},\"toolbar\":{\"id\":\"1027\",\"type\":\"Toolbar\"},\"x_range\":{\"id\":\"1004\",\"type\":\"DataRange1d\"},\"x_scale\":{\"id\":\"1008\",\"type\":\"LinearScale\"},\"y_range\":{\"id\":\"1006\",\"type\":\"FactorRange\"},\"y_scale\":{\"id\":\"1010\",\"type\":\"CategoricalScale\"}},\"id\":\"1003\",\"subtype\":\"Figure\",\"type\":\"Plot\"},{\"attributes\":{\"callback\":null,\"mode\":\"hline\",\"tooltips\":[[\"Valor\",\"@anio_insc_count\"],[\"Estado civil\",\"@est_civil\"]]},\"id\":\"1045\",\"type\":\"HoverTool\"},{\"attributes\":{},\"id\":\"1054\",\"type\":\"UnionRenderers\"},{\"attributes\":{\"axis_label\":\"Estado civil\",\"formatter\":{\"id\":\"1049\",\"type\":\"BasicTickFormatter\"},\"plot\":{\"id\":\"1003\",\"subtype\":\"Figure\",\"type\":\"Plot\"},\"ticker\":{\"id\":\"1013\",\"type\":\"BasicTicker\"}},\"id\":\"1012\",\"type\":\"LinearAxis\"},{\"attributes\":{},\"id\":\"1053\",\"type\":\"Selection\"},{\"attributes\":{\"plot\":{\"id\":\"1003\",\"subtype\":\"Figure\",\"type\":\"Plot\"},\"ticker\":{\"id\":\"1013\",\"type\":\"BasicTicker\"}},\"id\":\"1016\",\"type\":\"Grid\"},{\"attributes\":{},\"id\":\"1049\",\"type\":\"BasicTickFormatter\"},{\"attributes\":{},\"id\":\"1021\",\"type\":\"PanTool\"},{\"attributes\":{},\"id\":\"1013\",\"type\":\"BasicTicker\"},{\"attributes\":{\"axis_label\":\"#\",\"formatter\":{\"id\":\"1051\",\"type\":\"CategoricalTickFormatter\"},\"plot\":{\"id\":\"1003\",\"subtype\":\"Figure\",\"type\":\"Plot\"},\"ticker\":{\"id\":\"1018\",\"type\":\"CategoricalTicker\"}},\"id\":\"1017\",\"type\":\"CategoricalAxis\"},{\"attributes\":{\"fill_color\":{\"field\":\"est_civil\",\"transform\":{\"id\":\"1036\",\"type\":\"CategoricalColorMapper\"}},\"height\":{\"value\":0.7},\"line_color\":{\"field\":\"est_civil\",\"transform\":{\"id\":\"1036\",\"type\":\"CategoricalColorMapper\"}},\"right\":{\"field\":\"anio_insc_count\"},\"y\":{\"field\":\"est_civil\"}},\"id\":\"1038\",\"type\":\"HBar\"},{\"attributes\":{},\"id\":\"1018\",\"type\":\"CategoricalTicker\"},{\"attributes\":{},\"id\":\"1022\",\"type\":\"WheelZoomTool\"},{\"attributes\":{},\"id\":\"1051\",\"type\":\"CategoricalTickFormatter\"},{\"attributes\":{},\"id\":\"1010\",\"type\":\"CategoricalScale\"},{\"attributes\":{\"callback\":null,\"data\":{\"Unnamed: 0_25%\":{\"__ndarray__\":\"AAAAAAA4fkAAAAAAABhvQAAAAAAABIhAAAAAAADuh0AAAAAAACCBQAAAAAAAyoFAAAAAAAD4aEA=\",\"dtype\":\"float64\",\"shape\":[7]},\"Unnamed: 0_50%\":{\"__ndarray__\":\"AAAAAAAYlUAAAAAAAFh9QAAAAAAAAJdAAAAAAADWk0AAAAAAANiVQAAAAAAAqJVAAAAAAAD4dUA=\",\"dtype\":\"float64\",\"shape\":[7]},\"Unnamed: 0_75%\":{\"__ndarray__\":\"AAAAAACwnUAAAAAAAE+WQAAAAAAARqBAAAAAAACAmkAAAAAAAGSdQAAAAAAApZ5AAAAAAAB0f0A=\",\"dtype\":\"float64\",\"shape\":[7]},\"Unnamed: 0_count\":{\"__ndarray__\":\"AAAAAACYg0AAAAAAAAAyQAAAAAAAgEdAAAAAAAAAEEAAAAAAABB8QAAAAAAAkIdAAAAAAAAAAEA=\",\"dtype\":\"float64\",\"shape\":[7]},\"Unnamed: 0_max\":{\"__ndarray__\":\"AAAAAABmo0AAAAAAADCjQAAAAAAAZKNAAAAAAACknUAAAAAAAGqjQAAAAAAAaKNAAAAAAAB4hEA=\",\"dtype\":\"float64\",\"shape\":[7]},\"Unnamed: 0_mean\":{\"__ndarray__\":\"o4suuug+k0CO4ziO41SMQHIFMbmCHJZAAAAAAAChkkAsc7bALtaTQND1xvMh/pNAAAAAAAD4dUA=\",\"dtype\":\"float64\",\"shape\":[7]},\"Unnamed: 0_min\":{\"__ndarray__\":\"AAAAAAAAHEAAAAAAAAAQQAAAAAAAAFZAAAAAAADQdEAAAAAAAADwPwAAAAAAAABAAAAAAAAASEA=\",\"dtype\":\"float64\",\"shape\":[7]},\"Unnamed: 0_std\":{\"__ndarray__\":\"+VGfN+Xvh0DlyxWwOtKKQM5ugsyXg4dAkQ0VbAYjhkBUrLzxWvKGQC6FY/g0tIdAZdeDymvTekA=\",\"dtype\":\"float64\",\"shape\":[7]},\"anio_insc_25%\":{\"__ndarray__\":\"AAAAAAB4n0AAAAAAAHifQAAAAAAAeJ9AAAAAAAB4n0AAAAAAAHifQAAAAAAAeJ9AAAAAAAB4n0A=\",\"dtype\":\"float64\",\"shape\":[7]},\"anio_insc_50%\":{\"__ndarray__\":\"AAAAAAB4n0AAAAAAAHifQAAAAAAAeJ9AAAAAAAB4n0AAAAAAAHifQAAAAAAAeJ9AAAAAAAB4n0A=\",\"dtype\":\"float64\",\"shape\":[7]},\"anio_insc_75%\":{\"__ndarray__\":\"AAAAAAB4n0AAAAAAAHifQAAAAAAAeJ9AAAAAAAB4n0AAAAAAAHifQAAAAAAAeJ9AAAAAAAB4n0A=\",\"dtype\":\"float64\",\"shape\":[7]},\"anio_insc_count\":{\"__ndarray__\":\"AAAAAACYg0AAAAAAAAAyQAAAAAAAgEdAAAAAAAAAEEAAAAAAABB8QAAAAAAAkIdAAAAAAAAAAEA=\",\"dtype\":\"float64\",\"shape\":[7]},\"anio_insc_max\":{\"__ndarray__\":\"AAAAAAB4n0AAAAAAAHifQAAAAAAAeJ9AAAAAAAB4n0AAAAAAAHifQAAAAAAAeJ9AAAAAAAB4n0A=\",\"dtype\":\"float64\",\"shape\":[7]},\"anio_insc_mean\":{\"__ndarray__\":\"AAAAAAB4n0AAAAAAAHifQAAAAAAAeJ9AAAAAAAB4n0AAAAAAAHifQAAAAAAAeJ9AAAAAAAB4n0A=\",\"dtype\":\"float64\",\"shape\":[7]},\"anio_insc_min\":{\"__ndarray__\":\"AAAAAAB4n0AAAAAAAHifQAAAAAAAeJ9AAAAAAAB4n0AAAAAAAHifQAAAAAAAeJ9AAAAAAAB4n0A=\",\"dtype\":\"float64\",\"shape\":[7]},\"anio_insc_std\":{\"__ndarray__\":\"AAAAAAAAAAAAAAAAAAAAAAAAAAAAAAAAAAAAAAAAAAAAAAAAAAAAAAAAAAAAAAAAAAAAAAAAAAA=\",\"dtype\":\"float64\",\"shape\":[7]},\"anio_mad_25%\":{\"__ndarray__\":\"AAAAAADwnkAAAAAAAOGeQAAAAAAA/J5AAAAAAAAXn0AAAAAAAAifQAAAAAAABJ9AAAAAAADRnkA=\",\"dtype\":\"float64\",\"shape\":[7]},\"anio_mad_50%\":{\"__ndarray__\":\"AAAAAAAIn0AAAAAAAOqeQAAAAAAAFJ9AAAAAAAAon0AAAAAAAByfQAAAAAAAHJ9AAAAAAADSnkA=\",\"dtype\":\"float64\",\"shape\":[7]},\"anio_mad_75%\":{\"__ndarray__\":\"AAAAAAAYn0AAAAAAAPeeQAAAAAAAJJ9AAAAAAAAxn0AAAAAAACyfQAAAAAAAKJ9AAAAAAADTnkA=\",\"dtype\":\"float64\",\"shape\":[7]},\"anio_mad_count\":{\"__ndarray__\":\"AAAAAACYg0AAAAAAAAAyQAAAAAAAgEdAAAAAAAAAEEAAAAAAABB8QAAAAAAAkIdAAAAAAAAAAEA=\",\"dtype\":\"float64\",\"shape\":[7]},\"anio_mad_max\":{\"__ndarray__\":\"AAAAAICHw0AAAAAAACSfQAAAAACAh8NAAAAAAAA0n0AAAAAAgIfDQAAAAACAh8NAAAAAAADUnkA=\",\"dtype\":\"float64\",\"shape\":[7]},\"anio_mad_mean\":{\"__ndarray__\":\"KghkCTPRn0DkOI7jOPCeQHIFMbmCLqZAAAAAAAAgn0DZQ8lfWKWfQIUcBu+gyKBAAAAAAADSnkA=\",\"dtype\":\"float64\",\"shape\":[7]},\"anio_mad_min\":{\"__ndarray__\":\"AAAAAADAnkAAAAAAANieQAAAAAAA4J5AAAAAAAD8nkAAAAAAAMyeQAAAAAAAwJ5AAAAAAADQnkA=\",\"dtype\":\"float64\",\"shape\":[7]},\"anio_mad_std\":{\"__ndarray__\":\"WiXTsZ30g0DIZ6wb3y8VQGDm/48egqNAVrjOVheCGUBfNZCA86+AQOnLJaj9fJFAzTt/Zp6g5j8=\",\"dtype\":\"float64\",\"shape\":[7]},\"anio_nac_25%\":{\"__ndarray__\":\"AAAAAAB4n0AAAAAAAHifQAAAAAAAeJ9AAAAAAAB3n0AAAAAAAHifQAAAAAAAeJ9AAAAAAAB0n0A=\",\"dtype\":\"float64\",\"shape\":[7]},\"anio_nac_50%\":{\"__ndarray__\":\"AAAAAAB4n0AAAAAAAHifQAAAAAAAeJ9AAAAAAAB4n0AAAAAAAHifQAAAAAAAeJ9AAAAAAAB0n0A=\",\"dtype\":\"float64\",\"shape\":[7]},\"anio_nac_75%\":{\"__ndarray__\":\"AAAAAAB4n0AAAAAAAHifQAAAAAAAeJ9AAAAAAAB4n0AAAAAAAHifQAAAAAAAeJ9AAAAAAAB0n0A=\",\"dtype\":\"float64\",\"shape\":[7]},\"anio_nac_count\":{\"__ndarray__\":\"AAAAAACYg0AAAAAAAAAyQAAAAAAAgEdAAAAAAAAAEEAAAAAAABB8QAAAAAAAkIdAAAAAAAAAAEA=\",\"dtype\":\"float64\",\"shape\":[7]},\"anio_nac_max\":{\"__ndarray__\":\"AAAAAAB4n0AAAAAAAHifQAAAAAAAeJ9AAAAAAAB4n0AAAAAAAHifQAAAAAAAeJ9AAAAAAAB0n0A=\",\"dtype\":\"float64\",\"shape\":[7]},\"anio_nac_mean\":{\"__ndarray__\":\"0bv815V3n0Acx3Ecx3efQEFMriAmd59AAAAAAAB3n0Ct0BKfKXefQE1Hj1USd59AAAAAAAB0n0A=\",\"dtype\":\"float64\",\"shape\":[7]},\"anio_nac_min\":{\"__ndarray__\":\"AAAAAAB0n0AAAAAAAHSfQAAAAAAAdJ9AAAAAAAB0n0AAAAAAAHSfQAAAAAAAdJ9AAAAAAAB0n0A=\",\"dtype\":\"float64\",\"shape\":[7]},\"anio_nac_std\":{\"__ndarray__\":\"pDa5RlGG0z9m+v7dfSvOP+Sltpvdedo/AAAAAAAA4D8jPUX7ORHaPxpJvwhrCds/AAAAAAAAAAA=\",\"dtype\":\"float64\",\"shape\":[7]},\"con_pren_25%\":{\"__ndarray__\":\"AAAAAAAAGEAAAAAAAAAZQAAAAAAAABxAAAAAAAAAFkAAAAAAAAAUQAAAAAAAABRAAAAAAAAAG0A=\",\"dtype\":\"float64\",\"shape\":[7]},\"con_pren_50%\":{\"__ndarray__\":\"AAAAAAAAIEAAAAAAAAAgQAAAAAAAACJAAAAAAAAAGEAAAAAAAAAcQAAAAAAAABxAAAAAAAAAHkA=\",\"dtype\":\"float64\",\"shape\":[7]},\"con_pren_75%\":{\"__ndarray__\":\"AAAAAAAAIkAAAAAAAIAjQAAAAAAAwFhAAAAAAAAAHEAAAAAAAAAgQAAAAAAAACJAAAAAAACAIEA=\",\"dtype\":\"float64\",\"shape\":[7]},\"con_pren_count\":{\"__ndarray__\":\"AAAAAACYg0AAAAAAAAAyQAAAAAAAgEdAAAAAAAAAEEAAAAAAABB8QAAAAAAAkIdAAAAAAAAAAEA=\",\"dtype\":\"float64\",\"shape\":[7]},\"con_pren_max\":{\"__ndarray__\":\"AAAAAADAWEAAAAAAAAAoQAAAAAAAwFhAAAAAAAAAJEAAAAAAAMBYQAAAAAAAwFhAAAAAAAAAIkA=\",\"dtype\":\"float64\",\"shape\":[7]},\"con_pren_mean\":{\"__ndarray__\":\"VEEgS5iJJUAAAAAAAAAgQG3UdzbqO0RAAAAAAAAAGkAVm/DagJ4gQDjVdpmOHiVAAAAAAAAAHkA=\",\"dtype\":\"float64\",\"shape\":[7]},\"con_pren_min\":{\"__ndarray__\":\"AAAAAAAAAAAAAAAAAAAQQAAAAAAAAAhAAAAAAAAAEEAAAAAAAAAAAAAAAAAAAAAAAAAAAAAAGEA=\",\"dtype\":\"float64\",\"shape\":[7]},\"con_pren_std\":{\"__ndarray__\":\"z080dMduMUDTRBR9zDsAQMbeZPDwSEZAPYrkMgUiBEAZCk8A83QqQFVrTsSSfzJA2WzfzHb4AEA=\",\"dtype\":\"float64\",\"shape\":[7]},\"dia_insc_25%\":{\"__ndarray__\":\"AAAAAAAAIEAAAAAAAAAUQAAAAAAAACBAAAAAAAAAFUAAAAAAAAAiQAAAAAAAACBAAAAAAAAAOEA=\",\"dtype\":\"float64\",\"shape\":[7]},\"dia_insc_50%\":{\"__ndarray__\":\"AAAAAAAAMEAAAAAAAAAlQAAAAAAAADVAAAAAAAAAIEAAAAAAAAAyQAAAAAAAADBAAAAAAAAAOkA=\",\"dtype\":\"float64\",\"shape\":[7]},\"dia_insc_75%\":{\"__ndarray__\":\"AAAAAAAAOEAAAAAAAEA1QAAAAAAAgDlAAAAAAACAKkAAAAAAAAA5QAAAAAAAADhAAAAAAAAAPEA=\",\"dtype\":\"float64\",\"shape\":[7]},\"dia_insc_count\":{\"__ndarray__\":\"AAAAAACYg0AAAAAAAAAyQAAAAAAAgEdAAAAAAAAAEEAAAAAAABB8QAAAAAAAkIdAAAAAAAAAAEA=\",\"dtype\":\"float64\",\"shape\":[7]},\"dia_insc_max\":{\"__ndarray__\":\"AAAAAAAAP0AAAAAAAAA+QAAAAAAAAD9AAAAAAAAAN0AAAAAAAAA/QAAAAAAAAD9AAAAAAAAAPkA=\",\"dtype\":\"float64\",\"shape\":[7]},\"dia_insc_mean\":{\"__ndarray__\":\"AEWNQu/yL0DHcRzHcRwqQAAAAAAAADFAAAAAAAAAJUBrRIhRsQkxQMa8uhXg5i9AAAAAAAAAOkA=\",\"dtype\":\"float64\",\"shape\":[7]},\"dia_insc_min\":{\"__ndarray__\":\"AAAAAAAA8D8AAAAAAADwPwAAAAAAAABAAAAAAAAACEAAAAAAAADwPwAAAAAAAPA/AAAAAAAANkA=\",\"dtype\":\"float64\",\"shape\":[7]},\"dia_insc_std\":{\"__ndarray__\":\"pVnv6/VyIkCESW67PBcjQKDoAQMTfCNA1W9BajCgIUDxcIk7yYgiQL5aNl2y0CFAzTt/Zp6gFkA=\",\"dtype\":\"float64\",\"shape\":[7]},\"dia_mad_25%\":{\"__ndarray__\":\"AAAAAAAAIkAAAAAAAAAtQAAAAAAAACBAAAAAAAAADkAAAAAAAAAiQAAAAAAAACBAAAAAAAAADkA=\",\"dtype\":\"float64\",\"shape\":[7]},\"dia_mad_50%\":{\"__ndarray__\":\"AAAAAAAAMUAAAAAAAIA1QAAAAAAAADNAAAAAAAAAHEAAAAAAAAAwQAAAAAAAADBAAAAAAAAAGkA=\",\"dtype\":\"float64\",\"shape\":[7]},\"dia_mad_75%\":{\"__ndarray__\":\"AAAAAAAAOUAAAAAAAAA5QAAAAAAAADhAAAAAAACAJkAAAAAAAAA3QAAAAAAAADhAAAAAAACAIkA=\",\"dtype\":\"float64\",\"shape\":[7]},\"dia_mad_count\":{\"__ndarray__\":\"AAAAAACYg0AAAAAAAAAyQAAAAAAAgEdAAAAAAAAAEEAAAAAAABB8QAAAAAAAkIdAAAAAAAAAAEA=\",\"dtype\":\"float64\",\"shape\":[7]},\"dia_mad_max\":{\"__ndarray__\":\"AAAAAADAWEAAAAAAAAA+QAAAAAAAwFhAAAAAAAAALkAAAAAAAMBYQAAAAAAAwFhAAAAAAAAAKEA=\",\"dtype\":\"float64\",\"shape\":[7]},\"dia_mad_mean\":{\"__ndarray__\":\"7iO4j+A+MUDkOI7jOI4zQCEmVxCTKzhAAAAAAAAAIEBdneyh5C8wQAFuzlCRejFAAAAAAAAAGkA=\",\"dtype\":\"float64\",\"shape\":[7]},\"dia_mad_min\":{\"__ndarray__\":\"AAAAAAAA8D8AAAAAAAAAQAAAAAAAAPA/AAAAAAAACEAAAAAAAADwPwAAAAAAAPA/AAAAAAAA8D8=\",\"dtype\":\"float64\",\"shape\":[7]},\"dia_mad_std\":{\"__ndarray__\":\"169kYewgJkAyT9IZMtkgQIYq8pxlUDtAvJZoHfZjFkBcK5W5F2ckQM90gzgkMC1AOfLuzNkcH0A=\",\"dtype\":\"float64\",\"shape\":[7]},\"dia_nac_25%\":{\"__ndarray__\":\"AAAAAAAAIEAAAAAAAAAUQAAAAAAAACNAAAAAAAAAJkAAAAAAAAAcQAAAAAAAACBAAAAAAAAAPEA=\",\"dtype\":\"float64\",\"shape\":[7]},\"dia_nac_50%\":{\"__ndarray__\":\"AAAAAAAALkAAAAAAAAAhQAAAAAAAADJAAAAAAAAALUAAAAAAAAAuQAAAAAAAAC5AAAAAAAAAPEA=\",\"dtype\":\"float64\",\"shape\":[7]},\"dia_nac_75%\":{\"__ndarray__\":\"AAAAAAAAN0AAAAAAAMA0QAAAAAAAgDhAAAAAAADAMUAAAAAAAAA3QAAAAAAAADdAAAAAAAAAPEA=\",\"dtype\":\"float64\",\"shape\":[7]},\"dia_nac_count\":{\"__ndarray__\":\"AAAAAACYg0AAAAAAAAAyQAAAAAAAgEdAAAAAAAAAEEAAAAAAABB8QAAAAAAAkIdAAAAAAAAAAEA=\",\"dtype\":\"float64\",\"shape\":[7]},\"dia_nac_max\":{\"__ndarray__\":\"AAAAAAAAP0AAAAAAAAA6QAAAAAAAAD9AAAAAAAAAOkAAAAAAAAA/QAAAAAAAAD9AAAAAAAAAPEA=\",\"dtype\":\"float64\",\"shape\":[7]},\"dia_nac_mean\":{\"__ndarray__\":\"f9Oe2akgLkBVVVVVVVUoQKnvbNR3NjFAAAAAAACALECcbr4yZwsuQObVrQA3Zy5AAAAAAAAAPEA=\",\"dtype\":\"float64\",\"shape\":[7]},\"dia_nac_min\":{\"__ndarray__\":\"AAAAAAAA8D8AAAAAAAAIQAAAAAAAAPA/AAAAAAAAAEAAAAAAAADwPwAAAAAAAPA/AAAAAAAAPEA=\",\"dtype\":\"float64\",\"shape\":[7]},\"dia_nac_std\":{\"__ndarray__\":\"o4qCp7eSIUBLK3TfybEgQBflkddCwiBAcFQPLRWfI0DWVywrKYEhQEJhWVwRqiFAAAAAAAAAAAA=\",\"dtype\":\"float64\",\"shape\":[7]},\"edad_mad_25%\":{\"__ndarray__\":\"AAAAAAAAOEAAAAAAACBAQAAAAAAAADZAAAAAAADAMUAAAAAAAAAzQAAAAAAAADRAAAAAAACgREA=\",\"dtype\":\"float64\",\"shape\":[7]},\"edad_mad_50%\":{\"__ndarray__\":\"AAAAAAAAPEAAAAAAAMBBQAAAAAAAADlAAAAAAAAANEAAAAAAAAA3QAAAAAAAADhAAAAAAADAREA=\",\"dtype\":\"float64\",\"shape\":[7]},\"edad_mad_75%\":{\"__ndarray__\":\"AAAAAAAAQUAAAAAAAOBCQAAAAAAAgD9AAAAAAABAOEAAAAAAAAA8QAAAAAAAAD1AAAAAAADgREA=\",\"dtype\":\"float64\",\"shape\":[7]},\"edad_mad_count\":{\"__ndarray__\":\"AAAAAACYg0AAAAAAAAAyQAAAAAAAgEdAAAAAAAAAEEAAAAAAABB8QAAAAAAAkIdAAAAAAAAAAEA=\",\"dtype\":\"float64\",\"shape\":[7]},\"edad_mad_max\":{\"__ndarray__\":\"AAAAAAAAR0AAAAAAAABEQAAAAAAAwFhAAAAAAAAAP0AAAAAAAIBFQAAAAAAAwFhAAAAAAAAARUA=\",\"dtype\":\"float64\",\"shape\":[7]},\"edad_mad_mean\":{\"__ndarray__\":\"AhQ1Cr3LPEAcx3Ecx/FAQBCTK4jJFTxAAAAAAAAANkCUPZT8hVU4QHBzhorUPzlAAAAAAADAREA=\",\"dtype\":\"float64\",\"shape\":[7]},\"edad_mad_min\":{\"__ndarray__\":\"AAAAAAAALEAAAAAAAAA1QAAAAAAAADJAAAAAAAAAMUAAAAAAAAAsQAAAAAAAACxAAAAAAACAREA=\",\"dtype\":\"float64\",\"shape\":[7]},\"edad_mad_std\":{\"__ndarray__\":\"d9MfvwG9GEAlY5pHAPAUQK8Bt3PQDChAVrjOVheCGUBm1VNVTmgaQM0J2SL/LR5AzTt/Zp6g5j8=\",\"dtype\":\"float64\",\"shape\":[7]},\"est_civil\":[\"Casada\",\"Divorciada\",\"Se ignora\",\"Separada\",\"Soltera\",\"Unida\",\"Viuda\"],\"fecha_insc_25%\":{\"__ndarray__\":\"AAAAAD1eCUIAAABvRGAJQgAAAFZvXQlCAAAAqydfCUIAAAA8IF0JQgAAALNsXQlCAAAAEGpdCUI=\",\"dtype\":\"float64\",\"shape\":[7]},\"fecha_insc_50%\":{\"__ndarray__\":\"AAAAtCxgCUIAAAC4oGAJQgAAAODiXwlCAAAAOolfCUIAAADg4l8JQgAAACboXwlCAAAAKH9dCUI=\",\"dtype\":\"float64\",\"shape\":[7]},\"fecha_insc_75%\":{\"__ndarray__\":\"AAAAtM9iCUIAAAD61GIJQgAAALigYAlCAAAAsw9gCUIAAABcwGAJQgAAACyWYAlCAAAAQJRdCUI=\",\"dtype\":\"float64\",\"shape\":[7]},\"fecha_insc_count\":{\"__ndarray__\":\"AAAAAACYg0AAAAAAAAAyQAAAAAAAgEdAAAAAAAAAEEAAAAAAABB8QAAAAAAAkIdAAAAAAAAAAEA=\",\"dtype\":\"float64\",\"shape\":[7]},\"fecha_insc_max\":{\"__ndarray__\":\"AAAAOJVkCUIAAAC8t2MJQgAAALy3YwlCAAAALJZgCUIAAAAE92MJQgAAAHjsYwlCAAAAWKldCUI=\",\"dtype\":\"float64\",\"shape\":[7]},\"fecha_insc_mean\":{\"__ndarray__\":\"BG332qRfCUIAAADmJmEJQng26sPyXglCAAAAJK5fCUIXl7fGIl8JQiAZ8ygGXwlCAAAAKH9dCUI=\",\"dtype\":\"float64\",\"shape\":[7]},\"fecha_insc_min\":{\"__ndarray__\":\"AAAA0MxYCUIAAAD4VF0JQgAAANDMWAlCAAAA8A9fCUIAAAAYDFkJQgAAANDMWAlCAAAA+FRdCUI=\",\"dtype\":\"float64\",\"shape\":[7]},\"fecha_insc_std\":{\"__ndarray__\":\"CnU0d8W0WUGcTRYnoIxLQRfmK+PRSldBGRRhR8iNNkGZQX6ID8dYQZ9zXjx0fFZBVr0g1MDUHUE=\",\"dtype\":\"float64\",\"shape\":[7]},\"fecha_nac_25%\":{\"__ndarray__\":\"AAAA0G9bCUIAAAB3iV4JQgAAAK44WglCAAAAW7pYCUIAAAC8K1kJQgAAAEcZWQlCAAAA165RCUI=\",\"dtype\":\"float64\",\"shape\":[7]},\"fecha_nac_50%\":{\"__ndarray__\":\"AAAAHMZeCUIAAADiHGAJQgAAAMgqXQlCAAAAimpbCUIAAAAQal0JQgAAAJo6XQlCAAAArk9SCUI=\",\"dtype\":\"float64\",\"shape\":[7]},\"fecha_nac_75%\":{\"__ndarray__\":\"AAAAoItgCUIAAAAzYWEJQgAAACJ0XwlCAAAAfZRcCUIAAADg4l8JQgAAALC4XwlCAAAAhfBSCUI=\",\"dtype\":\"float64\",\"shape\":[7]},\"fecha_nac_count\":{\"__ndarray__\":\"AAAAAACYg0AAAAAAAAAyQAAAAAAAgEdAAAAAAAAAEEAAAAAAABB8QAAAAAAAkIdAAAAAAAAAAEA=\",\"dtype\":\"float64\",\"shape\":[7]},\"fecha_nac_max\":{\"__ndarray__\":\"AAAA2EBkCUIAAAD8DmMJQgAAALBbYglCAAAAZAVfCUIAAADUzGMJQgAAADCtYwlCAAAAXJFTCUI=\",\"dtype\":\"float64\",\"shape\":[7]},\"fecha_nac_mean\":{\"__ndarray__\":\"Ac+nb9BdCUIAAABapV8JQn1no2ogXAlCAAAATuRZCUJ0NKSwGVwJQnHhVNu0WwlCAAAArk9SCUI=\",\"dtype\":\"float64\",\"shape\":[7]},\"fecha_nac_min\":{\"__ndarray__\":\"AAAAEPVKCUIAAACApVcJQgAAAOAQUAlCAAAAwLZRCUIAAAD8U0sJQgAAAMDNSQlCAAAAAA5RCUI=\",\"dtype\":\"float64\",\"shape\":[7]},\"fecha_nac_std\":{\"__ndarray__\":\"9T5kwUX+YEEWO+NkVJdVQVjGUUvAl2JB6IYQMQ3fZkEPNonUm05kQXpelk7YcmVBdjQvysduTEE=\",\"dtype\":\"float64\",\"shape\":[7]},\"hij_nacm_25%\":{\"__ndarray__\":\"AAAAAAAAAAAAAAAAAAAAAAAAAAAAAAAAAAAAAAAAAAAAAAAAAAAAAAAAAAAAAAAAAAAAAAAAAAA=\",\"dtype\":\"float64\",\"shape\":[7]},\"hij_nacm_50%\":{\"__ndarray__\":\"AAAAAAAAAAAAAAAAAAAAAAAAAAAAAAAAAAAAAAAAAAAAAAAAAAAAAAAAAAAAAAAAAAAAAAAAAAA=\",\"dtype\":\"float64\",\"shape\":[7]},\"hij_nacm_75%\":{\"__ndarray__\":\"AAAAAAAAAAAAAAAAAAAAAAAAAAAAAElAAAAAAAAAAAAAAAAAAAAAAAAAAAAAAAAAAAAAAAAAAAA=\",\"dtype\":\"float64\",\"shape\":[7]},\"hij_nacm_count\":{\"__ndarray__\":\"AAAAAACYg0AAAAAAAAAyQAAAAAAAgEdAAAAAAAAAEEAAAAAAABB8QAAAAAAAkIdAAAAAAAAAAEA=\",\"dtype\":\"float64\",\"shape\":[7]},\"hij_nacm_max\":{\"__ndarray__\":\"AAAAAADAWEAAAAAAAADwPwAAAAAAwFhAAAAAAAAAAAAAAAAAAMBYQAAAAAAAwFhAAAAAAAAAAAA=\",\"dtype\":\"float64\",\"shape\":[7]},\"hij_nacm_mean\":{\"__ndarray__\":\"5Kt5UnJ4F0Acx3Ecx3GsP7mCmFxBTDlAAAAAAAAAAAAdTjdfmbMRQK83ng/xRRdAAAAAAAAAAAA=\",\"dtype\":\"float64\",\"shape\":[7]},\"hij_nacm_min\":{\"__ndarray__\":\"AAAAAAAAAAAAAAAAAAAAAAAAAAAAAAAAAAAAAAAAAAAAAAAAAAAAAAAAAAAAAAAAAAAAAAAAAAA=\",\"dtype\":\"float64\",\"shape\":[7]},\"hij_nacm_std\":{\"__ndarray__\":\"rQbuFYpXN0Bm+v7dfSvOPzS22SKpz0VAAAAAAAAAAAAdWG52gnE0QFjZCt/XNjdAAAAAAAAAAAA=\",\"dtype\":\"float64\",\"shape\":[7]},\"hij_viv_25%\":{\"__ndarray__\":\"AAAAAAAA8D8AAAAAAAAAQAAAAAAAAPA/AAAAAAAA8D8AAAAAAADwPwAAAAAAAPA/AAAAAAAAEUA=\",\"dtype\":\"float64\",\"shape\":[7]},\"hij_viv_50%\":{\"__ndarray__\":\"AAAAAAAAAEAAAAAAAAAIQAAAAAAAAPA/AAAAAAAA+D8AAAAAAADwPwAAAAAAAABAAAAAAAAAFkA=\",\"dtype\":\"float64\",\"shape\":[7]},\"hij_viv_75%\":{\"__ndarray__\":\"AAAAAAAACEAAAAAAAAAIQAAAAAAAAABAAAAAAAAAAEAAAAAAAAAAQAAAAAAAAAhAAAAAAAAAG0A=\",\"dtype\":\"float64\",\"shape\":[7]},\"hij_viv_count\":{\"__ndarray__\":\"AAAAAACYg0AAAAAAAAAyQAAAAAAAgEdAAAAAAAAAEEAAAAAAABB8QAAAAAAAkIdAAAAAAAAAAEA=\",\"dtype\":\"float64\",\"shape\":[7]},\"hij_viv_max\":{\"__ndarray__\":\"AAAAAAAAIkAAAAAAAAAQQAAAAAAAABBAAAAAAAAAAEAAAAAAAAAgQAAAAAAAACBAAAAAAAAAIEA=\",\"dtype\":\"float64\",\"shape\":[7]},\"hij_viv_mean\":{\"__ndarray__\":\"t8A4d7QiAUByHMdxHMcFQCyIyRXE5Po/AAAAAAAA+D9dneyh5C/8P/5aygYmCABAAAAAAAAAFkA=\",\"dtype\":\"float64\",\"shape\":[7]},\"hij_viv_min\":{\"__ndarray__\":\"AAAAAAAA8D8AAAAAAADwPwAAAAAAAPA/AAAAAAAA8D8AAAAAAADwPwAAAAAAAPA/AAAAAAAACEA=\",\"dtype\":\"float64\",\"shape\":[7]},\"hij_viv_std\":{\"__ndarray__\":\"kC3lcyK88z86UoraI6LsP4bAoXCHp+4/HDOQRad54j+F6oSyCv/yP3uIB9Q9v/M/wAofAMZIDEA=\",\"dtype\":\"float64\",\"shape\":[7]},\"hij_vivm_25%\":{\"__ndarray__\":\"AAAAAAAAAAAAAAAAAAAAAAAAAAAAAAAAAAAAAAAAAAAAAAAAAAAAAAAAAAAAAAAAAAAAAAAAAAA=\",\"dtype\":\"float64\",\"shape\":[7]},\"hij_vivm_50%\":{\"__ndarray__\":\"AAAAAAAAAAAAAAAAAAAAAAAAAAAAAAAAAAAAAAAAAAAAAAAAAAAAAAAAAAAAAAAAAAAAAAAAAAA=\",\"dtype\":\"float64\",\"shape\":[7]},\"hij_vivm_75%\":{\"__ndarray__\":\"AAAAAAAAAAAAAAAAAAAAAAAAAAAAAAAAAAAAAAAAAAAAAAAAAAAAAAAAAAAAAAAAAAAAAAAAAAA=\",\"dtype\":\"float64\",\"shape\":[7]},\"hij_vivm_count\":{\"__ndarray__\":\"AAAAAACYg0AAAAAAAAAyQAAAAAAAgEdAAAAAAAAAEEAAAAAAABB8QAAAAAAAkIdAAAAAAAAAAEA=\",\"dtype\":\"float64\",\"shape\":[7]},\"hij_vivm_max\":{\"__ndarray__\":\"AAAAAADAWEAAAAAAAADwPwAAAAAAwFhAAAAAAAAAAAAAAAAAAMBYQAAAAAAAwFhAAAAAAAAAAAA=\",\"dtype\":\"float64\",\"shape\":[7]},\"hij_vivm_mean\":{\"__ndarray__\":\"udRtgXHuFEAcx3Ecx3GsPyEmVxCTKzdAAAAAAAAAAACNST/R0ZAKQNnABIHSmhRAAAAAAAAAAAA=\",\"dtype\":\"float64\",\"shape\":[7]},\"hij_vivm_min\":{\"__ndarray__\":\"AAAAAAAAAAAAAAAAAAAAAAAAAAAAAAAAAAAAAAAAAAAAAAAAAAAAAAAAAAAAAAAAAAAAAAAAAAA=\",\"dtype\":\"float64\",\"shape\":[7]},\"hij_vivm_std\":{\"__ndarray__\":\"jNDoCI0eNkBm+v7dfSvOP/IOMedQL0VAAAAAAAAAAABe0J1f0M4xQPq9nhMT7zVAAAAAAAAAAAA=\",\"dtype\":\"float64\",\"shape\":[7]},\"mes_mad_25%\":{\"__ndarray__\":\"AAAAAAAACEAAAAAAAAAYQAAAAAAAAARAAAAAAACAIkAAAAAAAAAQQAAAAAAAABBAAAAAAAAAFUA=\",\"dtype\":\"float64\",\"shape\":[7]},\"mes_mad_50%\":{\"__ndarray__\":\"AAAAAAAAHEAAAAAAAAAiQAAAAAAAABxAAAAAAAAAJEAAAAAAAAAcQAAAAAAAABxAAAAAAAAAGkA=\",\"dtype\":\"float64\",\"shape\":[7]},\"mes_mad_75%\":{\"__ndarray__\":\"AAAAAAAAJEAAAAAAAAAkQAAAAAAAACVAAAAAAAAAJEAAAAAAAAAkQAAAAAAAACRAAAAAAAAAH0A=\",\"dtype\":\"float64\",\"shape\":[7]},\"mes_mad_count\":{\"__ndarray__\":\"AAAAAACYg0AAAAAAAAAyQAAAAAAAgEdAAAAAAAAAEEAAAAAAABB8QAAAAAAAkIdAAAAAAAAAAEA=\",\"dtype\":\"float64\",\"shape\":[7]},\"mes_mad_max\":{\"__ndarray__\":\"AAAAAADAWEAAAAAAAAAoQAAAAAAAwFhAAAAAAAAAJEAAAAAAAMBYQAAAAAAAwFhAAAAAAAAAIkA=\",\"dtype\":\"float64\",\"shape\":[7]},\"mes_mad_mean\":{\"__ndarray__\":\"PJ8eN2N/HEAcx3Ecx3EeQFcQkyuIyS9AAAAAAACAIkBnTPqJjoYcQISuN54P8SBAAAAAAAAAGkA=\",\"dtype\":\"float64\",\"shape\":[7]},\"mes_mad_min\":{\"__ndarray__\":\"AAAAAAAA8D8AAAAAAADwPwAAAAAAAPA/AAAAAAAAHEAAAAAAAADwPwAAAAAAAPA/AAAAAAAAEEA=\",\"dtype\":\"float64\",\"shape\":[7]},\"mes_mad_std\":{\"__ndarray__\":\"FZXO8tdCIEBb6S6T/y4QQG18CnPGNT1AAAAAAAAA+D/ltGqOpvobQA3g4rR+sipAwAofAMZIDEA=\",\"dtype\":\"float64\",\"shape\":[7]},\"num_par_25%\":{\"__ndarray__\":\"AAAAAAAA8D8AAAAAAAAAQAAAAAAAAPA/AAAAAAAA8D8AAAAAAADwPwAAAAAAAPA/AAAAAAAAEUA=\",\"dtype\":\"float64\",\"shape\":[7]},\"num_par_50%\":{\"__ndarray__\":\"AAAAAAAAAEAAAAAAAAAIQAAAAAAAAPA/AAAAAAAA+D8AAAAAAADwPwAAAAAAAABAAAAAAAAAFkA=\",\"dtype\":\"float64\",\"shape\":[7]},\"num_par_75%\":{\"__ndarray__\":\"AAAAAAAACEAAAAAAAAAOQAAAAAAAAABAAAAAAAAAAEAAAAAAAAAAQAAAAAAAAAhAAAAAAAAAG0A=\",\"dtype\":\"float64\",\"shape\":[7]},\"num_par_count\":{\"__ndarray__\":\"AAAAAACYg0AAAAAAAAAyQAAAAAAAgEdAAAAAAAAAEEAAAAAAABB8QAAAAAAAkIdAAAAAAAAAAEA=\",\"dtype\":\"float64\",\"shape\":[7]},\"num_par_max\":{\"__ndarray__\":\"AAAAAAAAJEAAAAAAAAAUQAAAAAAAABRAAAAAAAAAAEAAAAAAAAAgQAAAAAAAACBAAAAAAAAAIEA=\",\"dtype\":\"float64\",\"shape\":[7]},\"num_par_mean\":{\"__ndarray__\":\"9ofBwpE5AUCrqqqqqqoGQG3UdzbqO/s/AAAAAAAA+D9dneyh5C/8P/J8iC8KOQBAAAAAAAAAFkA=\",\"dtype\":\"float64\",\"shape\":[7]},\"num_par_min\":{\"__ndarray__\":\"AAAAAAAA8D8AAAAAAADwPwAAAAAAAPA/AAAAAAAA8D8AAAAAAADwPwAAAAAAAPA/AAAAAAAACEA=\",\"dtype\":\"float64\",\"shape\":[7]},\"num_par_std\":{\"__ndarray__\":\"zSdM++Ws9D9HYC/u4rDwP4DfMcCrUPA/HDOQRad54j+Zm5hoBy3zPwLI4YqjM/Q/wAofAMZIDEA=\",\"dtype\":\"float64\",\"shape\":[7]},\"ofi_insc_25%\":{\"__ndarray__\":\"AAAAAAAA8D8AAAAAAADwPwAAAAAAAPA/AAAAAAAA8D8AAAAAAADwPwAAAAAAAPA/AAAAAAAA8D8=\",\"dtype\":\"float64\",\"shape\":[7]},\"ofi_insc_50%\":{\"__ndarray__\":\"AAAAAAAA8D8AAAAAAADwPwAAAAAAAPA/AAAAAAAA8D8AAAAAAADwPwAAAAAAAPA/AAAAAAAA8D8=\",\"dtype\":\"float64\",\"shape\":[7]},\"ofi_insc_75%\":{\"__ndarray__\":\"AAAAAAAA8D8AAAAAAADwPwAAAAAAAPA/AAAAAAAA8D8AAAAAAADwPwAAAAAAAPA/AAAAAAAA8D8=\",\"dtype\":\"float64\",\"shape\":[7]},\"ofi_insc_count\":{\"__ndarray__\":\"AAAAAACYg0AAAAAAAAAyQAAAAAAAgEdAAAAAAAAAEEAAAAAAABB8QAAAAAAAkIdAAAAAAAAAAEA=\",\"dtype\":\"float64\",\"shape\":[7]},\"ofi_insc_max\":{\"__ndarray__\":\"AAAAAAAACEAAAAAAAAAAQAAAAAAAAAhAAAAAAAAA8D8AAAAAAAAIQAAAAAAAAAhAAAAAAAAA8D8=\",\"dtype\":\"float64\",\"shape\":[7]},\"ofi_insc_mean\":{\"__ndarray__\":\"bG085Kt58j85juM4juPwPwUxuYKYXPE/AAAAAAAA8D93MGtEiFHxP5wzVKT+kfE/AAAAAAAA8D8=\",\"dtype\":\"float64\",\"shape\":[7]},\"ofi_insc_min\":{\"__ndarray__\":\"AAAAAAAA8D8AAAAAAADwPwAAAAAAAPA/AAAAAAAA8D8AAAAAAADwPwAAAAAAAPA/AAAAAAAA8D8=\",\"dtype\":\"float64\",\"shape\":[7]},\"ofi_insc_std\":{\"__ndarray__\":\"cF7rlkEe3z9m+v7dfSvOPyM5m+/jctY/AAAAAAAAAABlO59OqDXWP+h/iVaEGNg/AAAAAAAAAAA=\",\"dtype\":\"float64\",\"shape\":[7]},\"peso_25%\":{\"__ndarray__\":\"AAAAAADgpUAAAAAAAACkQAAAAAAAVKVAAAAAAAB7pkAAAAAAABilQAAAAAAA4KVAAAAAAACKq0A=\",\"dtype\":\"float64\",\"shape\":[7]},\"peso_50%\":{\"__ndarray__\":\"AAAAAAA4qEAAAAAAAHCnQAAAAAAATKhAAAAAAACuqEAAAAAAAHCnQAAAAAAAOKhAAAAAAAC8q0A=\",\"dtype\":\"float64\",\"shape\":[7]},\"peso_75%\":{\"__ndarray__\":\"AAAAAACZqkAAAAAAAHipQAAAAAAApKpAAAAAAABBq0AAAAAAANypQAAAAAAAkKpAAAAAAADuq0A=\",\"dtype\":\"float64\",\"shape\":[7]},\"peso_count\":{\"__ndarray__\":\"AAAAAACYg0AAAAAAAAAyQAAAAAAAgEdAAAAAAAAAEEAAAAAAABB8QAAAAAAAkIdAAAAAAAAAAEA=\",\"dtype\":\"float64\",\"shape\":[7]},\"peso_max\":{\"__ndarray__\":\"AAAAAADAskAAAAAAAEisQAAAAAAAmrBAAAAAAABAr0AAAAAAAIizQAAAAAAAELNAAAAAAAAgrEA=\",\"dtype\":\"float64\",\"shape\":[7]},\"peso_mean\":{\"__ndarray__\":\"ncV0FtODp0BVVVVVVTamQF1BTK4g7KZAAAAAAAAOqUDXRwL8xnumQCz3NMJyoadAAAAAAAC8q0A=\",\"dtype\":\"float64\",\"shape\":[7]},\"peso_min\":{\"__ndarray__\":\"AAAAAADAWEAAAAAAAECPQAAAAAAAwFhAAAAAAACco0AAAAAAAMBYQAAAAAAAwFhAAAAAAABYq0A=\",\"dtype\":\"float64\",\"shape\":[7]},\"peso_std\":{\"__ndarray__\":\"iZOyMzAfh0BCvdj4sOKDQEPwQLlRaY5AtueRk6GDg0BguGwhsQuKQLCVhdAREIZAuGYTwHutUUA=\",\"dtype\":\"float64\",\"shape\":[7]},\"sem_gest_25%\":{\"__ndarray__\":\"AAAAAAAAQ0AAAAAAAEBCQAAAAAAAAENAAAAAAABAQ0AAAAAAAABDQAAAAAAAAENAAAAAAABAQ0A=\",\"dtype\":\"float64\",\"shape\":[7]},\"sem_gest_50%\":{\"__ndarray__\":\"AAAAAACAQ0AAAAAAAEBDQAAAAAAAgENAAAAAAACAQ0AAAAAAAIBDQAAAAAAAgENAAAAAAACAQ0A=\",\"dtype\":\"float64\",\"shape\":[7]},\"sem_gest_75%\":{\"__ndarray__\":\"AAAAAAAAREAAAAAAAIBDQAAAAAAAAERAAAAAAACgQ0AAAAAAAABEQAAAAAAAAERAAAAAAADAQ0A=\",\"dtype\":\"float64\",\"shape\":[7]},\"sem_gest_count\":{\"__ndarray__\":\"AAAAAACYg0AAAAAAAAAyQAAAAAAAgEdAAAAAAAAAEEAAAAAAABB8QAAAAAAAkIdAAAAAAAAAAEA=\",\"dtype\":\"float64\",\"shape\":[7]},\"sem_gest_max\":{\"__ndarray__\":\"AAAAAADAWEAAAAAAAABEQAAAAAAAwFhAAAAAAAAAREAAAAAAAMBYQAAAAAAAwFhAAAAAAAAAREA=\",\"dtype\":\"float64\",\"shape\":[7]},\"sem_gest_mean\":{\"__ndarray__\":\"FQSyhJnYRUByHMdxHMdCQBv1nY36TkdAAAAAAABgQ0D+wir10g5GQEvZwASBEkZAAAAAAACAQ0A=\",\"dtype\":\"float64\",\"shape\":[7]},\"sem_gest_min\":{\"__ndarray__\":\"AAAAAAAAOkAAAAAAAAA8QAAAAAAAgEJAAAAAAACAQkAAAAAAAAA7QAAAAAAAADtAAAAAAAAAQ0A=\",\"dtype\":\"float64\",\"shape\":[7]},\"sem_gest_std\":{\"__ndarray__\":\"vhcwTLYRMUCwNDySZVQGQNrqTl1yRzRAPYrkMgUi9D/op52ilb0xQF5VgWdFpTFAzTt/Zp6g9j8=\",\"dtype\":\"float64\",\"shape\":[7]},\"talla_25%\":{\"__ndarray__\":\"AAAAAACAR0AAAAAAAOBGQAAAAAAAAEhAAAAAAADgR0AAAAAAAIBHQAAAAAAAAEhAAAAAAACgSEA=\",\"dtype\":\"float64\",\"shape\":[7]},\"talla_50%\":{\"__ndarray__\":\"AAAAAACASEAAAAAAAIBIQAAAAAAAAElAAAAAAAAASEAAAAAAAIBIQAAAAAAAgEhAAAAAAADASEA=\",\"dtype\":\"float64\",\"shape\":[7]},\"talla_75%\":{\"__ndarray__\":\"AAAAAAAASUAAAAAAAOBIQAAAAAAAAElAAAAAAAAgSEAAAAAAAABJQAAAAAAAAElAAAAAAADgSEA=\",\"dtype\":\"float64\",\"shape\":[7]},\"talla_count\":{\"__ndarray__\":\"AAAAAACYg0AAAAAAAAAyQAAAAAAAgEdAAAAAAAAAEEAAAAAAABB8QAAAAAAAkIdAAAAAAAAAAEA=\",\"dtype\":\"float64\",\"shape\":[7]},\"talla_max\":{\"__ndarray__\":\"AAAAAADAWEAAAAAAAIBJQAAAAAAAwFhAAAAAAACASEAAAAAAAMBYQAAAAAAAwFhAAAAAAAAASUA=\",\"dtype\":\"float64\",\"shape\":[7]},\"talla_mean\":{\"__ndarray__\":\"nx43Y38YSUAAAAAAAMBHQGJyBTG5gkpAAAAAAAAASEA91Qot8ZlJQGwpG5ggEElAAAAAAADASEA=\",\"dtype\":\"float64\",\"shape\":[7]},\"talla_min\":{\"__ndarray__\":\"AAAAAAAAQ0AAAAAAAABDQAAAAAAAAENAAAAAAACAR0AAAAAAAABDQAAAAAAAAENAAAAAAACASEA=\",\"dtype\":\"float64\",\"shape\":[7]},\"talla_std\":{\"__ndarray__\":\"QOw1L/bjIkBKcCAaUg8LQK7ZKIYk0yxAPiwMcL0g6j/7ctAHzssnQGGwb4w1qiFAzTt/Zp6g5j8=\",\"dtype\":\"float64\",\"shape\":[7]}},\"selected\":{\"id\":\"1053\",\"type\":\"Selection\"},\"selection_policy\":{\"id\":\"1054\",\"type\":\"UnionRenderers\"}},\"id\":\"1002\",\"type\":\"ColumnDataSource\"},{\"attributes\":{\"active_drag\":\"auto\",\"active_inspect\":\"auto\",\"active_multi\":null,\"active_scroll\":\"auto\",\"active_tap\":\"auto\",\"tools\":[{\"id\":\"1021\",\"type\":\"PanTool\"},{\"id\":\"1022\",\"type\":\"WheelZoomTool\"},{\"id\":\"1023\",\"type\":\"BoxZoomTool\"},{\"id\":\"1024\",\"type\":\"SaveTool\"},{\"id\":\"1025\",\"type\":\"ResetTool\"},{\"id\":\"1026\",\"type\":\"HelpTool\"},{\"id\":\"1045\",\"type\":\"HoverTool\"}]},\"id\":\"1027\",\"type\":\"Toolbar\"},{\"attributes\":{},\"id\":\"1008\",\"type\":\"LinearScale\"},{\"attributes\":{\"dimension\":1,\"plot\":{\"id\":\"1003\",\"subtype\":\"Figure\",\"type\":\"Plot\"},\"ticker\":{\"id\":\"1018\",\"type\":\"CategoricalTicker\"}},\"id\":\"1020\",\"type\":\"Grid\"},{\"attributes\":{\"plot\":null,\"text\":\"Gr\\u00e1fica de barras verticales con respecto al estado civil  (2485 muestras)\"},\"id\":\"1044\",\"type\":\"Title\"},{\"attributes\":{},\"id\":\"1026\",\"type\":\"HelpTool\"},{\"attributes\":{\"source\":{\"id\":\"1002\",\"type\":\"ColumnDataSource\"}},\"id\":\"1041\",\"type\":\"CDSView\"},{\"attributes\":{\"data_source\":{\"id\":\"1002\",\"type\":\"ColumnDataSource\"},\"glyph\":{\"id\":\"1038\",\"type\":\"HBar\"},\"hover_glyph\":null,\"muted_glyph\":null,\"nonselection_glyph\":{\"id\":\"1039\",\"type\":\"HBar\"},\"selection_glyph\":null,\"view\":{\"id\":\"1041\",\"type\":\"CDSView\"}},\"id\":\"1040\",\"type\":\"GlyphRenderer\"},{\"attributes\":{},\"id\":\"1024\",\"type\":\"SaveTool\"},{\"attributes\":{\"fill_alpha\":{\"value\":0.1},\"fill_color\":{\"value\":\"#1f77b4\"},\"height\":{\"value\":0.7},\"line_alpha\":{\"value\":0.1},\"line_color\":{\"value\":\"#1f77b4\"},\"right\":{\"field\":\"anio_insc_count\"},\"y\":{\"field\":\"est_civil\"}},\"id\":\"1039\",\"type\":\"HBar\"},{\"attributes\":{\"callback\":null,\"factors\":[\"Casada\",\"Divorciada\",\"Se ignora\",\"Separada\",\"Soltera\",\"Unida\",\"Viuda\"]},\"id\":\"1006\",\"type\":\"FactorRange\"},{\"attributes\":{},\"id\":\"1025\",\"type\":\"ResetTool\"},{\"attributes\":{\"bottom_units\":\"screen\",\"fill_alpha\":{\"value\":0.5},\"fill_color\":{\"value\":\"lightgrey\"},\"left_units\":\"screen\",\"level\":\"overlay\",\"line_alpha\":{\"value\":1.0},\"line_color\":{\"value\":\"black\"},\"line_dash\":[4,4],\"line_width\":{\"value\":2},\"plot\":null,\"render_mode\":\"css\",\"right_units\":\"screen\",\"top_units\":\"screen\"},\"id\":\"1029\",\"type\":\"BoxAnnotation\"},{\"attributes\":{\"factors\":[\"Casada\",\"Divorciada\",\"Se ignora\",\"Separada\",\"Soltera\",\"Unida\",\"Viuda\"],\"palette\":[\"#393b79\",\"#5254a3\",\"#6b6ecf\",\"#9c9ede\",\"#637939\",\"#8ca252\",\"#b5cf6b\"]},\"id\":\"1036\",\"type\":\"CategoricalColorMapper\"},{\"attributes\":{\"overlay\":{\"id\":\"1029\",\"type\":\"BoxAnnotation\"}},\"id\":\"1023\",\"type\":\"BoxZoomTool\"},{\"attributes\":{\"callback\":null},\"id\":\"1004\",\"type\":\"DataRange1d\"}],\"root_ids\":[\"1003\"]},\"title\":\"Bokeh Application\",\"version\":\"1.0.4\"}};\n",
       "  var render_items = [{\"docid\":\"e38e275b-139e-401b-9a3f-033114142c87\",\"roots\":{\"1003\":\"efb8469e-c0ac-41ac-972f-6fd4a729d9e8\"}}];\n",
       "  root.Bokeh.embed.embed_items_notebook(docs_json, render_items);\n",
       "\n",
       "  }\n",
       "  if (root.Bokeh !== undefined) {\n",
       "    embed_document(root);\n",
       "  } else {\n",
       "    var attempts = 0;\n",
       "    var timer = setInterval(function(root) {\n",
       "      if (root.Bokeh !== undefined) {\n",
       "        embed_document(root);\n",
       "        clearInterval(timer);\n",
       "      }\n",
       "      attempts++;\n",
       "      if (attempts > 100) {\n",
       "        console.log(\"Bokeh: ERROR: Unable to run BokehJS code because BokehJS library is missing\");\n",
       "        clearInterval(timer);\n",
       "      }\n",
       "    }, 10, root)\n",
       "  }\n",
       "})(window);"
      ],
      "application/vnd.bokehjs_exec.v0+json": ""
     },
     "metadata": {
      "application/vnd.bokehjs_exec.v0+json": {
       "id": "1003"
      }
     },
     "output_type": "display_data"
    }
   ],
   "source": [
    "show(p)"
   ]
  }
 ],
 "metadata": {
  "kernelspec": {
   "display_name": "Python 3",
   "language": "python",
   "name": "python3"
  },
  "language_info": {
   "codemirror_mode": {
    "name": "ipython",
    "version": 3
   },
   "file_extension": ".py",
   "mimetype": "text/x-python",
   "name": "python",
   "nbconvert_exporter": "python",
   "pygments_lexer": "ipython3",
   "version": "3.7.0b3"
  }
 },
 "nbformat": 4,
 "nbformat_minor": 2
}
