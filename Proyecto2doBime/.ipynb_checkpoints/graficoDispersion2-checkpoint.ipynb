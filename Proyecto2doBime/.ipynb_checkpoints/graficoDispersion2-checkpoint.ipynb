{
 "cells": [
  {
   "cell_type": "markdown",
   "metadata": {},
   "source": [
    "## Gráfico dispersión"
   ]
  },
  {
   "cell_type": "markdown",
   "metadata": {},
   "source": [
    "En la primera línea realizamos la importación de la librería de pandas para leer los datos en el formato csv y la denominamos dp, las siguientes importaciones son de la librería de bokeh que es para realizar los gráficos estadísticos."
   ]
  },
  {
   "cell_type": "code",
   "execution_count": 1,
   "metadata": {},
   "outputs": [],
   "source": [
    "import pandas as pd\n",
    "from bokeh.plotting import figure, show, output_notebook\n",
    "from bokeh.models import ColumnDataSource\n",
    "from bokeh.models.tools import HoverTool\n",
    "from bokeh.transform import factor_cmap, transform\n",
    "from bokeh.palettes import viridis"
   ]
  },
  {
   "cell_type": "markdown",
   "metadata": {},
   "source": [
    "\n",
    "\"output_notebook\" es una función de bokeh para hacer la presentación grafica."
   ]
  },
  {
   "cell_type": "code",
   "execution_count": 2,
   "metadata": {},
   "outputs": [
    {
     "data": {
      "text/html": [
       "\n",
       "    <div class=\"bk-root\">\n",
       "        <a href=\"https://bokeh.pydata.org\" target=\"_blank\" class=\"bk-logo bk-logo-small bk-logo-notebook\"></a>\n",
       "        <span id=\"1001\">Loading BokehJS ...</span>\n",
       "    </div>"
      ]
     },
     "metadata": {},
     "output_type": "display_data"
    },
    {
     "data": {
      "application/javascript": [
       "\n",
       "(function(root) {\n",
       "  function now() {\n",
       "    return new Date();\n",
       "  }\n",
       "\n",
       "  var force = true;\n",
       "\n",
       "  if (typeof (root._bokeh_onload_callbacks) === \"undefined\" || force === true) {\n",
       "    root._bokeh_onload_callbacks = [];\n",
       "    root._bokeh_is_loading = undefined;\n",
       "  }\n",
       "\n",
       "  var JS_MIME_TYPE = 'application/javascript';\n",
       "  var HTML_MIME_TYPE = 'text/html';\n",
       "  var EXEC_MIME_TYPE = 'application/vnd.bokehjs_exec.v0+json';\n",
       "  var CLASS_NAME = 'output_bokeh rendered_html';\n",
       "\n",
       "  /**\n",
       "   * Render data to the DOM node\n",
       "   */\n",
       "  function render(props, node) {\n",
       "    var script = document.createElement(\"script\");\n",
       "    node.appendChild(script);\n",
       "  }\n",
       "\n",
       "  /**\n",
       "   * Handle when an output is cleared or removed\n",
       "   */\n",
       "  function handleClearOutput(event, handle) {\n",
       "    var cell = handle.cell;\n",
       "\n",
       "    var id = cell.output_area._bokeh_element_id;\n",
       "    var server_id = cell.output_area._bokeh_server_id;\n",
       "    // Clean up Bokeh references\n",
       "    if (id != null && id in Bokeh.index) {\n",
       "      Bokeh.index[id].model.document.clear();\n",
       "      delete Bokeh.index[id];\n",
       "    }\n",
       "\n",
       "    if (server_id !== undefined) {\n",
       "      // Clean up Bokeh references\n",
       "      var cmd = \"from bokeh.io.state import curstate; print(curstate().uuid_to_server['\" + server_id + \"'].get_sessions()[0].document.roots[0]._id)\";\n",
       "      cell.notebook.kernel.execute(cmd, {\n",
       "        iopub: {\n",
       "          output: function(msg) {\n",
       "            var id = msg.content.text.trim();\n",
       "            if (id in Bokeh.index) {\n",
       "              Bokeh.index[id].model.document.clear();\n",
       "              delete Bokeh.index[id];\n",
       "            }\n",
       "          }\n",
       "        }\n",
       "      });\n",
       "      // Destroy server and session\n",
       "      var cmd = \"import bokeh.io.notebook as ion; ion.destroy_server('\" + server_id + \"')\";\n",
       "      cell.notebook.kernel.execute(cmd);\n",
       "    }\n",
       "  }\n",
       "\n",
       "  /**\n",
       "   * Handle when a new output is added\n",
       "   */\n",
       "  function handleAddOutput(event, handle) {\n",
       "    var output_area = handle.output_area;\n",
       "    var output = handle.output;\n",
       "\n",
       "    // limit handleAddOutput to display_data with EXEC_MIME_TYPE content only\n",
       "    if ((output.output_type != \"display_data\") || (!output.data.hasOwnProperty(EXEC_MIME_TYPE))) {\n",
       "      return\n",
       "    }\n",
       "\n",
       "    var toinsert = output_area.element.find(\".\" + CLASS_NAME.split(' ')[0]);\n",
       "\n",
       "    if (output.metadata[EXEC_MIME_TYPE][\"id\"] !== undefined) {\n",
       "      toinsert[toinsert.length - 1].firstChild.textContent = output.data[JS_MIME_TYPE];\n",
       "      // store reference to embed id on output_area\n",
       "      output_area._bokeh_element_id = output.metadata[EXEC_MIME_TYPE][\"id\"];\n",
       "    }\n",
       "    if (output.metadata[EXEC_MIME_TYPE][\"server_id\"] !== undefined) {\n",
       "      var bk_div = document.createElement(\"div\");\n",
       "      bk_div.innerHTML = output.data[HTML_MIME_TYPE];\n",
       "      var script_attrs = bk_div.children[0].attributes;\n",
       "      for (var i = 0; i < script_attrs.length; i++) {\n",
       "        toinsert[toinsert.length - 1].firstChild.setAttribute(script_attrs[i].name, script_attrs[i].value);\n",
       "      }\n",
       "      // store reference to server id on output_area\n",
       "      output_area._bokeh_server_id = output.metadata[EXEC_MIME_TYPE][\"server_id\"];\n",
       "    }\n",
       "  }\n",
       "\n",
       "  function register_renderer(events, OutputArea) {\n",
       "\n",
       "    function append_mime(data, metadata, element) {\n",
       "      // create a DOM node to render to\n",
       "      var toinsert = this.create_output_subarea(\n",
       "        metadata,\n",
       "        CLASS_NAME,\n",
       "        EXEC_MIME_TYPE\n",
       "      );\n",
       "      this.keyboard_manager.register_events(toinsert);\n",
       "      // Render to node\n",
       "      var props = {data: data, metadata: metadata[EXEC_MIME_TYPE]};\n",
       "      render(props, toinsert[toinsert.length - 1]);\n",
       "      element.append(toinsert);\n",
       "      return toinsert\n",
       "    }\n",
       "\n",
       "    /* Handle when an output is cleared or removed */\n",
       "    events.on('clear_output.CodeCell', handleClearOutput);\n",
       "    events.on('delete.Cell', handleClearOutput);\n",
       "\n",
       "    /* Handle when a new output is added */\n",
       "    events.on('output_added.OutputArea', handleAddOutput);\n",
       "\n",
       "    /**\n",
       "     * Register the mime type and append_mime function with output_area\n",
       "     */\n",
       "    OutputArea.prototype.register_mime_type(EXEC_MIME_TYPE, append_mime, {\n",
       "      /* Is output safe? */\n",
       "      safe: true,\n",
       "      /* Index of renderer in `output_area.display_order` */\n",
       "      index: 0\n",
       "    });\n",
       "  }\n",
       "\n",
       "  // register the mime type if in Jupyter Notebook environment and previously unregistered\n",
       "  if (root.Jupyter !== undefined) {\n",
       "    var events = require('base/js/events');\n",
       "    var OutputArea = require('notebook/js/outputarea').OutputArea;\n",
       "\n",
       "    if (OutputArea.prototype.mime_types().indexOf(EXEC_MIME_TYPE) == -1) {\n",
       "      register_renderer(events, OutputArea);\n",
       "    }\n",
       "  }\n",
       "\n",
       "  \n",
       "  if (typeof (root._bokeh_timeout) === \"undefined\" || force === true) {\n",
       "    root._bokeh_timeout = Date.now() + 5000;\n",
       "    root._bokeh_failed_load = false;\n",
       "  }\n",
       "\n",
       "  var NB_LOAD_WARNING = {'data': {'text/html':\n",
       "     \"<div style='background-color: #fdd'>\\n\"+\n",
       "     \"<p>\\n\"+\n",
       "     \"BokehJS does not appear to have successfully loaded. If loading BokehJS from CDN, this \\n\"+\n",
       "     \"may be due to a slow or bad network connection. Possible fixes:\\n\"+\n",
       "     \"</p>\\n\"+\n",
       "     \"<ul>\\n\"+\n",
       "     \"<li>re-rerun `output_notebook()` to attempt to load from CDN again, or</li>\\n\"+\n",
       "     \"<li>use INLINE resources instead, as so:</li>\\n\"+\n",
       "     \"</ul>\\n\"+\n",
       "     \"<code>\\n\"+\n",
       "     \"from bokeh.resources import INLINE\\n\"+\n",
       "     \"output_notebook(resources=INLINE)\\n\"+\n",
       "     \"</code>\\n\"+\n",
       "     \"</div>\"}};\n",
       "\n",
       "  function display_loaded() {\n",
       "    var el = document.getElementById(\"1001\");\n",
       "    if (el != null) {\n",
       "      el.textContent = \"BokehJS is loading...\";\n",
       "    }\n",
       "    if (root.Bokeh !== undefined) {\n",
       "      if (el != null) {\n",
       "        el.textContent = \"BokehJS \" + root.Bokeh.version + \" successfully loaded.\";\n",
       "      }\n",
       "    } else if (Date.now() < root._bokeh_timeout) {\n",
       "      setTimeout(display_loaded, 100)\n",
       "    }\n",
       "  }\n",
       "\n",
       "\n",
       "  function run_callbacks() {\n",
       "    try {\n",
       "      root._bokeh_onload_callbacks.forEach(function(callback) { callback() });\n",
       "    }\n",
       "    finally {\n",
       "      delete root._bokeh_onload_callbacks\n",
       "    }\n",
       "    console.info(\"Bokeh: all callbacks have finished\");\n",
       "  }\n",
       "\n",
       "  function load_libs(js_urls, callback) {\n",
       "    root._bokeh_onload_callbacks.push(callback);\n",
       "    if (root._bokeh_is_loading > 0) {\n",
       "      console.log(\"Bokeh: BokehJS is being loaded, scheduling callback at\", now());\n",
       "      return null;\n",
       "    }\n",
       "    if (js_urls == null || js_urls.length === 0) {\n",
       "      run_callbacks();\n",
       "      return null;\n",
       "    }\n",
       "    console.log(\"Bokeh: BokehJS not loaded, scheduling load and callback at\", now());\n",
       "    root._bokeh_is_loading = js_urls.length;\n",
       "    for (var i = 0; i < js_urls.length; i++) {\n",
       "      var url = js_urls[i];\n",
       "      var s = document.createElement('script');\n",
       "      s.src = url;\n",
       "      s.async = false;\n",
       "      s.onreadystatechange = s.onload = function() {\n",
       "        root._bokeh_is_loading--;\n",
       "        if (root._bokeh_is_loading === 0) {\n",
       "          console.log(\"Bokeh: all BokehJS libraries loaded\");\n",
       "          run_callbacks()\n",
       "        }\n",
       "      };\n",
       "      s.onerror = function() {\n",
       "        console.warn(\"failed to load library \" + url);\n",
       "      };\n",
       "      console.log(\"Bokeh: injecting script tag for BokehJS library: \", url);\n",
       "      document.getElementsByTagName(\"head\")[0].appendChild(s);\n",
       "    }\n",
       "  };var element = document.getElementById(\"1001\");\n",
       "  if (element == null) {\n",
       "    console.log(\"Bokeh: ERROR: autoload.js configured with elementid '1001' but no matching script tag was found. \")\n",
       "    return false;\n",
       "  }\n",
       "\n",
       "  var js_urls = [\"https://cdn.pydata.org/bokeh/release/bokeh-1.0.4.min.js\", \"https://cdn.pydata.org/bokeh/release/bokeh-widgets-1.0.4.min.js\", \"https://cdn.pydata.org/bokeh/release/bokeh-tables-1.0.4.min.js\", \"https://cdn.pydata.org/bokeh/release/bokeh-gl-1.0.4.min.js\"];\n",
       "\n",
       "  var inline_js = [\n",
       "    function(Bokeh) {\n",
       "      Bokeh.set_log_level(\"info\");\n",
       "    },\n",
       "    \n",
       "    function(Bokeh) {\n",
       "      \n",
       "    },\n",
       "    function(Bokeh) {\n",
       "      console.log(\"Bokeh: injecting CSS: https://cdn.pydata.org/bokeh/release/bokeh-1.0.4.min.css\");\n",
       "      Bokeh.embed.inject_css(\"https://cdn.pydata.org/bokeh/release/bokeh-1.0.4.min.css\");\n",
       "      console.log(\"Bokeh: injecting CSS: https://cdn.pydata.org/bokeh/release/bokeh-widgets-1.0.4.min.css\");\n",
       "      Bokeh.embed.inject_css(\"https://cdn.pydata.org/bokeh/release/bokeh-widgets-1.0.4.min.css\");\n",
       "      console.log(\"Bokeh: injecting CSS: https://cdn.pydata.org/bokeh/release/bokeh-tables-1.0.4.min.css\");\n",
       "      Bokeh.embed.inject_css(\"https://cdn.pydata.org/bokeh/release/bokeh-tables-1.0.4.min.css\");\n",
       "    }\n",
       "  ];\n",
       "\n",
       "  function run_inline_js() {\n",
       "    \n",
       "    if ((root.Bokeh !== undefined) || (force === true)) {\n",
       "      for (var i = 0; i < inline_js.length; i++) {\n",
       "        inline_js[i].call(root, root.Bokeh);\n",
       "      }if (force === true) {\n",
       "        display_loaded();\n",
       "      }} else if (Date.now() < root._bokeh_timeout) {\n",
       "      setTimeout(run_inline_js, 100);\n",
       "    } else if (!root._bokeh_failed_load) {\n",
       "      console.log(\"Bokeh: BokehJS failed to load within specified timeout.\");\n",
       "      root._bokeh_failed_load = true;\n",
       "    } else if (force !== true) {\n",
       "      var cell = $(document.getElementById(\"1001\")).parents('.cell').data().cell;\n",
       "      cell.output_area.append_execute_result(NB_LOAD_WARNING)\n",
       "    }\n",
       "\n",
       "  }\n",
       "\n",
       "  if (root._bokeh_is_loading === 0) {\n",
       "    console.log(\"Bokeh: BokehJS loaded, going straight to plotting\");\n",
       "    run_inline_js();\n",
       "  } else {\n",
       "    load_libs(js_urls, function() {\n",
       "      console.log(\"Bokeh: BokehJS plotting callback run at\", now());\n",
       "      run_inline_js();\n",
       "    });\n",
       "  }\n",
       "}(window));"
      ],
      "application/vnd.bokehjs_load.v0+json": "\n(function(root) {\n  function now() {\n    return new Date();\n  }\n\n  var force = true;\n\n  if (typeof (root._bokeh_onload_callbacks) === \"undefined\" || force === true) {\n    root._bokeh_onload_callbacks = [];\n    root._bokeh_is_loading = undefined;\n  }\n\n  \n\n  \n  if (typeof (root._bokeh_timeout) === \"undefined\" || force === true) {\n    root._bokeh_timeout = Date.now() + 5000;\n    root._bokeh_failed_load = false;\n  }\n\n  var NB_LOAD_WARNING = {'data': {'text/html':\n     \"<div style='background-color: #fdd'>\\n\"+\n     \"<p>\\n\"+\n     \"BokehJS does not appear to have successfully loaded. If loading BokehJS from CDN, this \\n\"+\n     \"may be due to a slow or bad network connection. Possible fixes:\\n\"+\n     \"</p>\\n\"+\n     \"<ul>\\n\"+\n     \"<li>re-rerun `output_notebook()` to attempt to load from CDN again, or</li>\\n\"+\n     \"<li>use INLINE resources instead, as so:</li>\\n\"+\n     \"</ul>\\n\"+\n     \"<code>\\n\"+\n     \"from bokeh.resources import INLINE\\n\"+\n     \"output_notebook(resources=INLINE)\\n\"+\n     \"</code>\\n\"+\n     \"</div>\"}};\n\n  function display_loaded() {\n    var el = document.getElementById(\"1001\");\n    if (el != null) {\n      el.textContent = \"BokehJS is loading...\";\n    }\n    if (root.Bokeh !== undefined) {\n      if (el != null) {\n        el.textContent = \"BokehJS \" + root.Bokeh.version + \" successfully loaded.\";\n      }\n    } else if (Date.now() < root._bokeh_timeout) {\n      setTimeout(display_loaded, 100)\n    }\n  }\n\n\n  function run_callbacks() {\n    try {\n      root._bokeh_onload_callbacks.forEach(function(callback) { callback() });\n    }\n    finally {\n      delete root._bokeh_onload_callbacks\n    }\n    console.info(\"Bokeh: all callbacks have finished\");\n  }\n\n  function load_libs(js_urls, callback) {\n    root._bokeh_onload_callbacks.push(callback);\n    if (root._bokeh_is_loading > 0) {\n      console.log(\"Bokeh: BokehJS is being loaded, scheduling callback at\", now());\n      return null;\n    }\n    if (js_urls == null || js_urls.length === 0) {\n      run_callbacks();\n      return null;\n    }\n    console.log(\"Bokeh: BokehJS not loaded, scheduling load and callback at\", now());\n    root._bokeh_is_loading = js_urls.length;\n    for (var i = 0; i < js_urls.length; i++) {\n      var url = js_urls[i];\n      var s = document.createElement('script');\n      s.src = url;\n      s.async = false;\n      s.onreadystatechange = s.onload = function() {\n        root._bokeh_is_loading--;\n        if (root._bokeh_is_loading === 0) {\n          console.log(\"Bokeh: all BokehJS libraries loaded\");\n          run_callbacks()\n        }\n      };\n      s.onerror = function() {\n        console.warn(\"failed to load library \" + url);\n      };\n      console.log(\"Bokeh: injecting script tag for BokehJS library: \", url);\n      document.getElementsByTagName(\"head\")[0].appendChild(s);\n    }\n  };var element = document.getElementById(\"1001\");\n  if (element == null) {\n    console.log(\"Bokeh: ERROR: autoload.js configured with elementid '1001' but no matching script tag was found. \")\n    return false;\n  }\n\n  var js_urls = [\"https://cdn.pydata.org/bokeh/release/bokeh-1.0.4.min.js\", \"https://cdn.pydata.org/bokeh/release/bokeh-widgets-1.0.4.min.js\", \"https://cdn.pydata.org/bokeh/release/bokeh-tables-1.0.4.min.js\", \"https://cdn.pydata.org/bokeh/release/bokeh-gl-1.0.4.min.js\"];\n\n  var inline_js = [\n    function(Bokeh) {\n      Bokeh.set_log_level(\"info\");\n    },\n    \n    function(Bokeh) {\n      \n    },\n    function(Bokeh) {\n      console.log(\"Bokeh: injecting CSS: https://cdn.pydata.org/bokeh/release/bokeh-1.0.4.min.css\");\n      Bokeh.embed.inject_css(\"https://cdn.pydata.org/bokeh/release/bokeh-1.0.4.min.css\");\n      console.log(\"Bokeh: injecting CSS: https://cdn.pydata.org/bokeh/release/bokeh-widgets-1.0.4.min.css\");\n      Bokeh.embed.inject_css(\"https://cdn.pydata.org/bokeh/release/bokeh-widgets-1.0.4.min.css\");\n      console.log(\"Bokeh: injecting CSS: https://cdn.pydata.org/bokeh/release/bokeh-tables-1.0.4.min.css\");\n      Bokeh.embed.inject_css(\"https://cdn.pydata.org/bokeh/release/bokeh-tables-1.0.4.min.css\");\n    }\n  ];\n\n  function run_inline_js() {\n    \n    if ((root.Bokeh !== undefined) || (force === true)) {\n      for (var i = 0; i < inline_js.length; i++) {\n        inline_js[i].call(root, root.Bokeh);\n      }if (force === true) {\n        display_loaded();\n      }} else if (Date.now() < root._bokeh_timeout) {\n      setTimeout(run_inline_js, 100);\n    } else if (!root._bokeh_failed_load) {\n      console.log(\"Bokeh: BokehJS failed to load within specified timeout.\");\n      root._bokeh_failed_load = true;\n    } else if (force !== true) {\n      var cell = $(document.getElementById(\"1001\")).parents('.cell').data().cell;\n      cell.output_area.append_execute_result(NB_LOAD_WARNING)\n    }\n\n  }\n\n  if (root._bokeh_is_loading === 0) {\n    console.log(\"Bokeh: BokehJS loaded, going straight to plotting\");\n    run_inline_js();\n  } else {\n    load_libs(js_urls, function() {\n      console.log(\"Bokeh: BokehJS plotting callback run at\", now());\n      run_inline_js();\n    });\n  }\n}(window));"
     },
     "metadata": {},
     "output_type": "display_data"
    }
   ],
   "source": [
    "output_notebook()"
   ]
  },
  {
   "cell_type": "markdown",
   "metadata": {},
   "source": [
    "Creo la variable df para que realice la lectura de la base de datos, la cual esta en formato .csv, para ello usamos read_csv.En las siguiente le defino con \"Sample\" para definir 500 datos aleatorios de la data,en la siguiente línea creamos una variable source, que será a ColumnDataSoruce del grupo que definí en la anterior línea. \"ColumnDataSource\" la cuál convierte los datos de un objeto dataframe a un objeto de columnas de bokeh."
   ]
  },
  {
   "cell_type": "code",
   "execution_count": 3,
   "metadata": {},
   "outputs": [],
   "source": [
    "df = pd.read_csv('data/nacimientos2014.csv')\n",
    "df = df.sample(50)\n",
    "source = ColumnDataSource(df)"
   ]
  },
  {
   "cell_type": "markdown",
   "metadata": {},
   "source": [
    "Creo el objeto p, que será el objeto figura, en la siguiente línea de código llamo al objeto p, donde le doy la figura de un objeto figura donde le asigno valores para realizar la gráfica."
   ]
  },
  {
   "cell_type": "code",
   "execution_count": 4,
   "metadata": {
    "scrolled": true
   },
   "outputs": [
    {
     "data": {
      "text/html": [
       "<div style=\"display: table;\"><div style=\"display: table-row;\"><div style=\"display: table-cell;\"><b title=\"bokeh.models.renderers.GlyphRenderer\">GlyphRenderer</b>(</div><div style=\"display: table-cell;\">id&nbsp;=&nbsp;'1040', <span id=\"1043\" style=\"cursor: pointer;\">&hellip;)</span></div></div><div class=\"1042\" style=\"display: none;\"><div style=\"display: table-cell;\"></div><div style=\"display: table-cell;\">data_source&nbsp;=&nbsp;ColumnDataSource(id='1002', ...),</div></div><div class=\"1042\" style=\"display: none;\"><div style=\"display: table-cell;\"></div><div style=\"display: table-cell;\">glyph&nbsp;=&nbsp;Triangle(id='1038', ...),</div></div><div class=\"1042\" style=\"display: none;\"><div style=\"display: table-cell;\"></div><div style=\"display: table-cell;\">hover_glyph&nbsp;=&nbsp;None,</div></div><div class=\"1042\" style=\"display: none;\"><div style=\"display: table-cell;\"></div><div style=\"display: table-cell;\">js_event_callbacks&nbsp;=&nbsp;{},</div></div><div class=\"1042\" style=\"display: none;\"><div style=\"display: table-cell;\"></div><div style=\"display: table-cell;\">js_property_callbacks&nbsp;=&nbsp;{},</div></div><div class=\"1042\" style=\"display: none;\"><div style=\"display: table-cell;\"></div><div style=\"display: table-cell;\">level&nbsp;=&nbsp;'glyph',</div></div><div class=\"1042\" style=\"display: none;\"><div style=\"display: table-cell;\"></div><div style=\"display: table-cell;\">muted&nbsp;=&nbsp;False,</div></div><div class=\"1042\" style=\"display: none;\"><div style=\"display: table-cell;\"></div><div style=\"display: table-cell;\">muted_glyph&nbsp;=&nbsp;None,</div></div><div class=\"1042\" style=\"display: none;\"><div style=\"display: table-cell;\"></div><div style=\"display: table-cell;\">name&nbsp;=&nbsp;None,</div></div><div class=\"1042\" style=\"display: none;\"><div style=\"display: table-cell;\"></div><div style=\"display: table-cell;\">nonselection_glyph&nbsp;=&nbsp;Triangle(id='1039', ...),</div></div><div class=\"1042\" style=\"display: none;\"><div style=\"display: table-cell;\"></div><div style=\"display: table-cell;\">selection_glyph&nbsp;=&nbsp;None,</div></div><div class=\"1042\" style=\"display: none;\"><div style=\"display: table-cell;\"></div><div style=\"display: table-cell;\">subscribed_events&nbsp;=&nbsp;[],</div></div><div class=\"1042\" style=\"display: none;\"><div style=\"display: table-cell;\"></div><div style=\"display: table-cell;\">tags&nbsp;=&nbsp;[],</div></div><div class=\"1042\" style=\"display: none;\"><div style=\"display: table-cell;\"></div><div style=\"display: table-cell;\">view&nbsp;=&nbsp;CDSView(id='1041', ...),</div></div><div class=\"1042\" style=\"display: none;\"><div style=\"display: table-cell;\"></div><div style=\"display: table-cell;\">visible&nbsp;=&nbsp;True,</div></div><div class=\"1042\" style=\"display: none;\"><div style=\"display: table-cell;\"></div><div style=\"display: table-cell;\">x_range_name&nbsp;=&nbsp;'default',</div></div><div class=\"1042\" style=\"display: none;\"><div style=\"display: table-cell;\"></div><div style=\"display: table-cell;\">y_range_name&nbsp;=&nbsp;'default')</div></div></div>\n",
       "<script>\n",
       "(function() {\n",
       "  var expanded = false;\n",
       "  var ellipsis = document.getElementById(\"1043\");\n",
       "  ellipsis.addEventListener(\"click\", function() {\n",
       "    var rows = document.getElementsByClassName(\"1042\");\n",
       "    for (var i = 0; i < rows.length; i++) {\n",
       "      var el = rows[i];\n",
       "      el.style.display = expanded ? \"none\" : \"table-row\";\n",
       "    }\n",
       "    ellipsis.innerHTML = expanded ? \"&hellip;)\" : \"&lsaquo;&lsaquo;&lsaquo;\";\n",
       "    expanded = !expanded;\n",
       "  });\n",
       "})();\n",
       "</script>\n"
      ],
      "text/plain": [
       "GlyphRenderer(id='1040', ...)"
      ]
     },
     "execution_count": 4,
     "metadata": {},
     "output_type": "execute_result"
    }
   ],
   "source": [
    "p = figure()\n",
    "p.triangle(y='sem_gest', x='talla', line_width=5,\n",
    "          color='#440154', alpha=0.6, source=source)"
   ]
  },
  {
   "cell_type": "markdown",
   "metadata": {},
   "source": [
    "En las siguientes líneas de código le colocó el título a la gráfica y los nombres de las variables a dibujarse para mayor compresión del usuario."
   ]
  },
  {
   "cell_type": "code",
   "execution_count": 5,
   "metadata": {},
   "outputs": [],
   "source": [
    "p.title.text= 'Gráfica de dispersión con respecto semana de gestación y talla({} muestras)'.format(len(df))\n",
    "p.xaxis.axis_label = 'Sema gestación'\n",
    "p.yaxis.axis_label = 'talla'"
   ]
  },
  {
   "cell_type": "markdown",
   "metadata": {},
   "source": [
    "\"HoverTool\" es un objeto de bokeh el cuál me permite mostrar al usuario los datos exactos al momento de pasar el ratón o mouse por los datos dibujados"
   ]
  },
  {
   "cell_type": "code",
   "execution_count": 6,
   "metadata": {},
   "outputs": [],
   "source": [
    "hover = HoverTool()\n",
    "hover.tooltips = [\n",
    "    ('Semana gestación', \"@sem_gest\"),\n",
    "     ('Sexo', '@sexo'),\n",
    "    ('Talla', \"@talla\")\n",
    "]\n",
    "hover.mode = 'mouse'\n",
    "p.add_tools(hover)"
   ]
  },
  {
   "cell_type": "markdown",
   "metadata": {},
   "source": [
    "Mostramos p, el cuál ya está creado, tiene todas las funciones como colores, los datos filtrados y la gráfica que debe realiza"
   ]
  },
  {
   "cell_type": "markdown",
   "metadata": {},
   "source": [
    "En las siguiente gráfica de dispersión lo que quiero demostrar es la relación de la semana de gestación de la madre con la talla de los recién nacidos."
   ]
  },
  {
   "cell_type": "code",
   "execution_count": 7,
   "metadata": {},
   "outputs": [
    {
     "data": {
      "text/html": [
       "\n",
       "\n",
       "\n",
       "\n",
       "\n",
       "\n",
       "  <div class=\"bk-root\" id=\"71108e0b-1e19-4892-96e0-49096dee6f1e\" data-root-id=\"1003\"></div>\n"
      ]
     },
     "metadata": {},
     "output_type": "display_data"
    },
    {
     "data": {
      "application/javascript": [
       "(function(root) {\n",
       "  function embed_document(root) {\n",
       "    \n",
       "  var docs_json = {\"92eba13c-8488-486c-9501-353c51f70126\":{\"roots\":{\"references\":[{\"attributes\":{\"below\":[{\"id\":\"1012\",\"type\":\"LinearAxis\"}],\"left\":[{\"id\":\"1017\",\"type\":\"LinearAxis\"}],\"renderers\":[{\"id\":\"1012\",\"type\":\"LinearAxis\"},{\"id\":\"1016\",\"type\":\"Grid\"},{\"id\":\"1017\",\"type\":\"LinearAxis\"},{\"id\":\"1021\",\"type\":\"Grid\"},{\"id\":\"1030\",\"type\":\"BoxAnnotation\"},{\"id\":\"1040\",\"type\":\"GlyphRenderer\"}],\"title\":{\"id\":\"1044\",\"type\":\"Title\"},\"toolbar\":{\"id\":\"1028\",\"type\":\"Toolbar\"},\"x_range\":{\"id\":\"1004\",\"type\":\"DataRange1d\"},\"x_scale\":{\"id\":\"1008\",\"type\":\"LinearScale\"},\"y_range\":{\"id\":\"1006\",\"type\":\"DataRange1d\"},\"y_scale\":{\"id\":\"1010\",\"type\":\"LinearScale\"}},\"id\":\"1003\",\"subtype\":\"Figure\",\"type\":\"Plot\"},{\"attributes\":{\"overlay\":{\"id\":\"1030\",\"type\":\"BoxAnnotation\"}},\"id\":\"1024\",\"type\":\"BoxZoomTool\"},{\"attributes\":{},\"id\":\"1049\",\"type\":\"BasicTickFormatter\"},{\"attributes\":{},\"id\":\"1054\",\"type\":\"Selection\"},{\"attributes\":{\"callback\":null,\"tooltips\":[[\"Semana gestaci\\u00f3n\",\"@sem_gest\"],[\"Sexo\",\"@sexo\"],[\"Talla\",\"@talla\"]]},\"id\":\"1045\",\"type\":\"HoverTool\"},{\"attributes\":{\"callback\":null,\"data\":{\"Unnamed: 0\":[1381,1623,1990,2338,393,699,807,2388,1563,1592,77,1776,103,2147,21,1549,2225,1589,723,2250,233,1960,1982,273,502,2468,1110,968,351,583,1999,1746,2109,1932,1178,2391,332,865,994,867,2127,1000,808,2465,1351,1541,127,1640,715,945],\"anio_insc\":[2014,2014,2014,2014,2014,2014,2014,2014,2014,2014,2014,2014,2014,2014,2014,2014,2014,2014,2014,2014,2014,2014,2014,2014,2014,2014,2014,2014,2014,2014,2014,2014,2014,2014,2014,2014,2014,2014,2014,2014,2014,2014,2014,2014,2014,2014,2014,2014,2014,2014],\"anio_mad\":{\"__ndarray__\":\"AAAAAAAYn0AAAAAAABifQAAAAAAA5J5AAAAAAAAAn0AAAAAAACCfQAAAAAAAHJ9AAAAAAAD8nkAAAAAAADSfQAAAAAAAJJ9AAAAAAAAA+H8AAAAAACSfQAAAAAAABJ9AAAAAAAAcn0AAAAAAADSfQAAAAAAAMJ9AAAAAAAAcn0AAAAAAAAD4fwAAAAAAMJ9AAAAAAAAon0AAAAAAADCfQAAAAAAACJ9AAAAAAAAkn0AAAAAAAASfQAAAAAAA7J5AAAAAAAD4nkAAAAAAAAyfQAAAAAAAMJ9AAAAAAAAA+H8AAAAAAAD4fwAAAAAAAPh/AAAAAAAcn0AAAAAAAAyfQAAAAAAAHJ9AAAAAAAAsn0AAAAAAAAD4fwAAAAAAJJ9AAAAAAAAUn0AAAAAAAOieQAAAAAAAAPh/AAAAAAAA+H8AAAAAABCfQAAAAAAAAPh/AAAAAAAMn0AAAAAAACSfQAAAAAAAAPh/AAAAAAAA+H8AAAAAABCfQAAAAAAAFJ9AAAAAAAAA+H8AAAAAANyeQA==\",\"dtype\":\"float64\",\"shape\":[50]},\"anio_nac\":[2014,2014,2014,2014,2014,2013,2014,2014,2014,2008,2014,2014,2014,2014,2014,2014,2011,2013,2013,2014,2014,2014,2014,2014,2014,2014,2014,2007,2006,2006,2014,2014,2014,2013,2011,2014,2014,2014,2011,1920,2014,2012,2013,2014,1969,2009,2014,2014,2008,2013],\"area_nac\":[\"Rural\",\"Rural\",\"Urbana\",\"Urbana\",\"Urbana\",\"Urbana\",\"Urbana\",\"Urbana\",\"Rural\",\"NaN\",\"Urbana\",\"Urbana\",\"Urbana\",\"Urbana\",\"Urbana\",\"Urbana\",\"NaN\",\"Urbana\",\"Urbana\",\"Urbana\",\"Urbana\",\"Urbana\",\"Urbana\",\"Urbana\",\"Urbana\",\"Urbana\",\"Urbana\",\"NaN\",\"NaN\",\"NaN\",\"Urbana\",\"Urbana\",\"Urbana\",\"Urbana\",\"NaN\",\"Urbana\",\"Urbana\",\"Urbana\",\"NaN\",\"NaN\",\"Rural\",\"NaN\",\"Urbana\",\"Urbana\",\"NaN\",\"NaN\",\"Urbana\",\"Urbana\",\"NaN\",\"Urbana\"],\"area_res\":[\"Urbana\",\"Rural\",\"Urbana\",\"Urbana\",\"Urbana\",\"Urbana\",\"Urbana\",\"Urbana\",\"Rural\",\"Urbana\",\"Urbana\",\"Urbana\",\"Urbana\",\"Urbana\",\"Urbana\",\"Rural\",\"Urbana\",\"Urbana\",\"Urbana\",\"Urbana\",\"Urbana\",\"Urbana\",\"Urbana\",\"Urbana\",\"Urbana\",\"Urbana\",\"Urbana\",\"Urbana\",\"Urbana\",\"Urbana\",\"Urbana\",\"Urbana\",\"Urbana\",\"Urbana\",\"Urbana\",\"Urbana\",\"Urbana\",\"Urbana\",\"Urbana\",\"Urbana\",\"Rural\",\"Rural\",\"Urbana\",\"Urbana\",\"Urbana\",\"Urbana\",\"Urbana\",\"Urbana\",\"Urbana\",\"Rural\"],\"asis_por\":[\"M\\ufffddico/a\",\"M\\ufffddico/a\",\"M\\ufffddico/a\",\"M\\ufffddico/a\",\"M\\ufffddico/a\",\"Obstetriz/Obstetra\",\"M\\ufffddico/a\",\"M\\ufffddico/a\",\"M\\ufffddico/a\",\"NaN\",\"M\\ufffddico/a\",\"Obstetriz/Obstetra\",\"M\\ufffddico/a\",\"M\\ufffddico/a\",\"M\\ufffddico/a\",\"M\\ufffddico/a\",\"NaN\",\"Obstetriz/Obstetra\",\"M\\ufffddico/a\",\"Obstetriz/Obstetra\",\"M\\ufffddico/a\",\"M\\ufffddico/a\",\"M\\ufffddico/a\",\"M\\ufffddico/a\",\"M\\ufffddico/a\",\"M\\ufffddico/a\",\"M\\ufffddico/a\",\"NaN\",\"NaN\",\"NaN\",\"Otro\",\"M\\ufffddico/a\",\"M\\ufffddico/a\",\"M\\ufffddico/a\",\"NaN\",\"M\\ufffddico/a\",\"M\\ufffddico/a\",\"M\\ufffddico/a\",\"NaN\",\"NaN\",\"Enfermero/a\",\"NaN\",\"M\\ufffddico/a\",\"M\\ufffddico/a\",\"NaN\",\"NaN\",\"M\\ufffddico/a\",\"M\\ufffddico/a\",\"NaN\",\"M\\ufffddico/a\"],\"cant_insc\":[\"Salinas\",\"Quito\",\"Guayaquil\",\"Guayaquil\",\"Guayaquil\",\"Quito\",\"Guayaquil\",\"Quito\",\"El Carmen\",\"Ibarra\",\"Chone\",\"Tena\",\"Riobamba\",\"Guayaquil\",\"Daule\",\"Latacunga\",\"Guayaquil\",\"Pedernales\",\"Quito\",\"Guayaquil\",\"Quito\",\"Playas\",\"Guayaquil\",\"Riobamba\",\"Cuenca\",\"Manta\",\"Lago Agrio\",\"Guayaquil\",\"Chone\",\"Guayaquil\",\"Quito\",\"Guayaquil\",\"Milagro\",\"Playas\",\"Guayaquil\",\"Guayaquil\",\"Daule\",\"Guayaquil\",\"San Lorenzo\",\"Milagro\",\"Santa Elena\",\"Santa Elena\",\"Naranjal\",\"Santo Domingo\",\"Guayaquil\",\"Guayaquil\",\"Chone\",\"Ibarra\",\"La Concordia\",\"Quito\"],\"cant_nac\":[\"Santa Elena\",\"Quito\",\"Guayaquil\",\"Guayaquil\",\"Guayaquil\",\"Quito\",\"Guayaquil\",\"Quito\",\"Santo Domingo\",\"NaN\",\"Chone\",\"Tena\",\"Riobamba\",\"Guayaquil\",\"Daule\",\"Latacunga\",\"NaN\",\"Pedernales\",\"Quito\",\"Guayaquil\",\"Quito\",\"Guayaquil\",\"Guayaquil\",\"Riobamba\",\"Cuenca\",\"Cuenca\",\"Lago Agrio\",\"NaN\",\"NaN\",\"NaN\",\"Quito\",\"Guayaquil\",\"Milagro\",\"Playas\",\"NaN\",\"Guayaquil\",\"Guayaquil\",\"Guayaquil\",\"NaN\",\"NaN\",\"Santa Elena\",\"NaN\",\"Naranjal\",\"Santo Domingo\",\"NaN\",\"NaN\",\"Chone\",\"Ibarra\",\"NaN\",\"Quito\"],\"cant_res\":[\"La Libertad\",\"Quito\",\"Guayaquil\",\"Guayaquil\",\"Guayaquil\",\"Quito\",\"Guayaquil\",\"Rumi\\ufffdahui\",\"Chone\",\"Ibarra\",\"Chone\",\"Tena\",\"Riobamba\",\"Guayaquil\",\"Daule\",\"Latacunga\",\"Guayaquil\",\"Pedernales\",\"Quito\",\"Naranjito\",\"Quito\",\"Playas\",\"Guayaquil\",\"Riobamba\",\"Cuenca\",\"Manta\",\"Lago Agrio\",\"Guayaquil\",\"Chone\",\"Dur\\ufffdn\",\"Quito\",\"Guayaquil\",\"Naranjal\",\"Playas\",\"Guayaquil\",\"Guayaquil\",\"Daule\",\"Guayaquil\",\"San Lorenzo\",\"Milagro\",\"Santa Elena\",\"Santa Elena\",\"Naranjal\",\"Santo Domingo\",\"Guayaquil\",\"Guayaquil\",\"Manta\",\"Ibarra\",\"La Concordia\",\"Quito\"],\"cod_pais\":[\"Ecuador \",\"Ecuador \",\"Ecuador \",\"Ecuador \",\"Ecuador \",\"Ecuador \",\"Ecuador \",\"Ecuador \",\"Ecuador \",\"NaN\",\"Ecuador \",\"Ecuador \",\"Ecuador \",\"Ecuador \",\"Ecuador \",\"Ecuador \",\"NaN\",\"Ecuador \",\"Ecuador \",\"Ecuador \",\"Ecuador \",\"Ecuador \",\"Ecuador \",\"Ecuador \",\"Ecuador \",\"Ecuador \",\"Ecuador \",\"NaN\",\"NaN\",\"NaN\",\"Ecuador \",\"Ecuador \",\"Ecuador \",\"Ecuador \",\"NaN\",\"Ecuador \",\"Ecuador \",\"Ecuador \",\"NaN\",\"NaN\",\"Ecuador \",\"NaN\",\"Ecuador \",\"Ecuador \",\"NaN\",\"NaN\",\"Ecuador \",\"Ecuador \",\"NaN\",\"Ecuador \"],\"con_pren\":{\"__ndarray__\":\"AAAAAAAAIEAAAAAAAAAoQAAAAAAAABhAAAAAAAAAGEAAAAAAAAAUQAAAAAAAwFhAAAAAAAAAIkAAAAAAAAAYQAAAAAAAABRAAAAAAAAA+H8AAAAAAMBYQAAAAAAAACRAAAAAAAAAGEAAAAAAAAAiQAAAAAAAACJAAAAAAAAAGEAAAAAAAAD4fwAAAAAAAABAAAAAAAAAEEAAAAAAAMBYQAAAAAAAACBAAAAAAADAWEAAAAAAAAAcQAAAAAAAABxAAAAAAAAAGEAAAAAAAAAiQAAAAAAAABRAAAAAAAAA+H8AAAAAAAD4fwAAAAAAAPh/AAAAAAAAGEAAAAAAAAAgQAAAAAAAABRAAAAAAAAAHEAAAAAAAAD4fwAAAAAAACBAAAAAAAAAJEAAAAAAAAAYQAAAAAAAAPh/AAAAAAAA+H8AAAAAAAAiQAAAAAAAAPh/AAAAAAAAGEAAAAAAAADwPwAAAAAAAPh/AAAAAAAA+H8AAAAAAAAiQAAAAAAAACxAAAAAAAAA+H8AAAAAAAAiQA==\",\"dtype\":\"float64\",\"shape\":[50]},\"dia_insc\":[16,19,30,29,10,3,2,13,3,3,4,24,18,21,3,8,20,5,31,25,22,25,30,5,2,18,21,11,7,19,13,29,10,19,2,4,10,19,24,22,15,1,9,18,23,29,2,4,29,19],\"dia_mad\":{\"__ndarray__\":\"AAAAAAAAOUAAAAAAAAAAQAAAAAAAACxAAAAAAAAAM0AAAAAAAAA6QAAAAAAAADdAAAAAAAAALEAAAAAAAAAgQAAAAAAAADRAAAAAAAAA+H8AAAAAAAA9QAAAAAAAACBAAAAAAAAALkAAAAAAAAA1QAAAAAAAABBAAAAAAAAA8D8AAAAAAAD4fwAAAAAAABxAAAAAAAAA8D8AAAAAAADwPwAAAAAAACxAAAAAAAAAKEAAAAAAAAAxQAAAAAAAAAhAAAAAAAAAPEAAAAAAAAA8QAAAAAAAAD9AAAAAAAAA+H8AAAAAAAD4fwAAAAAAAPh/AAAAAAAALEAAAAAAAAA6QAAAAAAAACxAAAAAAAAAPUAAAAAAAAD4fwAAAAAAACZAAAAAAAAAFEAAAAAAAAA9QAAAAAAAAPh/AAAAAAAA+H8AAAAAAAAuQAAAAAAAAPh/AAAAAAAAKkAAAAAAAAA6QAAAAAAAAPh/AAAAAAAA+H8AAAAAAAA6QAAAAAAAADZAAAAAAAAA+H8AAAAAAAA2QA==\",\"dtype\":\"float64\",\"shape\":[50]},\"dia_nac\":[20,24,30,16,3,25,26,4,24,13,29,13,27,12,10,27,20,3,8,24,10,17,28,26,25,14,23,7,20,3,9,15,24,26,4,6,20,29,30,20,7,16,22,20,16,6,30,16,4,5],\"edad_mad\":{\"__ndarray__\":\"AAAAAAAAOEAAAAAAAAA4QAAAAAAAgEJAAAAAAAAAPkAAAAAAAAA2QAAAAAAAADdAAAAAAAAAP0AAAAAAAAAxQAAAAAAAADVAAAAAAAAA+H8AAAAAAAA1QAAAAAAAAD1AAAAAAAAAN0AAAAAAAAAxQAAAAAAAADJAAAAAAAAAN0AAAAAAAAD4fwAAAAAAADJAAAAAAAAANEAAAAAAAAAyQAAAAAAAADxAAAAAAAAANUAAAAAAAAA9QAAAAAAAgEFAAAAAAAAAQEAAAAAAAAA7QAAAAAAAADJAAAAAAAAA+H8AAAAAAAD4fwAAAAAAAPh/AAAAAAAAN0AAAAAAAAA7QAAAAAAAADdAAAAAAAAAM0AAAAAAAAD4fwAAAAAAADVAAAAAAAAAOUAAAAAAAABCQAAAAAAAAPh/AAAAAAAA+H8AAAAAAAA6QAAAAAAAAPh/AAAAAAAAO0AAAAAAAAA1QAAAAAAAAPh/AAAAAAAA+H8AAAAAAAA6QAAAAAAAADlAAAAAAAAA+H8AAAAAAIBDQA==\",\"dtype\":\"float64\",\"shape\":[50]},\"est_civil\":[\"Casada\",\"Unida\",\"Soltera\",\"Unida\",\"Soltera\",\"Casada\",\"Casada\",\"Unida\",\"Unida\",\"NaN\",\"Unida\",\"Unida\",\"Soltera\",\"Soltera\",\"Unida\",\"Casada\",\"NaN\",\"Unida\",\"Unida\",\"Unida\",\"Soltera\",\"Casada\",\"Soltera\",\"Casada\",\"Casada\",\"Casada\",\"Unida\",\"NaN\",\"NaN\",\"NaN\",\"Soltera\",\"Casada\",\"Unida\",\"Unida\",\"NaN\",\"Casada\",\"Soltera\",\"Casada\",\"NaN\",\"NaN\",\"Unida\",\"NaN\",\"Unida\",\"Unida\",\"NaN\",\"NaN\",\"Casada\",\"Unida\",\"NaN\",\"Divorciada\"],\"etnia\":[\"Mestiza\",\"Mestiza\",\"Mestiza\",\"Mestiza\",\"Mestiza\",\"Ind\\ufffdgena\",\"Mestiza\",\"Mestiza\",\"Mestiza\",\"NaN\",\"Mestiza\",\"Mestiza\",\"Mestiza\",\"Mestiza\",\"Mestiza\",\"Mestiza\",\"NaN\",\"Mestiza\",\"Mestiza\",\"Mestiza\",\"Mestiza\",\"Mestiza\",\"Mestiza\",\"Mestiza\",\"Mestiza\",\"Mestiza\",\"Negra\",\"NaN\",\"NaN\",\"NaN\",\"Mestiza\",\"Mestiza\",\"Mestiza\",\"Mestiza\",\"NaN\",\"Mestiza\",\"Mestiza\",\"Mestiza\",\"NaN\",\"NaN\",\"Mestiza\",\"NaN\",\"Mestiza\",\"Mestiza\",\"NaN\",\"NaN\",\"Mestiza\",\"Mestiza\",\"NaN\",\"Mestiza\"],\"fecha_insc\":[13619577600,13630464000,13620787200,13610332800,13624329600,13608086400,13618368000,13627267200,13621132800,13629081600,13623811200,13625539200,13630377600,13609641600,13623724800,13629513600,13609555200,13621305600,13615603200,13609987200,13630723200,13623033600,13620787200,13629254400,13628995200,13625020800,13625280000,13613875200,13624070400,13612147200,13608950400,13620700800,13624329600,13622515200,13621046400,13621219200,13624329600,13619836800,13617676800,13620096000,13624761600,13615689600,13608604800,13625020800,13620182400,13620700800,13623638400,13629168000,13610332800,13622515200],\"fecha_mad\":[\"1990/06/25\",\"1990/05/02\",\"1977/08/14\",\"1984/08/19\",\"1992/06/26\",\"1991/04/23\",\"1983/01/14\",\"1997/04/08\",\"1993/11/20\",\"          \",\"1993/06/29\",\"1985/12/08\",\"1991/11/15\",\"1997/07/21\",\"1996/03/04\",\"1991/10/01\",\"          \",\"1996/12/07\",\"1994/08/01\",\"1996/05/01\",\"1986/02/14\",\"1993/04/12\",\"1985/02/17\",\"1979/07/03\",\"1982/03/28\",\"1987/03/28\",\"1996/10/31\",\"          \",\"          \",\"          \",\"1991/12/14\",\"1987/04/26\",\"1991/08/14\",\"1995/09/29\",\"          \",\"1993/06/11\",\"1989/08/05\",\"1978/07/29\",\"          \",\"          \",\"1988/11/15\",\"          \",\"1987/07/13\",\"1993/05/26\",\"          \",\"          \",\"1988/08/26\",\"1989/07/22\",\"          \",\"1975/10/22\"],\"fecha_nac\":[13614652800,13628217600,13618195200,13609209600,13623724800,13604716800,13615171200,13623811200,13617676800,13430016000,13623379200,13624588800,13623206400,13608864000,13619059200,13628476800,13543718400,13576550400,13592620800,13609900800,13629686400,13622342400,13620614400,13623120000,13628304000,13614134400,13622860800,13390185600,13359772800,13355625600,13608604800,13619491200,13622947200,13599532800,13526524800,13618713600,13622601600,13618108800,13544582400,10658822400,13613529600,13559184000,13604457600,13619923200,12194236800,13476844800,13620787200,13627526400,13423968000,13605580800],\"hij_nacm\":{\"__ndarray__\":\"AAAAAAAAAAAAAAAAAAAAAAAAAAAAAAAAAAAAAADAWEAAAAAAAAAAAAAAAAAAAAAAAAAAAAAAAAAAAAAAAAAAAAAAAAAAAAAAAAAAAAAA+H8AAAAAAMBYQAAAAAAAAAAAAAAAAAAAAAAAAAAAAAAAAAAAAAAAAAAAAAAAAAAAAAAAAAAAAAD4fwAAAAAAAAAAAAAAAAAAAAAAAAAAAMBYQAAAAAAAAAAAAAAAAAAAAAAAAAAAAAAAAAAAAAAAAAAAAAAAAAAAAAAAAAAAAAAAAAAAAAAAAAAAAAAAAAAA+H8AAAAAAAD4fwAAAAAAAPh/AAAAAAAAAAAAAAAAAAAAAAAAAAAAAAAAAAAAAAAAAAAAAAAAAAD4fwAAAAAAAAAAAAAAAAAAAAAAAAAAAAAAAAAAAAAAAPh/AAAAAAAA+H8AAAAAAAAAAAAAAAAAAPh/AAAAAAAAAAAAAAAAAAAAAAAAAAAAAPh/AAAAAAAA+H8AAAAAAAAAAAAAAAAAAAAAAAAAAAAA+H8AAAAAAAAAAA==\",\"dtype\":\"float64\",\"shape\":[50]},\"hij_viv\":{\"__ndarray__\":\"AAAAAAAAAEAAAAAAAAAAQAAAAAAAAABAAAAAAAAAAEAAAAAAAAAIQAAAAAAAAPA/AAAAAAAAAEAAAAAAAADwPwAAAAAAAABAAAAAAAAA+H8AAAAAAADwPwAAAAAAAAhAAAAAAAAA8D8AAAAAAADwPwAAAAAAAPA/AAAAAAAAAEAAAAAAAAD4fwAAAAAAAPA/AAAAAAAAAEAAAAAAAADwPwAAAAAAAPA/AAAAAAAA8D8AAAAAAAAIQAAAAAAAAAhAAAAAAAAACEAAAAAAAAAAQAAAAAAAAPA/AAAAAAAA+H8AAAAAAAD4fwAAAAAAAPh/AAAAAAAACEAAAAAAAAAAQAAAAAAAAPA/AAAAAAAA8D8AAAAAAAD4fwAAAAAAAPA/AAAAAAAAAEAAAAAAAAAAQAAAAAAAAPh/AAAAAAAA+H8AAAAAAAAIQAAAAAAAAPh/AAAAAAAACEAAAAAAAADwPwAAAAAAAPh/AAAAAAAA+H8AAAAAAAAIQAAAAAAAAPA/AAAAAAAA+H8AAAAAAAAIQA==\",\"dtype\":\"float64\",\"shape\":[50]},\"hij_vivm\":{\"__ndarray__\":\"AAAAAAAAAAAAAAAAAAAAAAAAAAAAAAAAAAAAAADAWEAAAAAAAAAAAAAAAAAAAAAAAAAAAAAAAAAAAAAAAAAAAAAAAAAAAAAAAAAAAAAA+H8AAAAAAMBYQAAAAAAAAAAAAAAAAAAAAAAAAAAAAAAAAAAAAAAAAAAAAAAAAAAAAAAAAAAAAAD4fwAAAAAAAAAAAAAAAAAAAAAAAAAAAAAAAAAAAAAAAAAAAAAAAAAAAAAAAAAAAAAAAAAAAAAAAAAAAAAAAAAAAAAAAAAAAAAAAAAAAAAAAAAAAAAAAAAA+H8AAAAAAAD4fwAAAAAAAPh/AAAAAAAAAAAAAAAAAAAAAAAAAAAAAAAAAAAAAAAAAAAAAAAAAAD4fwAAAAAAAAAAAAAAAAAAAAAAAAAAAAAAAAAAAAAAAPh/AAAAAAAA+H8AAAAAAAAAAAAAAAAAAPh/AAAAAAAAAAAAAAAAAAAAAAAAAAAAAPh/AAAAAAAA+H8AAAAAAAAAAAAAAAAAAAAAAAAAAAAA+H8AAAAAAAAAAA==\",\"dtype\":\"float64\",\"shape\":[50]},\"index\":[1380,1622,1989,2337,392,698,806,2387,1562,1591,76,1775,102,2146,20,1548,2224,1588,722,2249,232,1959,1981,272,501,2467,1109,967,350,582,1998,1745,2108,1931,1177,2390,331,864,993,866,2126,999,807,2464,1350,1540,126,1639,714,944],\"lugar_ocur\":[\"Establecimiento del IESS\",\"Establecimiento del Ministerio de Salud\",\"Establecimiento del IESS\",\"Establecimiento de la Junta de Beneficencia\",\"Hospital, Cl\\ufffdnica o Consultorio Privado\",\"Establecimiento del Ministerio de Salud\",\"Hospital, Cl\\ufffdnica o Consultorio Privado\",\"Establecimiento del Ministerio de Salud\",\"Hospital, Cl\\ufffdnica o Consultorio Privado\",\"NaN\",\"Hospital, Cl\\ufffdnica o Consultorio Privado\",\"Establecimiento del Ministerio de Salud\",\"Establecimiento del Ministerio de Salud\",\"Establecimiento del Ministerio de Salud\",\"Hospital, Cl\\ufffdnica o Consultorio Privado\",\"Establecimiento del Ministerio de Salud\",\"NaN\",\"Establecimiento del Ministerio de Salud\",\"Establecimiento del Ministerio de Salud\",\"Establecimiento de la Junta de Beneficencia\",\"Establecimiento del IESS\",\"Establecimiento de la Junta de Beneficencia\",\"Hospital, Cl\\ufffdnica o Consultorio Privado\",\"Otro Establecimiento P\\ufffdblico\",\"Hospital, Cl\\ufffdnica o Consultorio Privado\",\"Hospital, Cl\\ufffdnica o Consultorio Privado\",\"Establecimiento del Ministerio de Salud\",\"NaN\",\"NaN\",\"NaN\",\"Casa\",\"Hospital, Cl\\ufffdnica o Consultorio Privado\",\"Establecimiento del Ministerio de Salud\",\"Hospital, Cl\\ufffdnica o Consultorio Privado\",\"NaN\",\"Establecimiento de la Junta de Beneficencia\",\"Establecimiento del IESS\",\"Hospital, Cl\\ufffdnica o Consultorio Privado\",\"NaN\",\"NaN\",\"Casa\",\"NaN\",\"Hospital, Cl\\ufffdnica o Consultorio Privado\",\"Establecimiento del Ministerio de Salud\",\"NaN\",\"NaN\",\"Establecimiento del Ministerio de Salud\",\"Hospital, Cl\\ufffdnica o Consultorio Privado\",\"NaN\",\"Establecimiento del Ministerio de Salud\"],\"mes_insc\":[\"Mayo\",\"Septiembre\",\"Mayo\",\"Enero\",\"Julio\",\"Enero\",\"Mayo\",\"Agosto\",\"Junio\",\"Septiembre\",\"Julio\",\"Julio\",\"Septiembre\",\"Enero\",\"Julio\",\"Septiembre\",\"Enero\",\"Junio\",\"Marzo\",\"Enero\",\"Septiembre\",\"Junio\",\"Mayo\",\"Septiembre\",\"Septiembre\",\"Julio\",\"Julio\",\"Marzo\",\"Julio\",\"Febrero\",\"Enero\",\"Mayo\",\"Julio\",\"Junio\",\"Junio\",\"Junio\",\"Julio\",\"Mayo\",\"Abril\",\"Mayo\",\"Julio\",\"Abril\",\"Enero\",\"Julio\",\"Mayo\",\"Mayo\",\"Julio\",\"Septiembre\",\"Enero\",\"Junio\"],\"mes_mad\":{\"__ndarray__\":\"AAAAAAAAGEAAAAAAAAAUQAAAAAAAACBAAAAAAAAAIEAAAAAAAAAYQAAAAAAAABBAAAAAAAAA8D8AAAAAAAAQQAAAAAAAACZAAAAAAAAA+H8AAAAAAAAYQAAAAAAAAChAAAAAAAAAJkAAAAAAAAAcQAAAAAAAAAhAAAAAAAAAJEAAAAAAAAD4fwAAAAAAAChAAAAAAAAAIEAAAAAAAAAUQAAAAAAAAABAAAAAAAAAEEAAAAAAAAAAQAAAAAAAABxAAAAAAAAACEAAAAAAAAAIQAAAAAAAACRAAAAAAAAA+H8AAAAAAAD4fwAAAAAAAPh/AAAAAAAAKEAAAAAAAAAQQAAAAAAAACBAAAAAAAAAIkAAAAAAAAD4fwAAAAAAABhAAAAAAAAAIEAAAAAAAAAcQAAAAAAAAPh/AAAAAAAA+H8AAAAAAAAmQAAAAAAAAPh/AAAAAAAAHEAAAAAAAAAUQAAAAAAAAPh/AAAAAAAA+H8AAAAAAAAgQAAAAAAAABxAAAAAAAAA+H8AAAAAAAAkQA==\",\"dtype\":\"float64\",\"shape\":[50]},\"mes_nac\":[\"Marzo\",\"Agosto\",\"Abril\",\"Enero\",\"Julio\",\"Noviembre\",\"Marzo\",\"Julio\",\"Abril\",\"Mayo\",\"Junio\",\"Julio\",\"Junio\",\"Enero\",\"Mayo\",\"Agosto\",\"Diciembre\",\"Enero\",\"Julio\",\"Enero\",\"Septiembre\",\"Junio\",\"Mayo\",\"Junio\",\"Agosto\",\"Marzo\",\"Junio\",\"Febrero\",\"Febrero\",\"Enero\",\"Enero\",\"Mayo\",\"Junio\",\"Septiembre\",\"Junio\",\"Mayo\",\"Junio\",\"Abril\",\"Diciembre\",\"Julio\",\"Marzo\",\"Junio\",\"Noviembre\",\"Mayo\",\"Marzo\",\"Noviembre\",\"Mayo\",\"Agosto\",\"Marzo\",\"Diciembre\"],\"nac_mad\":[\"Ecuatoriana\",\"Ecuatoriana\",\"Ecuatoriana\",\"Ecuatoriana\",\"Ecuatoriana\",\"Ecuatoriana\",\"Ecuatoriana\",\"Ecuatoriana\",\"Ecuatoriana\",\"NaN\",\"Ecuatoriana\",\"Ecuatoriana\",\"Ecuatoriana\",\"Ecuatoriana\",\"Ecuatoriana\",\"Ecuatoriana\",\"NaN\",\"Ecuatoriana\",\"Ecuatoriana\",\"Ecuatoriana\",\"Ecuatoriana\",\"Ecuatoriana\",\"Ecuatoriana\",\"Ecuatoriana\",\"Ecuatoriana\",\"Ecuatoriana\",\"Ecuatoriana\",\"NaN\",\"NaN\",\"NaN\",\"Ecuatoriana\",\"Ecuatoriana\",\"Ecuatoriana\",\"Ecuatoriana\",\"NaN\",\"Ecuatoriana\",\"Ecuatoriana\",\"Ecuatoriana\",\"NaN\",\"NaN\",\"Ecuatoriana\",\"NaN\",\"Ecuatoriana\",\"Ecuatoriana\",\"NaN\",\"NaN\",\"Ecuatoriana\",\"Ecuatoriana\",\"NaN\",\"Ecuatoriana\"],\"niv_inst\":[\"Secundaria\",\"Secundaria\",\"Educaci\\ufffdn Media / Bachillerato\",\"Secundaria\",\"Educaci\\ufffdn B\\ufffdsica\",\"Primaria\",\"Secundaria\",\"Educaci\\ufffdn B\\ufffdsica\",\"Primaria\",\"NaN\",\"Superior\",\"Educaci\\ufffdn Media / Bachillerato\",\"NaN\",\"Primaria\",\"Primaria\",\"Secundaria\",\"NaN\",\"Secundaria\",\"Primaria\",\"NaN\",\"Superior\",\"Secundaria\",\"Superior\",\"Superior\",\"Superior\",\"Superior\",\"Secundaria\",\"NaN\",\"NaN\",\"NaN\",\"Primaria\",\"Secundaria\",\"Primaria\",\"Secundaria\",\"NaN\",\"Secundaria\",\"Primaria\",\"Superior\",\"NaN\",\"NaN\",\"Primaria\",\"NaN\",\"Primaria\",\"Educaci\\ufffdn B\\ufffdsica\",\"NaN\",\"NaN\",\"Secundaria\",\"Superior\",\"NaN\",\"Secundaria\"],\"num_par\":{\"__ndarray__\":\"AAAAAAAAAEAAAAAAAAAAQAAAAAAAAABAAAAAAAAAAEAAAAAAAAAIQAAAAAAAAPA/AAAAAAAAAEAAAAAAAADwPwAAAAAAAABAAAAAAAAA+H8AAAAAAADwPwAAAAAAAAhAAAAAAAAA8D8AAAAAAADwPwAAAAAAAPA/AAAAAAAAAEAAAAAAAAD4fwAAAAAAAPA/AAAAAAAAAEAAAAAAAADwPwAAAAAAAPA/AAAAAAAA8D8AAAAAAAAAQAAAAAAAAAhAAAAAAAAACEAAAAAAAAAAQAAAAAAAAPA/AAAAAAAA+H8AAAAAAAD4fwAAAAAAAPh/AAAAAAAACEAAAAAAAAAAQAAAAAAAAPA/AAAAAAAA8D8AAAAAAAD4fwAAAAAAAPA/AAAAAAAAAEAAAAAAAAAAQAAAAAAAAPh/AAAAAAAA+H8AAAAAAAAIQAAAAAAAAPh/AAAAAAAACEAAAAAAAADwPwAAAAAAAPh/AAAAAAAA+H8AAAAAAAAIQAAAAAAAAPA/AAAAAAAA+H8AAAAAAAAIQA==\",\"dtype\":\"float64\",\"shape\":[50]},\"ofi_insc\":[1,1,1,1,1,1,1,1,1,1,1,1,1,1,1,1,1,1,1,1,1,1,1,1,1,1,1,1,1,1,1,1,3,1,1,1,1,1,2,1,1,1,1,1,1,1,1,2,1,1],\"p_emb\":[\"Simple\",\"Simple\",\"Simple\",\"Simple\",\"Simple\",\"Simple\",\"Simple\",\"Simple\",\"Simple\",\"NaN\",\"Simple\",\"Simple\",\"Simple\",\"Simple\",\"Simple\",\"Simple\",\"NaN\",\"Simple\",\"Simple\",\"Simple\",\"Simple\",\"Simple\",\"Doble\",\"Simple\",\"Simple\",\"Simple\",\"Simple\",\"NaN\",\"NaN\",\"NaN\",\"Simple\",\"Simple\",\"Simple\",\"Simple\",\"NaN\",\"Simple\",\"Simple\",\"Simple\",\"NaN\",\"NaN\",\"Simple\",\"NaN\",\"Simple\",\"Simple\",\"NaN\",\"NaN\",\"Simple\",\"Simple\",\"NaN\",\"Simple\"],\"parr_insc\":[\"Jos\\ufffd Luis Tamayo (Muey)\",\"Centro Hist\\ufffdrico\",\"Rocafuerte\",\"Rocafuerte\",\"Tarqui\",\"Centro Hist\\ufffdrico\",\"Tarqui\",\"Cotocollao\",\"El Carmen, Cabecera Cantonal\",\"San Miguel de Ibarra, Cabecera Cantonal y Capital Provincial\",\"Chone, Cabecera Cantonal\",\"Tena, Cabecera Cantonal y Capital Provincial\",\"Lizarzaburu\",\"Rocafuerte\",\"Daule, Cabecera Cantonal\",\"Latacunga, Cabecera Cantonal y Capital Provincial\",\"Rocafuerte\",\"Pedernales, Cabecera Cantonal\",\"Turubamba\",\"Rocafuerte\",\"I\\ufffdaquito\",\"General Villamil (Playas), Cabecera Cantonal\",\"Rocafuerte\",\"Lizarzaburu\",\"San Blas\",\"Manta, Cabecera Cantonal\",\"Nueva Loja, Cabecera Cantonal y Capital Provincial\",\"Rocafuerte\",\"Chone, Cabecera Cantonal\",\"Rocafuerte\",\"I\\ufffdaquito\",\"Rocafuerte\",\"Milagro, Cabecera Cantonal\",\"General Villamil (Playas), Cabecera Cantonal\",\"Rocafuerte\",\"Rocafuerte\",\"Daule, Cabecera Cantonal\",\"Tarqui\",\"San Lorenzo, Cabecera Cantonal\",\"Milagro, Cabecera Cantonal\",\"Manglaralto\",\"Santa Elena, Cabecera Cantonal y Capital Provincial\",\"Naranjal, Cabecera Cantonal\",\"Santo Domingo de los Colorados, Cabecera Cantonal y Capital Provincial\",\"Rocafuerte\",\"Rocafuerte\",\"Chone, Cabecera Cantonal\",\"San Miguel de Ibarra, Cabecera Cantonal y Capital Provincial\",\"La Concordia, Cabecera Cantonal\",\"Calder\\ufffdn\"],\"parr_nac\":[\"San Jos\\ufffd de Anc\\ufffdn\",\"Nanegalito\",\"Guayaquil, Cabecera Cantonal y Capital Provincial\",\"Guayaquil, Cabecera Cantonal y Capital Provincial\",\"Guayaquil, Cabecera Cantonal y Capital Provincial\",\"Quito Distrito Metropolitano, Cabecera Cantonal, Capital Provincial\",\"Guayaquil, Cabecera Cantonal y Capital Provincial\",\"Quito Distrito Metropolitano, Cabecera Cantonal, Capital Provincial\",\"Puerto Lim\\ufffdn\",\"NaN\",\"Chone, Cabecera Cantonal\",\"Tena, Cabecera Cantonal y Capital Provincial\",\"Veloz\",\"Guayaquil, Cabecera Cantonal y Capital Provincial\",\"Daule, Cabecera Cantonal\",\"La Matriz\",\"NaN\",\"Pedernales, Cabecera Cantonal\",\"Quito Distrito Metropolitano, Cabecera Cantonal, Capital Provincial\",\"Guayaquil, Cabecera Cantonal y Capital Provincial\",\"Quito Distrito Metropolitano, Cabecera Cantonal, Capital Provincial\",\"Guayaquil, Cabecera Cantonal y Capital Provincial\",\"Guayaquil, Cabecera Cantonal y Capital Provincial\",\"Velasco\",\"Cuenca, Cabecera Cantonal y Capital Provincial\",\"Cuenca, Cabecera Cantonal y Capital Provincial\",\"Nueva Loja, Cabecera Cantonal y Capital Provincial\",\"NaN\",\"NaN\",\"NaN\",\"Chilibulo\",\"Guayaquil, Cabecera Cantonal y Capital Provincial\",\"Milagro, Cabecera Cantonal\",\"General Villamil (Playas), Cabecera Cantonal\",\"NaN\",\"Guayaquil, Cabecera Cantonal y Capital Provincial\",\"Guayaquil, Cabecera Cantonal y Capital Provincial\",\"Guayaquil, Cabecera Cantonal y Capital Provincial\",\"NaN\",\"NaN\",\"Manglaralto\",\"NaN\",\"Naranjal, Cabecera Cantonal\",\"Santo Domingo de los Colorados, Cabecera Cantonal y Capital Provincial\",\"NaN\",\"NaN\",\"Chone, Cabecera Cantonal\",\"San Miguel de Ibarra, Cabecera Cantonal y Capital Provincial\",\"NaN\",\"Quito Distrito Metropolitano, Cabecera Cantonal, Capital Provincial\"],\"parr_res\":[\"La Libertad, Cabecera Cantonal\",\"Pacto\",\"Febres Cordero\",\"Tarqui\",\"Tarqui\",\"Centro Hist\\ufffdrico\",\"Tarqui\",\"Sangolqu\\ufffd\",\"Chibunga\",\"Guayaquil de Alpachaca\",\"Chone, Cabecera Cantonal\",\"Tena, Cabecera Cantonal y Capital Provincial\",\"Veloz\",\"Febres Cordero\",\"Daule, Cabecera Cantonal\",\"Guaitacama (Guaytacama)\",\"Rocafuerte\",\"Pedernales, Cabecera Cantonal\",\"Chillogallo\",\"Naranjito, Cabecera Cantonal\",\"Quito Distrito Metropolitano, Cabecera Cantonal, Capital Provincial\",\"General Villamil (Playas), Cabecera Cantonal\",\"Ximena\",\"Riobamba, Cabecera Cantonal y Capital Provincial\",\"Cuenca, Cabecera Cantonal y Capital Provincial\",\"Manta\",\"Nueva Loja, Cabecera Cantonal y Capital Provincial\",\"Guayaquil, Cabecera Cantonal y Capital Provincial\",\"Chone, Cabecera Cantonal\",\"Eloy Alfaro (Dur\\ufffdn)\",\"Chilibulo\",\"Tarqui\",\"Naranjal, Cabecera Cantonal\",\"General Villamil (Playas), Cabecera Cantonal\",\"Tarqui\",\"Guayaquil, Cabecera Cantonal y Capital Provincial\",\"Daule, Cabecera Cantonal\",\"Tarqui\",\"San Lorenzo, Cabecera Cantonal\",\"Milagro, Cabecera Cantonal\",\"Manglaralto\",\"Manglaralto\",\"Naranjal, Cabecera Cantonal\",\"Santo Domingo de los Colorados, Cabecera Cantonal y Capital Provincial\",\"Tarqui\",\"Letamenci\",\"Tarqui\",\"Guayaquil de Alpachaca\",\"La Concordia, Cabecera Cantonal\",\"Calder\\ufffdn\"],\"peso\":{\"__ndarray__\":\"AAAAAAA4qEAAAAAAAOyoQAAAAAAAsK1AAAAAAAA4qEAAAAAAAIizQAAAAAAAUKRAAAAAAACwrUAAAAAAALiVQAAAAAAAzqRAAAAAAAAA+H8AAAAAAHCnQAAAAAAAAKlAAAAAAACYrEAAAAAAAOisQAAAAAAAkKpAAAAAAACsrEAAAAAAAAD4fwAAAAAA6KxAAAAAAABMrUAAAAAAAHCnQAAAAAAAvKtAAAAAAADgpUAAAAAAAIidQAAAAAAAwKdAAAAAAAAgrEAAAAAAAAimQAAAAAAA+KFAAAAAAAAA+H8AAAAAAAD4fwAAAAAAAPh/AAAAAADAWEAAAAAAAMipQAAAAAAAcKdAAAAAAABYq0AAAAAAAAD4fwAAAAAAlKFAAAAAAABEpkAAAAAAACCnQAAAAAAAAPh/AAAAAAAA+H8AAAAAAFirQAAAAAAAAPh/AAAAAABwp0AAAAAAAGiqQAAAAAAAAPh/AAAAAAAA+H8AAAAAAPCpQAAAAAAAMKZAAAAAAAAA+H8AAAAAAGCjQA==\",\"dtype\":\"float64\",\"shape\":[50]},\"prov_insc\":[\"Santa Elena\",\"Pichincha\",\"Guayas\",\"Guayas\",\"Guayas\",\"Pichincha\",\"Guayas\",\"Pichincha\",\"Manab\\ufffd\",\"Imbabura\",\"Manab\\ufffd\",\"Napo\",\"Chimborazo\",\"Guayas\",\"Guayas\",\"Cotopaxi\",\"Guayas\",\"Manab\\ufffd\",\"Pichincha\",\"Guayas\",\"Pichincha\",\"Guayas\",\"Guayas\",\"Chimborazo\",\"Azuay\",\"Manab\\ufffd\",\"Sucumb\\ufffdos\",\"Guayas\",\"Manab\\ufffd\",\"Guayas\",\"Pichincha\",\"Guayas\",\"Guayas\",\"Guayas\",\"Guayas\",\"Guayas\",\"Guayas\",\"Guayas\",\"Esmeraldas\",\"Guayas\",\"Santa Elena\",\"Santa Elena\",\"Guayas\",\"Santo Domingo de los Ts\\ufffdchilas\",\"Guayas\",\"Guayas\",\"Manab\\ufffd\",\"Imbabura\",\"Santo Domingo de los Ts\\ufffdchilas\",\"Pichincha\"],\"prov_nac\":[\"Santa Elena\",\"Pichincha\",\"Guayas\",\"Guayas\",\"Guayas\",\"Pichincha\",\"Guayas\",\"Pichincha\",\"Santo Domingo de los Ts\\ufffdchilas\",\"NaN\",\"Manab\\ufffd\",\"Napo\",\"Chimborazo\",\"Guayas\",\"Guayas\",\"Cotopaxi\",\"NaN\",\"Manab\\ufffd\",\"Pichincha\",\"Guayas\",\"Pichincha\",\"Guayas\",\"Guayas\",\"Chimborazo\",\"Azuay\",\"Azuay\",\"Sucumb\\ufffdos\",\"NaN\",\"NaN\",\"NaN\",\"Pichincha\",\"Guayas\",\"Guayas\",\"Guayas\",\"NaN\",\"Guayas\",\"Guayas\",\"Guayas\",\"NaN\",\"NaN\",\"Santa Elena\",\"NaN\",\"Guayas\",\"Santo Domingo de los Ts\\ufffdchilas\",\"NaN\",\"NaN\",\"Manab\\ufffd\",\"Imbabura\",\"NaN\",\"Pichincha\"],\"prov_res\":[\"Santa Elena\",\"Pichincha\",\"Guayas\",\"Guayas\",\"Guayas\",\"Pichincha\",\"Guayas\",\"Pichincha\",\"Manab\\ufffd\",\"Imbabura\",\"Manab\\ufffd\",\"Napo\",\"Chimborazo\",\"Guayas\",\"Guayas\",\"Cotopaxi\",\"Guayas\",\"Manab\\ufffd\",\"Pichincha\",\"Guayas\",\"Pichincha\",\"Guayas\",\"Guayas\",\"Chimborazo\",\"Azuay\",\"Manab\\ufffd\",\"Sucumb\\ufffdos\",\"Guayas\",\"Manab\\ufffd\",\"Guayas\",\"Pichincha\",\"Guayas\",\"Guayas\",\"Guayas\",\"Guayas\",\"Guayas\",\"Guayas\",\"Guayas\",\"Esmeraldas\",\"Guayas\",\"Santa Elena\",\"Santa Elena\",\"Guayas\",\"Santo Domingo de los Ts\\ufffdchilas\",\"Guayas\",\"Guayas\",\"Manab\\ufffd\",\"Imbabura\",\"Santo Domingo de los Ts\\ufffdchilas\",\"Pichincha\"],\"sabe_leer\":[\"Si\",\"Si\",\"Si\",\"Si\",\"Si\",\"Si\",\"Si\",\"Si\",\"Si\",\"NaN\",\"Si\",\"Si\",\"No\",\"Si\",\"Si\",\"Si\",\"NaN\",\"Si\",\"Si\",\"No\",\"Si\",\"Si\",\"Si\",\"Si\",\"Si\",\"Si\",\"Si\",\"NaN\",\"NaN\",\"NaN\",\"Si\",\"Si\",\"Si\",\"Si\",\"NaN\",\"Si\",\"Si\",\"Si\",\"NaN\",\"NaN\",\"Si\",\"NaN\",\"Si\",\"Si\",\"NaN\",\"NaN\",\"Si\",\"Si\",\"NaN\",\"Si\"],\"sem_gest\":{\"__ndarray__\":\"AAAAAACAQ0AAAAAAAABEQAAAAAAAgERAAAAAAAAAREAAAAAAAABDQAAAAAAAAEJAAAAAAAAAQ0AAAAAAAABBQAAAAAAAgENAAAAAAAAA+H8AAAAAAABEQAAAAAAAgEJAAAAAAACAQ0AAAAAAAIBDQAAAAAAAAENAAAAAAACAREAAAAAAAAD4fwAAAAAAwFhAAAAAAACAQUAAAAAAAABDQAAAAAAAAEJAAAAAAACAQ0AAAAAAAABBQAAAAAAAAENAAAAAAAAAQ0AAAAAAAABDQAAAAAAAAERAAAAAAAAA+H8AAAAAAAD4fwAAAAAAAPh/AAAAAADAWEAAAAAAAIBDQAAAAAAAgENAAAAAAADAWEAAAAAAAAD4fwAAAAAAgEJAAAAAAACAQ0AAAAAAAABDQAAAAAAAAPh/AAAAAAAA+H8AAAAAAIBDQAAAAAAAAPh/AAAAAAAAP0AAAAAAAIBEQAAAAAAAAPh/AAAAAAAA+H8AAAAAAABDQAAAAAAAgENAAAAAAAAA+H8AAAAAAABCQA==\",\"dtype\":\"float64\",\"shape\":[50]},\"sexo\":[\"Mujer\",\"Mujer\",\"Hombre\",\"Hombre\",\"Hombre\",\"Mujer\",\"Hombre\",\"Mujer\",\"Hombre\",\"Hombre\",\"Hombre\",\"Mujer\",\"Mujer\",\"Mujer\",\"Mujer\",\"Hombre\",\"Mujer\",\"Mujer\",\"Mujer\",\"Mujer\",\"Hombre\",\"Hombre\",\"Hombre\",\"Hombre\",\"Mujer\",\"Hombre\",\"Mujer\",\"Mujer\",\"Hombre\",\"Mujer\",\"Hombre\",\"Mujer\",\"Hombre\",\"Hombre\",\"Hombre\",\"Hombre\",\"Hombre\",\"Mujer\",\"Hombre\",\"Mujer\",\"Hombre\",\"Mujer\",\"Mujer\",\"Hombre\",\"Mujer\",\"Hombre\",\"Hombre\",\"Mujer\",\"Mujer\",\"Mujer\"],\"talla\":{\"__ndarray__\":\"AAAAAACASEAAAAAAAABJQAAAAAAAAElAAAAAAACASEAAAAAAAABIQAAAAAAAgEdAAAAAAAAASUAAAAAAAABDQAAAAAAAgEdAAAAAAAAA+H8AAAAAAABJQAAAAAAAgEhAAAAAAACAR0AAAAAAAABJQAAAAAAAAEhAAAAAAACASUAAAAAAAAD4fwAAAAAAgElAAAAAAACASEAAAAAAAABGQAAAAAAAgEhAAAAAAACASEAAAAAAAABHQAAAAAAAAEhAAAAAAACASUAAAAAAAABHQAAAAAAAgEdAAAAAAAAA+H8AAAAAAAD4fwAAAAAAAPh/AAAAAADAWEAAAAAAAABIQAAAAAAAAElAAAAAAACAR0AAAAAAAAD4fwAAAAAAgEhAAAAAAAAAR0AAAAAAAIBIQAAAAAAAAPh/AAAAAAAA+H8AAAAAAABKQAAAAAAAAPh/AAAAAACASEAAAAAAAIBJQAAAAAAAAPh/AAAAAAAA+H8AAAAAAABJQAAAAAAAgEdAAAAAAAAA+H8AAAAAAIBGQA==\",\"dtype\":\"float64\",\"shape\":[50]},\"tip_insc\":[\"Inscripci\\ufffdn Normal\",\"Inscripci\\ufffdn Normal\",\"Inscripci\\ufffdn Normal\",\"Inscripci\\ufffdn Normal\",\"Inscripci\\ufffdn Normal\",\"Inscripci\\ufffdn Tard\\ufffda\",\"Inscripci\\ufffdn Normal\",\"Inscripci\\ufffdn Normal\",\"Inscripci\\ufffdn Normal\",\"Inscripci\\ufffdn Tard\\ufffda\",\"Inscripci\\ufffdn Normal\",\"Inscripci\\ufffdn Normal\",\"Inscripci\\ufffdn Normal\",\"Inscripci\\ufffdn Normal\",\"Inscripci\\ufffdn Normal\",\"Inscripci\\ufffdn Normal\",\"Inscripci\\ufffdn Tard\\ufffda\",\"Inscripci\\ufffdn Tard\\ufffda\",\"Inscripci\\ufffdn Tard\\ufffda\",\"Inscripci\\ufffdn Normal\",\"Inscripci\\ufffdn Normal\",\"Inscripci\\ufffdn Normal\",\"Inscripci\\ufffdn Normal\",\"Inscripci\\ufffdn Normal\",\"Inscripci\\ufffdn Normal\",\"Inscripci\\ufffdn Normal\",\"Inscripci\\ufffdn Normal\",\"Inscripci\\ufffdn Tard\\ufffda\",\"Inscripci\\ufffdn Tard\\ufffda\",\"Inscripci\\ufffdn Tard\\ufffda\",\"Inscripci\\ufffdn Normal\",\"Inscripci\\ufffdn Normal\",\"Inscripci\\ufffdn Normal\",\"Inscripci\\ufffdn Tard\\ufffda\",\"Inscripci\\ufffdn Tard\\ufffda\",\"Inscripci\\ufffdn Normal\",\"Inscripci\\ufffdn Normal\",\"Inscripci\\ufffdn Normal\",\"Inscripci\\ufffdn Tard\\ufffda\",\"Inscripci\\ufffdn Tard\\ufffda\",\"Inscripci\\ufffdn Normal\",\"Inscripci\\ufffdn Tard\\ufffda\",\"Inscripci\\ufffdn Tard\\ufffda\",\"Inscripci\\ufffdn Normal\",\"Inscripci\\ufffdn Tard\\ufffda\",\"Inscripci\\ufffdn Tard\\ufffda\",\"Inscripci\\ufffdn Normal\",\"Inscripci\\ufffdn Normal\",\"Inscripci\\ufffdn Tard\\ufffda\",\"Inscripci\\ufffdn Tard\\ufffda\"],\"tipo_part\":[\"Ces\\ufffdrea\",\"Normal\",\"Ces\\ufffdrea\",\"Ces\\ufffdrea\",\"Ces\\ufffdrea\",\"Normal\",\"Ces\\ufffdrea\",\"Ces\\ufffdrea\",\"Ces\\ufffdrea\",\"NaN\",\"Ignorado\",\"Ces\\ufffdrea\",\"Normal\",\"Normal\",\"Ces\\ufffdrea\",\"Ces\\ufffdrea\",\"NaN\",\"Normal\",\"Normal\",\"Ces\\ufffdrea\",\"Ces\\ufffdrea\",\"Normal\",\"Ces\\ufffdrea\",\"Ces\\ufffdrea\",\"Ces\\ufffdrea\",\"Ces\\ufffdrea\",\"Normal\",\"NaN\",\"NaN\",\"NaN\",\"Ignorado\",\"Ces\\ufffdrea\",\"Normal\",\"Ces\\ufffdrea\",\"NaN\",\"Ces\\ufffdrea\",\"Normal\",\"Ces\\ufffdrea\",\"NaN\",\"NaN\",\"Normal\",\"NaN\",\"Normal\",\"Normal\",\"NaN\",\"NaN\",\"Ces\\ufffdrea\",\"Normal\",\"NaN\",\"Normal\"]},\"selected\":{\"id\":\"1054\",\"type\":\"Selection\"},\"selection_policy\":{\"id\":\"1055\",\"type\":\"UnionRenderers\"}},\"id\":\"1002\",\"type\":\"ColumnDataSource\"},{\"attributes\":{},\"id\":\"1008\",\"type\":\"LinearScale\"},{\"attributes\":{},\"id\":\"1055\",\"type\":\"UnionRenderers\"},{\"attributes\":{},\"id\":\"1022\",\"type\":\"PanTool\"},{\"attributes\":{},\"id\":\"1010\",\"type\":\"LinearScale\"},{\"attributes\":{\"axis_label\":\"Sema gestaci\\u00f3n\",\"formatter\":{\"id\":\"1051\",\"type\":\"BasicTickFormatter\"},\"plot\":{\"id\":\"1003\",\"subtype\":\"Figure\",\"type\":\"Plot\"},\"ticker\":{\"id\":\"1013\",\"type\":\"BasicTicker\"}},\"id\":\"1012\",\"type\":\"LinearAxis\"},{\"attributes\":{\"dimension\":1,\"plot\":{\"id\":\"1003\",\"subtype\":\"Figure\",\"type\":\"Plot\"},\"ticker\":{\"id\":\"1018\",\"type\":\"BasicTicker\"}},\"id\":\"1021\",\"type\":\"Grid\"},{\"attributes\":{\"fill_alpha\":{\"value\":0.6},\"fill_color\":{\"value\":\"#440154\"},\"line_alpha\":{\"value\":0.6},\"line_color\":{\"value\":\"#440154\"},\"line_width\":{\"value\":5},\"x\":{\"field\":\"talla\"},\"y\":{\"field\":\"sem_gest\"}},\"id\":\"1038\",\"type\":\"Triangle\"},{\"attributes\":{\"plot\":{\"id\":\"1003\",\"subtype\":\"Figure\",\"type\":\"Plot\"},\"ticker\":{\"id\":\"1013\",\"type\":\"BasicTicker\"}},\"id\":\"1016\",\"type\":\"Grid\"},{\"attributes\":{\"bottom_units\":\"screen\",\"fill_alpha\":{\"value\":0.5},\"fill_color\":{\"value\":\"lightgrey\"},\"left_units\":\"screen\",\"level\":\"overlay\",\"line_alpha\":{\"value\":1.0},\"line_color\":{\"value\":\"black\"},\"line_dash\":[4,4],\"line_width\":{\"value\":2},\"plot\":null,\"render_mode\":\"css\",\"right_units\":\"screen\",\"top_units\":\"screen\"},\"id\":\"1030\",\"type\":\"BoxAnnotation\"},{\"attributes\":{},\"id\":\"1013\",\"type\":\"BasicTicker\"},{\"attributes\":{\"callback\":null},\"id\":\"1006\",\"type\":\"DataRange1d\"},{\"attributes\":{\"data_source\":{\"id\":\"1002\",\"type\":\"ColumnDataSource\"},\"glyph\":{\"id\":\"1038\",\"type\":\"Triangle\"},\"hover_glyph\":null,\"muted_glyph\":null,\"nonselection_glyph\":{\"id\":\"1039\",\"type\":\"Triangle\"},\"selection_glyph\":null,\"view\":{\"id\":\"1041\",\"type\":\"CDSView\"}},\"id\":\"1040\",\"type\":\"GlyphRenderer\"},{\"attributes\":{},\"id\":\"1027\",\"type\":\"HelpTool\"},{\"attributes\":{\"fill_alpha\":{\"value\":0.1},\"fill_color\":{\"value\":\"#1f77b4\"},\"line_alpha\":{\"value\":0.1},\"line_color\":{\"value\":\"#1f77b4\"},\"line_width\":{\"value\":5},\"x\":{\"field\":\"talla\"},\"y\":{\"field\":\"sem_gest\"}},\"id\":\"1039\",\"type\":\"Triangle\"},{\"attributes\":{\"axis_label\":\"talla\",\"formatter\":{\"id\":\"1049\",\"type\":\"BasicTickFormatter\"},\"plot\":{\"id\":\"1003\",\"subtype\":\"Figure\",\"type\":\"Plot\"},\"ticker\":{\"id\":\"1018\",\"type\":\"BasicTicker\"}},\"id\":\"1017\",\"type\":\"LinearAxis\"},{\"attributes\":{\"source\":{\"id\":\"1002\",\"type\":\"ColumnDataSource\"}},\"id\":\"1041\",\"type\":\"CDSView\"},{\"attributes\":{\"callback\":null},\"id\":\"1004\",\"type\":\"DataRange1d\"},{\"attributes\":{},\"id\":\"1025\",\"type\":\"SaveTool\"},{\"attributes\":{},\"id\":\"1018\",\"type\":\"BasicTicker\"},{\"attributes\":{\"active_drag\":\"auto\",\"active_inspect\":\"auto\",\"active_multi\":null,\"active_scroll\":\"auto\",\"active_tap\":\"auto\",\"tools\":[{\"id\":\"1022\",\"type\":\"PanTool\"},{\"id\":\"1023\",\"type\":\"WheelZoomTool\"},{\"id\":\"1024\",\"type\":\"BoxZoomTool\"},{\"id\":\"1025\",\"type\":\"SaveTool\"},{\"id\":\"1026\",\"type\":\"ResetTool\"},{\"id\":\"1027\",\"type\":\"HelpTool\"},{\"id\":\"1045\",\"type\":\"HoverTool\"}]},\"id\":\"1028\",\"type\":\"Toolbar\"},{\"attributes\":{},\"id\":\"1026\",\"type\":\"ResetTool\"},{\"attributes\":{},\"id\":\"1023\",\"type\":\"WheelZoomTool\"},{\"attributes\":{},\"id\":\"1051\",\"type\":\"BasicTickFormatter\"},{\"attributes\":{\"plot\":null,\"text\":\"Gr\\u00e1fica de dispersi\\u00f3n con respecto semana de gestaci\\u00f3n y talla(50 muestras)\"},\"id\":\"1044\",\"type\":\"Title\"}],\"root_ids\":[\"1003\"]},\"title\":\"Bokeh Application\",\"version\":\"1.0.4\"}};\n",
       "  var render_items = [{\"docid\":\"92eba13c-8488-486c-9501-353c51f70126\",\"roots\":{\"1003\":\"71108e0b-1e19-4892-96e0-49096dee6f1e\"}}];\n",
       "  root.Bokeh.embed.embed_items_notebook(docs_json, render_items);\n",
       "\n",
       "  }\n",
       "  if (root.Bokeh !== undefined) {\n",
       "    embed_document(root);\n",
       "  } else {\n",
       "    var attempts = 0;\n",
       "    var timer = setInterval(function(root) {\n",
       "      if (root.Bokeh !== undefined) {\n",
       "        embed_document(root);\n",
       "        clearInterval(timer);\n",
       "      }\n",
       "      attempts++;\n",
       "      if (attempts > 100) {\n",
       "        console.log(\"Bokeh: ERROR: Unable to run BokehJS code because BokehJS library is missing\");\n",
       "        clearInterval(timer);\n",
       "      }\n",
       "    }, 10, root)\n",
       "  }\n",
       "})(window);"
      ],
      "application/vnd.bokehjs_exec.v0+json": ""
     },
     "metadata": {
      "application/vnd.bokehjs_exec.v0+json": {
       "id": "1003"
      }
     },
     "output_type": "display_data"
    }
   ],
   "source": [
    "show(p)"
   ]
  }
 ],
 "metadata": {
  "kernelspec": {
   "display_name": "Python 3",
   "language": "python",
   "name": "python3"
  },
  "language_info": {
   "codemirror_mode": {
    "name": "ipython",
    "version": 3
   },
   "file_extension": ".py",
   "mimetype": "text/x-python",
   "name": "python",
   "nbconvert_exporter": "python",
   "pygments_lexer": "ipython3",
   "version": "3.7.0b3"
  }
 },
 "nbformat": 4,
 "nbformat_minor": 2
}
