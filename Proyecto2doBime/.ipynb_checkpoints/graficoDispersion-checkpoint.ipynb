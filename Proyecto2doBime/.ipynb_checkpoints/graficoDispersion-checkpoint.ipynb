{
 "cells": [
  {
   "cell_type": "markdown",
   "metadata": {},
   "source": [
    "## Gráfico de dispersión"
   ]
  },
  {
   "cell_type": "markdown",
   "metadata": {},
   "source": [
    "En la primera línea realizamos la importación de la librería de pandas para leer los datos en el formato csv y la denominamos dp, las siguientes importaciones son de la librería de bokeh que es para realizar los gráficos estadísticos."
   ]
  },
  {
   "cell_type": "code",
   "execution_count": 1,
   "metadata": {},
   "outputs": [],
   "source": [
    "import pandas as pd\n",
    "from bokeh.plotting import figure, show, output_notebook\n",
    "from bokeh.models import ColumnDataSource\n",
    "from bokeh.models.tools import HoverTool"
   ]
  },
  {
   "cell_type": "markdown",
   "metadata": {},
   "source": [
    "\"output_notebook\" es una función de bokeh para hacer la presentación grafica."
   ]
  },
  {
   "cell_type": "code",
   "execution_count": 2,
   "metadata": {},
   "outputs": [
    {
     "data": {
      "text/html": [
       "\n",
       "    <div class=\"bk-root\">\n",
       "        <a href=\"https://bokeh.pydata.org\" target=\"_blank\" class=\"bk-logo bk-logo-small bk-logo-notebook\"></a>\n",
       "        <span id=\"1001\">Loading BokehJS ...</span>\n",
       "    </div>"
      ]
     },
     "metadata": {},
     "output_type": "display_data"
    },
    {
     "data": {
      "application/javascript": [
       "\n",
       "(function(root) {\n",
       "  function now() {\n",
       "    return new Date();\n",
       "  }\n",
       "\n",
       "  var force = true;\n",
       "\n",
       "  if (typeof (root._bokeh_onload_callbacks) === \"undefined\" || force === true) {\n",
       "    root._bokeh_onload_callbacks = [];\n",
       "    root._bokeh_is_loading = undefined;\n",
       "  }\n",
       "\n",
       "  var JS_MIME_TYPE = 'application/javascript';\n",
       "  var HTML_MIME_TYPE = 'text/html';\n",
       "  var EXEC_MIME_TYPE = 'application/vnd.bokehjs_exec.v0+json';\n",
       "  var CLASS_NAME = 'output_bokeh rendered_html';\n",
       "\n",
       "  /**\n",
       "   * Render data to the DOM node\n",
       "   */\n",
       "  function render(props, node) {\n",
       "    var script = document.createElement(\"script\");\n",
       "    node.appendChild(script);\n",
       "  }\n",
       "\n",
       "  /**\n",
       "   * Handle when an output is cleared or removed\n",
       "   */\n",
       "  function handleClearOutput(event, handle) {\n",
       "    var cell = handle.cell;\n",
       "\n",
       "    var id = cell.output_area._bokeh_element_id;\n",
       "    var server_id = cell.output_area._bokeh_server_id;\n",
       "    // Clean up Bokeh references\n",
       "    if (id != null && id in Bokeh.index) {\n",
       "      Bokeh.index[id].model.document.clear();\n",
       "      delete Bokeh.index[id];\n",
       "    }\n",
       "\n",
       "    if (server_id !== undefined) {\n",
       "      // Clean up Bokeh references\n",
       "      var cmd = \"from bokeh.io.state import curstate; print(curstate().uuid_to_server['\" + server_id + \"'].get_sessions()[0].document.roots[0]._id)\";\n",
       "      cell.notebook.kernel.execute(cmd, {\n",
       "        iopub: {\n",
       "          output: function(msg) {\n",
       "            var id = msg.content.text.trim();\n",
       "            if (id in Bokeh.index) {\n",
       "              Bokeh.index[id].model.document.clear();\n",
       "              delete Bokeh.index[id];\n",
       "            }\n",
       "          }\n",
       "        }\n",
       "      });\n",
       "      // Destroy server and session\n",
       "      var cmd = \"import bokeh.io.notebook as ion; ion.destroy_server('\" + server_id + \"')\";\n",
       "      cell.notebook.kernel.execute(cmd);\n",
       "    }\n",
       "  }\n",
       "\n",
       "  /**\n",
       "   * Handle when a new output is added\n",
       "   */\n",
       "  function handleAddOutput(event, handle) {\n",
       "    var output_area = handle.output_area;\n",
       "    var output = handle.output;\n",
       "\n",
       "    // limit handleAddOutput to display_data with EXEC_MIME_TYPE content only\n",
       "    if ((output.output_type != \"display_data\") || (!output.data.hasOwnProperty(EXEC_MIME_TYPE))) {\n",
       "      return\n",
       "    }\n",
       "\n",
       "    var toinsert = output_area.element.find(\".\" + CLASS_NAME.split(' ')[0]);\n",
       "\n",
       "    if (output.metadata[EXEC_MIME_TYPE][\"id\"] !== undefined) {\n",
       "      toinsert[toinsert.length - 1].firstChild.textContent = output.data[JS_MIME_TYPE];\n",
       "      // store reference to embed id on output_area\n",
       "      output_area._bokeh_element_id = output.metadata[EXEC_MIME_TYPE][\"id\"];\n",
       "    }\n",
       "    if (output.metadata[EXEC_MIME_TYPE][\"server_id\"] !== undefined) {\n",
       "      var bk_div = document.createElement(\"div\");\n",
       "      bk_div.innerHTML = output.data[HTML_MIME_TYPE];\n",
       "      var script_attrs = bk_div.children[0].attributes;\n",
       "      for (var i = 0; i < script_attrs.length; i++) {\n",
       "        toinsert[toinsert.length - 1].firstChild.setAttribute(script_attrs[i].name, script_attrs[i].value);\n",
       "      }\n",
       "      // store reference to server id on output_area\n",
       "      output_area._bokeh_server_id = output.metadata[EXEC_MIME_TYPE][\"server_id\"];\n",
       "    }\n",
       "  }\n",
       "\n",
       "  function register_renderer(events, OutputArea) {\n",
       "\n",
       "    function append_mime(data, metadata, element) {\n",
       "      // create a DOM node to render to\n",
       "      var toinsert = this.create_output_subarea(\n",
       "        metadata,\n",
       "        CLASS_NAME,\n",
       "        EXEC_MIME_TYPE\n",
       "      );\n",
       "      this.keyboard_manager.register_events(toinsert);\n",
       "      // Render to node\n",
       "      var props = {data: data, metadata: metadata[EXEC_MIME_TYPE]};\n",
       "      render(props, toinsert[toinsert.length - 1]);\n",
       "      element.append(toinsert);\n",
       "      return toinsert\n",
       "    }\n",
       "\n",
       "    /* Handle when an output is cleared or removed */\n",
       "    events.on('clear_output.CodeCell', handleClearOutput);\n",
       "    events.on('delete.Cell', handleClearOutput);\n",
       "\n",
       "    /* Handle when a new output is added */\n",
       "    events.on('output_added.OutputArea', handleAddOutput);\n",
       "\n",
       "    /**\n",
       "     * Register the mime type and append_mime function with output_area\n",
       "     */\n",
       "    OutputArea.prototype.register_mime_type(EXEC_MIME_TYPE, append_mime, {\n",
       "      /* Is output safe? */\n",
       "      safe: true,\n",
       "      /* Index of renderer in `output_area.display_order` */\n",
       "      index: 0\n",
       "    });\n",
       "  }\n",
       "\n",
       "  // register the mime type if in Jupyter Notebook environment and previously unregistered\n",
       "  if (root.Jupyter !== undefined) {\n",
       "    var events = require('base/js/events');\n",
       "    var OutputArea = require('notebook/js/outputarea').OutputArea;\n",
       "\n",
       "    if (OutputArea.prototype.mime_types().indexOf(EXEC_MIME_TYPE) == -1) {\n",
       "      register_renderer(events, OutputArea);\n",
       "    }\n",
       "  }\n",
       "\n",
       "  \n",
       "  if (typeof (root._bokeh_timeout) === \"undefined\" || force === true) {\n",
       "    root._bokeh_timeout = Date.now() + 5000;\n",
       "    root._bokeh_failed_load = false;\n",
       "  }\n",
       "\n",
       "  var NB_LOAD_WARNING = {'data': {'text/html':\n",
       "     \"<div style='background-color: #fdd'>\\n\"+\n",
       "     \"<p>\\n\"+\n",
       "     \"BokehJS does not appear to have successfully loaded. If loading BokehJS from CDN, this \\n\"+\n",
       "     \"may be due to a slow or bad network connection. Possible fixes:\\n\"+\n",
       "     \"</p>\\n\"+\n",
       "     \"<ul>\\n\"+\n",
       "     \"<li>re-rerun `output_notebook()` to attempt to load from CDN again, or</li>\\n\"+\n",
       "     \"<li>use INLINE resources instead, as so:</li>\\n\"+\n",
       "     \"</ul>\\n\"+\n",
       "     \"<code>\\n\"+\n",
       "     \"from bokeh.resources import INLINE\\n\"+\n",
       "     \"output_notebook(resources=INLINE)\\n\"+\n",
       "     \"</code>\\n\"+\n",
       "     \"</div>\"}};\n",
       "\n",
       "  function display_loaded() {\n",
       "    var el = document.getElementById(\"1001\");\n",
       "    if (el != null) {\n",
       "      el.textContent = \"BokehJS is loading...\";\n",
       "    }\n",
       "    if (root.Bokeh !== undefined) {\n",
       "      if (el != null) {\n",
       "        el.textContent = \"BokehJS \" + root.Bokeh.version + \" successfully loaded.\";\n",
       "      }\n",
       "    } else if (Date.now() < root._bokeh_timeout) {\n",
       "      setTimeout(display_loaded, 100)\n",
       "    }\n",
       "  }\n",
       "\n",
       "\n",
       "  function run_callbacks() {\n",
       "    try {\n",
       "      root._bokeh_onload_callbacks.forEach(function(callback) { callback() });\n",
       "    }\n",
       "    finally {\n",
       "      delete root._bokeh_onload_callbacks\n",
       "    }\n",
       "    console.info(\"Bokeh: all callbacks have finished\");\n",
       "  }\n",
       "\n",
       "  function load_libs(js_urls, callback) {\n",
       "    root._bokeh_onload_callbacks.push(callback);\n",
       "    if (root._bokeh_is_loading > 0) {\n",
       "      console.log(\"Bokeh: BokehJS is being loaded, scheduling callback at\", now());\n",
       "      return null;\n",
       "    }\n",
       "    if (js_urls == null || js_urls.length === 0) {\n",
       "      run_callbacks();\n",
       "      return null;\n",
       "    }\n",
       "    console.log(\"Bokeh: BokehJS not loaded, scheduling load and callback at\", now());\n",
       "    root._bokeh_is_loading = js_urls.length;\n",
       "    for (var i = 0; i < js_urls.length; i++) {\n",
       "      var url = js_urls[i];\n",
       "      var s = document.createElement('script');\n",
       "      s.src = url;\n",
       "      s.async = false;\n",
       "      s.onreadystatechange = s.onload = function() {\n",
       "        root._bokeh_is_loading--;\n",
       "        if (root._bokeh_is_loading === 0) {\n",
       "          console.log(\"Bokeh: all BokehJS libraries loaded\");\n",
       "          run_callbacks()\n",
       "        }\n",
       "      };\n",
       "      s.onerror = function() {\n",
       "        console.warn(\"failed to load library \" + url);\n",
       "      };\n",
       "      console.log(\"Bokeh: injecting script tag for BokehJS library: \", url);\n",
       "      document.getElementsByTagName(\"head\")[0].appendChild(s);\n",
       "    }\n",
       "  };var element = document.getElementById(\"1001\");\n",
       "  if (element == null) {\n",
       "    console.log(\"Bokeh: ERROR: autoload.js configured with elementid '1001' but no matching script tag was found. \")\n",
       "    return false;\n",
       "  }\n",
       "\n",
       "  var js_urls = [\"https://cdn.pydata.org/bokeh/release/bokeh-1.0.4.min.js\", \"https://cdn.pydata.org/bokeh/release/bokeh-widgets-1.0.4.min.js\", \"https://cdn.pydata.org/bokeh/release/bokeh-tables-1.0.4.min.js\", \"https://cdn.pydata.org/bokeh/release/bokeh-gl-1.0.4.min.js\"];\n",
       "\n",
       "  var inline_js = [\n",
       "    function(Bokeh) {\n",
       "      Bokeh.set_log_level(\"info\");\n",
       "    },\n",
       "    \n",
       "    function(Bokeh) {\n",
       "      \n",
       "    },\n",
       "    function(Bokeh) {\n",
       "      console.log(\"Bokeh: injecting CSS: https://cdn.pydata.org/bokeh/release/bokeh-1.0.4.min.css\");\n",
       "      Bokeh.embed.inject_css(\"https://cdn.pydata.org/bokeh/release/bokeh-1.0.4.min.css\");\n",
       "      console.log(\"Bokeh: injecting CSS: https://cdn.pydata.org/bokeh/release/bokeh-widgets-1.0.4.min.css\");\n",
       "      Bokeh.embed.inject_css(\"https://cdn.pydata.org/bokeh/release/bokeh-widgets-1.0.4.min.css\");\n",
       "      console.log(\"Bokeh: injecting CSS: https://cdn.pydata.org/bokeh/release/bokeh-tables-1.0.4.min.css\");\n",
       "      Bokeh.embed.inject_css(\"https://cdn.pydata.org/bokeh/release/bokeh-tables-1.0.4.min.css\");\n",
       "    }\n",
       "  ];\n",
       "\n",
       "  function run_inline_js() {\n",
       "    \n",
       "    if ((root.Bokeh !== undefined) || (force === true)) {\n",
       "      for (var i = 0; i < inline_js.length; i++) {\n",
       "        inline_js[i].call(root, root.Bokeh);\n",
       "      }if (force === true) {\n",
       "        display_loaded();\n",
       "      }} else if (Date.now() < root._bokeh_timeout) {\n",
       "      setTimeout(run_inline_js, 100);\n",
       "    } else if (!root._bokeh_failed_load) {\n",
       "      console.log(\"Bokeh: BokehJS failed to load within specified timeout.\");\n",
       "      root._bokeh_failed_load = true;\n",
       "    } else if (force !== true) {\n",
       "      var cell = $(document.getElementById(\"1001\")).parents('.cell').data().cell;\n",
       "      cell.output_area.append_execute_result(NB_LOAD_WARNING)\n",
       "    }\n",
       "\n",
       "  }\n",
       "\n",
       "  if (root._bokeh_is_loading === 0) {\n",
       "    console.log(\"Bokeh: BokehJS loaded, going straight to plotting\");\n",
       "    run_inline_js();\n",
       "  } else {\n",
       "    load_libs(js_urls, function() {\n",
       "      console.log(\"Bokeh: BokehJS plotting callback run at\", now());\n",
       "      run_inline_js();\n",
       "    });\n",
       "  }\n",
       "}(window));"
      ],
      "application/vnd.bokehjs_load.v0+json": "\n(function(root) {\n  function now() {\n    return new Date();\n  }\n\n  var force = true;\n\n  if (typeof (root._bokeh_onload_callbacks) === \"undefined\" || force === true) {\n    root._bokeh_onload_callbacks = [];\n    root._bokeh_is_loading = undefined;\n  }\n\n  \n\n  \n  if (typeof (root._bokeh_timeout) === \"undefined\" || force === true) {\n    root._bokeh_timeout = Date.now() + 5000;\n    root._bokeh_failed_load = false;\n  }\n\n  var NB_LOAD_WARNING = {'data': {'text/html':\n     \"<div style='background-color: #fdd'>\\n\"+\n     \"<p>\\n\"+\n     \"BokehJS does not appear to have successfully loaded. If loading BokehJS from CDN, this \\n\"+\n     \"may be due to a slow or bad network connection. Possible fixes:\\n\"+\n     \"</p>\\n\"+\n     \"<ul>\\n\"+\n     \"<li>re-rerun `output_notebook()` to attempt to load from CDN again, or</li>\\n\"+\n     \"<li>use INLINE resources instead, as so:</li>\\n\"+\n     \"</ul>\\n\"+\n     \"<code>\\n\"+\n     \"from bokeh.resources import INLINE\\n\"+\n     \"output_notebook(resources=INLINE)\\n\"+\n     \"</code>\\n\"+\n     \"</div>\"}};\n\n  function display_loaded() {\n    var el = document.getElementById(\"1001\");\n    if (el != null) {\n      el.textContent = \"BokehJS is loading...\";\n    }\n    if (root.Bokeh !== undefined) {\n      if (el != null) {\n        el.textContent = \"BokehJS \" + root.Bokeh.version + \" successfully loaded.\";\n      }\n    } else if (Date.now() < root._bokeh_timeout) {\n      setTimeout(display_loaded, 100)\n    }\n  }\n\n\n  function run_callbacks() {\n    try {\n      root._bokeh_onload_callbacks.forEach(function(callback) { callback() });\n    }\n    finally {\n      delete root._bokeh_onload_callbacks\n    }\n    console.info(\"Bokeh: all callbacks have finished\");\n  }\n\n  function load_libs(js_urls, callback) {\n    root._bokeh_onload_callbacks.push(callback);\n    if (root._bokeh_is_loading > 0) {\n      console.log(\"Bokeh: BokehJS is being loaded, scheduling callback at\", now());\n      return null;\n    }\n    if (js_urls == null || js_urls.length === 0) {\n      run_callbacks();\n      return null;\n    }\n    console.log(\"Bokeh: BokehJS not loaded, scheduling load and callback at\", now());\n    root._bokeh_is_loading = js_urls.length;\n    for (var i = 0; i < js_urls.length; i++) {\n      var url = js_urls[i];\n      var s = document.createElement('script');\n      s.src = url;\n      s.async = false;\n      s.onreadystatechange = s.onload = function() {\n        root._bokeh_is_loading--;\n        if (root._bokeh_is_loading === 0) {\n          console.log(\"Bokeh: all BokehJS libraries loaded\");\n          run_callbacks()\n        }\n      };\n      s.onerror = function() {\n        console.warn(\"failed to load library \" + url);\n      };\n      console.log(\"Bokeh: injecting script tag for BokehJS library: \", url);\n      document.getElementsByTagName(\"head\")[0].appendChild(s);\n    }\n  };var element = document.getElementById(\"1001\");\n  if (element == null) {\n    console.log(\"Bokeh: ERROR: autoload.js configured with elementid '1001' but no matching script tag was found. \")\n    return false;\n  }\n\n  var js_urls = [\"https://cdn.pydata.org/bokeh/release/bokeh-1.0.4.min.js\", \"https://cdn.pydata.org/bokeh/release/bokeh-widgets-1.0.4.min.js\", \"https://cdn.pydata.org/bokeh/release/bokeh-tables-1.0.4.min.js\", \"https://cdn.pydata.org/bokeh/release/bokeh-gl-1.0.4.min.js\"];\n\n  var inline_js = [\n    function(Bokeh) {\n      Bokeh.set_log_level(\"info\");\n    },\n    \n    function(Bokeh) {\n      \n    },\n    function(Bokeh) {\n      console.log(\"Bokeh: injecting CSS: https://cdn.pydata.org/bokeh/release/bokeh-1.0.4.min.css\");\n      Bokeh.embed.inject_css(\"https://cdn.pydata.org/bokeh/release/bokeh-1.0.4.min.css\");\n      console.log(\"Bokeh: injecting CSS: https://cdn.pydata.org/bokeh/release/bokeh-widgets-1.0.4.min.css\");\n      Bokeh.embed.inject_css(\"https://cdn.pydata.org/bokeh/release/bokeh-widgets-1.0.4.min.css\");\n      console.log(\"Bokeh: injecting CSS: https://cdn.pydata.org/bokeh/release/bokeh-tables-1.0.4.min.css\");\n      Bokeh.embed.inject_css(\"https://cdn.pydata.org/bokeh/release/bokeh-tables-1.0.4.min.css\");\n    }\n  ];\n\n  function run_inline_js() {\n    \n    if ((root.Bokeh !== undefined) || (force === true)) {\n      for (var i = 0; i < inline_js.length; i++) {\n        inline_js[i].call(root, root.Bokeh);\n      }if (force === true) {\n        display_loaded();\n      }} else if (Date.now() < root._bokeh_timeout) {\n      setTimeout(run_inline_js, 100);\n    } else if (!root._bokeh_failed_load) {\n      console.log(\"Bokeh: BokehJS failed to load within specified timeout.\");\n      root._bokeh_failed_load = true;\n    } else if (force !== true) {\n      var cell = $(document.getElementById(\"1001\")).parents('.cell').data().cell;\n      cell.output_area.append_execute_result(NB_LOAD_WARNING)\n    }\n\n  }\n\n  if (root._bokeh_is_loading === 0) {\n    console.log(\"Bokeh: BokehJS loaded, going straight to plotting\");\n    run_inline_js();\n  } else {\n    load_libs(js_urls, function() {\n      console.log(\"Bokeh: BokehJS plotting callback run at\", now());\n      run_inline_js();\n    });\n  }\n}(window));"
     },
     "metadata": {},
     "output_type": "display_data"
    }
   ],
   "source": [
    "output_notebook()"
   ]
  },
  {
   "cell_type": "markdown",
   "metadata": {},
   "source": [
    "Creo la variable df para que realice la lectura de la base de datos, la cual esta en formato .csv, para ello usamos read_csv.En las siguiente le defino con \"Sample\" para definir 50 datos aleatorios de la data.\n",
    "en la siguiente línea creamos una variable ejemplo_fragmento, que será igual  a ColumnDataSoruce del grupo. \"ColumnDataSource\" la cuál convierte los datos de un objeto dataframe a un objeto de columnas de bokeh."
   ]
  },
  {
   "cell_type": "code",
   "execution_count": 3,
   "metadata": {},
   "outputs": [],
   "source": [
    "df = pd.read_csv('data/nacimientos2014.csv')\n",
    "ejemplo_fragmento = df.sample(50)\n",
    "fuente_datos = ColumnDataSource(ejemplo_fragmento)"
   ]
  },
  {
   "cell_type": "markdown",
   "metadata": {},
   "source": [
    "Creo el objeto p, que será el objeto figura, en la siguiente línea de código llamo al objeto p, donde le doy la figura de un objeto figura donde le asigno valores para realizar la gráfica."
   ]
  },
  {
   "cell_type": "code",
   "execution_count": 4,
   "metadata": {},
   "outputs": [
    {
     "data": {
      "text/html": [
       "<div style=\"display: table;\"><div style=\"display: table-row;\"><div style=\"display: table-cell;\"><b title=\"bokeh.models.renderers.GlyphRenderer\">GlyphRenderer</b>(</div><div style=\"display: table-cell;\">id&nbsp;=&nbsp;'1040', <span id=\"1043\" style=\"cursor: pointer;\">&hellip;)</span></div></div><div class=\"1042\" style=\"display: none;\"><div style=\"display: table-cell;\"></div><div style=\"display: table-cell;\">data_source&nbsp;=&nbsp;ColumnDataSource(id='1002', ...),</div></div><div class=\"1042\" style=\"display: none;\"><div style=\"display: table-cell;\"></div><div style=\"display: table-cell;\">glyph&nbsp;=&nbsp;Circle(id='1038', ...),</div></div><div class=\"1042\" style=\"display: none;\"><div style=\"display: table-cell;\"></div><div style=\"display: table-cell;\">hover_glyph&nbsp;=&nbsp;None,</div></div><div class=\"1042\" style=\"display: none;\"><div style=\"display: table-cell;\"></div><div style=\"display: table-cell;\">js_event_callbacks&nbsp;=&nbsp;{},</div></div><div class=\"1042\" style=\"display: none;\"><div style=\"display: table-cell;\"></div><div style=\"display: table-cell;\">js_property_callbacks&nbsp;=&nbsp;{},</div></div><div class=\"1042\" style=\"display: none;\"><div style=\"display: table-cell;\"></div><div style=\"display: table-cell;\">level&nbsp;=&nbsp;'glyph',</div></div><div class=\"1042\" style=\"display: none;\"><div style=\"display: table-cell;\"></div><div style=\"display: table-cell;\">muted&nbsp;=&nbsp;False,</div></div><div class=\"1042\" style=\"display: none;\"><div style=\"display: table-cell;\"></div><div style=\"display: table-cell;\">muted_glyph&nbsp;=&nbsp;None,</div></div><div class=\"1042\" style=\"display: none;\"><div style=\"display: table-cell;\"></div><div style=\"display: table-cell;\">name&nbsp;=&nbsp;None,</div></div><div class=\"1042\" style=\"display: none;\"><div style=\"display: table-cell;\"></div><div style=\"display: table-cell;\">nonselection_glyph&nbsp;=&nbsp;Circle(id='1039', ...),</div></div><div class=\"1042\" style=\"display: none;\"><div style=\"display: table-cell;\"></div><div style=\"display: table-cell;\">selection_glyph&nbsp;=&nbsp;None,</div></div><div class=\"1042\" style=\"display: none;\"><div style=\"display: table-cell;\"></div><div style=\"display: table-cell;\">subscribed_events&nbsp;=&nbsp;[],</div></div><div class=\"1042\" style=\"display: none;\"><div style=\"display: table-cell;\"></div><div style=\"display: table-cell;\">tags&nbsp;=&nbsp;[],</div></div><div class=\"1042\" style=\"display: none;\"><div style=\"display: table-cell;\"></div><div style=\"display: table-cell;\">view&nbsp;=&nbsp;CDSView(id='1041', ...),</div></div><div class=\"1042\" style=\"display: none;\"><div style=\"display: table-cell;\"></div><div style=\"display: table-cell;\">visible&nbsp;=&nbsp;True,</div></div><div class=\"1042\" style=\"display: none;\"><div style=\"display: table-cell;\"></div><div style=\"display: table-cell;\">x_range_name&nbsp;=&nbsp;'default',</div></div><div class=\"1042\" style=\"display: none;\"><div style=\"display: table-cell;\"></div><div style=\"display: table-cell;\">y_range_name&nbsp;=&nbsp;'default')</div></div></div>\n",
       "<script>\n",
       "(function() {\n",
       "  var expanded = false;\n",
       "  var ellipsis = document.getElementById(\"1043\");\n",
       "  ellipsis.addEventListener(\"click\", function() {\n",
       "    var rows = document.getElementsByClassName(\"1042\");\n",
       "    for (var i = 0; i < rows.length; i++) {\n",
       "      var el = rows[i];\n",
       "      el.style.display = expanded ? \"none\" : \"table-row\";\n",
       "    }\n",
       "    ellipsis.innerHTML = expanded ? \"&hellip;)\" : \"&lsaquo;&lsaquo;&lsaquo;\";\n",
       "    expanded = !expanded;\n",
       "  });\n",
       "})();\n",
       "</script>\n"
      ],
      "text/plain": [
       "GlyphRenderer(id='1040', ...)"
      ]
     },
     "execution_count": 4,
     "metadata": {},
     "output_type": "execute_result"
    }
   ],
   "source": [
    "p = figure()\n",
    "p.circle(x='talla', y='peso', source=fuente_datos, size=10, color='blue')"
   ]
  },
  {
   "cell_type": "markdown",
   "metadata": {},
   "source": [
    "En las siguientes líneas de código le colocó el título a la gráfica y los nombres de las variables a dibujarse para mayor compresión del usuario."
   ]
  },
  {
   "cell_type": "code",
   "execution_count": 5,
   "metadata": {},
   "outputs": [],
   "source": [
    "p.title.text = 'Gráfico de dispersión: Talla con relación al peso (50 muestras)'\n",
    "p.xaxis.axis_label = 'Talla'\n",
    "p.yaxis.axis_label = 'Peso'"
   ]
  },
  {
   "cell_type": "markdown",
   "metadata": {},
   "source": [
    "\"HoverTool\" es un objeto de bokeh el cuál me permite mostrar al usuario los datos exactos al momento de pasar el ratón o mouse por los datos dibujados"
   ]
  },
  {
   "cell_type": "code",
   "execution_count": 6,
   "metadata": {},
   "outputs": [],
   "source": [
    "hover = HoverTool()\n",
    "hover.tooltips = [\n",
    "    ('Tipo parto','@tipo_part'),\n",
    "    ('Sexo', '@sexo'),\n",
    "    ('Talla', '@talla'),\n",
    "    ('Peso', '@peso')\n",
    "]\n",
    "p.add_tools(hover)"
   ]
  },
  {
   "cell_type": "markdown",
   "metadata": {},
   "source": [
    "Mostramos p, el cuál ya está creado, tiene todas las funciones como colores, los datos filtrados y la gráfica que debe realiza"
   ]
  },
  {
   "cell_type": "markdown",
   "metadata": {},
   "source": [
    "En las siguiente gráfica de dispersión lo que quiero demostrar es la relación de talla y peso de los recién nacidos."
   ]
  },
  {
   "cell_type": "code",
   "execution_count": 7,
   "metadata": {
    "scrolled": false
   },
   "outputs": [
    {
     "data": {
      "text/html": [
       "\n",
       "\n",
       "\n",
       "\n",
       "\n",
       "\n",
       "  <div class=\"bk-root\" id=\"afb95597-36e6-4179-ab8b-b5db7723a045\" data-root-id=\"1003\"></div>\n"
      ]
     },
     "metadata": {},
     "output_type": "display_data"
    },
    {
     "data": {
      "application/javascript": [
       "(function(root) {\n",
       "  function embed_document(root) {\n",
       "    \n",
       "  var docs_json = {\"0c9f1682-8359-4611-810d-db3fcd523f93\":{\"roots\":{\"references\":[{\"attributes\":{\"below\":[{\"id\":\"1012\",\"type\":\"LinearAxis\"}],\"left\":[{\"id\":\"1017\",\"type\":\"LinearAxis\"}],\"renderers\":[{\"id\":\"1012\",\"type\":\"LinearAxis\"},{\"id\":\"1016\",\"type\":\"Grid\"},{\"id\":\"1017\",\"type\":\"LinearAxis\"},{\"id\":\"1021\",\"type\":\"Grid\"},{\"id\":\"1030\",\"type\":\"BoxAnnotation\"},{\"id\":\"1040\",\"type\":\"GlyphRenderer\"}],\"title\":{\"id\":\"1044\",\"type\":\"Title\"},\"toolbar\":{\"id\":\"1028\",\"type\":\"Toolbar\"},\"x_range\":{\"id\":\"1004\",\"type\":\"DataRange1d\"},\"x_scale\":{\"id\":\"1008\",\"type\":\"LinearScale\"},\"y_range\":{\"id\":\"1006\",\"type\":\"DataRange1d\"},\"y_scale\":{\"id\":\"1010\",\"type\":\"LinearScale\"}},\"id\":\"1003\",\"subtype\":\"Figure\",\"type\":\"Plot\"},{\"attributes\":{\"overlay\":{\"id\":\"1030\",\"type\":\"BoxAnnotation\"}},\"id\":\"1024\",\"type\":\"BoxZoomTool\"},{\"attributes\":{},\"id\":\"1053\",\"type\":\"Selection\"},{\"attributes\":{},\"id\":\"1025\",\"type\":\"SaveTool\"},{\"attributes\":{\"dimension\":1,\"plot\":{\"id\":\"1003\",\"subtype\":\"Figure\",\"type\":\"Plot\"},\"ticker\":{\"id\":\"1018\",\"type\":\"BasicTicker\"}},\"id\":\"1021\",\"type\":\"Grid\"},{\"attributes\":{},\"id\":\"1026\",\"type\":\"ResetTool\"},{\"attributes\":{},\"id\":\"1018\",\"type\":\"BasicTicker\"},{\"attributes\":{},\"id\":\"1027\",\"type\":\"HelpTool\"},{\"attributes\":{\"axis_label\":\"Peso\",\"formatter\":{\"id\":\"1051\",\"type\":\"BasicTickFormatter\"},\"plot\":{\"id\":\"1003\",\"subtype\":\"Figure\",\"type\":\"Plot\"},\"ticker\":{\"id\":\"1018\",\"type\":\"BasicTicker\"}},\"id\":\"1017\",\"type\":\"LinearAxis\"},{\"attributes\":{\"active_drag\":\"auto\",\"active_inspect\":\"auto\",\"active_multi\":null,\"active_scroll\":\"auto\",\"active_tap\":\"auto\",\"tools\":[{\"id\":\"1022\",\"type\":\"PanTool\"},{\"id\":\"1023\",\"type\":\"WheelZoomTool\"},{\"id\":\"1024\",\"type\":\"BoxZoomTool\"},{\"id\":\"1025\",\"type\":\"SaveTool\"},{\"id\":\"1026\",\"type\":\"ResetTool\"},{\"id\":\"1027\",\"type\":\"HelpTool\"},{\"id\":\"1045\",\"type\":\"HoverTool\"}]},\"id\":\"1028\",\"type\":\"Toolbar\"},{\"attributes\":{\"plot\":{\"id\":\"1003\",\"subtype\":\"Figure\",\"type\":\"Plot\"},\"ticker\":{\"id\":\"1013\",\"type\":\"BasicTicker\"}},\"id\":\"1016\",\"type\":\"Grid\"},{\"attributes\":{\"fill_color\":{\"value\":\"blue\"},\"line_color\":{\"value\":\"blue\"},\"size\":{\"units\":\"screen\",\"value\":10},\"x\":{\"field\":\"talla\"},\"y\":{\"field\":\"peso\"}},\"id\":\"1038\",\"type\":\"Circle\"},{\"attributes\":{\"bottom_units\":\"screen\",\"fill_alpha\":{\"value\":0.5},\"fill_color\":{\"value\":\"lightgrey\"},\"left_units\":\"screen\",\"level\":\"overlay\",\"line_alpha\":{\"value\":1.0},\"line_color\":{\"value\":\"black\"},\"line_dash\":[4,4],\"line_width\":{\"value\":2},\"plot\":null,\"render_mode\":\"css\",\"right_units\":\"screen\",\"top_units\":\"screen\"},\"id\":\"1030\",\"type\":\"BoxAnnotation\"},{\"attributes\":{\"callback\":null},\"id\":\"1004\",\"type\":\"DataRange1d\"},{\"attributes\":{},\"id\":\"1013\",\"type\":\"BasicTicker\"},{\"attributes\":{\"axis_label\":\"Talla\",\"formatter\":{\"id\":\"1049\",\"type\":\"BasicTickFormatter\"},\"plot\":{\"id\":\"1003\",\"subtype\":\"Figure\",\"type\":\"Plot\"},\"ticker\":{\"id\":\"1013\",\"type\":\"BasicTicker\"}},\"id\":\"1012\",\"type\":\"LinearAxis\"},{\"attributes\":{},\"id\":\"1054\",\"type\":\"UnionRenderers\"},{\"attributes\":{\"fill_alpha\":{\"value\":0.1},\"fill_color\":{\"value\":\"#1f77b4\"},\"line_alpha\":{\"value\":0.1},\"line_color\":{\"value\":\"#1f77b4\"},\"size\":{\"units\":\"screen\",\"value\":10},\"x\":{\"field\":\"talla\"},\"y\":{\"field\":\"peso\"}},\"id\":\"1039\",\"type\":\"Circle\"},{\"attributes\":{},\"id\":\"1010\",\"type\":\"LinearScale\"},{\"attributes\":{\"data_source\":{\"id\":\"1002\",\"type\":\"ColumnDataSource\"},\"glyph\":{\"id\":\"1038\",\"type\":\"Circle\"},\"hover_glyph\":null,\"muted_glyph\":null,\"nonselection_glyph\":{\"id\":\"1039\",\"type\":\"Circle\"},\"selection_glyph\":null,\"view\":{\"id\":\"1041\",\"type\":\"CDSView\"}},\"id\":\"1040\",\"type\":\"GlyphRenderer\"},{\"attributes\":{},\"id\":\"1008\",\"type\":\"LinearScale\"},{\"attributes\":{\"source\":{\"id\":\"1002\",\"type\":\"ColumnDataSource\"}},\"id\":\"1041\",\"type\":\"CDSView\"},{\"attributes\":{\"callback\":null},\"id\":\"1006\",\"type\":\"DataRange1d\"},{\"attributes\":{\"plot\":null,\"text\":\"Gr\\u00e1fico de dispersi\\u00f3n: Talla con relaci\\u00f3n al peso (50 muestras)\"},\"id\":\"1044\",\"type\":\"Title\"},{\"attributes\":{},\"id\":\"1023\",\"type\":\"WheelZoomTool\"},{\"attributes\":{},\"id\":\"1049\",\"type\":\"BasicTickFormatter\"},{\"attributes\":{},\"id\":\"1051\",\"type\":\"BasicTickFormatter\"},{\"attributes\":{\"callback\":null,\"tooltips\":[[\"Tipo parto\",\"@tipo_part\"],[\"Sexo\",\"@sexo\"],[\"Talla\",\"@talla\"],[\"Peso\",\"@peso\"]]},\"id\":\"1045\",\"type\":\"HoverTool\"},{\"attributes\":{\"callback\":null,\"data\":{\"Unnamed: 0\":[257,1341,1813,541,231,626,420,245,430,2401,707,2217,1654,1948,873,390,1800,1331,2415,772,2340,1279,1497,2043,1458,1784,620,794,2172,1237,1281,1163,1860,111,1625,1555,1012,1123,412,1410,938,2188,2320,1831,1546,697,2277,1738,177,813],\"anio_insc\":[2014,2014,2014,2014,2014,2014,2014,2014,2014,2014,2014,2014,2014,2014,2014,2014,2014,2014,2014,2014,2014,2014,2014,2014,2014,2014,2014,2014,2014,2014,2014,2014,2014,2014,2014,2014,2014,2014,2014,2014,2014,2014,2014,2014,2014,2014,2014,2014,2014,2014],\"anio_mad\":{\"__ndarray__\":\"AAAAAAD0nkAAAAAAACSfQAAAAAAA9J5AAAAAAAAA+H8AAAAAAOyeQAAAAAAAHJ9AAAAAAAAMn0AAAAAAABifQAAAAAAAKJ9AAAAAAAAsn0AAAAAAAACfQAAAAAAAKJ9AAAAAAAAIn0AAAAAAABCfQAAAAAAA9J5AAAAAAAAEn0AAAAAAACCfQAAAAAAAHJ9AAAAAAAAon0AAAAAAAAD4fwAAAAAAKJ9AAAAAAADUnkAAAAAAAByfQAAAAAAAMJ9AAAAAAAAcn0AAAAAAAOSeQAAAAAAAHJ9AAAAAAAA4n0AAAAAAAOyeQAAAAAAAAPh/AAAAAAAA+H8AAAAAAByfQAAAAAAADJ9AAAAAAAAMn0AAAAAAANyeQAAAAAAAAPh/AAAAAAAEn0AAAAAAACyfQAAAAAAA3J5AAAAAAAAon0AAAAAAACyfQAAAAAAADJ9AAAAAAAAMn0AAAAAAADSfQAAAAAAAGJ9AAAAAAAAA+H8AAAAAAASfQAAAAAAAKJ9AAAAAAAAsn0AAAAAAAAifQA==\",\"dtype\":\"float64\",\"shape\":[50]},\"anio_nac\":[2014,2013,2014,2011,2014,2014,2014,2014,2014,2014,2013,2014,2014,2014,2014,2014,2014,2014,2014,2010,2014,2014,2014,2014,2014,2013,2014,2014,2014,2010,2011,2014,2014,2014,2014,2006,2014,2013,2014,2014,2014,2013,2013,2014,2014,2005,2014,2013,2014,2014],\"area_nac\":[\"Urbana\",\"Urbana\",\"Urbana\",\"NaN\",\"Urbana\",\"Urbana\",\"Urbana\",\"Rural\",\"Urbana\",\"Urbana\",\"Urbana\",\"Urbana\",\"Urbana\",\"Urbana\",\"Urbana\",\"Urbana\",\"Urbana\",\"Rural\",\"Urbana\",\"NaN\",\"Urbana\",\"Urbana\",\"Urbana\",\"Urbana\",\"Urbana\",\"Rural\",\"Urbana\",\"Urbana\",\"Urbana\",\"NaN\",\"NaN\",\"Urbana\",\"Urbana\",\"Urbana\",\"Urbana\",\"NaN\",\"Urbana\",\"Urbana\",\"Urbana\",\"Urbana\",\"Rural\",\"Urbana\",\"Urbana\",\"Urbana\",\"Urbana\",\"NaN\",\"Urbana\",\"Rural\",\"Urbana\",\"Urbana\"],\"area_res\":[\"Urbana\",\"Rural\",\"Urbana\",\"Urbana\",\"Urbana\",\"Urbana\",\"Urbana\",\"Rural\",\"Urbana\",\"Urbana\",\"Urbana\",\"Urbana\",\"Urbana\",\"Urbana\",\"Urbana\",\"Urbana\",\"Urbana\",\"Rural\",\"Urbana\",\"Rural\",\"Urbana\",\"Urbana\",\"Urbana\",\"Urbana\",\"Urbana\",\"Rural\",\"Urbana\",\"Urbana\",\"Urbana\",\"Urbana\",\"Rural\",\"Urbana\",\"Rural\",\"Urbana\",\"Urbana\",\"Urbana\",\"Rural\",\"Urbana\",\"Urbana\",\"Urbana\",\"Rural\",\"Urbana\",\"Urbana\",\"Urbana\",\"Urbana\",\"Urbana\",\"Urbana\",\"Rural\",\"Urbana\",\"Urbana\"],\"asis_por\":[\"M\\ufffddico/a\",\"M\\ufffddico/a\",\"M\\ufffddico/a\",\"NaN\",\"M\\ufffddico/a\",\"M\\ufffddico/a\",\"M\\ufffddico/a\",\"M\\ufffddico/a\",\"M\\ufffddico/a\",\"M\\ufffddico/a\",\"Obstetriz/Obstetra\",\"M\\ufffddico/a\",\"Obstetriz/Obstetra\",\"Obstetriz/Obstetra\",\"M\\ufffddico/a\",\"M\\ufffddico/a\",\"M\\ufffddico/a\",\"Obstetriz/Obstetra\",\"M\\ufffddico/a\",\"NaN\",\"M\\ufffddico/a\",\"M\\ufffddico/a\",\"M\\ufffddico/a\",\"M\\ufffddico/a\",\"Obstetriz/Obstetra\",\"Otro\",\"M\\ufffddico/a\",\"M\\ufffddico/a\",\"M\\ufffddico/a\",\"NaN\",\"NaN\",\"M\\ufffddico/a\",\"M\\ufffddico/a\",\"M\\ufffddico/a\",\"M\\ufffddico/a\",\"NaN\",\"M\\ufffddico/a\",\"M\\ufffddico/a\",\"M\\ufffddico/a\",\"M\\ufffddico/a\",\"Otro\",\"M\\ufffddico/a\",\"M\\ufffddico/a\",\"M\\ufffddico/a\",\"M\\ufffddico/a\",\"NaN\",\"M\\ufffddico/a\",\"Otro\",\"M\\ufffddico/a\",\"M\\ufffddico/a\"],\"cant_insc\":[\"Riobamba\",\"Cotacachi\",\"Ibarra\",\"Lago Agrio\",\"Guayaquil\",\"Quito\",\"Guayaquil\",\"Quito\",\"Chone\",\"Playas\",\"Tena\",\"Guayaquil\",\"Guayaquil\",\"Guayaquil\",\"Guayaquil\",\"Cuenca\",\"Ibarra\",\"Quito\",\"Salinas\",\"Eloy Alfaro\",\"Santo Domingo\",\"Guayaquil\",\"Chone\",\"Alfredo Baquerizo Moreno (Juj\\ufffdn)\",\"Guayaquil\",\"Ibarra\",\"Guayaquil\",\"Shushufindi\",\"Guayaquil\",\"Guayaquil\",\"Santo Domingo\",\"Sim\\ufffdn Bol\\ufffdvar\",\"Otavalo\",\"Riobamba\",\"Ibarra\",\"Daule\",\"Quito\",\"Esmeraldas\",\"Cuenca\",\"Guayaquil\",\"Gualaceo\",\"Guayaquil\",\"Guayaquil\",\"Guayaquil\",\"Santo Domingo\",\"Lago Agrio\",\"Quito\",\"Guaranda\",\"Riobamba\",\"El Carmen\"],\"cant_nac\":[\"Riobamba\",\"Ibarra\",\"Ibarra\",\"NaN\",\"Guayaquil\",\"Quito\",\"Guayaquil\",\"Quito\",\"Chone\",\"Playas\",\"Tena\",\"Guayaquil\",\"Guayaquil\",\"Pedro Carbo\",\"Guayaquil\",\"Cuenca\",\"Ibarra\",\"Quito\",\"Salinas\",\"NaN\",\"Santo Domingo\",\"Guayaquil\",\"Chone\",\"Milagro\",\"Guayaquil\",\"Ibarra\",\"Guayaquil\",\"Shushufindi\",\"Guayaquil\",\"NaN\",\"NaN\",\"Naranjito\",\"Otavalo\",\"Riobamba\",\"Ibarra\",\"NaN\",\"Quito\",\"Esmeraldas\",\"Cuenca\",\"Guayaquil\",\"Gualaceo\",\"Guayaquil\",\"Guayaquil\",\"Guayaquil\",\"Santo Domingo\",\"NaN\",\"Quito\",\"Guaranda\",\"Tulc\\ufffdn\",\"Santo Domingo\"],\"cant_res\":[\"Riobamba\",\"Cotacachi\",\"Ibarra\",\"Lago Agrio\",\"Guayaquil\",\"Mej\\ufffda\",\"Guayaquil\",\"Quito\",\"Chone\",\"Playas\",\"Tena\",\"Guayaquil\",\"Guayaquil\",\"Guayaquil\",\"Guayaquil\",\"Cuenca\",\"Quito\",\"Quito\",\"Salinas\",\"Eloy Alfaro\",\"Santo Domingo\",\"Guayaquil\",\"Chone\",\"Alfredo Baquerizo Moreno (Juj\\ufffdn)\",\"Guayaquil\",\"Ibarra\",\"Guayaquil\",\"Shushufindi\",\"Guayaquil\",\"Guayaquil\",\"Santo Domingo\",\"Naranjito\",\"Otavalo\",\"Riobamba\",\"Quito\",\"Daule\",\"Quito\",\"Esmeraldas\",\"Cuenca\",\"Guayaquil\",\"Gualaceo\",\"Guayaquil\",\"Guayaquil\",\"Guayaquil\",\"Santo Domingo\",\"Lago Agrio\",\"Quito\",\"Guaranda\",\"Tulc\\ufffdn\",\"El Carmen\"],\"cod_pais\":[\"Ecuador \",\"Ecuador \",\"Ecuador \",\"NaN\",\"Ecuador \",\"Ecuador \",\"Ecuador \",\"Ecuador \",\"Ecuador \",\"Ecuador \",\"Ecuador \",\"Ecuador \",\"Ecuador \",\"Ecuador \",\"Ecuador \",\"Ecuador \",\"Ecuador \",\"Ecuador \",\"Ecuador \",\"NaN\",\"Ecuador \",\"Ecuador \",\"Ecuador \",\"Ecuador \",\"Ecuador \",\"Ecuador \",\"Ecuador \",\"Colombia \",\"Ecuador \",\"NaN\",\"NaN\",\"Ecuador \",\"Ecuador \",\"Ecuador \",\"Ecuador \",\"NaN\",\"Ecuador \",\"Ecuador \",\"Ecuador \",\"Ecuador \",\"Ecuador \",\"Ecuador \",\"Ecuador \",\"Ecuador \",\"Ecuador \",\"NaN\",\"Ecuador \",\"Ecuador \",\"Ecuador \",\"Ecuador \"],\"con_pren\":{\"__ndarray__\":\"AAAAAAAAFEAAAAAAAADwPwAAAAAAABBAAAAAAAAA+H8AAAAAAAAoQAAAAAAAABBAAAAAAAAAEEAAAAAAAAAgQAAAAAAAACJAAAAAAAAAFEAAAAAAAAAYQAAAAAAAAChAAAAAAAAALkAAAAAAAAAUQAAAAAAAABxAAAAAAAAAGEAAAAAAAAAiQAAAAAAAACBAAAAAAAAACEAAAAAAAAD4fwAAAAAAACJAAAAAAAAAIkAAAAAAAAAgQAAAAAAAABhAAAAAAAAAHEAAAAAAAAAAQAAAAAAAABRAAAAAAAAAAEAAAAAAAAAgQAAAAAAAAPh/AAAAAAAA+H8AAAAAAAAUQAAAAAAAABxAAAAAAAAAIEAAAAAAAAAYQAAAAAAAAPh/AAAAAAAAKkAAAAAAAAAiQAAAAAAAAChAAAAAAAAAFEAAAAAAAAAiQAAAAAAAACBAAAAAAAAAIEAAAAAAAAAUQAAAAAAAAAhAAAAAAAAA+H8AAAAAAAAcQAAAAAAAAPA/AAAAAAAAGEAAAAAAAAAcQA==\",\"dtype\":\"float64\",\"shape\":[50]},\"dia_insc\":[16,26,22,27,9,10,10,22,10,7,2,24,29,30,20,1,18,26,12,4,8,20,26,24,15,17,3,5,21,9,3,11,10,19,9,3,10,17,1,26,13,22,29,27,1,22,2,2,8,18],\"dia_mad\":{\"__ndarray__\":\"AAAAAAAANUAAAAAAAAA/QAAAAAAAACRAAAAAAAAA+H8AAAAAAAA5QAAAAAAAADJAAAAAAAAAAEAAAAAAAAAAQAAAAAAAADFAAAAAAAAAKkAAAAAAAAAgQAAAAAAAACpAAAAAAAAAPEAAAAAAAAAiQAAAAAAAACZAAAAAAAAAN0AAAAAAAAA6QAAAAAAAADNAAAAAAAAAPEAAAAAAAAD4fwAAAAAAADtAAAAAAAAAN0AAAAAAAAA0QAAAAAAAADZAAAAAAAAAO0AAAAAAAAAqQAAAAAAAADRAAAAAAAAAPUAAAAAAAAAUQAAAAAAAAPh/AAAAAAAA+H8AAAAAAAA9QAAAAAAAADpAAAAAAAAAJEAAAAAAAAA3QAAAAAAAAPh/AAAAAAAACEAAAAAAAAA+QAAAAAAAAABAAAAAAAAANEAAAAAAAAA8QAAAAAAAADtAAAAAAAAAAEAAAAAAAAA4QAAAAAAAAD1AAAAAAAAA+H8AAAAAAAAqQAAAAAAAACxAAAAAAAAAHEAAAAAAAAA9QA==\",\"dtype\":\"float64\",\"shape\":[50]},\"dia_nac\":[10,2,9,18,1,8,9,17,8,26,27,13,8,19,14,30,9,23,22,15,19,12,25,2,13,24,30,28,13,6,17,5,27,4,5,6,6,19,5,17,6,12,30,11,17,6,4,25,23,21],\"edad_mad\":{\"__ndarray__\":\"AAAAAACAQEAAAAAAAAA1QAAAAAAAgEBAAAAAAAAA+H8AAAAAAIBBQAAAAAAAADdAAAAAAAAAO0AAAAAAAAA4QAAAAAAAADRAAAAAAAAAM0AAAAAAAAA+QAAAAAAAADRAAAAAAAAAPEAAAAAAAAA6QAAAAAAAgEBAAAAAAAAAPUAAAAAAAAA2QAAAAAAAADdAAAAAAAAANEAAAAAAAAD4fwAAAAAAADRAAAAAAACAREAAAAAAAAA3QAAAAAAAADJAAAAAAAAAN0AAAAAAAIBCQAAAAAAAADdAAAAAAAAAMEAAAAAAAIBBQAAAAAAAAPh/AAAAAAAA+H8AAAAAAAA3QAAAAAAAADtAAAAAAAAAO0AAAAAAAIBDQAAAAAAAAPh/AAAAAAAAPUAAAAAAAAAzQAAAAAAAgENAAAAAAAAANEAAAAAAAAAzQAAAAAAAADtAAAAAAAAAO0AAAAAAAAAxQAAAAAAAADhAAAAAAAAA+H8AAAAAAAA9QAAAAAAAADJAAAAAAAAAM0AAAAAAAAA8QA==\",\"dtype\":\"float64\",\"shape\":[50]},\"est_civil\":[\"Unida\",\"Soltera\",\"Soltera\",\"NaN\",\"Casada\",\"Soltera\",\"Unida\",\"Casada\",\"Unida\",\"Unida\",\"Casada\",\"Unida\",\"Soltera\",\"Unida\",\"Casada\",\"Soltera\",\"Unida\",\"Casada\",\"Unida\",\"NaN\",\"Unida\",\"Casada\",\"Casada\",\"Unida\",\"Casada\",\"Soltera\",\"Soltera\",\"Unida\",\"Casada\",\"NaN\",\"NaN\",\"Soltera\",\"Casada\",\"Casada\",\"Casada\",\"NaN\",\"Casada\",\"Soltera\",\"Divorciada\",\"Soltera\",\"Casada\",\"Unida\",\"Casada\",\"Soltera\",\"Unida\",\"NaN\",\"Soltera\",\"Soltera\",\"Soltera\",\"Unida\"],\"etnia\":[\"Mestiza\",\"Ind\\ufffdgena\",\"Mestiza\",\"NaN\",\"Blanca\",\"Mestiza\",\"Mestiza\",\"Mestiza\",\"Mestiza\",\"Mestiza\",\"Mestiza\",\"Mestiza\",\"Mestiza\",\"Mestiza\",\"Blanca\",\"Mestiza\",\"Ind\\ufffdgena\",\"Mestiza\",\"Mestiza\",\"NaN\",\"Ignorado\",\"Mestiza\",\"Mestiza\",\"Mestiza\",\"Mestiza\",\"Ind\\ufffdgena\",\"Mestiza\",\"Mestiza\",\"Mestiza\",\"NaN\",\"NaN\",\"Mestiza\",\"Ind\\ufffdgena\",\"Mestiza\",\"Mestiza\",\"NaN\",\"Mestiza\",\"Mestiza\",\"Mestiza\",\"Mestiza\",\"Mestiza\",\"Mestiza\",\"Mestiza\",\"Mestiza\",\"Mestiza\",\"NaN\",\"Mestiza\",\"Ind\\ufffdgena\",\"Mestiza\",\"Mestiza\"],\"fecha_insc\":[13630204800,13612752000,13630723200,13636425600,13624243200,13616467200,13624329600,13630723200,13624329600,13624070400,13608000000,13609900800,13620700800,13620787200,13619923200,13628908800,13630377600,13620441600,13624502400,13610851200,13624156800,13619923200,13623120000,13622947200,13619491200,13630291200,13615862400,13621305600,13609641600,13618972800,13615862400,13613875200,13629686400,13630464000,13629600000,13621132800,13621737600,13624934400,13628908800,13620441600,13621996800,13609728000,13610332800,13623206400,13623552000,13609728000,13628995200,13618368000,13629513600,13614480000],\"fecha_mad\":[\"1981/02/21\",\"1993/10/31\",\"1981/03/10\",\"          \",\"1979/11/25\",\"1991/05/18\",\"1987/09/02\",\"1990/08/02\",\"1994/03/17\",\"1995/12/13\",\"1984/07/08\",\"1994/10/13\",\"1986/03/28\",\"1988/05/09\",\"1981/03/11\",\"1985/06/23\",\"1992/11/26\",\"1991/11/19\",\"1994/02/28\",\"          \",\"1994/11/27\",\"1973/09/23\",\"1991/12/20\",\"1996/04/22\",\"1991/02/27\",\"1977/01/13\",\"1991/09/20\",\"1998/07/29\",\"1979/02/05\",\"          \",\"          \",\"1991/05/29\",\"1987/02/26\",\"1987/07/10\",\"1975/12/23\",\"          \",\"1985/10/03\",\"1995/05/30\",\"1975/01/02\",\"1994/10/20\",\"1995/02/28\",\"1987/10/27\",\"1987/09/02\",\"1997/11/24\",\"1990/07/29\",\"          \",\"1985/08/13\",\"1994/06/14\",\"1995/10/07\",\"1986/07/29\"],\"fecha_nac\":[13616467200,13605321600,13624243200,13538275200,13623552000,13616294400,13624243200,13627612800,13624156800,13623120000,13607481600,13608950400,13613616000,13614566400,13619404800,13615516800,13613702400,13614912000,13622774400,13493260800,13622515200,13619232000,13623033600,13621046400,13619318400,13588732800,13615516800,13620614400,13608950400,13489891200,13543459200,13608259200,13628476800,13626489600,13629254400,13358563200,13621392000,13588300800,13626576000,13619664000,13616121600,13603593600,13607740800,13621824000,13617072000,13327027200,13626489600,13588819200,13625452800,13612320000],\"hij_nacm\":{\"__ndarray__\":\"AAAAAAAAAAAAAAAAAAAAAAAAAAAAAAAAAAAAAAAA+H8AAAAAAAAAAAAAAAAAAAAAAAAAAAAAAAAAAAAAAAAAAAAAAAAAAAAAAAAAAAAAAAAAAAAAAAAAAAAAAAAAAAAAAAAAAAAAAAAAAAAAAMBYQAAAAAAAAAAAAAAAAAAAAAAAAAAAAMBYQAAAAAAAAAAAAAAAAAAAAAAAAAAAAAD4fwAAAAAAAAAAAAAAAAAAAAAAAAAAAAAAAAAAAAAAAAAAAAAAAAAAAAAAAAAAAAAAAAAAAAAAAAAAAAAAAAAAAAAAAAAAAAAAAAAAAAAAAPh/AAAAAAAA+H8AAAAAAAAAAAAAAAAAAAAAAAAAAAAAAAAAAAAAAAAAAAAAAAAAAPh/AAAAAAAAAAAAAAAAAAAAAAAAAAAAAAAAAAAAAAAAAAAAAAAAAAAAAAAAAAAAAAAAAAAAAAAAAAAAAAAAAAAAAAAAAAAAAAAAAAAAAAAA+H8AAAAAAAAAAAAAAAAAAAAAAAAAAAAAAAAAAAAAAMBYQA==\",\"dtype\":\"float64\",\"shape\":[50]},\"hij_viv\":{\"__ndarray__\":\"AAAAAAAACEAAAAAAAAAAQAAAAAAAABBAAAAAAAAA+H8AAAAAAADwPwAAAAAAAPA/AAAAAAAA8D8AAAAAAAAAQAAAAAAAAABAAAAAAAAAAEAAAAAAAADwPwAAAAAAAPA/AAAAAAAAEEAAAAAAAAAAQAAAAAAAAPA/AAAAAAAAAEAAAAAAAAAAQAAAAAAAAPA/AAAAAAAAAEAAAAAAAAD4fwAAAAAAAPA/AAAAAAAACEAAAAAAAADwPwAAAAAAAPA/AAAAAAAAAEAAAAAAAAAgQAAAAAAAAPA/AAAAAAAA8D8AAAAAAAAQQAAAAAAAAPh/AAAAAAAA+H8AAAAAAAAIQAAAAAAAAABAAAAAAAAAAEAAAAAAAAAIQAAAAAAAAPh/AAAAAAAA8D8AAAAAAAAAQAAAAAAAAAhAAAAAAAAA8D8AAAAAAAAAQAAAAAAAABBAAAAAAAAAAEAAAAAAAADwPwAAAAAAAAhAAAAAAAAA+H8AAAAAAADwPwAAAAAAAPA/AAAAAAAA8D8AAAAAAADwPw==\",\"dtype\":\"float64\",\"shape\":[50]},\"hij_vivm\":{\"__ndarray__\":\"AAAAAAAAAAAAAAAAAAAAAAAAAAAAAAAAAAAAAAAA+H8AAAAAAAAAAAAAAAAAAAAAAAAAAAAAAAAAAAAAAAAAAAAAAAAAAAAAAAAAAAAAAAAAAAAAAAAAAAAAAAAAAAAAAAAAAAAAAAAAAAAAAAAAAAAAAAAAAAAAAAAAAAAAAAAAAAAAAMBYQAAAAAAAAAAAAAAAAAAAAAAAAAAAAAD4fwAAAAAAAAAAAAAAAAAAAAAAAAAAAAAAAAAAAAAAAAAAAAAAAAAAAAAAAAAAAAAAAAAAAAAAAAAAAAAAAAAAAAAAAAAAAAAAAAAAAAAAAPh/AAAAAAAA+H8AAAAAAAAAAAAAAAAAAAAAAAAAAAAAAAAAAAAAAAAAAAAAAAAAAPh/AAAAAAAAAAAAAAAAAAAAAAAAAAAAAAAAAAAAAAAAAAAAAAAAAAAAAAAAAAAAAAAAAAAAAAAAAAAAAAAAAAAAAAAAAAAAAAAAAAAAAAAA+H8AAAAAAAAAAAAAAAAAAAAAAAAAAAAAAAAAAAAAAMBYQA==\",\"dtype\":\"float64\",\"shape\":[50]},\"index\":[256,1340,1812,540,230,625,419,244,429,2400,706,2216,1653,1947,872,389,1799,1330,2414,771,2339,1278,1496,2042,1457,1783,619,793,2171,1236,1280,1162,1859,110,1624,1554,1011,1122,411,1409,937,2187,2319,1830,1545,696,2276,1737,176,812],\"lugar_ocur\":[\"Establecimiento del Ministerio de Salud\",\"Establecimiento del Ministerio de Salud\",\"Establecimiento del Ministerio de Salud\",\"NaN\",\"Hospital, Cl\\ufffdnica o Consultorio Privado\",\"Hospital, Cl\\ufffdnica o Consultorio Privado\",\"Establecimiento de la Junta de Beneficencia\",\"Establecimiento del Ministerio de Salud\",\"Establecimiento del Ministerio de Salud\",\"Establecimiento del Ministerio de Salud\",\"Establecimiento del Ministerio de Salud\",\"Hospital, Cl\\ufffdnica o Consultorio Privado\",\"Establecimiento del Ministerio de Salud\",\"Establecimiento del Ministerio de Salud\",\"Hospital, Cl\\ufffdnica o Consultorio Privado\",\"Establecimiento del IESS\",\"Establecimiento del Ministerio de Salud\",\"Establecimiento del Ministerio de Salud\",\"Hospital, Cl\\ufffdnica o Consultorio Privado\",\"NaN\",\"Hospital, Cl\\ufffdnica o Consultorio Privado\",\"Hospital, Cl\\ufffdnica o Consultorio Privado\",\"Establecimiento del Ministerio de Salud\",\"Establecimiento del Ministerio de Salud\",\"Establecimiento de la Junta de Beneficencia\",\"Casa\",\"Establecimiento del Ministerio de Salud\",\"Establecimiento del Ministerio de Salud\",\"Establecimiento del IESS\",\"NaN\",\"NaN\",\"Hospital, Cl\\ufffdnica o Consultorio Privado\",\"Establecimiento del Ministerio de Salud\",\"Establecimiento del Ministerio de Salud\",\"Hospital, Cl\\ufffdnica o Consultorio Privado\",\"NaN\",\"Hospital, Cl\\ufffdnica o Consultorio Privado\",\"Establecimiento del Ministerio de Salud\",\"Hospital, Cl\\ufffdnica o Consultorio Privado\",\"Establecimiento de la Junta de Beneficencia\",\"Casa\",\"Establecimiento del Ministerio de Salud\",\"Establecimiento del Ministerio de Salud\",\"Establecimiento del Ministerio de Salud\",\"Establecimiento del Ministerio de Salud\",\"NaN\",\"Establecimiento del IESS\",\"Casa\",\"Establecimiento del Ministerio de Salud\",\"Hospital, Cl\\ufffdnica o Consultorio Privado\"],\"mes_insc\":[\"Septiembre\",\"Febrero\",\"Septiembre\",\"Noviembre\",\"Julio\",\"Abril\",\"Julio\",\"Septiembre\",\"Julio\",\"Julio\",\"Enero\",\"Enero\",\"Mayo\",\"Mayo\",\"Mayo\",\"Septiembre\",\"Septiembre\",\"Mayo\",\"Julio\",\"Febrero\",\"Julio\",\"Mayo\",\"Junio\",\"Junio\",\"Mayo\",\"Septiembre\",\"Abril\",\"Junio\",\"Enero\",\"Mayo\",\"Abril\",\"Marzo\",\"Septiembre\",\"Septiembre\",\"Septiembre\",\"Junio\",\"Junio\",\"Julio\",\"Septiembre\",\"Mayo\",\"Junio\",\"Enero\",\"Enero\",\"Junio\",\"Julio\",\"Enero\",\"Septiembre\",\"Mayo\",\"Septiembre\",\"Marzo\"],\"mes_mad\":{\"__ndarray__\":\"AAAAAAAAAEAAAAAAAAAkQAAAAAAAAAhAAAAAAAAA+H8AAAAAAAAmQAAAAAAAABRAAAAAAAAAIkAAAAAAAAAgQAAAAAAAAAhAAAAAAAAAKEAAAAAAAAAcQAAAAAAAACRAAAAAAAAACEAAAAAAAAAUQAAAAAAAAAhAAAAAAAAAGEAAAAAAAAAmQAAAAAAAACZAAAAAAAAAAEAAAAAAAAD4fwAAAAAAACZAAAAAAAAAIkAAAAAAAAAoQAAAAAAAABBAAAAAAAAAAEAAAAAAAADwPwAAAAAAACJAAAAAAAAAHEAAAAAAAAAAQAAAAAAAAPh/AAAAAAAA+H8AAAAAAAAUQAAAAAAAAABAAAAAAAAAHEAAAAAAAAAoQAAAAAAAAPh/AAAAAAAAJEAAAAAAAAAUQAAAAAAAAPA/AAAAAAAAJEAAAAAAAAAAQAAAAAAAACRAAAAAAAAAIkAAAAAAAAAmQAAAAAAAABxAAAAAAAAA+H8AAAAAAAAgQAAAAAAAABhAAAAAAAAAJEAAAAAAAAAcQA==\",\"dtype\":\"float64\",\"shape\":[50]},\"mes_nac\":[\"Abril\",\"Diciembre\",\"Julio\",\"Octubre\",\"Julio\",\"Abril\",\"Julio\",\"Agosto\",\"Julio\",\"Junio\",\"Diciembre\",\"Enero\",\"Marzo\",\"Marzo\",\"Mayo\",\"Marzo\",\"Marzo\",\"Marzo\",\"Junio\",\"Mayo\",\"Junio\",\"Mayo\",\"Junio\",\"Junio\",\"Mayo\",\"Mayo\",\"Marzo\",\"Mayo\",\"Enero\",\"Abril\",\"Diciembre\",\"Enero\",\"Agosto\",\"Agosto\",\"Septiembre\",\"Febrero\",\"Junio\",\"Mayo\",\"Agosto\",\"Mayo\",\"Abril\",\"Noviembre\",\"Diciembre\",\"Junio\",\"Abril\",\"Febrero\",\"Agosto\",\"Mayo\",\"Julio\",\"Febrero\"],\"nac_mad\":[\"Ecuatoriana\",\"Ecuatoriana\",\"Ecuatoriana\",\"NaN\",\"Ecuatoriana\",\"Ecuatoriana\",\"Ecuatoriana\",\"Ecuatoriana\",\"Ecuatoriana\",\"Ecuatoriana\",\"Ecuatoriana\",\"Ecuatoriana\",\"Ecuatoriana\",\"Ecuatoriana\",\"Ecuatoriana\",\"Ecuatoriana\",\"Ecuatoriana\",\"Ecuatoriana\",\"Ecuatoriana\",\"NaN\",\"Ecuatoriana\",\"Ecuatoriana\",\"Ecuatoriana\",\"Ecuatoriana\",\"Ecuatoriana\",\"Ecuatoriana\",\"Ecuatoriana\",\"Extranjera\",\"Ecuatoriana\",\"NaN\",\"NaN\",\"Ecuatoriana\",\"Ecuatoriana\",\"Ecuatoriana\",\"Ecuatoriana\",\"NaN\",\"Ecuatoriana\",\"Ecuatoriana\",\"Ecuatoriana\",\"Ecuatoriana\",\"Ecuatoriana\",\"Ecuatoriana\",\"Ecuatoriana\",\"Ecuatoriana\",\"Ecuatoriana\",\"NaN\",\"Ecuatoriana\",\"Ecuatoriana\",\"Ecuatoriana\",\"Ecuatoriana\"],\"niv_inst\":[\"Secundaria\",\"Ciclo Post-Bachillerato\",\"Se ignora\",\"NaN\",\"Postgrado\",\"Primaria\",\"Secundaria\",\"Primaria\",\"Secundaria\",\"Secundaria\",\"Superior\",\"Secundaria\",\"Educaci\\ufffdn Media / Bachillerato\",\"Primaria\",\"Superior\",\"Educaci\\ufffdn Media / Bachillerato\",\"Se ignora\",\"Primaria\",\"Primaria\",\"NaN\",\"Educaci\\ufffdn Media / Bachillerato\",\"Secundaria\",\"Superior\",\"Educaci\\ufffdn B\\ufffdsica\",\"Educaci\\ufffdn Media / Bachillerato\",\"Primaria\",\"Primaria\",\"Secundaria\",\"Secundaria\",\"NaN\",\"NaN\",\"Secundaria\",\"Secundaria\",\"Secundaria\",\"Superior\",\"NaN\",\"Superior\",\"Educaci\\ufffdn B\\ufffdsica\",\"Superior\",\"Secundaria\",\"Primaria\",\"Secundaria\",\"Secundaria\",\"Educaci\\ufffdn Media / Bachillerato\",\"Educaci\\ufffdn B\\ufffdsica\",\"NaN\",\"Secundaria\",\"Secundaria\",\"Primaria\",\"Superior\"],\"num_par\":{\"__ndarray__\":\"AAAAAAAACEAAAAAAAAAAQAAAAAAAAAhAAAAAAAAA+H8AAAAAAADwPwAAAAAAAPA/AAAAAAAA8D8AAAAAAAAAQAAAAAAAAABAAAAAAAAAAEAAAAAAAADwPwAAAAAAAPA/AAAAAAAAEEAAAAAAAAAAQAAAAAAAAPA/AAAAAAAAAEAAAAAAAAAAQAAAAAAAAPA/AAAAAAAAAEAAAAAAAAD4fwAAAAAAAPA/AAAAAAAACEAAAAAAAADwPwAAAAAAAPA/AAAAAAAAAEAAAAAAAAAgQAAAAAAAAPA/AAAAAAAA8D8AAAAAAAAQQAAAAAAAAPh/AAAAAAAA+H8AAAAAAAAIQAAAAAAAAABAAAAAAAAAAEAAAAAAAAAIQAAAAAAAAPh/AAAAAAAA8D8AAAAAAAAAQAAAAAAAAAhAAAAAAAAA8D8AAAAAAAAAQAAAAAAAABBAAAAAAAAAAEAAAAAAAADwPwAAAAAAAAhAAAAAAAAA+H8AAAAAAADwPwAAAAAAAPA/AAAAAAAA8D8AAAAAAADwPw==\",\"dtype\":\"float64\",\"shape\":[50]},\"ofi_insc\":[1,1,1,1,1,1,1,1,1,1,2,1,1,1,1,1,1,1,3,1,1,1,1,1,1,1,1,1,1,1,1,1,2,1,1,1,1,2,1,1,1,1,1,1,1,1,1,1,1,1],\"p_emb\":[\"Simple\",\"Simple\",\"Doble\",\"NaN\",\"Simple\",\"Simple\",\"Simple\",\"Simple\",\"Simple\",\"Simple\",\"Simple\",\"Simple\",\"Simple\",\"Simple\",\"Simple\",\"Simple\",\"Simple\",\"Simple\",\"Simple\",\"NaN\",\"Simple\",\"Simple\",\"Simple\",\"Simple\",\"Simple\",\"Simple\",\"Simple\",\"Simple\",\"Simple\",\"NaN\",\"NaN\",\"Simple\",\"Simple\",\"Simple\",\"Simple\",\"NaN\",\"Simple\",\"Simple\",\"Simple\",\"Simple\",\"Simple\",\"Simple\",\"Simple\",\"Simple\",\"Simple\",\"NaN\",\"Simple\",\"Simple\",\"Simple\",\"Simple\"],\"parr_insc\":[\"Lizarzaburu\",\"Cotacachi, Cabecera Cantonal\",\"San Miguel de Ibarra, Cabecera Cantonal y Capital Provincial\",\"Nueva Loja, Cabecera Cantonal y Capital Provincial\",\"Tarqui\",\"Turubamba\",\"Tarqui\",\"I\\ufffdaquito\",\"Chone, Cabecera Cantonal\",\"General Villamil (Playas), Cabecera Cantonal\",\"Tena, Cabecera Cantonal y Capital Provincial\",\"Rocafuerte\",\"Rocafuerte\",\"Rocafuerte\",\"Tarqui\",\"San Blas\",\"San Miguel de Ibarra, Cabecera Cantonal y Capital Provincial\",\"Calder\\ufffdn\",\"Salinas, Cabecera Cantonal\",\"Borbon\",\"Santo Domingo de los Colorados, Cabecera Cantonal y Capital Provincial\",\"Rocafuerte\",\"Chone, Cabecera Cantonal\",\"Alfredo Baquerizo Moreno (Juj\\ufffdn), Cabecera Cantonal\",\"Rocafuerte\",\"San Miguel de Ibarra, Cabecera Cantonal y Capital Provincial\",\"Rocafuerte\",\"Shushufindi, Cabecera Cantonal\",\"Rocafuerte\",\"Rocafuerte\",\"Puerto Lim\\ufffdn\",\"Sim\\ufffdn Bol\\ufffdvar, Cabecera Cantonal\",\"Otavalo, Cabecera Cantonal\",\"Lizarzaburu\",\"San Miguel de Ibarra, Cabecera Cantonal y Capital Provincial\",\"Daule, Cabecera Cantonal\",\"Pomasqui\",\"Esmeraldas, Cabecera Cantonal y Capital Provincial\",\"San Blas\",\"Rocafuerte\",\"Gualaceo, Cabecera Cantonal\",\"Rocafuerte\",\"Rocafuerte\",\"Rocafuerte\",\"Santo Domingo de los Colorados, Cabecera Cantonal y Capital Provincial\",\"Nueva Loja, Cabecera Cantonal y Capital Provincial\",\"I\\ufffdaquito\",\"Simi\\ufffdtug\",\"Lizarzaburu\",\"El Carmen, Cabecera Cantonal\"],\"parr_nac\":[\"Veloz\",\"San Miguel de Ibarra, Cabecera Cantonal y Capital Provincial\",\"San Miguel de Ibarra, Cabecera Cantonal y Capital Provincial\",\"NaN\",\"Guayaquil, Cabecera Cantonal y Capital Provincial\",\"Quito Distrito Metropolitano, Cabecera Cantonal, Capital Provincial\",\"Guayaquil, Cabecera Cantonal y Capital Provincial\",\"Nanegalito\",\"Chone, Cabecera Cantonal\",\"General Villamil (Playas), Cabecera Cantonal\",\"Tena, Cabecera Cantonal y Capital Provincial\",\"Guayaquil, Cabecera Cantonal y Capital Provincial\",\"Guayaquil, Cabecera Cantonal y Capital Provincial\",\"Pedro Carbo, Cabecera Cantonal\",\"Guayaquil, Cabecera Cantonal y Capital Provincial\",\"Cuenca, Cabecera Cantonal y Capital Provincial\",\"San Miguel de Ibarra, Cabecera Cantonal y Capital Provincial\",\"Calder\\ufffdn\",\"Salinas, Cabecera Cantonal\",\"NaN\",\"Santo Domingo de los Colorados, Cabecera Cantonal y Capital Provincial\",\"Guayaquil, Cabecera Cantonal y Capital Provincial\",\"Chone, Cabecera Cantonal\",\"Milagro, Cabecera Cantonal\",\"Guayaquil, Cabecera Cantonal y Capital Provincial\",\"Lita\",\"Guayaquil, Cabecera Cantonal y Capital Provincial\",\"Shushufindi, Cabecera Cantonal\",\"Guayaquil, Cabecera Cantonal y Capital Provincial\",\"NaN\",\"NaN\",\"Naranjito, Cabecera Cantonal\",\"Otavalo, Cabecera Cantonal\",\"Veloz\",\"San Miguel de Ibarra, Cabecera Cantonal y Capital Provincial\",\"NaN\",\"Quito Distrito Metropolitano, Cabecera Cantonal, Capital Provincial\",\"Esmeraldas, Cabecera Cantonal y Capital Provincial\",\"Cuenca, Cabecera Cantonal y Capital Provincial\",\"Guayaquil, Cabecera Cantonal y Capital Provincial\",\"Daniel C\\ufffdrdova Toral (El Oriente)\",\"Guayaquil, Cabecera Cantonal y Capital Provincial\",\"Guayaquil, Cabecera Cantonal y Capital Provincial\",\"Guayaquil, Cabecera Cantonal y Capital Provincial\",\"Santo Domingo de los Colorados, Cabecera Cantonal y Capital Provincial\",\"NaN\",\"Quito Distrito Metropolitano, Cabecera Cantonal, Capital Provincial\",\"Simi\\ufffdtug\",\"Tulc\\ufffdn, Cabecera Cantonal y Capital Provincial\",\"Santo Domingo de los Colorados, Cabecera Cantonal y Capital Provincial\"],\"parr_res\":[\"Riobamba, Cabecera Cantonal y Capital Provincial\",\"Quiroga\",\"Caranqui\",\"Nueva Loja, Cabecera Cantonal y Capital Provincial\",\"Tarqui\",\"Machachi, Cabecera Cantonal\",\"Guayaquil, Cabecera Cantonal y Capital Provincial\",\"Pacto\",\"Chone, Cabecera Cantonal\",\"General Villamil (Playas), Cabecera Cantonal\",\"Tena, Cabecera Cantonal y Capital Provincial\",\"Ximena\",\"Febres Cordero\",\"Guayaquil, Cabecera Cantonal y Capital Provincial\",\"Tarqui\",\"Cuenca, Cabecera Cantonal y Capital Provincial\",\"Quito Distrito Metropolitano, Cabecera Cantonal, Capital Provincial\",\"Calder\\ufffdn\",\"Santa Rosa\",\"Borbon\",\"Santo Domingo de los Colorados, Cabecera Cantonal y Capital Provincial\",\"Febres Cordero\",\"Chone, Cabecera Cantonal\",\"Alfredo Baquerizo Moreno (Juj\\ufffdn), Cabecera Cantonal\",\"Tarqui\",\"Lita\",\"Tarqui\",\"Shushufindi, Cabecera Cantonal\",\"Tarqui\",\"Guayaquil, Cabecera Cantonal y Capital Provincial\",\"Puerto Lim\\ufffdn\",\"Naranjito, Cabecera Cantonal\",\"Eugenio Espejo (Calpaqu\\ufffd)\",\"Lizarzaburu\",\"Solanda\",\"Daule, Cabecera Cantonal\",\"San Antonio\",\"Esmeraldas, Cabecera Cantonal y Capital Provincial\",\"Cuenca, Cabecera Cantonal y Capital Provincial\",\"Tarqui\",\"Daniel C\\ufffdrdova Toral (El Oriente)\",\"Febres Cordero\",\"Ximena\",\"Tarqui\",\"Santo Domingo de los Colorados, Cabecera Cantonal y Capital Provincial\",\"Nueva Loja, Cabecera Cantonal y Capital Provincial\",\"Quito Distrito Metropolitano, Cabecera Cantonal, Capital Provincial\",\"Simi\\ufffdtug\",\"Tulc\\ufffdn, Cabecera Cantonal y Capital Provincial\",\"El Carmen, Cabecera Cantonal\"],\"peso\":{\"__ndarray__\":\"AAAAAACwrUAAAAAAAFSqQAAAAAAAWKFAAAAAAAAA+H8AAAAAAACpQAAAAAAAQJpAAAAAAABQrkAAAAAAAGqoQAAAAAAAIKxAAAAAAABQpEAAAAAAAEKmQAAAAAAAGKVAAAAAAADIqUAAAAAAABilQAAAAAAAvKtAAAAAAAC4qkAAAAAAAHipQAAAAAAAIqpAAAAAAADqqUAAAAAAAAD4fwAAAAAAtK5AAAAAAABwp0AAAAAAAEytQAAAAAAAAKlAAAAAAACopkAAAAAAAMBYQAAAAAAAcKdAAAAAAAAuo0AAAAAAABymQAAAAAAAAPh/AAAAAAAA+H8AAAAAAMipQAAAAAAAWKtAAAAAAAAAqUAAAAAAABiqQAAAAAAAAPh/AAAAAACiqkAAAAAAAESmQAAAAAAAcKdAAAAAAABqqEAAAAAAAMBYQAAAAAAAyKlAAAAAAACQqkAAAAAAAIijQAAAAAAAOKhAAAAAAAAA+H8AAAAAAGSkQAAAAAAAwFhAAAAAAACsokAAAAAAAKSvQA==\",\"dtype\":\"float64\",\"shape\":[50]},\"prov_insc\":[\"Chimborazo\",\"Imbabura\",\"Imbabura\",\"Sucumb\\ufffdos\",\"Guayas\",\"Pichincha\",\"Guayas\",\"Pichincha\",\"Manab\\ufffd\",\"Guayas\",\"Napo\",\"Guayas\",\"Guayas\",\"Guayas\",\"Guayas\",\"Azuay\",\"Imbabura\",\"Pichincha\",\"Santa Elena\",\"Esmeraldas\",\"Santo Domingo de los Ts\\ufffdchilas\",\"Guayas\",\"Manab\\ufffd\",\"Guayas\",\"Guayas\",\"Imbabura\",\"Guayas\",\"Sucumb\\ufffdos\",\"Guayas\",\"Guayas\",\"Santo Domingo de los Ts\\ufffdchilas\",\"Guayas\",\"Imbabura\",\"Chimborazo\",\"Imbabura\",\"Guayas\",\"Pichincha\",\"Esmeraldas\",\"Azuay\",\"Guayas\",\"Azuay\",\"Guayas\",\"Guayas\",\"Guayas\",\"Santo Domingo de los Ts\\ufffdchilas\",\"Sucumb\\ufffdos\",\"Pichincha\",\"Bol\\ufffdvar\",\"Chimborazo\",\"Manab\\ufffd\"],\"prov_nac\":[\"Chimborazo\",\"Imbabura\",\"Imbabura\",\"NaN\",\"Guayas\",\"Pichincha\",\"Guayas\",\"Pichincha\",\"Manab\\ufffd\",\"Guayas\",\"Napo\",\"Guayas\",\"Guayas\",\"Guayas\",\"Guayas\",\"Azuay\",\"Imbabura\",\"Pichincha\",\"Santa Elena\",\"NaN\",\"Santo Domingo de los Ts\\ufffdchilas\",\"Guayas\",\"Manab\\ufffd\",\"Guayas\",\"Guayas\",\"Imbabura\",\"Guayas\",\"Sucumb\\ufffdos\",\"Guayas\",\"NaN\",\"NaN\",\"Guayas\",\"Imbabura\",\"Chimborazo\",\"Imbabura\",\"NaN\",\"Pichincha\",\"Esmeraldas\",\"Azuay\",\"Guayas\",\"Azuay\",\"Guayas\",\"Guayas\",\"Guayas\",\"Santo Domingo de los Ts\\ufffdchilas\",\"NaN\",\"Pichincha\",\"Bol\\ufffdvar\",\"Carchi\",\"Santo Domingo de los Ts\\ufffdchilas\"],\"prov_res\":[\"Chimborazo\",\"Imbabura\",\"Imbabura\",\"Sucumb\\ufffdos\",\"Guayas\",\"Pichincha\",\"Guayas\",\"Pichincha\",\"Manab\\ufffd\",\"Guayas\",\"Napo\",\"Guayas\",\"Guayas\",\"Guayas\",\"Guayas\",\"Azuay\",\"Pichincha\",\"Pichincha\",\"Santa Elena\",\"Esmeraldas\",\"Santo Domingo de los Ts\\ufffdchilas\",\"Guayas\",\"Manab\\ufffd\",\"Guayas\",\"Guayas\",\"Imbabura\",\"Guayas\",\"Sucumb\\ufffdos\",\"Guayas\",\"Guayas\",\"Santo Domingo de los Ts\\ufffdchilas\",\"Guayas\",\"Imbabura\",\"Chimborazo\",\"Pichincha\",\"Guayas\",\"Pichincha\",\"Esmeraldas\",\"Azuay\",\"Guayas\",\"Azuay\",\"Guayas\",\"Guayas\",\"Guayas\",\"Santo Domingo de los Ts\\ufffdchilas\",\"Sucumb\\ufffdos\",\"Pichincha\",\"Bol\\ufffdvar\",\"Carchi\",\"Manab\\ufffd\"],\"sabe_leer\":[\"Si\",\"Si\",\"Si\",\"NaN\",\"Si\",\"Si\",\"Si\",\"Si\",\"Si\",\"Si\",\"Si\",\"Si\",\"Si\",\"Si\",\"Si\",\"Si\",\"Si\",\"Si\",\"Si\",\"NaN\",\"Si\",\"Si\",\"Si\",\"Si\",\"Si\",\"Si\",\"Si\",\"Si\",\"Si\",\"NaN\",\"NaN\",\"Si\",\"Si\",\"Si\",\"Si\",\"NaN\",\"Si\",\"Si\",\"Si\",\"Si\",\"Si\",\"Si\",\"Si\",\"Si\",\"Si\",\"NaN\",\"Si\",\"Si\",\"Si\",\"Si\"],\"sem_gest\":{\"__ndarray__\":\"AAAAAACAQ0AAAAAAAMBYQAAAAAAAwFhAAAAAAAAA+H8AAAAAAABDQAAAAAAAgEBAAAAAAACAQ0AAAAAAAABDQAAAAAAAAENAAAAAAAAAREAAAAAAAABDQAAAAAAAgENAAAAAAAAAREAAAAAAAIBDQAAAAAAAAENAAAAAAACAQ0AAAAAAAMBYQAAAAAAAAERAAAAAAADAWEAAAAAAAAD4fwAAAAAAgENAAAAAAACAQkAAAAAAAABEQAAAAAAAAENAAAAAAAAAREAAAAAAAMBYQAAAAAAAgENAAAAAAADAWEAAAAAAAABDQAAAAAAAAPh/AAAAAAAA+H8AAAAAAABDQAAAAAAAAD9AAAAAAAAAQ0AAAAAAAMBYQAAAAAAAAPh/AAAAAAAAREAAAAAAAABDQAAAAAAAgENAAAAAAAAAQ0AAAAAAAMBYQAAAAAAAAERAAAAAAAAAQ0AAAAAAAIBCQAAAAAAAwFhAAAAAAAAA+H8AAAAAAABEQAAAAAAAwFhAAAAAAACAQkAAAAAAAIBDQA==\",\"dtype\":\"float64\",\"shape\":[50]},\"sexo\":[\"Hombre\",\"Mujer\",\"Mujer\",\"Hombre\",\"Mujer\",\"Mujer\",\"Hombre\",\"Hombre\",\"Hombre\",\"Mujer\",\"Hombre\",\"Hombre\",\"Mujer\",\"Mujer\",\"Hombre\",\"Hombre\",\"Mujer\",\"Hombre\",\"Hombre\",\"Hombre\",\"Hombre\",\"Mujer\",\"Hombre\",\"Hombre\",\"Mujer\",\"Hombre\",\"Mujer\",\"Mujer\",\"Mujer\",\"Mujer\",\"Mujer\",\"Hombre\",\"Mujer\",\"Hombre\",\"Mujer\",\"Hombre\",\"Hombre\",\"Mujer\",\"Mujer\",\"Hombre\",\"Hombre\",\"Hombre\",\"Mujer\",\"Mujer\",\"Mujer\",\"Mujer\",\"Hombre\",\"Hombre\",\"Mujer\",\"Mujer\"],\"talla\":{\"__ndarray__\":\"AAAAAAAASEAAAAAAAIBIQAAAAAAAgEZAAAAAAAAA+H8AAAAAAABIQAAAAAAAAEZAAAAAAACASUAAAAAAAIBIQAAAAAAAgElAAAAAAACARkAAAAAAAABJQAAAAAAAAEhAAAAAAAAASUAAAAAAAABJQAAAAAAAgEhAAAAAAACASEAAAAAAAABJQAAAAAAAgElAAAAAAACAR0AAAAAAAAD4fwAAAAAAgElAAAAAAAAASEAAAAAAAIBJQAAAAAAAAElAAAAAAACASEAAAAAAAMBYQAAAAAAAgEdAAAAAAAAASEAAAAAAAABHQAAAAAAAAPh/AAAAAAAA+H8AAAAAAABJQAAAAAAAgEhAAAAAAACASEAAAAAAAIBIQAAAAAAAAPh/AAAAAAAASUAAAAAAAABKQAAAAAAAgEhAAAAAAACASEAAAAAAAMBYQAAAAAAAgElAAAAAAACASEAAAAAAAABHQAAAAAAAAEhAAAAAAAAA+H8AAAAAAABHQAAAAAAAwFhAAAAAAAAAR0AAAAAAAABKQA==\",\"dtype\":\"float64\",\"shape\":[50]},\"tip_insc\":[\"Inscripci\\ufffdn Normal\",\"Inscripci\\ufffdn Tard\\ufffda\",\"Inscripci\\ufffdn Normal\",\"Inscripci\\ufffdn Tard\\ufffda\",\"Inscripci\\ufffdn Normal\",\"Inscripci\\ufffdn Normal\",\"Inscripci\\ufffdn Normal\",\"Inscripci\\ufffdn Normal\",\"Inscripci\\ufffdn Normal\",\"Inscripci\\ufffdn Normal\",\"Inscripci\\ufffdn Tard\\ufffda\",\"Inscripci\\ufffdn Normal\",\"Inscripci\\ufffdn Normal\",\"Inscripci\\ufffdn Normal\",\"Inscripci\\ufffdn Normal\",\"Inscripci\\ufffdn Normal\",\"Inscripci\\ufffdn Normal\",\"Inscripci\\ufffdn Normal\",\"Inscripci\\ufffdn Normal\",\"Inscripci\\ufffdn Tard\\ufffda\",\"Inscripci\\ufffdn Normal\",\"Inscripci\\ufffdn Normal\",\"Inscripci\\ufffdn Normal\",\"Inscripci\\ufffdn Normal\",\"Inscripci\\ufffdn Normal\",\"Inscripci\\ufffdn Tard\\ufffda\",\"Inscripci\\ufffdn Normal\",\"Inscripci\\ufffdn Normal\",\"Inscripci\\ufffdn Normal\",\"Inscripci\\ufffdn Tard\\ufffda\",\"Inscripci\\ufffdn Tard\\ufffda\",\"Inscripci\\ufffdn Normal\",\"Inscripci\\ufffdn Normal\",\"Inscripci\\ufffdn Normal\",\"Inscripci\\ufffdn Normal\",\"Inscripci\\ufffdn Tard\\ufffda\",\"Inscripci\\ufffdn Normal\",\"Inscripci\\ufffdn Tard\\ufffda\",\"Inscripci\\ufffdn Normal\",\"Inscripci\\ufffdn Normal\",\"Inscripci\\ufffdn Normal\",\"Inscripci\\ufffdn Tard\\ufffda\",\"Inscripci\\ufffdn Tard\\ufffda\",\"Inscripci\\ufffdn Normal\",\"Inscripci\\ufffdn Normal\",\"Inscripci\\ufffdn Tard\\ufffda\",\"Inscripci\\ufffdn Normal\",\"Inscripci\\ufffdn Tard\\ufffda\",\"Inscripci\\ufffdn Normal\",\"Inscripci\\ufffdn Normal\"],\"tipo_part\":[\"Ces\\ufffdrea\",\"Ces\\ufffdrea\",\"Ces\\ufffdrea\",\"NaN\",\"Ces\\ufffdrea\",\"Ces\\ufffdrea\",\"Normal\",\"Normal\",\"Ces\\ufffdrea\",\"Normal\",\"Ces\\ufffdrea\",\"Ces\\ufffdrea\",\"Normal\",\"Normal\",\"Ces\\ufffdrea\",\"Normal\",\"Ces\\ufffdrea\",\"Normal\",\"Ces\\ufffdrea\",\"NaN\",\"Ces\\ufffdrea\",\"Ces\\ufffdrea\",\"Ces\\ufffdrea\",\"Normal\",\"Normal\",\"Normal\",\"Ces\\ufffdrea\",\"Normal\",\"Ces\\ufffdrea\",\"NaN\",\"NaN\",\"Ces\\ufffdrea\",\"Normal\",\"Normal\",\"Ces\\ufffdrea\",\"NaN\",\"Ces\\ufffdrea\",\"Ces\\ufffdrea\",\"Ces\\ufffdrea\",\"Normal\",\"Normal\",\"Ces\\ufffdrea\",\"Ces\\ufffdrea\",\"Ces\\ufffdrea\",\"Normal\",\"NaN\",\"Normal\",\"Normal\",\"Normal\",\"Ces\\ufffdrea\"]},\"selected\":{\"id\":\"1053\",\"type\":\"Selection\"},\"selection_policy\":{\"id\":\"1054\",\"type\":\"UnionRenderers\"}},\"id\":\"1002\",\"type\":\"ColumnDataSource\"},{\"attributes\":{},\"id\":\"1022\",\"type\":\"PanTool\"}],\"root_ids\":[\"1003\"]},\"title\":\"Bokeh Application\",\"version\":\"1.0.4\"}};\n",
       "  var render_items = [{\"docid\":\"0c9f1682-8359-4611-810d-db3fcd523f93\",\"roots\":{\"1003\":\"afb95597-36e6-4179-ab8b-b5db7723a045\"}}];\n",
       "  root.Bokeh.embed.embed_items_notebook(docs_json, render_items);\n",
       "\n",
       "  }\n",
       "  if (root.Bokeh !== undefined) {\n",
       "    embed_document(root);\n",
       "  } else {\n",
       "    var attempts = 0;\n",
       "    var timer = setInterval(function(root) {\n",
       "      if (root.Bokeh !== undefined) {\n",
       "        embed_document(root);\n",
       "        clearInterval(timer);\n",
       "      }\n",
       "      attempts++;\n",
       "      if (attempts > 100) {\n",
       "        console.log(\"Bokeh: ERROR: Unable to run BokehJS code because BokehJS library is missing\");\n",
       "        clearInterval(timer);\n",
       "      }\n",
       "    }, 10, root)\n",
       "  }\n",
       "})(window);"
      ],
      "application/vnd.bokehjs_exec.v0+json": ""
     },
     "metadata": {
      "application/vnd.bokehjs_exec.v0+json": {
       "id": "1003"
      }
     },
     "output_type": "display_data"
    }
   ],
   "source": [
    "show(p)"
   ]
  }
 ],
 "metadata": {
  "kernelspec": {
   "display_name": "Python 3",
   "language": "python",
   "name": "python3"
  },
  "language_info": {
   "codemirror_mode": {
    "name": "ipython",
    "version": 3
   },
   "file_extension": ".py",
   "mimetype": "text/x-python",
   "name": "python",
   "nbconvert_exporter": "python",
   "pygments_lexer": "ipython3",
   "version": "3.7.0b3"
  }
 },
 "nbformat": 4,
 "nbformat_minor": 2
}
