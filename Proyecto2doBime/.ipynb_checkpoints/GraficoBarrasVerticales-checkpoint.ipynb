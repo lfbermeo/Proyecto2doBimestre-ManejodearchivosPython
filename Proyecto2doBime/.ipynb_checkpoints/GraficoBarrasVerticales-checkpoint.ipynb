{
 "cells": [
  {
   "cell_type": "markdown",
   "metadata": {},
   "source": [
    "## Gráfica de barras verticales"
   ]
  },
  {
   "cell_type": "markdown",
   "metadata": {},
   "source": [
    "En la primera línea realizamos la importación de la librería de pandas para leer los datos en el formato csv y la denominamos dp, las siguientes importaciones son de la librería de bokeh que es para realizar los gráficos estadísticos."
   ]
  },
  {
   "cell_type": "code",
   "execution_count": 1,
   "metadata": {},
   "outputs": [],
   "source": [
    "import pandas as pd\n",
    "from bokeh.plotting import figure, show, output_notebook\n",
    "from bokeh.models import ColumnDataSource\n",
    "from bokeh.models.tools import HoverTool\n",
    "from bokeh.transform import factor_cmap\n",
    "from bokeh.palettes import viridis"
   ]
  },
  {
   "cell_type": "markdown",
   "metadata": {},
   "source": [
    "\"output_notebook\" es una función de bokeh para hacer la presentación grafica."
   ]
  },
  {
   "cell_type": "code",
   "execution_count": 2,
   "metadata": {},
   "outputs": [
    {
     "data": {
      "text/html": [
       "\n",
       "    <div class=\"bk-root\">\n",
       "        <a href=\"https://bokeh.pydata.org\" target=\"_blank\" class=\"bk-logo bk-logo-small bk-logo-notebook\"></a>\n",
       "        <span id=\"1001\">Loading BokehJS ...</span>\n",
       "    </div>"
      ]
     },
     "metadata": {},
     "output_type": "display_data"
    },
    {
     "data": {
      "application/javascript": [
       "\n",
       "(function(root) {\n",
       "  function now() {\n",
       "    return new Date();\n",
       "  }\n",
       "\n",
       "  var force = true;\n",
       "\n",
       "  if (typeof (root._bokeh_onload_callbacks) === \"undefined\" || force === true) {\n",
       "    root._bokeh_onload_callbacks = [];\n",
       "    root._bokeh_is_loading = undefined;\n",
       "  }\n",
       "\n",
       "  var JS_MIME_TYPE = 'application/javascript';\n",
       "  var HTML_MIME_TYPE = 'text/html';\n",
       "  var EXEC_MIME_TYPE = 'application/vnd.bokehjs_exec.v0+json';\n",
       "  var CLASS_NAME = 'output_bokeh rendered_html';\n",
       "\n",
       "  /**\n",
       "   * Render data to the DOM node\n",
       "   */\n",
       "  function render(props, node) {\n",
       "    var script = document.createElement(\"script\");\n",
       "    node.appendChild(script);\n",
       "  }\n",
       "\n",
       "  /**\n",
       "   * Handle when an output is cleared or removed\n",
       "   */\n",
       "  function handleClearOutput(event, handle) {\n",
       "    var cell = handle.cell;\n",
       "\n",
       "    var id = cell.output_area._bokeh_element_id;\n",
       "    var server_id = cell.output_area._bokeh_server_id;\n",
       "    // Clean up Bokeh references\n",
       "    if (id != null && id in Bokeh.index) {\n",
       "      Bokeh.index[id].model.document.clear();\n",
       "      delete Bokeh.index[id];\n",
       "    }\n",
       "\n",
       "    if (server_id !== undefined) {\n",
       "      // Clean up Bokeh references\n",
       "      var cmd = \"from bokeh.io.state import curstate; print(curstate().uuid_to_server['\" + server_id + \"'].get_sessions()[0].document.roots[0]._id)\";\n",
       "      cell.notebook.kernel.execute(cmd, {\n",
       "        iopub: {\n",
       "          output: function(msg) {\n",
       "            var id = msg.content.text.trim();\n",
       "            if (id in Bokeh.index) {\n",
       "              Bokeh.index[id].model.document.clear();\n",
       "              delete Bokeh.index[id];\n",
       "            }\n",
       "          }\n",
       "        }\n",
       "      });\n",
       "      // Destroy server and session\n",
       "      var cmd = \"import bokeh.io.notebook as ion; ion.destroy_server('\" + server_id + \"')\";\n",
       "      cell.notebook.kernel.execute(cmd);\n",
       "    }\n",
       "  }\n",
       "\n",
       "  /**\n",
       "   * Handle when a new output is added\n",
       "   */\n",
       "  function handleAddOutput(event, handle) {\n",
       "    var output_area = handle.output_area;\n",
       "    var output = handle.output;\n",
       "\n",
       "    // limit handleAddOutput to display_data with EXEC_MIME_TYPE content only\n",
       "    if ((output.output_type != \"display_data\") || (!output.data.hasOwnProperty(EXEC_MIME_TYPE))) {\n",
       "      return\n",
       "    }\n",
       "\n",
       "    var toinsert = output_area.element.find(\".\" + CLASS_NAME.split(' ')[0]);\n",
       "\n",
       "    if (output.metadata[EXEC_MIME_TYPE][\"id\"] !== undefined) {\n",
       "      toinsert[toinsert.length - 1].firstChild.textContent = output.data[JS_MIME_TYPE];\n",
       "      // store reference to embed id on output_area\n",
       "      output_area._bokeh_element_id = output.metadata[EXEC_MIME_TYPE][\"id\"];\n",
       "    }\n",
       "    if (output.metadata[EXEC_MIME_TYPE][\"server_id\"] !== undefined) {\n",
       "      var bk_div = document.createElement(\"div\");\n",
       "      bk_div.innerHTML = output.data[HTML_MIME_TYPE];\n",
       "      var script_attrs = bk_div.children[0].attributes;\n",
       "      for (var i = 0; i < script_attrs.length; i++) {\n",
       "        toinsert[toinsert.length - 1].firstChild.setAttribute(script_attrs[i].name, script_attrs[i].value);\n",
       "      }\n",
       "      // store reference to server id on output_area\n",
       "      output_area._bokeh_server_id = output.metadata[EXEC_MIME_TYPE][\"server_id\"];\n",
       "    }\n",
       "  }\n",
       "\n",
       "  function register_renderer(events, OutputArea) {\n",
       "\n",
       "    function append_mime(data, metadata, element) {\n",
       "      // create a DOM node to render to\n",
       "      var toinsert = this.create_output_subarea(\n",
       "        metadata,\n",
       "        CLASS_NAME,\n",
       "        EXEC_MIME_TYPE\n",
       "      );\n",
       "      this.keyboard_manager.register_events(toinsert);\n",
       "      // Render to node\n",
       "      var props = {data: data, metadata: metadata[EXEC_MIME_TYPE]};\n",
       "      render(props, toinsert[toinsert.length - 1]);\n",
       "      element.append(toinsert);\n",
       "      return toinsert\n",
       "    }\n",
       "\n",
       "    /* Handle when an output is cleared or removed */\n",
       "    events.on('clear_output.CodeCell', handleClearOutput);\n",
       "    events.on('delete.Cell', handleClearOutput);\n",
       "\n",
       "    /* Handle when a new output is added */\n",
       "    events.on('output_added.OutputArea', handleAddOutput);\n",
       "\n",
       "    /**\n",
       "     * Register the mime type and append_mime function with output_area\n",
       "     */\n",
       "    OutputArea.prototype.register_mime_type(EXEC_MIME_TYPE, append_mime, {\n",
       "      /* Is output safe? */\n",
       "      safe: true,\n",
       "      /* Index of renderer in `output_area.display_order` */\n",
       "      index: 0\n",
       "    });\n",
       "  }\n",
       "\n",
       "  // register the mime type if in Jupyter Notebook environment and previously unregistered\n",
       "  if (root.Jupyter !== undefined) {\n",
       "    var events = require('base/js/events');\n",
       "    var OutputArea = require('notebook/js/outputarea').OutputArea;\n",
       "\n",
       "    if (OutputArea.prototype.mime_types().indexOf(EXEC_MIME_TYPE) == -1) {\n",
       "      register_renderer(events, OutputArea);\n",
       "    }\n",
       "  }\n",
       "\n",
       "  \n",
       "  if (typeof (root._bokeh_timeout) === \"undefined\" || force === true) {\n",
       "    root._bokeh_timeout = Date.now() + 5000;\n",
       "    root._bokeh_failed_load = false;\n",
       "  }\n",
       "\n",
       "  var NB_LOAD_WARNING = {'data': {'text/html':\n",
       "     \"<div style='background-color: #fdd'>\\n\"+\n",
       "     \"<p>\\n\"+\n",
       "     \"BokehJS does not appear to have successfully loaded. If loading BokehJS from CDN, this \\n\"+\n",
       "     \"may be due to a slow or bad network connection. Possible fixes:\\n\"+\n",
       "     \"</p>\\n\"+\n",
       "     \"<ul>\\n\"+\n",
       "     \"<li>re-rerun `output_notebook()` to attempt to load from CDN again, or</li>\\n\"+\n",
       "     \"<li>use INLINE resources instead, as so:</li>\\n\"+\n",
       "     \"</ul>\\n\"+\n",
       "     \"<code>\\n\"+\n",
       "     \"from bokeh.resources import INLINE\\n\"+\n",
       "     \"output_notebook(resources=INLINE)\\n\"+\n",
       "     \"</code>\\n\"+\n",
       "     \"</div>\"}};\n",
       "\n",
       "  function display_loaded() {\n",
       "    var el = document.getElementById(\"1001\");\n",
       "    if (el != null) {\n",
       "      el.textContent = \"BokehJS is loading...\";\n",
       "    }\n",
       "    if (root.Bokeh !== undefined) {\n",
       "      if (el != null) {\n",
       "        el.textContent = \"BokehJS \" + root.Bokeh.version + \" successfully loaded.\";\n",
       "      }\n",
       "    } else if (Date.now() < root._bokeh_timeout) {\n",
       "      setTimeout(display_loaded, 100)\n",
       "    }\n",
       "  }\n",
       "\n",
       "\n",
       "  function run_callbacks() {\n",
       "    try {\n",
       "      root._bokeh_onload_callbacks.forEach(function(callback) { callback() });\n",
       "    }\n",
       "    finally {\n",
       "      delete root._bokeh_onload_callbacks\n",
       "    }\n",
       "    console.info(\"Bokeh: all callbacks have finished\");\n",
       "  }\n",
       "\n",
       "  function load_libs(js_urls, callback) {\n",
       "    root._bokeh_onload_callbacks.push(callback);\n",
       "    if (root._bokeh_is_loading > 0) {\n",
       "      console.log(\"Bokeh: BokehJS is being loaded, scheduling callback at\", now());\n",
       "      return null;\n",
       "    }\n",
       "    if (js_urls == null || js_urls.length === 0) {\n",
       "      run_callbacks();\n",
       "      return null;\n",
       "    }\n",
       "    console.log(\"Bokeh: BokehJS not loaded, scheduling load and callback at\", now());\n",
       "    root._bokeh_is_loading = js_urls.length;\n",
       "    for (var i = 0; i < js_urls.length; i++) {\n",
       "      var url = js_urls[i];\n",
       "      var s = document.createElement('script');\n",
       "      s.src = url;\n",
       "      s.async = false;\n",
       "      s.onreadystatechange = s.onload = function() {\n",
       "        root._bokeh_is_loading--;\n",
       "        if (root._bokeh_is_loading === 0) {\n",
       "          console.log(\"Bokeh: all BokehJS libraries loaded\");\n",
       "          run_callbacks()\n",
       "        }\n",
       "      };\n",
       "      s.onerror = function() {\n",
       "        console.warn(\"failed to load library \" + url);\n",
       "      };\n",
       "      console.log(\"Bokeh: injecting script tag for BokehJS library: \", url);\n",
       "      document.getElementsByTagName(\"head\")[0].appendChild(s);\n",
       "    }\n",
       "  };var element = document.getElementById(\"1001\");\n",
       "  if (element == null) {\n",
       "    console.log(\"Bokeh: ERROR: autoload.js configured with elementid '1001' but no matching script tag was found. \")\n",
       "    return false;\n",
       "  }\n",
       "\n",
       "  var js_urls = [\"https://cdn.pydata.org/bokeh/release/bokeh-1.0.4.min.js\", \"https://cdn.pydata.org/bokeh/release/bokeh-widgets-1.0.4.min.js\", \"https://cdn.pydata.org/bokeh/release/bokeh-tables-1.0.4.min.js\", \"https://cdn.pydata.org/bokeh/release/bokeh-gl-1.0.4.min.js\"];\n",
       "\n",
       "  var inline_js = [\n",
       "    function(Bokeh) {\n",
       "      Bokeh.set_log_level(\"info\");\n",
       "    },\n",
       "    \n",
       "    function(Bokeh) {\n",
       "      \n",
       "    },\n",
       "    function(Bokeh) {\n",
       "      console.log(\"Bokeh: injecting CSS: https://cdn.pydata.org/bokeh/release/bokeh-1.0.4.min.css\");\n",
       "      Bokeh.embed.inject_css(\"https://cdn.pydata.org/bokeh/release/bokeh-1.0.4.min.css\");\n",
       "      console.log(\"Bokeh: injecting CSS: https://cdn.pydata.org/bokeh/release/bokeh-widgets-1.0.4.min.css\");\n",
       "      Bokeh.embed.inject_css(\"https://cdn.pydata.org/bokeh/release/bokeh-widgets-1.0.4.min.css\");\n",
       "      console.log(\"Bokeh: injecting CSS: https://cdn.pydata.org/bokeh/release/bokeh-tables-1.0.4.min.css\");\n",
       "      Bokeh.embed.inject_css(\"https://cdn.pydata.org/bokeh/release/bokeh-tables-1.0.4.min.css\");\n",
       "    }\n",
       "  ];\n",
       "\n",
       "  function run_inline_js() {\n",
       "    \n",
       "    if ((root.Bokeh !== undefined) || (force === true)) {\n",
       "      for (var i = 0; i < inline_js.length; i++) {\n",
       "        inline_js[i].call(root, root.Bokeh);\n",
       "      }if (force === true) {\n",
       "        display_loaded();\n",
       "      }} else if (Date.now() < root._bokeh_timeout) {\n",
       "      setTimeout(run_inline_js, 100);\n",
       "    } else if (!root._bokeh_failed_load) {\n",
       "      console.log(\"Bokeh: BokehJS failed to load within specified timeout.\");\n",
       "      root._bokeh_failed_load = true;\n",
       "    } else if (force !== true) {\n",
       "      var cell = $(document.getElementById(\"1001\")).parents('.cell').data().cell;\n",
       "      cell.output_area.append_execute_result(NB_LOAD_WARNING)\n",
       "    }\n",
       "\n",
       "  }\n",
       "\n",
       "  if (root._bokeh_is_loading === 0) {\n",
       "    console.log(\"Bokeh: BokehJS loaded, going straight to plotting\");\n",
       "    run_inline_js();\n",
       "  } else {\n",
       "    load_libs(js_urls, function() {\n",
       "      console.log(\"Bokeh: BokehJS plotting callback run at\", now());\n",
       "      run_inline_js();\n",
       "    });\n",
       "  }\n",
       "}(window));"
      ],
      "application/vnd.bokehjs_load.v0+json": "\n(function(root) {\n  function now() {\n    return new Date();\n  }\n\n  var force = true;\n\n  if (typeof (root._bokeh_onload_callbacks) === \"undefined\" || force === true) {\n    root._bokeh_onload_callbacks = [];\n    root._bokeh_is_loading = undefined;\n  }\n\n  \n\n  \n  if (typeof (root._bokeh_timeout) === \"undefined\" || force === true) {\n    root._bokeh_timeout = Date.now() + 5000;\n    root._bokeh_failed_load = false;\n  }\n\n  var NB_LOAD_WARNING = {'data': {'text/html':\n     \"<div style='background-color: #fdd'>\\n\"+\n     \"<p>\\n\"+\n     \"BokehJS does not appear to have successfully loaded. If loading BokehJS from CDN, this \\n\"+\n     \"may be due to a slow or bad network connection. Possible fixes:\\n\"+\n     \"</p>\\n\"+\n     \"<ul>\\n\"+\n     \"<li>re-rerun `output_notebook()` to attempt to load from CDN again, or</li>\\n\"+\n     \"<li>use INLINE resources instead, as so:</li>\\n\"+\n     \"</ul>\\n\"+\n     \"<code>\\n\"+\n     \"from bokeh.resources import INLINE\\n\"+\n     \"output_notebook(resources=INLINE)\\n\"+\n     \"</code>\\n\"+\n     \"</div>\"}};\n\n  function display_loaded() {\n    var el = document.getElementById(\"1001\");\n    if (el != null) {\n      el.textContent = \"BokehJS is loading...\";\n    }\n    if (root.Bokeh !== undefined) {\n      if (el != null) {\n        el.textContent = \"BokehJS \" + root.Bokeh.version + \" successfully loaded.\";\n      }\n    } else if (Date.now() < root._bokeh_timeout) {\n      setTimeout(display_loaded, 100)\n    }\n  }\n\n\n  function run_callbacks() {\n    try {\n      root._bokeh_onload_callbacks.forEach(function(callback) { callback() });\n    }\n    finally {\n      delete root._bokeh_onload_callbacks\n    }\n    console.info(\"Bokeh: all callbacks have finished\");\n  }\n\n  function load_libs(js_urls, callback) {\n    root._bokeh_onload_callbacks.push(callback);\n    if (root._bokeh_is_loading > 0) {\n      console.log(\"Bokeh: BokehJS is being loaded, scheduling callback at\", now());\n      return null;\n    }\n    if (js_urls == null || js_urls.length === 0) {\n      run_callbacks();\n      return null;\n    }\n    console.log(\"Bokeh: BokehJS not loaded, scheduling load and callback at\", now());\n    root._bokeh_is_loading = js_urls.length;\n    for (var i = 0; i < js_urls.length; i++) {\n      var url = js_urls[i];\n      var s = document.createElement('script');\n      s.src = url;\n      s.async = false;\n      s.onreadystatechange = s.onload = function() {\n        root._bokeh_is_loading--;\n        if (root._bokeh_is_loading === 0) {\n          console.log(\"Bokeh: all BokehJS libraries loaded\");\n          run_callbacks()\n        }\n      };\n      s.onerror = function() {\n        console.warn(\"failed to load library \" + url);\n      };\n      console.log(\"Bokeh: injecting script tag for BokehJS library: \", url);\n      document.getElementsByTagName(\"head\")[0].appendChild(s);\n    }\n  };var element = document.getElementById(\"1001\");\n  if (element == null) {\n    console.log(\"Bokeh: ERROR: autoload.js configured with elementid '1001' but no matching script tag was found. \")\n    return false;\n  }\n\n  var js_urls = [\"https://cdn.pydata.org/bokeh/release/bokeh-1.0.4.min.js\", \"https://cdn.pydata.org/bokeh/release/bokeh-widgets-1.0.4.min.js\", \"https://cdn.pydata.org/bokeh/release/bokeh-tables-1.0.4.min.js\", \"https://cdn.pydata.org/bokeh/release/bokeh-gl-1.0.4.min.js\"];\n\n  var inline_js = [\n    function(Bokeh) {\n      Bokeh.set_log_level(\"info\");\n    },\n    \n    function(Bokeh) {\n      \n    },\n    function(Bokeh) {\n      console.log(\"Bokeh: injecting CSS: https://cdn.pydata.org/bokeh/release/bokeh-1.0.4.min.css\");\n      Bokeh.embed.inject_css(\"https://cdn.pydata.org/bokeh/release/bokeh-1.0.4.min.css\");\n      console.log(\"Bokeh: injecting CSS: https://cdn.pydata.org/bokeh/release/bokeh-widgets-1.0.4.min.css\");\n      Bokeh.embed.inject_css(\"https://cdn.pydata.org/bokeh/release/bokeh-widgets-1.0.4.min.css\");\n      console.log(\"Bokeh: injecting CSS: https://cdn.pydata.org/bokeh/release/bokeh-tables-1.0.4.min.css\");\n      Bokeh.embed.inject_css(\"https://cdn.pydata.org/bokeh/release/bokeh-tables-1.0.4.min.css\");\n    }\n  ];\n\n  function run_inline_js() {\n    \n    if ((root.Bokeh !== undefined) || (force === true)) {\n      for (var i = 0; i < inline_js.length; i++) {\n        inline_js[i].call(root, root.Bokeh);\n      }if (force === true) {\n        display_loaded();\n      }} else if (Date.now() < root._bokeh_timeout) {\n      setTimeout(run_inline_js, 100);\n    } else if (!root._bokeh_failed_load) {\n      console.log(\"Bokeh: BokehJS failed to load within specified timeout.\");\n      root._bokeh_failed_load = true;\n    } else if (force !== true) {\n      var cell = $(document.getElementById(\"1001\")).parents('.cell').data().cell;\n      cell.output_area.append_execute_result(NB_LOAD_WARNING)\n    }\n\n  }\n\n  if (root._bokeh_is_loading === 0) {\n    console.log(\"Bokeh: BokehJS loaded, going straight to plotting\");\n    run_inline_js();\n  } else {\n    load_libs(js_urls, function() {\n      console.log(\"Bokeh: BokehJS plotting callback run at\", now());\n      run_inline_js();\n    });\n  }\n}(window));"
     },
     "metadata": {},
     "output_type": "display_data"
    }
   ],
   "source": [
    "output_notebook()"
   ]
  },
  {
   "cell_type": "markdown",
   "metadata": {},
   "source": [
    "Creo la variable df para que realice la lectura de la base de datos, la cual esta en formato .csv, para ello usamos read_csv.En las siguiente le defino con \"Sample\" para definir 50 datos aleatorios de la data"
   ]
  },
  {
   "cell_type": "code",
   "execution_count": 3,
   "metadata": {},
   "outputs": [],
   "source": [
    "df = pd.read_csv('data/nacimientos2014.csv')\n",
    "df = df.sample(50)"
   ]
  },
  {
   "cell_type": "raw",
   "metadata": {},
   "source": [
    "Creo una variable denominada grupo, la cuál por la función de bokeh que es groupby la cuál realiza grupos de las variables de datos que le asigno, el la siguiente línea creamos una variable source, que será a ColumnDataSoruce del grupo que definí en la anterior línea. \"ColumnDataSource\" la cuál convierte los datos de un objeto dataframe a un objeto de columnas de bokeh. Creo una variable sexos la cual almacena todos los datos en formato de lista de la columna \"sexos\" de los datos source.Creo el objeto p, asignadole el rango por el eje de las x igualandolo a sexos"
   ]
  },
  {
   "cell_type": "code",
   "execution_count": 4,
   "metadata": {},
   "outputs": [],
   "source": [
    "grupo = df.groupby('sexo').describe()\n",
    "source = ColumnDataSource(grupo)\n",
    "sexos = source.data['sexo'].tolist()\n",
    "p = figure(x_range=sexos)"
   ]
  },
  {
   "cell_type": "markdown",
   "metadata": {},
   "source": [
    " Creo la variable mapa_color que será igual a una función de bokeh para definir los colores y el tamaño de la gráfica estadística. Usando el objeto creado le asigno funciones de bokeh para realizar la gráfica de barras que es \"hbar\" la misma que le asigno las datos que necesita para realizar la gráfica, para dibujar el resultado de los parámetros a dibujar."
   ]
  },
  {
   "cell_type": "code",
   "execution_count": 5,
   "metadata": {},
   "outputs": [
    {
     "data": {
      "text/html": [
       "<div style=\"display: table;\"><div style=\"display: table-row;\"><div style=\"display: table-cell;\"><b title=\"bokeh.models.renderers.GlyphRenderer\">GlyphRenderer</b>(</div><div style=\"display: table-cell;\">id&nbsp;=&nbsp;'1040', <span id=\"1043\" style=\"cursor: pointer;\">&hellip;)</span></div></div><div class=\"1042\" style=\"display: none;\"><div style=\"display: table-cell;\"></div><div style=\"display: table-cell;\">data_source&nbsp;=&nbsp;ColumnDataSource(id='1002', ...),</div></div><div class=\"1042\" style=\"display: none;\"><div style=\"display: table-cell;\"></div><div style=\"display: table-cell;\">glyph&nbsp;=&nbsp;VBar(id='1038', ...),</div></div><div class=\"1042\" style=\"display: none;\"><div style=\"display: table-cell;\"></div><div style=\"display: table-cell;\">hover_glyph&nbsp;=&nbsp;None,</div></div><div class=\"1042\" style=\"display: none;\"><div style=\"display: table-cell;\"></div><div style=\"display: table-cell;\">js_event_callbacks&nbsp;=&nbsp;{},</div></div><div class=\"1042\" style=\"display: none;\"><div style=\"display: table-cell;\"></div><div style=\"display: table-cell;\">js_property_callbacks&nbsp;=&nbsp;{},</div></div><div class=\"1042\" style=\"display: none;\"><div style=\"display: table-cell;\"></div><div style=\"display: table-cell;\">level&nbsp;=&nbsp;'glyph',</div></div><div class=\"1042\" style=\"display: none;\"><div style=\"display: table-cell;\"></div><div style=\"display: table-cell;\">muted&nbsp;=&nbsp;False,</div></div><div class=\"1042\" style=\"display: none;\"><div style=\"display: table-cell;\"></div><div style=\"display: table-cell;\">muted_glyph&nbsp;=&nbsp;None,</div></div><div class=\"1042\" style=\"display: none;\"><div style=\"display: table-cell;\"></div><div style=\"display: table-cell;\">name&nbsp;=&nbsp;None,</div></div><div class=\"1042\" style=\"display: none;\"><div style=\"display: table-cell;\"></div><div style=\"display: table-cell;\">nonselection_glyph&nbsp;=&nbsp;VBar(id='1039', ...),</div></div><div class=\"1042\" style=\"display: none;\"><div style=\"display: table-cell;\"></div><div style=\"display: table-cell;\">selection_glyph&nbsp;=&nbsp;None,</div></div><div class=\"1042\" style=\"display: none;\"><div style=\"display: table-cell;\"></div><div style=\"display: table-cell;\">subscribed_events&nbsp;=&nbsp;[],</div></div><div class=\"1042\" style=\"display: none;\"><div style=\"display: table-cell;\"></div><div style=\"display: table-cell;\">tags&nbsp;=&nbsp;[],</div></div><div class=\"1042\" style=\"display: none;\"><div style=\"display: table-cell;\"></div><div style=\"display: table-cell;\">view&nbsp;=&nbsp;CDSView(id='1041', ...),</div></div><div class=\"1042\" style=\"display: none;\"><div style=\"display: table-cell;\"></div><div style=\"display: table-cell;\">visible&nbsp;=&nbsp;True,</div></div><div class=\"1042\" style=\"display: none;\"><div style=\"display: table-cell;\"></div><div style=\"display: table-cell;\">x_range_name&nbsp;=&nbsp;'default',</div></div><div class=\"1042\" style=\"display: none;\"><div style=\"display: table-cell;\"></div><div style=\"display: table-cell;\">y_range_name&nbsp;=&nbsp;'default')</div></div></div>\n",
       "<script>\n",
       "(function() {\n",
       "  var expanded = false;\n",
       "  var ellipsis = document.getElementById(\"1043\");\n",
       "  ellipsis.addEventListener(\"click\", function() {\n",
       "    var rows = document.getElementsByClassName(\"1042\");\n",
       "    for (var i = 0; i < rows.length; i++) {\n",
       "      var el = rows[i];\n",
       "      el.style.display = expanded ? \"none\" : \"table-row\";\n",
       "    }\n",
       "    ellipsis.innerHTML = expanded ? \"&hellip;)\" : \"&lsaquo;&lsaquo;&lsaquo;\";\n",
       "    expanded = !expanded;\n",
       "  });\n",
       "})();\n",
       "</script>\n"
      ],
      "text/plain": [
       "GlyphRenderer(id='1040', ...)"
      ]
     },
     "execution_count": 5,
     "metadata": {},
     "output_type": "execute_result"
    }
   ],
   "source": [
    "mapa_color = factor_cmap(field_name='sexo', palette=viridis(len(sexos)), factors=sexos)\n",
    "p.vbar(x='sexo', top='anio_insc_count', source=source, width=0.7, color=mapa_color)"
   ]
  },
  {
   "cell_type": "markdown",
   "metadata": {},
   "source": [
    "En las siguientes líneas de código le colocó el título a la gráfica y los nombres de las variables a dibujarse para mayor compresión del usuario."
   ]
  },
  {
   "cell_type": "code",
   "execution_count": 6,
   "metadata": {},
   "outputs": [],
   "source": [
    "p.title.text= 'Gráfica de barras con respecto al sexo ({} muestras)'.format(len(df))\n",
    "p.xaxis.axis_label = 'Sexo'\n",
    "p.yaxis.axis_label = '#'\n",
    "p.xgrid.grid_line_color = None"
   ]
  },
  {
   "cell_type": "markdown",
   "metadata": {},
   "source": [
    "\"HoverTool\" es un objeto de bokeh el cuál me permite mostrar al usuario los datos exactos al momento de pasar el ratón o mouse por los datos dibujados"
   ]
  },
  {
   "cell_type": "code",
   "execution_count": 7,
   "metadata": {},
   "outputs": [],
   "source": [
    "hover = HoverTool()\n",
    "hover.tooltips = [\n",
    "    ('Sexo', \"@sexo\"),\n",
    "    ('Valor', \"@anio_insc_count\")\n",
    "]\n",
    "hover.mode = 'vline'\n",
    "p.add_tools(hover)"
   ]
  },
  {
   "cell_type": "markdown",
   "metadata": {},
   "source": [
    "Mostramos p, el cuál ya está creado, tiene todas las funciones como colores, los datos filtrados y la gráfica que debe realiza"
   ]
  },
  {
   "cell_type": "markdown",
   "metadata": {},
   "source": [
    "En la siguiente gráfica de barras verticales, lo que quiero demostar cuál es  el indice de nacimientos dependiendo del sexo  nacen en Ecuador"
   ]
  },
  {
   "cell_type": "code",
   "execution_count": 8,
   "metadata": {},
   "outputs": [
    {
     "data": {
      "text/html": [
       "\n",
       "\n",
       "\n",
       "\n",
       "\n",
       "\n",
       "  <div class=\"bk-root\" id=\"1c3eb7fb-4f11-4d36-a94b-7b9212359720\" data-root-id=\"1003\"></div>\n"
      ]
     },
     "metadata": {},
     "output_type": "display_data"
    },
    {
     "data": {
      "application/javascript": [
       "(function(root) {\n",
       "  function embed_document(root) {\n",
       "    \n",
       "  var docs_json = {\"4153dab2-b7b9-4784-89dc-038c65cc742e\":{\"roots\":{\"references\":[{\"attributes\":{\"below\":[{\"id\":\"1012\",\"type\":\"CategoricalAxis\"}],\"left\":[{\"id\":\"1016\",\"type\":\"LinearAxis\"}],\"renderers\":[{\"id\":\"1012\",\"type\":\"CategoricalAxis\"},{\"id\":\"1015\",\"type\":\"Grid\"},{\"id\":\"1016\",\"type\":\"LinearAxis\"},{\"id\":\"1020\",\"type\":\"Grid\"},{\"id\":\"1029\",\"type\":\"BoxAnnotation\"},{\"id\":\"1040\",\"type\":\"GlyphRenderer\"}],\"title\":{\"id\":\"1044\",\"type\":\"Title\"},\"toolbar\":{\"id\":\"1027\",\"type\":\"Toolbar\"},\"x_range\":{\"id\":\"1004\",\"type\":\"FactorRange\"},\"x_scale\":{\"id\":\"1008\",\"type\":\"CategoricalScale\"},\"y_range\":{\"id\":\"1006\",\"type\":\"DataRange1d\"},\"y_scale\":{\"id\":\"1010\",\"type\":\"LinearScale\"}},\"id\":\"1003\",\"subtype\":\"Figure\",\"type\":\"Plot\"},{\"attributes\":{\"factors\":[\"Hombre\",\"Mujer\"],\"palette\":[\"#440154\",\"#FDE724\"]},\"id\":\"1036\",\"type\":\"CategoricalColorMapper\"},{\"attributes\":{},\"id\":\"1021\",\"type\":\"PanTool\"},{\"attributes\":{\"data_source\":{\"id\":\"1002\",\"type\":\"ColumnDataSource\"},\"glyph\":{\"id\":\"1038\",\"type\":\"VBar\"},\"hover_glyph\":null,\"muted_glyph\":null,\"nonselection_glyph\":{\"id\":\"1039\",\"type\":\"VBar\"},\"selection_glyph\":null,\"view\":{\"id\":\"1041\",\"type\":\"CDSView\"}},\"id\":\"1040\",\"type\":\"GlyphRenderer\"},{\"attributes\":{\"axis_label\":\"Sexo\",\"formatter\":{\"id\":\"1050\",\"type\":\"CategoricalTickFormatter\"},\"plot\":{\"id\":\"1003\",\"subtype\":\"Figure\",\"type\":\"Plot\"},\"ticker\":{\"id\":\"1013\",\"type\":\"CategoricalTicker\"}},\"id\":\"1012\",\"type\":\"CategoricalAxis\"},{\"attributes\":{\"axis_label\":\"#\",\"formatter\":{\"id\":\"1052\",\"type\":\"BasicTickFormatter\"},\"plot\":{\"id\":\"1003\",\"subtype\":\"Figure\",\"type\":\"Plot\"},\"ticker\":{\"id\":\"1017\",\"type\":\"BasicTicker\"}},\"id\":\"1016\",\"type\":\"LinearAxis\"},{\"attributes\":{\"bottom_units\":\"screen\",\"fill_alpha\":{\"value\":0.5},\"fill_color\":{\"value\":\"lightgrey\"},\"left_units\":\"screen\",\"level\":\"overlay\",\"line_alpha\":{\"value\":1.0},\"line_color\":{\"value\":\"black\"},\"line_dash\":[4,4],\"line_width\":{\"value\":2},\"plot\":null,\"render_mode\":\"css\",\"right_units\":\"screen\",\"top_units\":\"screen\"},\"id\":\"1029\",\"type\":\"BoxAnnotation\"},{\"attributes\":{\"grid_line_color\":{\"value\":null},\"plot\":{\"id\":\"1003\",\"subtype\":\"Figure\",\"type\":\"Plot\"},\"ticker\":{\"id\":\"1013\",\"type\":\"CategoricalTicker\"}},\"id\":\"1015\",\"type\":\"Grid\"},{\"attributes\":{},\"id\":\"1022\",\"type\":\"WheelZoomTool\"},{\"attributes\":{\"active_drag\":\"auto\",\"active_inspect\":\"auto\",\"active_multi\":null,\"active_scroll\":\"auto\",\"active_tap\":\"auto\",\"tools\":[{\"id\":\"1021\",\"type\":\"PanTool\"},{\"id\":\"1022\",\"type\":\"WheelZoomTool\"},{\"id\":\"1023\",\"type\":\"BoxZoomTool\"},{\"id\":\"1024\",\"type\":\"SaveTool\"},{\"id\":\"1025\",\"type\":\"ResetTool\"},{\"id\":\"1026\",\"type\":\"HelpTool\"},{\"id\":\"1045\",\"type\":\"HoverTool\"}]},\"id\":\"1027\",\"type\":\"Toolbar\"},{\"attributes\":{},\"id\":\"1026\",\"type\":\"HelpTool\"},{\"attributes\":{},\"id\":\"1017\",\"type\":\"BasicTicker\"},{\"attributes\":{\"overlay\":{\"id\":\"1029\",\"type\":\"BoxAnnotation\"}},\"id\":\"1023\",\"type\":\"BoxZoomTool\"},{\"attributes\":{},\"id\":\"1010\",\"type\":\"LinearScale\"},{\"attributes\":{\"fill_alpha\":{\"value\":0.1},\"fill_color\":{\"value\":\"#1f77b4\"},\"line_alpha\":{\"value\":0.1},\"line_color\":{\"value\":\"#1f77b4\"},\"top\":{\"field\":\"anio_insc_count\"},\"width\":{\"value\":0.7},\"x\":{\"field\":\"sexo\"}},\"id\":\"1039\",\"type\":\"VBar\"},{\"attributes\":{\"callback\":null,\"factors\":[\"Hombre\",\"Mujer\"]},\"id\":\"1004\",\"type\":\"FactorRange\"},{\"attributes\":{},\"id\":\"1013\",\"type\":\"CategoricalTicker\"},{\"attributes\":{},\"id\":\"1024\",\"type\":\"SaveTool\"},{\"attributes\":{\"callback\":null,\"data\":{\"Unnamed: 0_25%\":{\"__ndarray__\":\"AAAAAADlkEAAAAAAADR8QA==\",\"dtype\":\"float64\",\"shape\":[2]},\"Unnamed: 0_50%\":{\"__ndarray__\":\"AAAAAAAQlUAAAAAAAFyGQA==\",\"dtype\":\"float64\",\"shape\":[2]},\"Unnamed: 0_75%\":{\"__ndarray__\":\"AAAAAACRn0AAAAAAAFSYQA==\",\"dtype\":\"float64\",\"shape\":[2]},\"Unnamed: 0_count\":{\"__ndarray__\":\"AAAAAAAANkAAAAAAAAA8QA==\",\"dtype\":\"float64\",\"shape\":[2]},\"Unnamed: 0_max\":{\"__ndarray__\":\"AAAAAADiokAAAAAAAKSdQA==\",\"dtype\":\"float64\",\"shape\":[2]},\"Unnamed: 0_mean\":{\"__ndarray__\":\"o4suuugwlkDbtm3btnuMQA==\",\"dtype\":\"float64\",\"shape\":[2]},\"Unnamed: 0_min\":{\"__ndarray__\":\"AAAAAAAAWkAAAAAAAADwPw==\",\"dtype\":\"float64\",\"shape\":[2]},\"Unnamed: 0_std\":{\"__ndarray__\":\"zACeNjwyhUDcHPjknveDQA==\",\"dtype\":\"float64\",\"shape\":[2]},\"anio_insc_25%\":{\"__ndarray__\":\"AAAAAAB4n0AAAAAAAHifQA==\",\"dtype\":\"float64\",\"shape\":[2]},\"anio_insc_50%\":{\"__ndarray__\":\"AAAAAAB4n0AAAAAAAHifQA==\",\"dtype\":\"float64\",\"shape\":[2]},\"anio_insc_75%\":{\"__ndarray__\":\"AAAAAAB4n0AAAAAAAHifQA==\",\"dtype\":\"float64\",\"shape\":[2]},\"anio_insc_count\":{\"__ndarray__\":\"AAAAAAAANkAAAAAAAAA8QA==\",\"dtype\":\"float64\",\"shape\":[2]},\"anio_insc_max\":{\"__ndarray__\":\"AAAAAAB4n0AAAAAAAHifQA==\",\"dtype\":\"float64\",\"shape\":[2]},\"anio_insc_mean\":{\"__ndarray__\":\"AAAAAAB4n0AAAAAAAHifQA==\",\"dtype\":\"float64\",\"shape\":[2]},\"anio_insc_min\":{\"__ndarray__\":\"AAAAAAB4n0AAAAAAAHifQA==\",\"dtype\":\"float64\",\"shape\":[2]},\"anio_insc_std\":{\"__ndarray__\":\"AAAAAAAAAAAAAAAAAAAAAA==\",\"dtype\":\"float64\",\"shape\":[2]},\"anio_mad_25%\":{\"__ndarray__\":\"AAAAAAAIn0AAAAAAAAyfQA==\",\"dtype\":\"float64\",\"shape\":[2]},\"anio_mad_50%\":{\"__ndarray__\":\"AAAAAAAYn0AAAAAAAByfQA==\",\"dtype\":\"float64\",\"shape\":[2]},\"anio_mad_75%\":{\"__ndarray__\":\"AAAAAAAsn0AAAAAAACSfQA==\",\"dtype\":\"float64\",\"shape\":[2]},\"anio_mad_count\":{\"__ndarray__\":\"AAAAAAAAKkAAAAAAAAAxQA==\",\"dtype\":\"float64\",\"shape\":[2]},\"anio_mad_max\":{\"__ndarray__\":\"AAAAAAAwn0AAAAAAADyfQA==\",\"dtype\":\"float64\",\"shape\":[2]},\"anio_mad_mean\":{\"__ndarray__\":\"7MRO7MQWn0AeHh4eHhqfQA==\",\"dtype\":\"float64\",\"shape\":[2]},\"anio_mad_min\":{\"__ndarray__\":\"AAAAAADsnkAAAAAAAPCeQA==\",\"dtype\":\"float64\",\"shape\":[2]},\"anio_mad_std\":{\"__ndarray__\":\"7qCP0Qd5FkDnE61Pt00UQA==\",\"dtype\":\"float64\",\"shape\":[2]},\"anio_nac_25%\":{\"__ndarray__\":\"AAAAAABtn0AAAAAAAG+fQA==\",\"dtype\":\"float64\",\"shape\":[2]},\"anio_nac_50%\":{\"__ndarray__\":\"AAAAAAB0n0AAAAAAAHifQA==\",\"dtype\":\"float64\",\"shape\":[2]},\"anio_nac_75%\":{\"__ndarray__\":\"AAAAAAB4n0AAAAAAAHifQA==\",\"dtype\":\"float64\",\"shape\":[2]},\"anio_nac_count\":{\"__ndarray__\":\"AAAAAAAANkAAAAAAAAA8QA==\",\"dtype\":\"float64\",\"shape\":[2]},\"anio_nac_max\":{\"__ndarray__\":\"AAAAAAB4n0AAAAAAAHifQA==\",\"dtype\":\"float64\",\"shape\":[2]},\"anio_nac_mean\":{\"__ndarray__\":\"0UUXXXRtn0AlSZIkSWifQA==\",\"dtype\":\"float64\",\"shape\":[2]},\"anio_nac_min\":{\"__ndarray__\":\"AAAAAAAwn0AAAAAAAGCeQA==\",\"dtype\":\"float64\",\"shape\":[2]},\"anio_nac_std\":{\"__ndarray__\":\"Qxrfl/YJEkAMbPrc82UqQA==\",\"dtype\":\"float64\",\"shape\":[2]},\"con_pren_25%\":{\"__ndarray__\":\"AAAAAAAAFEAAAAAAAAAUQA==\",\"dtype\":\"float64\",\"shape\":[2]},\"con_pren_50%\":{\"__ndarray__\":\"AAAAAAAAGEAAAAAAAAAcQA==\",\"dtype\":\"float64\",\"shape\":[2]},\"con_pren_75%\":{\"__ndarray__\":\"AAAAAAAAIEAAAAAAAAAgQA==\",\"dtype\":\"float64\",\"shape\":[2]},\"con_pren_count\":{\"__ndarray__\":\"AAAAAAAAKkAAAAAAAAAxQA==\",\"dtype\":\"float64\",\"shape\":[2]},\"con_pren_max\":{\"__ndarray__\":\"AAAAAADAWEAAAAAAAMBYQA==\",\"dtype\":\"float64\",\"shape\":[2]},\"con_pren_mean\":{\"__ndarray__\":\"dmIndmInKkA8PDw8PDwoQA==\",\"dtype\":\"float64\",\"shape\":[2]},\"con_pren_min\":{\"__ndarray__\":\"AAAAAAAAAAAAAAAAAAAIQA==\",\"dtype\":\"float64\",\"shape\":[2]},\"con_pren_std\":{\"__ndarray__\":\"O3x+JAPrOUDF132fDII2QA==\",\"dtype\":\"float64\",\"shape\":[2]},\"dia_insc_25%\":{\"__ndarray__\":\"AAAAAAAAIkAAAAAAAAAiQA==\",\"dtype\":\"float64\",\"shape\":[2]},\"dia_insc_50%\":{\"__ndarray__\":\"AAAAAAAAKkAAAAAAAAAwQA==\",\"dtype\":\"float64\",\"shape\":[2]},\"dia_insc_75%\":{\"__ndarray__\":\"AAAAAACAOUAAAAAAAAA6QA==\",\"dtype\":\"float64\",\"shape\":[2]},\"dia_insc_count\":{\"__ndarray__\":\"AAAAAAAANkAAAAAAAAA8QA==\",\"dtype\":\"float64\",\"shape\":[2]},\"dia_insc_max\":{\"__ndarray__\":\"AAAAAAAAP0AAAAAAAAA+QA==\",\"dtype\":\"float64\",\"shape\":[2]},\"dia_insc_mean\":{\"__ndarray__\":\"0UUXXXTRL0AlSZIkSRIwQA==\",\"dtype\":\"float64\",\"shape\":[2]},\"dia_insc_min\":{\"__ndarray__\":\"AAAAAAAA8D8AAAAAAAAIQA==\",\"dtype\":\"float64\",\"shape\":[2]},\"dia_insc_std\":{\"__ndarray__\":\"xN2037lZI0CU19Q8M5giQA==\",\"dtype\":\"float64\",\"shape\":[2]},\"dia_mad_25%\":{\"__ndarray__\":\"AAAAAAAAJEAAAAAAAAAqQA==\",\"dtype\":\"float64\",\"shape\":[2]},\"dia_mad_50%\":{\"__ndarray__\":\"AAAAAAAAM0AAAAAAAAAyQA==\",\"dtype\":\"float64\",\"shape\":[2]},\"dia_mad_75%\":{\"__ndarray__\":\"AAAAAAAAOkAAAAAAAAA3QA==\",\"dtype\":\"float64\",\"shape\":[2]},\"dia_mad_count\":{\"__ndarray__\":\"AAAAAAAAKkAAAAAAAAAxQA==\",\"dtype\":\"float64\",\"shape\":[2]},\"dia_mad_max\":{\"__ndarray__\":\"AAAAAAAAPkAAAAAAAAA/QA==\",\"dtype\":\"float64\",\"shape\":[2]},\"dia_mad_mean\":{\"__ndarray__\":\"O7ETO7ETMUCXlpaWlpYyQA==\",\"dtype\":\"float64\",\"shape\":[2]},\"dia_mad_min\":{\"__ndarray__\":\"AAAAAAAA8D8AAAAAAAAYQA==\",\"dtype\":\"float64\",\"shape\":[2]},\"dia_mad_std\":{\"__ndarray__\":\"gOtaV+HwI0ACRyuQWZEcQA==\",\"dtype\":\"float64\",\"shape\":[2]},\"dia_nac_25%\":{\"__ndarray__\":\"AAAAAAAAEkAAAAAAAIAhQA==\",\"dtype\":\"float64\",\"shape\":[2]},\"dia_nac_50%\":{\"__ndarray__\":\"AAAAAAAAKEAAAAAAAAArQA==\",\"dtype\":\"float64\",\"shape\":[2]},\"dia_nac_75%\":{\"__ndarray__\":\"AAAAAADANkAAAAAAAAA1QA==\",\"dtype\":\"float64\",\"shape\":[2]},\"dia_nac_count\":{\"__ndarray__\":\"AAAAAAAANkAAAAAAAAA8QA==\",\"dtype\":\"float64\",\"shape\":[2]},\"dia_nac_max\":{\"__ndarray__\":\"AAAAAAAAPEAAAAAAAAA+QA==\",\"dtype\":\"float64\",\"shape\":[2]},\"dia_nac_mean\":{\"__ndarray__\":\"dNFFF110K0AlSZIkSZIsQA==\",\"dtype\":\"float64\",\"shape\":[2]},\"dia_nac_min\":{\"__ndarray__\":\"AAAAAAAA8D8AAAAAAAAAQA==\",\"dtype\":\"float64\",\"shape\":[2]},\"dia_nac_std\":{\"__ndarray__\":\"itgePPOiI0BTI74/j+ceQA==\",\"dtype\":\"float64\",\"shape\":[2]},\"edad_mad_25%\":{\"__ndarray__\":\"AAAAAAAAM0AAAAAAAAA1QA==\",\"dtype\":\"float64\",\"shape\":[2]},\"edad_mad_50%\":{\"__ndarray__\":\"AAAAAAAAOEAAAAAAAAA3QA==\",\"dtype\":\"float64\",\"shape\":[2]},\"edad_mad_75%\":{\"__ndarray__\":\"AAAAAAAAPEAAAAAAAAA7QA==\",\"dtype\":\"float64\",\"shape\":[2]},\"edad_mad_count\":{\"__ndarray__\":\"AAAAAAAAKkAAAAAAAAAxQA==\",\"dtype\":\"float64\",\"shape\":[2]},\"edad_mad_max\":{\"__ndarray__\":\"AAAAAACAQUAAAAAAAABBQA==\",\"dtype\":\"float64\",\"shape\":[2]},\"edad_mad_mean\":{\"__ndarray__\":\"7MRO7MROOEB4eHh4eHg3QA==\",\"dtype\":\"float64\",\"shape\":[2]},\"edad_mad_min\":{\"__ndarray__\":\"AAAAAAAAMkAAAAAAAAAuQA==\",\"dtype\":\"float64\",\"shape\":[2]},\"edad_mad_std\":{\"__ndarray__\":\"7aCP0Qd5FkDnE61Pt00UQA==\",\"dtype\":\"float64\",\"shape\":[2]},\"fecha_insc_25%\":{\"__ndarray__\":\"AAAAcvhdCUIAAACm81sJQg==\",\"dtype\":\"float64\",\"shape\":[2]},\"fecha_insc_50%\":{\"__ndarray__\":\"AAAAbO1fCUIAAACS9V4JQg==\",\"dtype\":\"float64\",\"shape\":[2]},\"fecha_insc_75%\":{\"__ndarray__\":\"AAAAiHZgCUIAAADR0mAJQg==\",\"dtype\":\"float64\",\"shape\":[2]},\"fecha_insc_count\":{\"__ndarray__\":\"AAAAAAAANkAAAAAAAAA8QA==\",\"dtype\":\"float64\",\"shape\":[2]},\"fecha_insc_max\":{\"__ndarray__\":\"AAAA/LFlCUIAAAB47GMJQg==\",\"dtype\":\"float64\",\"shape\":[2]},\"fecha_insc_mean\":{\"__ndarray__\":\"RhdddDJfCUJJkiS2iF4JQg==\",\"dtype\":\"float64\",\"shape\":[2]},\"fecha_insc_min\":{\"__ndarray__\":\"AAAABGtZCUIAAABc11gJQg==\",\"dtype\":\"float64\",\"shape\":[2]},\"fecha_insc_std\":{\"__ndarray__\":\"qxPB1cp6WUHIdYGxFvBbQQ==\",\"dtype\":\"float64\",\"shape\":[2]},\"fecha_nac_25%\":{\"__ndarray__\":\"AAAAEhc2CUIAAAAyWjwJQg==\",\"dtype\":\"float64\",\"shape\":[2]},\"fecha_nac_50%\":{\"__ndarray__\":\"AAAA+khYCUIAAABKE1wJQg==\",\"dtype\":\"float64\",\"shape\":[2]},\"fecha_nac_75%\":{\"__ndarray__\":\"AAAABc5eCUIAAAAoImAJQg==\",\"dtype\":\"float64\",\"shape\":[2]},\"fecha_nac_count\":{\"__ndarray__\":\"AAAAAAAANkAAAAAAAAA8QA==\",\"dtype\":\"float64\",\"shape\":[2]},\"fecha_nac_max\":{\"__ndarray__\":\"AAAA+JpiCUIAAAAUJGMJQg==\",\"dtype\":\"float64\",\"shape\":[2]},\"fecha_nac_mean\":{\"__ndarray__\":\"jC66zBE4CUIAAABL0SQJQg==\",\"dtype\":\"float64\",\"shape\":[2]},\"fecha_nac_min\":{\"__ndarray__\":\"AAAAIOtUCEIAAADovUQFQg==\",\"dtype\":\"float64\",\"shape\":[2]},\"fecha_nac_std\":{\"__ndarray__\":\"RBkxkzTeoEFAykE1wsW4QQ==\",\"dtype\":\"float64\",\"shape\":[2]},\"hij_nacm_25%\":{\"__ndarray__\":\"AAAAAAAAAAAAAAAAAAAAAA==\",\"dtype\":\"float64\",\"shape\":[2]},\"hij_nacm_50%\":{\"__ndarray__\":\"AAAAAAAAAAAAAAAAAAAAAA==\",\"dtype\":\"float64\",\"shape\":[2]},\"hij_nacm_75%\":{\"__ndarray__\":\"AAAAAAAAAAAAAAAAAAAAAA==\",\"dtype\":\"float64\",\"shape\":[2]},\"hij_nacm_count\":{\"__ndarray__\":\"AAAAAAAAKkAAAAAAAAAxQA==\",\"dtype\":\"float64\",\"shape\":[2]},\"hij_nacm_max\":{\"__ndarray__\":\"AAAAAADAWEAAAAAAAMBYQA==\",\"dtype\":\"float64\",\"shape\":[2]},\"hij_nacm_mean\":{\"__ndarray__\":\"O7ETO7ETH0BLS0tLS0sXQA==\",\"dtype\":\"float64\",\"shape\":[2]},\"hij_nacm_min\":{\"__ndarray__\":\"AAAAAAAAAAAAAAAAAAAAAA==\",\"dtype\":\"float64\",\"shape\":[2]},\"hij_nacm_std\":{\"__ndarray__\":\"swlozvlpO0Bw81Ko0gI4QA==\",\"dtype\":\"float64\",\"shape\":[2]},\"hij_viv_25%\":{\"__ndarray__\":\"AAAAAAAA8D8AAAAAAADwPw==\",\"dtype\":\"float64\",\"shape\":[2]},\"hij_viv_50%\":{\"__ndarray__\":\"AAAAAAAAAEAAAAAAAADwPw==\",\"dtype\":\"float64\",\"shape\":[2]},\"hij_viv_75%\":{\"__ndarray__\":\"AAAAAAAAAEAAAAAAAAAAQA==\",\"dtype\":\"float64\",\"shape\":[2]},\"hij_viv_count\":{\"__ndarray__\":\"AAAAAAAAKkAAAAAAAAAxQA==\",\"dtype\":\"float64\",\"shape\":[2]},\"hij_viv_max\":{\"__ndarray__\":\"AAAAAAAACEAAAAAAAAAIQA==\",\"dtype\":\"float64\",\"shape\":[2]},\"hij_viv_mean\":{\"__ndarray__\":\"ip3YiZ3Y+T+Ih4eHh4f3Pw==\",\"dtype\":\"float64\",\"shape\":[2]},\"hij_viv_min\":{\"__ndarray__\":\"AAAAAAAA8D8AAAAAAADwPw==\",\"dtype\":\"float64\",\"shape\":[2]},\"hij_viv_std\":{\"__ndarray__\":\"hbzXK2/Q5D/gBX4R+fnjPw==\",\"dtype\":\"float64\",\"shape\":[2]},\"hij_vivm_25%\":{\"__ndarray__\":\"AAAAAAAAAAAAAAAAAAAAAA==\",\"dtype\":\"float64\",\"shape\":[2]},\"hij_vivm_50%\":{\"__ndarray__\":\"AAAAAAAAAAAAAAAAAAAAAA==\",\"dtype\":\"float64\",\"shape\":[2]},\"hij_vivm_75%\":{\"__ndarray__\":\"AAAAAAAAAAAAAAAAAAAAAA==\",\"dtype\":\"float64\",\"shape\":[2]},\"hij_vivm_count\":{\"__ndarray__\":\"AAAAAAAAKkAAAAAAAAAxQA==\",\"dtype\":\"float64\",\"shape\":[2]},\"hij_vivm_max\":{\"__ndarray__\":\"AAAAAADAWEAAAAAAAMBYQA==\",\"dtype\":\"float64\",\"shape\":[2]},\"hij_vivm_mean\":{\"__ndarray__\":\"T+zETuzEHkBLS0tLS0sXQA==\",\"dtype\":\"float64\",\"shape\":[2]},\"hij_vivm_min\":{\"__ndarray__\":\"AAAAAAAAAAAAAAAAAAAAAA==\",\"dtype\":\"float64\",\"shape\":[2]},\"hij_vivm_std\":{\"__ndarray__\":\"z00CuZlvO0Bw81Ko0gI4QA==\",\"dtype\":\"float64\",\"shape\":[2]},\"mes_mad_25%\":{\"__ndarray__\":\"AAAAAAAAEEAAAAAAAAAUQA==\",\"dtype\":\"float64\",\"shape\":[2]},\"mes_mad_50%\":{\"__ndarray__\":\"AAAAAAAAGEAAAAAAAAAYQA==\",\"dtype\":\"float64\",\"shape\":[2]},\"mes_mad_75%\":{\"__ndarray__\":\"AAAAAAAAIEAAAAAAAAAcQA==\",\"dtype\":\"float64\",\"shape\":[2]},\"mes_mad_count\":{\"__ndarray__\":\"AAAAAAAAKkAAAAAAAAAxQA==\",\"dtype\":\"float64\",\"shape\":[2]},\"mes_mad_max\":{\"__ndarray__\":\"AAAAAAAAJEAAAAAAAAAmQA==\",\"dtype\":\"float64\",\"shape\":[2]},\"mes_mad_mean\":{\"__ndarray__\":\"dmIndmInFkAAAAAAAAAYQA==\",\"dtype\":\"float64\",\"shape\":[2]},\"mes_mad_min\":{\"__ndarray__\":\"AAAAAAAA8D8AAAAAAADwPw==\",\"dtype\":\"float64\",\"shape\":[2]},\"mes_mad_std\":{\"__ndarray__\":\"Thadas92B0Dq+NKpfyoFQA==\",\"dtype\":\"float64\",\"shape\":[2]},\"num_par_25%\":{\"__ndarray__\":\"AAAAAAAA8D8AAAAAAADwPw==\",\"dtype\":\"float64\",\"shape\":[2]},\"num_par_50%\":{\"__ndarray__\":\"AAAAAAAAAEAAAAAAAADwPw==\",\"dtype\":\"float64\",\"shape\":[2]},\"num_par_75%\":{\"__ndarray__\":\"AAAAAAAAAEAAAAAAAAAAQA==\",\"dtype\":\"float64\",\"shape\":[2]},\"num_par_count\":{\"__ndarray__\":\"AAAAAAAAKkAAAAAAAAAxQA==\",\"dtype\":\"float64\",\"shape\":[2]},\"num_par_max\":{\"__ndarray__\":\"AAAAAAAACEAAAAAAAAAIQA==\",\"dtype\":\"float64\",\"shape\":[2]},\"num_par_mean\":{\"__ndarray__\":\"O7ETO7ET+z+Ih4eHh4f3Pw==\",\"dtype\":\"float64\",\"shape\":[2]},\"num_par_min\":{\"__ndarray__\":\"AAAAAAAA8D8AAAAAAADwPw==\",\"dtype\":\"float64\",\"shape\":[2]},\"num_par_std\":{\"__ndarray__\":\"2g0EaXEs5D/gBX4R+fnjPw==\",\"dtype\":\"float64\",\"shape\":[2]},\"ofi_insc_25%\":{\"__ndarray__\":\"AAAAAAAA8D8AAAAAAADwPw==\",\"dtype\":\"float64\",\"shape\":[2]},\"ofi_insc_50%\":{\"__ndarray__\":\"AAAAAAAA8D8AAAAAAADwPw==\",\"dtype\":\"float64\",\"shape\":[2]},\"ofi_insc_75%\":{\"__ndarray__\":\"AAAAAAAA8D8AAAAAAADwPw==\",\"dtype\":\"float64\",\"shape\":[2]},\"ofi_insc_count\":{\"__ndarray__\":\"AAAAAAAANkAAAAAAAAA8QA==\",\"dtype\":\"float64\",\"shape\":[2]},\"ofi_insc_max\":{\"__ndarray__\":\"AAAAAAAAAEAAAAAAAAAIQA==\",\"dtype\":\"float64\",\"shape\":[2]},\"ofi_insc_mean\":{\"__ndarray__\":\"uuiiiy668D9JkiRJkiTxPw==\",\"dtype\":\"float64\",\"shape\":[2]},\"ofi_insc_min\":{\"__ndarray__\":\"AAAAAAAA8D8AAAAAAADwPw==\",\"dtype\":\"float64\",\"shape\":[2]},\"ofi_insc_std\":{\"__ndarray__\":\"UZUdPClKyz/o96fmkTDYPw==\",\"dtype\":\"float64\",\"shape\":[2]},\"peso_25%\":{\"__ndarray__\":\"AAAAAAAYpUAAAAAAAPimQA==\",\"dtype\":\"float64\",\"shape\":[2]},\"peso_50%\":{\"__ndarray__\":\"AAAAAAB0qEAAAAAAAHCnQA==\",\"dtype\":\"float64\",\"shape\":[2]},\"peso_75%\":{\"__ndarray__\":\"AAAAAAAAqUAAAAAAAKCpQA==\",\"dtype\":\"float64\",\"shape\":[2]},\"peso_count\":{\"__ndarray__\":\"AAAAAAAAKkAAAAAAAAAxQA==\",\"dtype\":\"float64\",\"shape\":[2]},\"peso_max\":{\"__ndarray__\":\"AAAAAABYq0AAAAAAAOisQA==\",\"dtype\":\"float64\",\"shape\":[2]},\"peso_mean\":{\"__ndarray__\":\"ip3YiZ2IpEBaWlpaWhinQA==\",\"dtype\":\"float64\",\"shape\":[2]},\"peso_min\":{\"__ndarray__\":\"AAAAAADAWEAAAAAAAMiZQA==\",\"dtype\":\"float64\",\"shape\":[2]},\"peso_std\":{\"__ndarray__\":\"3DSakYEYkkCQUaLSakiCQA==\",\"dtype\":\"float64\",\"shape\":[2]},\"sem_gest_25%\":{\"__ndarray__\":\"AAAAAACAQ0AAAAAAAABDQA==\",\"dtype\":\"float64\",\"shape\":[2]},\"sem_gest_50%\":{\"__ndarray__\":\"AAAAAAAAREAAAAAAAIBDQA==\",\"dtype\":\"float64\",\"shape\":[2]},\"sem_gest_75%\":{\"__ndarray__\":\"AAAAAADAWEAAAAAAAABEQA==\",\"dtype\":\"float64\",\"shape\":[2]},\"sem_gest_count\":{\"__ndarray__\":\"AAAAAAAAKkAAAAAAAAAxQA==\",\"dtype\":\"float64\",\"shape\":[2]},\"sem_gest_max\":{\"__ndarray__\":\"AAAAAADAWEAAAAAAAMBYQA==\",\"dtype\":\"float64\",\"shape\":[2]},\"sem_gest_mean\":{\"__ndarray__\":\"T+zETuzETEDi4eHh4eFEQA==\",\"dtype\":\"float64\",\"shape\":[2]},\"sem_gest_min\":{\"__ndarray__\":\"AAAAAAAAQ0AAAAAAAIBAQA==\",\"dtype\":\"float64\",\"shape\":[2]},\"sem_gest_std\":{\"__ndarray__\":\"E5sye9rGPEDIV1kQnsstQA==\",\"dtype\":\"float64\",\"shape\":[2]},\"sexo\":[\"Hombre\",\"Mujer\"],\"talla_25%\":{\"__ndarray__\":\"AAAAAACASEAAAAAAAABHQA==\",\"dtype\":\"float64\",\"shape\":[2]},\"talla_50%\":{\"__ndarray__\":\"AAAAAAAASUAAAAAAAABIQA==\",\"dtype\":\"float64\",\"shape\":[2]},\"talla_75%\":{\"__ndarray__\":\"AAAAAAAASUAAAAAAAIBIQA==\",\"dtype\":\"float64\",\"shape\":[2]},\"talla_count\":{\"__ndarray__\":\"AAAAAAAAKkAAAAAAAAAxQA==\",\"dtype\":\"float64\",\"shape\":[2]},\"talla_max\":{\"__ndarray__\":\"AAAAAADAWEAAAAAAAIBJQA==\",\"dtype\":\"float64\",\"shape\":[2]},\"talla_mean\":{\"__ndarray__\":\"Yid2Yid2TEAtLS0tLa1HQA==\",\"dtype\":\"float64\",\"shape\":[2]},\"talla_min\":{\"__ndarray__\":\"AAAAAACAR0AAAAAAAABEQA==\",\"dtype\":\"float64\",\"shape\":[2]},\"talla_std\":{\"__ndarray__\":\"c7sT3/y2MkCSH4FZfxQGQA==\",\"dtype\":\"float64\",\"shape\":[2]}},\"selected\":{\"id\":\"1054\",\"type\":\"Selection\"},\"selection_policy\":{\"id\":\"1053\",\"type\":\"UnionRenderers\"}},\"id\":\"1002\",\"type\":\"ColumnDataSource\"},{\"attributes\":{\"plot\":null,\"text\":\"Gr\\u00e1fica de barras con respecto al sexo (50 muestras)\"},\"id\":\"1044\",\"type\":\"Title\"},{\"attributes\":{},\"id\":\"1054\",\"type\":\"Selection\"},{\"attributes\":{},\"id\":\"1025\",\"type\":\"ResetTool\"},{\"attributes\":{\"source\":{\"id\":\"1002\",\"type\":\"ColumnDataSource\"}},\"id\":\"1041\",\"type\":\"CDSView\"},{\"attributes\":{},\"id\":\"1050\",\"type\":\"CategoricalTickFormatter\"},{\"attributes\":{\"fill_color\":{\"field\":\"sexo\",\"transform\":{\"id\":\"1036\",\"type\":\"CategoricalColorMapper\"}},\"line_color\":{\"field\":\"sexo\",\"transform\":{\"id\":\"1036\",\"type\":\"CategoricalColorMapper\"}},\"top\":{\"field\":\"anio_insc_count\"},\"width\":{\"value\":0.7},\"x\":{\"field\":\"sexo\"}},\"id\":\"1038\",\"type\":\"VBar\"},{\"attributes\":{\"callback\":null,\"mode\":\"vline\",\"tooltips\":[[\"Sexo\",\"@sexo\"],[\"Valor\",\"@anio_insc_count\"]]},\"id\":\"1045\",\"type\":\"HoverTool\"},{\"attributes\":{\"dimension\":1,\"plot\":{\"id\":\"1003\",\"subtype\":\"Figure\",\"type\":\"Plot\"},\"ticker\":{\"id\":\"1017\",\"type\":\"BasicTicker\"}},\"id\":\"1020\",\"type\":\"Grid\"},{\"attributes\":{},\"id\":\"1008\",\"type\":\"CategoricalScale\"},{\"attributes\":{},\"id\":\"1053\",\"type\":\"UnionRenderers\"},{\"attributes\":{},\"id\":\"1052\",\"type\":\"BasicTickFormatter\"},{\"attributes\":{\"callback\":null},\"id\":\"1006\",\"type\":\"DataRange1d\"}],\"root_ids\":[\"1003\"]},\"title\":\"Bokeh Application\",\"version\":\"1.0.4\"}};\n",
       "  var render_items = [{\"docid\":\"4153dab2-b7b9-4784-89dc-038c65cc742e\",\"roots\":{\"1003\":\"1c3eb7fb-4f11-4d36-a94b-7b9212359720\"}}];\n",
       "  root.Bokeh.embed.embed_items_notebook(docs_json, render_items);\n",
       "\n",
       "  }\n",
       "  if (root.Bokeh !== undefined) {\n",
       "    embed_document(root);\n",
       "  } else {\n",
       "    var attempts = 0;\n",
       "    var timer = setInterval(function(root) {\n",
       "      if (root.Bokeh !== undefined) {\n",
       "        embed_document(root);\n",
       "        clearInterval(timer);\n",
       "      }\n",
       "      attempts++;\n",
       "      if (attempts > 100) {\n",
       "        console.log(\"Bokeh: ERROR: Unable to run BokehJS code because BokehJS library is missing\");\n",
       "        clearInterval(timer);\n",
       "      }\n",
       "    }, 10, root)\n",
       "  }\n",
       "})(window);"
      ],
      "application/vnd.bokehjs_exec.v0+json": ""
     },
     "metadata": {
      "application/vnd.bokehjs_exec.v0+json": {
       "id": "1003"
      }
     },
     "output_type": "display_data"
    }
   ],
   "source": [
    "show(p)"
   ]
  }
 ],
 "metadata": {
  "kernelspec": {
   "display_name": "Python 3",
   "language": "python",
   "name": "python3"
  },
  "language_info": {
   "codemirror_mode": {
    "name": "ipython",
    "version": 3
   },
   "file_extension": ".py",
   "mimetype": "text/x-python",
   "name": "python",
   "nbconvert_exporter": "python",
   "pygments_lexer": "ipython3",
   "version": "3.7.0b3"
  }
 },
 "nbformat": 4,
 "nbformat_minor": 2
}
