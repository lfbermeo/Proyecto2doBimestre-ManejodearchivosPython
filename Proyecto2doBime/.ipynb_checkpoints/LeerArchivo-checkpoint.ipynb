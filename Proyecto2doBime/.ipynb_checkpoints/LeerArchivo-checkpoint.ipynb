{
 "cells": [
  {
   "cell_type": "code",
   "execution_count": null,
   "metadata": {},
   "outputs": [],
   "source": [
    "import codecs \n",
    "class LeerArchivo:\n",
    "    def __init__(self,path):\n",
    "        self.path = path\n",
    "        self.archivo = codecs.open(self.path,\"r\")\n",
    "    \n",
    "    def obtenerDatos(self):\n",
    "        dato_completo = []\n",
    "        lineas = self.archivo.readlines()\n",
    "        \n",
    "        for linea in lineas:\n",
    "            datos = linea.split(\",\")\n",
    "        return dato_completo\n",
    "    \n",
    "    def cerrarArchivo(self):\n",
    "        self.archivo.close()\n",
    "        \n",
    "        \n",
    "         "
   ]
  }
 ],
 "metadata": {
  "kernelspec": {
   "display_name": "Python 3",
   "language": "python",
   "name": "python3"
  },
  "language_info": {
   "codemirror_mode": {
    "name": "ipython",
    "version": 3
   },
   "file_extension": ".py",
   "mimetype": "text/x-python",
   "name": "python",
   "nbconvert_exporter": "python",
   "pygments_lexer": "ipython3",
   "version": "3.7.0b3"
  }
 },
 "nbformat": 4,
 "nbformat_minor": 2
}
