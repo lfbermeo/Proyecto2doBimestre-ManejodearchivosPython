{
 "cells": [
  {
   "cell_type": "markdown",
   "metadata": {},
   "source": [
    "## Gráfica de barras verticales"
   ]
  },
  {
   "cell_type": "markdown",
   "metadata": {},
   "source": [
    "En la primera línea realizamos la importación de la librería de pandas para leer los datos en el formato csv y la denominamos dp, las siguientes importaciones son de la librería de bokeh que es para realizar los gráficos estadísticos."
   ]
  },
  {
   "cell_type": "code",
   "execution_count": 1,
   "metadata": {},
   "outputs": [],
   "source": [
    "import pandas as pd\n",
    "from bokeh.plotting import figure, show, output_notebook\n",
    "from bokeh.models import ColumnDataSource\n",
    "from bokeh.models.tools import HoverTool\n",
    "from bokeh.transform import factor_cmap\n",
    "from bokeh.palettes import Category20b"
   ]
  },
  {
   "cell_type": "markdown",
   "metadata": {},
   "source": [
    "\"output_notebook\" es una función de bokeh para hacer la presentación grafica."
   ]
  },
  {
   "cell_type": "code",
   "execution_count": 2,
   "metadata": {},
   "outputs": [
    {
     "data": {
      "text/html": [
       "\n",
       "    <div class=\"bk-root\">\n",
       "        <a href=\"https://bokeh.pydata.org\" target=\"_blank\" class=\"bk-logo bk-logo-small bk-logo-notebook\"></a>\n",
       "        <span id=\"1001\">Loading BokehJS ...</span>\n",
       "    </div>"
      ]
     },
     "metadata": {},
     "output_type": "display_data"
    },
    {
     "data": {
      "application/javascript": [
       "\n",
       "(function(root) {\n",
       "  function now() {\n",
       "    return new Date();\n",
       "  }\n",
       "\n",
       "  var force = true;\n",
       "\n",
       "  if (typeof (root._bokeh_onload_callbacks) === \"undefined\" || force === true) {\n",
       "    root._bokeh_onload_callbacks = [];\n",
       "    root._bokeh_is_loading = undefined;\n",
       "  }\n",
       "\n",
       "  var JS_MIME_TYPE = 'application/javascript';\n",
       "  var HTML_MIME_TYPE = 'text/html';\n",
       "  var EXEC_MIME_TYPE = 'application/vnd.bokehjs_exec.v0+json';\n",
       "  var CLASS_NAME = 'output_bokeh rendered_html';\n",
       "\n",
       "  /**\n",
       "   * Render data to the DOM node\n",
       "   */\n",
       "  function render(props, node) {\n",
       "    var script = document.createElement(\"script\");\n",
       "    node.appendChild(script);\n",
       "  }\n",
       "\n",
       "  /**\n",
       "   * Handle when an output is cleared or removed\n",
       "   */\n",
       "  function handleClearOutput(event, handle) {\n",
       "    var cell = handle.cell;\n",
       "\n",
       "    var id = cell.output_area._bokeh_element_id;\n",
       "    var server_id = cell.output_area._bokeh_server_id;\n",
       "    // Clean up Bokeh references\n",
       "    if (id != null && id in Bokeh.index) {\n",
       "      Bokeh.index[id].model.document.clear();\n",
       "      delete Bokeh.index[id];\n",
       "    }\n",
       "\n",
       "    if (server_id !== undefined) {\n",
       "      // Clean up Bokeh references\n",
       "      var cmd = \"from bokeh.io.state import curstate; print(curstate().uuid_to_server['\" + server_id + \"'].get_sessions()[0].document.roots[0]._id)\";\n",
       "      cell.notebook.kernel.execute(cmd, {\n",
       "        iopub: {\n",
       "          output: function(msg) {\n",
       "            var id = msg.content.text.trim();\n",
       "            if (id in Bokeh.index) {\n",
       "              Bokeh.index[id].model.document.clear();\n",
       "              delete Bokeh.index[id];\n",
       "            }\n",
       "          }\n",
       "        }\n",
       "      });\n",
       "      // Destroy server and session\n",
       "      var cmd = \"import bokeh.io.notebook as ion; ion.destroy_server('\" + server_id + \"')\";\n",
       "      cell.notebook.kernel.execute(cmd);\n",
       "    }\n",
       "  }\n",
       "\n",
       "  /**\n",
       "   * Handle when a new output is added\n",
       "   */\n",
       "  function handleAddOutput(event, handle) {\n",
       "    var output_area = handle.output_area;\n",
       "    var output = handle.output;\n",
       "\n",
       "    // limit handleAddOutput to display_data with EXEC_MIME_TYPE content only\n",
       "    if ((output.output_type != \"display_data\") || (!output.data.hasOwnProperty(EXEC_MIME_TYPE))) {\n",
       "      return\n",
       "    }\n",
       "\n",
       "    var toinsert = output_area.element.find(\".\" + CLASS_NAME.split(' ')[0]);\n",
       "\n",
       "    if (output.metadata[EXEC_MIME_TYPE][\"id\"] !== undefined) {\n",
       "      toinsert[toinsert.length - 1].firstChild.textContent = output.data[JS_MIME_TYPE];\n",
       "      // store reference to embed id on output_area\n",
       "      output_area._bokeh_element_id = output.metadata[EXEC_MIME_TYPE][\"id\"];\n",
       "    }\n",
       "    if (output.metadata[EXEC_MIME_TYPE][\"server_id\"] !== undefined) {\n",
       "      var bk_div = document.createElement(\"div\");\n",
       "      bk_div.innerHTML = output.data[HTML_MIME_TYPE];\n",
       "      var script_attrs = bk_div.children[0].attributes;\n",
       "      for (var i = 0; i < script_attrs.length; i++) {\n",
       "        toinsert[toinsert.length - 1].firstChild.setAttribute(script_attrs[i].name, script_attrs[i].value);\n",
       "      }\n",
       "      // store reference to server id on output_area\n",
       "      output_area._bokeh_server_id = output.metadata[EXEC_MIME_TYPE][\"server_id\"];\n",
       "    }\n",
       "  }\n",
       "\n",
       "  function register_renderer(events, OutputArea) {\n",
       "\n",
       "    function append_mime(data, metadata, element) {\n",
       "      // create a DOM node to render to\n",
       "      var toinsert = this.create_output_subarea(\n",
       "        metadata,\n",
       "        CLASS_NAME,\n",
       "        EXEC_MIME_TYPE\n",
       "      );\n",
       "      this.keyboard_manager.register_events(toinsert);\n",
       "      // Render to node\n",
       "      var props = {data: data, metadata: metadata[EXEC_MIME_TYPE]};\n",
       "      render(props, toinsert[toinsert.length - 1]);\n",
       "      element.append(toinsert);\n",
       "      return toinsert\n",
       "    }\n",
       "\n",
       "    /* Handle when an output is cleared or removed */\n",
       "    events.on('clear_output.CodeCell', handleClearOutput);\n",
       "    events.on('delete.Cell', handleClearOutput);\n",
       "\n",
       "    /* Handle when a new output is added */\n",
       "    events.on('output_added.OutputArea', handleAddOutput);\n",
       "\n",
       "    /**\n",
       "     * Register the mime type and append_mime function with output_area\n",
       "     */\n",
       "    OutputArea.prototype.register_mime_type(EXEC_MIME_TYPE, append_mime, {\n",
       "      /* Is output safe? */\n",
       "      safe: true,\n",
       "      /* Index of renderer in `output_area.display_order` */\n",
       "      index: 0\n",
       "    });\n",
       "  }\n",
       "\n",
       "  // register the mime type if in Jupyter Notebook environment and previously unregistered\n",
       "  if (root.Jupyter !== undefined) {\n",
       "    var events = require('base/js/events');\n",
       "    var OutputArea = require('notebook/js/outputarea').OutputArea;\n",
       "\n",
       "    if (OutputArea.prototype.mime_types().indexOf(EXEC_MIME_TYPE) == -1) {\n",
       "      register_renderer(events, OutputArea);\n",
       "    }\n",
       "  }\n",
       "\n",
       "  \n",
       "  if (typeof (root._bokeh_timeout) === \"undefined\" || force === true) {\n",
       "    root._bokeh_timeout = Date.now() + 5000;\n",
       "    root._bokeh_failed_load = false;\n",
       "  }\n",
       "\n",
       "  var NB_LOAD_WARNING = {'data': {'text/html':\n",
       "     \"<div style='background-color: #fdd'>\\n\"+\n",
       "     \"<p>\\n\"+\n",
       "     \"BokehJS does not appear to have successfully loaded. If loading BokehJS from CDN, this \\n\"+\n",
       "     \"may be due to a slow or bad network connection. Possible fixes:\\n\"+\n",
       "     \"</p>\\n\"+\n",
       "     \"<ul>\\n\"+\n",
       "     \"<li>re-rerun `output_notebook()` to attempt to load from CDN again, or</li>\\n\"+\n",
       "     \"<li>use INLINE resources instead, as so:</li>\\n\"+\n",
       "     \"</ul>\\n\"+\n",
       "     \"<code>\\n\"+\n",
       "     \"from bokeh.resources import INLINE\\n\"+\n",
       "     \"output_notebook(resources=INLINE)\\n\"+\n",
       "     \"</code>\\n\"+\n",
       "     \"</div>\"}};\n",
       "\n",
       "  function display_loaded() {\n",
       "    var el = document.getElementById(\"1001\");\n",
       "    if (el != null) {\n",
       "      el.textContent = \"BokehJS is loading...\";\n",
       "    }\n",
       "    if (root.Bokeh !== undefined) {\n",
       "      if (el != null) {\n",
       "        el.textContent = \"BokehJS \" + root.Bokeh.version + \" successfully loaded.\";\n",
       "      }\n",
       "    } else if (Date.now() < root._bokeh_timeout) {\n",
       "      setTimeout(display_loaded, 100)\n",
       "    }\n",
       "  }\n",
       "\n",
       "\n",
       "  function run_callbacks() {\n",
       "    try {\n",
       "      root._bokeh_onload_callbacks.forEach(function(callback) { callback() });\n",
       "    }\n",
       "    finally {\n",
       "      delete root._bokeh_onload_callbacks\n",
       "    }\n",
       "    console.info(\"Bokeh: all callbacks have finished\");\n",
       "  }\n",
       "\n",
       "  function load_libs(js_urls, callback) {\n",
       "    root._bokeh_onload_callbacks.push(callback);\n",
       "    if (root._bokeh_is_loading > 0) {\n",
       "      console.log(\"Bokeh: BokehJS is being loaded, scheduling callback at\", now());\n",
       "      return null;\n",
       "    }\n",
       "    if (js_urls == null || js_urls.length === 0) {\n",
       "      run_callbacks();\n",
       "      return null;\n",
       "    }\n",
       "    console.log(\"Bokeh: BokehJS not loaded, scheduling load and callback at\", now());\n",
       "    root._bokeh_is_loading = js_urls.length;\n",
       "    for (var i = 0; i < js_urls.length; i++) {\n",
       "      var url = js_urls[i];\n",
       "      var s = document.createElement('script');\n",
       "      s.src = url;\n",
       "      s.async = false;\n",
       "      s.onreadystatechange = s.onload = function() {\n",
       "        root._bokeh_is_loading--;\n",
       "        if (root._bokeh_is_loading === 0) {\n",
       "          console.log(\"Bokeh: all BokehJS libraries loaded\");\n",
       "          run_callbacks()\n",
       "        }\n",
       "      };\n",
       "      s.onerror = function() {\n",
       "        console.warn(\"failed to load library \" + url);\n",
       "      };\n",
       "      console.log(\"Bokeh: injecting script tag for BokehJS library: \", url);\n",
       "      document.getElementsByTagName(\"head\")[0].appendChild(s);\n",
       "    }\n",
       "  };var element = document.getElementById(\"1001\");\n",
       "  if (element == null) {\n",
       "    console.log(\"Bokeh: ERROR: autoload.js configured with elementid '1001' but no matching script tag was found. \")\n",
       "    return false;\n",
       "  }\n",
       "\n",
       "  var js_urls = [\"https://cdn.pydata.org/bokeh/release/bokeh-1.0.4.min.js\", \"https://cdn.pydata.org/bokeh/release/bokeh-widgets-1.0.4.min.js\", \"https://cdn.pydata.org/bokeh/release/bokeh-tables-1.0.4.min.js\", \"https://cdn.pydata.org/bokeh/release/bokeh-gl-1.0.4.min.js\"];\n",
       "\n",
       "  var inline_js = [\n",
       "    function(Bokeh) {\n",
       "      Bokeh.set_log_level(\"info\");\n",
       "    },\n",
       "    \n",
       "    function(Bokeh) {\n",
       "      \n",
       "    },\n",
       "    function(Bokeh) {\n",
       "      console.log(\"Bokeh: injecting CSS: https://cdn.pydata.org/bokeh/release/bokeh-1.0.4.min.css\");\n",
       "      Bokeh.embed.inject_css(\"https://cdn.pydata.org/bokeh/release/bokeh-1.0.4.min.css\");\n",
       "      console.log(\"Bokeh: injecting CSS: https://cdn.pydata.org/bokeh/release/bokeh-widgets-1.0.4.min.css\");\n",
       "      Bokeh.embed.inject_css(\"https://cdn.pydata.org/bokeh/release/bokeh-widgets-1.0.4.min.css\");\n",
       "      console.log(\"Bokeh: injecting CSS: https://cdn.pydata.org/bokeh/release/bokeh-tables-1.0.4.min.css\");\n",
       "      Bokeh.embed.inject_css(\"https://cdn.pydata.org/bokeh/release/bokeh-tables-1.0.4.min.css\");\n",
       "    }\n",
       "  ];\n",
       "\n",
       "  function run_inline_js() {\n",
       "    \n",
       "    if ((root.Bokeh !== undefined) || (force === true)) {\n",
       "      for (var i = 0; i < inline_js.length; i++) {\n",
       "        inline_js[i].call(root, root.Bokeh);\n",
       "      }if (force === true) {\n",
       "        display_loaded();\n",
       "      }} else if (Date.now() < root._bokeh_timeout) {\n",
       "      setTimeout(run_inline_js, 100);\n",
       "    } else if (!root._bokeh_failed_load) {\n",
       "      console.log(\"Bokeh: BokehJS failed to load within specified timeout.\");\n",
       "      root._bokeh_failed_load = true;\n",
       "    } else if (force !== true) {\n",
       "      var cell = $(document.getElementById(\"1001\")).parents('.cell').data().cell;\n",
       "      cell.output_area.append_execute_result(NB_LOAD_WARNING)\n",
       "    }\n",
       "\n",
       "  }\n",
       "\n",
       "  if (root._bokeh_is_loading === 0) {\n",
       "    console.log(\"Bokeh: BokehJS loaded, going straight to plotting\");\n",
       "    run_inline_js();\n",
       "  } else {\n",
       "    load_libs(js_urls, function() {\n",
       "      console.log(\"Bokeh: BokehJS plotting callback run at\", now());\n",
       "      run_inline_js();\n",
       "    });\n",
       "  }\n",
       "}(window));"
      ],
      "application/vnd.bokehjs_load.v0+json": "\n(function(root) {\n  function now() {\n    return new Date();\n  }\n\n  var force = true;\n\n  if (typeof (root._bokeh_onload_callbacks) === \"undefined\" || force === true) {\n    root._bokeh_onload_callbacks = [];\n    root._bokeh_is_loading = undefined;\n  }\n\n  \n\n  \n  if (typeof (root._bokeh_timeout) === \"undefined\" || force === true) {\n    root._bokeh_timeout = Date.now() + 5000;\n    root._bokeh_failed_load = false;\n  }\n\n  var NB_LOAD_WARNING = {'data': {'text/html':\n     \"<div style='background-color: #fdd'>\\n\"+\n     \"<p>\\n\"+\n     \"BokehJS does not appear to have successfully loaded. If loading BokehJS from CDN, this \\n\"+\n     \"may be due to a slow or bad network connection. Possible fixes:\\n\"+\n     \"</p>\\n\"+\n     \"<ul>\\n\"+\n     \"<li>re-rerun `output_notebook()` to attempt to load from CDN again, or</li>\\n\"+\n     \"<li>use INLINE resources instead, as so:</li>\\n\"+\n     \"</ul>\\n\"+\n     \"<code>\\n\"+\n     \"from bokeh.resources import INLINE\\n\"+\n     \"output_notebook(resources=INLINE)\\n\"+\n     \"</code>\\n\"+\n     \"</div>\"}};\n\n  function display_loaded() {\n    var el = document.getElementById(\"1001\");\n    if (el != null) {\n      el.textContent = \"BokehJS is loading...\";\n    }\n    if (root.Bokeh !== undefined) {\n      if (el != null) {\n        el.textContent = \"BokehJS \" + root.Bokeh.version + \" successfully loaded.\";\n      }\n    } else if (Date.now() < root._bokeh_timeout) {\n      setTimeout(display_loaded, 100)\n    }\n  }\n\n\n  function run_callbacks() {\n    try {\n      root._bokeh_onload_callbacks.forEach(function(callback) { callback() });\n    }\n    finally {\n      delete root._bokeh_onload_callbacks\n    }\n    console.info(\"Bokeh: all callbacks have finished\");\n  }\n\n  function load_libs(js_urls, callback) {\n    root._bokeh_onload_callbacks.push(callback);\n    if (root._bokeh_is_loading > 0) {\n      console.log(\"Bokeh: BokehJS is being loaded, scheduling callback at\", now());\n      return null;\n    }\n    if (js_urls == null || js_urls.length === 0) {\n      run_callbacks();\n      return null;\n    }\n    console.log(\"Bokeh: BokehJS not loaded, scheduling load and callback at\", now());\n    root._bokeh_is_loading = js_urls.length;\n    for (var i = 0; i < js_urls.length; i++) {\n      var url = js_urls[i];\n      var s = document.createElement('script');\n      s.src = url;\n      s.async = false;\n      s.onreadystatechange = s.onload = function() {\n        root._bokeh_is_loading--;\n        if (root._bokeh_is_loading === 0) {\n          console.log(\"Bokeh: all BokehJS libraries loaded\");\n          run_callbacks()\n        }\n      };\n      s.onerror = function() {\n        console.warn(\"failed to load library \" + url);\n      };\n      console.log(\"Bokeh: injecting script tag for BokehJS library: \", url);\n      document.getElementsByTagName(\"head\")[0].appendChild(s);\n    }\n  };var element = document.getElementById(\"1001\");\n  if (element == null) {\n    console.log(\"Bokeh: ERROR: autoload.js configured with elementid '1001' but no matching script tag was found. \")\n    return false;\n  }\n\n  var js_urls = [\"https://cdn.pydata.org/bokeh/release/bokeh-1.0.4.min.js\", \"https://cdn.pydata.org/bokeh/release/bokeh-widgets-1.0.4.min.js\", \"https://cdn.pydata.org/bokeh/release/bokeh-tables-1.0.4.min.js\", \"https://cdn.pydata.org/bokeh/release/bokeh-gl-1.0.4.min.js\"];\n\n  var inline_js = [\n    function(Bokeh) {\n      Bokeh.set_log_level(\"info\");\n    },\n    \n    function(Bokeh) {\n      \n    },\n    function(Bokeh) {\n      console.log(\"Bokeh: injecting CSS: https://cdn.pydata.org/bokeh/release/bokeh-1.0.4.min.css\");\n      Bokeh.embed.inject_css(\"https://cdn.pydata.org/bokeh/release/bokeh-1.0.4.min.css\");\n      console.log(\"Bokeh: injecting CSS: https://cdn.pydata.org/bokeh/release/bokeh-widgets-1.0.4.min.css\");\n      Bokeh.embed.inject_css(\"https://cdn.pydata.org/bokeh/release/bokeh-widgets-1.0.4.min.css\");\n      console.log(\"Bokeh: injecting CSS: https://cdn.pydata.org/bokeh/release/bokeh-tables-1.0.4.min.css\");\n      Bokeh.embed.inject_css(\"https://cdn.pydata.org/bokeh/release/bokeh-tables-1.0.4.min.css\");\n    }\n  ];\n\n  function run_inline_js() {\n    \n    if ((root.Bokeh !== undefined) || (force === true)) {\n      for (var i = 0; i < inline_js.length; i++) {\n        inline_js[i].call(root, root.Bokeh);\n      }if (force === true) {\n        display_loaded();\n      }} else if (Date.now() < root._bokeh_timeout) {\n      setTimeout(run_inline_js, 100);\n    } else if (!root._bokeh_failed_load) {\n      console.log(\"Bokeh: BokehJS failed to load within specified timeout.\");\n      root._bokeh_failed_load = true;\n    } else if (force !== true) {\n      var cell = $(document.getElementById(\"1001\")).parents('.cell').data().cell;\n      cell.output_area.append_execute_result(NB_LOAD_WARNING)\n    }\n\n  }\n\n  if (root._bokeh_is_loading === 0) {\n    console.log(\"Bokeh: BokehJS loaded, going straight to plotting\");\n    run_inline_js();\n  } else {\n    load_libs(js_urls, function() {\n      console.log(\"Bokeh: BokehJS plotting callback run at\", now());\n      run_inline_js();\n    });\n  }\n}(window));"
     },
     "metadata": {},
     "output_type": "display_data"
    }
   ],
   "source": [
    "output_notebook()"
   ]
  },
  {
   "cell_type": "markdown",
   "metadata": {},
   "source": [
    "Creo la variable df para que realice la lectura de la base de datos, la cual esta en formato .csv, para ello usamos read_csv.En las siguiente le defino con \"Sample\" para definir 50 datos aleatorios de la data"
   ]
  },
  {
   "cell_type": "code",
   "execution_count": 3,
   "metadata": {},
   "outputs": [],
   "source": [
    "df = pd.read_csv('data/nacimientos2014.csv', encoding='utf8')\n",
    "df = df.sample(50)"
   ]
  },
  {
   "cell_type": "markdown",
   "metadata": {},
   "source": [
    "Creo una variable denominada grupo, la cuál por la función de bokeh que es groupby la cuál realiza grupos de las variables de datos que le asigno, el la siguiente línea creamos una variable source, que será a ColumnDataSoruce del grupo que definí en la anterior línea. \"ColumnDataSource\" la cuál convierte los datos de un objeto dataframe a un objeto de columnas de bokeh. Creo una variable ciudades la cual almacena todos los datos en formato de lista de la columna \"prov_insc\" de los datos source.Creo el objeto p, asignadole el rango por el eje de las x igualandolo a parroquia"
   ]
  },
  {
   "cell_type": "code",
   "execution_count": 4,
   "metadata": {},
   "outputs": [],
   "source": [
    "grupo_ciudad = df.groupby('prov_insc').describe()\n",
    "source = ColumnDataSource(grupo_ciudad)\n",
    "ciudades = source.data['prov_insc'].tolist()\n",
    "p = figure(x_range=ciudades)"
   ]
  },
  {
   "cell_type": "markdown",
   "metadata": {},
   "source": [
    "Creo la variable mapa_color que será igual a una función de bokeh para definir los colores y el tamaño de la gráfica estadística. Usando el objeto creado le asigno funciones de bokeh para realizar la gráfica de barras que es \"vbar\" la misma que le asigno las datos que necesita para realizar la gráfica, para dibujar el resultado de los parámetros a dibujar."
   ]
  },
  {
   "cell_type": "code",
   "execution_count": 5,
   "metadata": {},
   "outputs": [
    {
     "data": {
      "text/html": [
       "<div style=\"display: table;\"><div style=\"display: table-row;\"><div style=\"display: table-cell;\"><b title=\"bokeh.models.renderers.GlyphRenderer\">GlyphRenderer</b>(</div><div style=\"display: table-cell;\">id&nbsp;=&nbsp;'1040', <span id=\"1043\" style=\"cursor: pointer;\">&hellip;)</span></div></div><div class=\"1042\" style=\"display: none;\"><div style=\"display: table-cell;\"></div><div style=\"display: table-cell;\">data_source&nbsp;=&nbsp;ColumnDataSource(id='1002', ...),</div></div><div class=\"1042\" style=\"display: none;\"><div style=\"display: table-cell;\"></div><div style=\"display: table-cell;\">glyph&nbsp;=&nbsp;VBar(id='1038', ...),</div></div><div class=\"1042\" style=\"display: none;\"><div style=\"display: table-cell;\"></div><div style=\"display: table-cell;\">hover_glyph&nbsp;=&nbsp;None,</div></div><div class=\"1042\" style=\"display: none;\"><div style=\"display: table-cell;\"></div><div style=\"display: table-cell;\">js_event_callbacks&nbsp;=&nbsp;{},</div></div><div class=\"1042\" style=\"display: none;\"><div style=\"display: table-cell;\"></div><div style=\"display: table-cell;\">js_property_callbacks&nbsp;=&nbsp;{},</div></div><div class=\"1042\" style=\"display: none;\"><div style=\"display: table-cell;\"></div><div style=\"display: table-cell;\">level&nbsp;=&nbsp;'glyph',</div></div><div class=\"1042\" style=\"display: none;\"><div style=\"display: table-cell;\"></div><div style=\"display: table-cell;\">muted&nbsp;=&nbsp;False,</div></div><div class=\"1042\" style=\"display: none;\"><div style=\"display: table-cell;\"></div><div style=\"display: table-cell;\">muted_glyph&nbsp;=&nbsp;None,</div></div><div class=\"1042\" style=\"display: none;\"><div style=\"display: table-cell;\"></div><div style=\"display: table-cell;\">name&nbsp;=&nbsp;None,</div></div><div class=\"1042\" style=\"display: none;\"><div style=\"display: table-cell;\"></div><div style=\"display: table-cell;\">nonselection_glyph&nbsp;=&nbsp;VBar(id='1039', ...),</div></div><div class=\"1042\" style=\"display: none;\"><div style=\"display: table-cell;\"></div><div style=\"display: table-cell;\">selection_glyph&nbsp;=&nbsp;None,</div></div><div class=\"1042\" style=\"display: none;\"><div style=\"display: table-cell;\"></div><div style=\"display: table-cell;\">subscribed_events&nbsp;=&nbsp;[],</div></div><div class=\"1042\" style=\"display: none;\"><div style=\"display: table-cell;\"></div><div style=\"display: table-cell;\">tags&nbsp;=&nbsp;[],</div></div><div class=\"1042\" style=\"display: none;\"><div style=\"display: table-cell;\"></div><div style=\"display: table-cell;\">view&nbsp;=&nbsp;CDSView(id='1041', ...),</div></div><div class=\"1042\" style=\"display: none;\"><div style=\"display: table-cell;\"></div><div style=\"display: table-cell;\">visible&nbsp;=&nbsp;True,</div></div><div class=\"1042\" style=\"display: none;\"><div style=\"display: table-cell;\"></div><div style=\"display: table-cell;\">x_range_name&nbsp;=&nbsp;'default',</div></div><div class=\"1042\" style=\"display: none;\"><div style=\"display: table-cell;\"></div><div style=\"display: table-cell;\">y_range_name&nbsp;=&nbsp;'default')</div></div></div>\n",
       "<script>\n",
       "(function() {\n",
       "  var expanded = false;\n",
       "  var ellipsis = document.getElementById(\"1043\");\n",
       "  ellipsis.addEventListener(\"click\", function() {\n",
       "    var rows = document.getElementsByClassName(\"1042\");\n",
       "    for (var i = 0; i < rows.length; i++) {\n",
       "      var el = rows[i];\n",
       "      el.style.display = expanded ? \"none\" : \"table-row\";\n",
       "    }\n",
       "    ellipsis.innerHTML = expanded ? \"&hellip;)\" : \"&lsaquo;&lsaquo;&lsaquo;\";\n",
       "    expanded = !expanded;\n",
       "  });\n",
       "})();\n",
       "</script>\n"
      ],
      "text/plain": [
       "GlyphRenderer(id='1040', ...)"
      ]
     },
     "execution_count": 5,
     "metadata": {},
     "output_type": "execute_result"
    }
   ],
   "source": [
    "mapa_color = factor_cmap(field_name='prov_insc', palette=Category20b[len(ciudades)], factors=ciudades)\n",
    "p.vbar(x='prov_insc', top='anio_insc_count', source=source, width=0.7, color=mapa_color)"
   ]
  },
  {
   "cell_type": "markdown",
   "metadata": {},
   "source": [
    "En las siguientes líneas de código le colocó el título a la gráfica y los nombres de las variables a dibujarse para mayor compresión del usuario."
   ]
  },
  {
   "cell_type": "code",
   "execution_count": 6,
   "metadata": {},
   "outputs": [],
   "source": [
    "p.title.text= 'Gráfica de barras con respecto a las provincias de Ecuador ({} muestras)'.format(len(df))\n",
    "p.xaxis.axis_label = 'Ciudades'\n",
    "p.yaxis.axis_label = '# de nacimientos'\n",
    "p.xgrid.grid_line_color = None"
   ]
  },
  {
   "cell_type": "markdown",
   "metadata": {},
   "source": [
    "\"HoverTool\" es un objeto de bokeh el cuál me permite mostrar al usuario los datos exactos al momento de pasar el ratón o mouse por los datos dibujados"
   ]
  },
  {
   "cell_type": "code",
   "execution_count": 7,
   "metadata": {},
   "outputs": [],
   "source": [
    "hover = HoverTool()\n",
    "hover.tooltips = [\n",
    "    ('Valor', \"@anio_insc_count\"),\n",
    "    ('Provincia', \"@prov_insc\")\n",
    "]\n",
    "hover.mode = 'vline'\n",
    "p.add_tools(hover)"
   ]
  },
  {
   "cell_type": "markdown",
   "metadata": {},
   "source": [
    "En las siguientes líneas de código, llamo al objeto creado para asignarle valores los cuáles colocaran los nombres de las variables de el eje de las x,en forma diagonal "
   ]
  },
  {
   "cell_type": "code",
   "execution_count": 8,
   "metadata": {},
   "outputs": [],
   "source": [
    "p.y_range.start = 0\n",
    "p.x_range.range_padding = 0.1\n",
    "p.xaxis.major_label_orientation = 1\n",
    "p.xgrid.grid_line_color = None"
   ]
  },
  {
   "cell_type": "markdown",
   "metadata": {},
   "source": [
    "Mostramos p, el cuál ya está creado, tiene todas las funciones como colores, los datos filtrados y la gráfica que debe realiza"
   ]
  },
  {
   "cell_type": "markdown",
   "metadata": {},
   "source": [
    "En las siguiente gráfica, lo que quiero demostrar es por cada provincia, cuantos nacimientos ocurrieron."
   ]
  },
  {
   "cell_type": "code",
   "execution_count": 9,
   "metadata": {
    "scrolled": false
   },
   "outputs": [
    {
     "data": {
      "text/html": [
       "\n",
       "\n",
       "\n",
       "\n",
       "\n",
       "\n",
       "  <div class=\"bk-root\" id=\"83b0890f-edf5-4a9e-be0e-c513db18dace\" data-root-id=\"1003\"></div>\n"
      ]
     },
     "metadata": {},
     "output_type": "display_data"
    },
    {
     "data": {
      "application/javascript": [
       "(function(root) {\n",
       "  function embed_document(root) {\n",
       "    \n",
       "  var docs_json = {\"271defc5-7e58-479e-8880-02bfeedaa4a3\":{\"roots\":{\"references\":[{\"attributes\":{\"below\":[{\"id\":\"1012\",\"type\":\"CategoricalAxis\"}],\"left\":[{\"id\":\"1016\",\"type\":\"LinearAxis\"}],\"renderers\":[{\"id\":\"1012\",\"type\":\"CategoricalAxis\"},{\"id\":\"1015\",\"type\":\"Grid\"},{\"id\":\"1016\",\"type\":\"LinearAxis\"},{\"id\":\"1020\",\"type\":\"Grid\"},{\"id\":\"1029\",\"type\":\"BoxAnnotation\"},{\"id\":\"1040\",\"type\":\"GlyphRenderer\"}],\"title\":{\"id\":\"1044\",\"type\":\"Title\"},\"toolbar\":{\"id\":\"1027\",\"type\":\"Toolbar\"},\"x_range\":{\"id\":\"1004\",\"type\":\"FactorRange\"},\"x_scale\":{\"id\":\"1008\",\"type\":\"CategoricalScale\"},\"y_range\":{\"id\":\"1006\",\"type\":\"DataRange1d\"},\"y_scale\":{\"id\":\"1010\",\"type\":\"LinearScale\"}},\"id\":\"1003\",\"subtype\":\"Figure\",\"type\":\"Plot\"},{\"attributes\":{},\"id\":\"1008\",\"type\":\"CategoricalScale\"},{\"attributes\":{},\"id\":\"1052\",\"type\":\"BasicTickFormatter\"},{\"attributes\":{},\"id\":\"1017\",\"type\":\"BasicTicker\"},{\"attributes\":{\"callback\":null,\"data\":{\"Unnamed: 0_25%\":{\"__ndarray__\":\"AAAAAACobkAAAAAAAPaBQAAAAAAAKIpAAAAAAABAiEAAAAAAAFiOQAAAAAAAzJFAAAAAAABWgEAAAAAAAKiQQAAAAAAAGJFAAAAAAADQlkAAAAAAAC6gQAAAAAAAuJZA\",\"dtype\":\"float64\",\"shape\":[12]},\"Unnamed: 0_50%\":{\"__ndarray__\":\"AAAAAABIckAAAAAAACSCQAAAAAAAKIpAAAAAAABAiEAAAAAAABSVQAAAAAAAzJFAAAAAAAAokUAAAAAAAKiQQAAAAAAAHJ5AAAAAAADQlkAAAAAAADigQAAAAAAAuJZA\",\"dtype\":\"float64\",\"shape\":[12]},\"Unnamed: 0_75%\":{\"__ndarray__\":\"AAAAAAA8dUAAAAAAAFKCQAAAAAAAKIpAAAAAAABAiEAAAAAAABidQAAAAAAAzJFAAAAAAADYlUAAAAAAAKiQQAAAAAAAX6BAAAAAAADQlkAAAAAAAEKgQAAAAAAAuJZA\",\"dtype\":\"float64\",\"shape\":[12]},\"Unnamed: 0_count\":{\"__ndarray__\":\"AAAAAAAAAEAAAAAAAAAAQAAAAAAAAPA/AAAAAAAA8D8AAAAAAAA5QAAAAAAAAPA/AAAAAAAAGEAAAAAAAADwPwAAAAAAABxAAAAAAAAA8D8AAAAAAAAAQAAAAAAAAPA/\",\"dtype\":\"float64\",\"shape\":[12]},\"Unnamed: 0_max\":{\"__ndarray__\":\"AAAAAAAweEAAAAAAAICCQAAAAAAAKIpAAAAAAABAiEAAAAAAADqjQAAAAAAAzJFAAAAAAADIokAAAAAAAKiQQAAAAAAA/KJAAAAAAADQlkAAAAAAAEygQAAAAAAAuJZA\",\"dtype\":\"float64\",\"shape\":[12]},\"Unnamed: 0_mean\":{\"__ndarray__\":\"AAAAAABIckAAAAAAACSCQAAAAAAAKIpAAAAAAABAiEBxPQrXoxiWQAAAAAAAzJFAq6qqqqqqkUAAAAAAAKiQQEmSJEmS3JhAAAAAAADQlkAAAAAAADigQAAAAAAAuJZA\",\"dtype\":\"float64\",\"shape\":[12]},\"Unnamed: 0_min\":{\"__ndarray__\":\"AAAAAADAaEAAAAAAAMiBQAAAAAAAKIpAAAAAAABAiEAAAAAAAMBwQAAAAAAAzJFAAAAAAAAwdkAAAAAAAKiQQAAAAAAAIHlAAAAAAADQlkAAAAAAACSgQAAAAAAAuJZA\",\"dtype\":\"float64\",\"shape\":[12]},\"Unnamed: 0_std\":{\"__ndarray__\":\"Ju+r8ZS0YED7cqvZcUMwQAAAAAAAAPh/AAAAAAAA+H9BNsxfCWSEQAAAAAAAAPh/kx9eGpkJiEAAAAAAAAD4f5dJeeulu4lAAAAAAAAA+H/ACh8AxkgsQAAAAAAAAPh/\",\"dtype\":\"float64\",\"shape\":[12]},\"anio_insc_25%\":{\"__ndarray__\":\"AAAAAAB4n0AAAAAAAHifQAAAAAAAeJ9AAAAAAAB4n0AAAAAAAHifQAAAAAAAeJ9AAAAAAAB4n0AAAAAAAHifQAAAAAAAeJ9AAAAAAAB4n0AAAAAAAHifQAAAAAAAeJ9A\",\"dtype\":\"float64\",\"shape\":[12]},\"anio_insc_50%\":{\"__ndarray__\":\"AAAAAAB4n0AAAAAAAHifQAAAAAAAeJ9AAAAAAAB4n0AAAAAAAHifQAAAAAAAeJ9AAAAAAAB4n0AAAAAAAHifQAAAAAAAeJ9AAAAAAAB4n0AAAAAAAHifQAAAAAAAeJ9A\",\"dtype\":\"float64\",\"shape\":[12]},\"anio_insc_75%\":{\"__ndarray__\":\"AAAAAAB4n0AAAAAAAHifQAAAAAAAeJ9AAAAAAAB4n0AAAAAAAHifQAAAAAAAeJ9AAAAAAAB4n0AAAAAAAHifQAAAAAAAeJ9AAAAAAAB4n0AAAAAAAHifQAAAAAAAeJ9A\",\"dtype\":\"float64\",\"shape\":[12]},\"anio_insc_count\":{\"__ndarray__\":\"AAAAAAAAAEAAAAAAAAAAQAAAAAAAAPA/AAAAAAAA8D8AAAAAAAA5QAAAAAAAAPA/AAAAAAAAGEAAAAAAAADwPwAAAAAAABxAAAAAAAAA8D8AAAAAAAAAQAAAAAAAAPA/\",\"dtype\":\"float64\",\"shape\":[12]},\"anio_insc_max\":{\"__ndarray__\":\"AAAAAAB4n0AAAAAAAHifQAAAAAAAeJ9AAAAAAAB4n0AAAAAAAHifQAAAAAAAeJ9AAAAAAAB4n0AAAAAAAHifQAAAAAAAeJ9AAAAAAAB4n0AAAAAAAHifQAAAAAAAeJ9A\",\"dtype\":\"float64\",\"shape\":[12]},\"anio_insc_mean\":{\"__ndarray__\":\"AAAAAAB4n0AAAAAAAHifQAAAAAAAeJ9AAAAAAAB4n0AAAAAAAHifQAAAAAAAeJ9AAAAAAAB4n0AAAAAAAHifQAAAAAAAeJ9AAAAAAAB4n0AAAAAAAHifQAAAAAAAeJ9A\",\"dtype\":\"float64\",\"shape\":[12]},\"anio_insc_min\":{\"__ndarray__\":\"AAAAAAB4n0AAAAAAAHifQAAAAAAAeJ9AAAAAAAB4n0AAAAAAAHifQAAAAAAAeJ9AAAAAAAB4n0AAAAAAAHifQAAAAAAAeJ9AAAAAAAB4n0AAAAAAAHifQAAAAAAAeJ9A\",\"dtype\":\"float64\",\"shape\":[12]},\"anio_insc_std\":{\"__ndarray__\":\"AAAAAAAAAAAAAAAAAAAAAAAAAAAAAPh/AAAAAAAA+H8AAAAAAAAAAAAAAAAAAPh/AAAAAAAAAAAAAAAAAAD4fwAAAAAAAAAAAAAAAAAA+H8AAAAAAAAAAAAAAAAAAPh/\",\"dtype\":\"float64\",\"shape\":[12]},\"anio_mad_25%\":{\"__ndarray__\":\"AAAAAAAgn0AAAAAAAB+fQAAAAAAAAPh/AAAAAAAA+H8AAAAAAAGfQAAAAAAA4J5AAAAAAAAMn0AAAAAAAPCeQAAAAAAA/p5AAAAAAAAsn0AAAAAAAByfQAAAAAAAAPh/\",\"dtype\":\"float64\",\"shape\":[12]},\"anio_mad_50%\":{\"__ndarray__\":\"AAAAAAAkn0AAAAAAACafQAAAAAAAAPh/AAAAAAAA+H8AAAAAAAqfQAAAAAAA4J5AAAAAAAAYn0AAAAAAAPCeQAAAAAAABJ9AAAAAAAAsn0AAAAAAAByfQAAAAAAAAPh/\",\"dtype\":\"float64\",\"shape\":[12]},\"anio_mad_75%\":{\"__ndarray__\":\"AAAAAAAon0AAAAAAAC2fQAAAAAAAAPh/AAAAAAAA+H8AAAAAABifQAAAAAAA4J5AAAAAAAAen0AAAAAAAPCeQAAAAAAAIp9AAAAAAAAsn0AAAAAAAByfQAAAAAAAAPh/\",\"dtype\":\"float64\",\"shape\":[12]},\"anio_mad_count\":{\"__ndarray__\":\"AAAAAAAAAEAAAAAAAAAAQAAAAAAAAAAAAAAAAAAAAAAAAAAAAAAsQAAAAAAAAPA/AAAAAAAAGEAAAAAAAADwPwAAAAAAABxAAAAAAAAA8D8AAAAAAADwPwAAAAAAAAAA\",\"dtype\":\"float64\",\"shape\":[12]},\"anio_mad_max\":{\"__ndarray__\":\"AAAAAAAsn0AAAAAAADSfQAAAAAAAAPh/AAAAAAAA+H8AAAAAACSfQAAAAAAA4J5AAAAAAAA4n0AAAAAAAPCeQAAAAACAh8NAAAAAAAAsn0AAAAAAAByfQAAAAAAAAPh/\",\"dtype\":\"float64\",\"shape\":[12]},\"anio_mad_mean\":{\"__ndarray__\":\"AAAAAAAkn0AAAAAAACafQAAAAAAAAPh/AAAAAAAA+H8lSZIkSQqfQAAAAAAA4J5AVVVVVVUXn0AAAAAAAPCeQG7btm3bdKhAAAAAAAAsn0AAAAAAAByfQAAAAAAAAPh/\",\"dtype\":\"float64\",\"shape\":[12]},\"anio_mad_min\":{\"__ndarray__\":\"AAAAAAAcn0AAAAAAABifQAAAAAAAAPh/AAAAAAAA+H8AAAAAAOCeQAAAAAAA4J5AAAAAAAD8nkAAAAAAAPCeQAAAAAAA5J5AAAAAAAAsn0AAAAAAAByfQAAAAAAAAPh/\",\"dtype\":\"float64\",\"shape\":[12]},\"anio_mad_std\":{\"__ndarray__\":\"zTt/Zp6gBkBTVK+ZiswTQAAAAAAAAPh/AAAAAAAA+H8J2pYmd3oSQAAAAAAAAPh/bRxyNv2dFEAAAAAAAAD4f4E9oFuFqadAAAAAAAAA+H8AAAAAAAD4fwAAAAAAAPh/\",\"dtype\":\"float64\",\"shape\":[12]},\"anio_nac_25%\":{\"__ndarray__\":\"AAAAAAB1n0AAAAAAAHifQAAAAAAAcJ9AAAAAAABMn0AAAAAAAGifQAAAAAAAeJ9AAAAAAAB4n0AAAAAAAHifQAAAAAAAeJ9AAAAAAAB4n0AAAAAAAHKfQAAAAAAAbJ9A\",\"dtype\":\"float64\",\"shape\":[12]},\"anio_nac_50%\":{\"__ndarray__\":\"AAAAAAB2n0AAAAAAAHifQAAAAAAAcJ9AAAAAAABMn0AAAAAAAHSfQAAAAAAAeJ9AAAAAAAB4n0AAAAAAAHifQAAAAAAAeJ9AAAAAAAB4n0AAAAAAAHSfQAAAAAAAbJ9A\",\"dtype\":\"float64\",\"shape\":[12]},\"anio_nac_75%\":{\"__ndarray__\":\"AAAAAAB3n0AAAAAAAHifQAAAAAAAcJ9AAAAAAABMn0AAAAAAAHifQAAAAAAAeJ9AAAAAAAB4n0AAAAAAAHifQAAAAAAAeJ9AAAAAAAB4n0AAAAAAAHafQAAAAAAAbJ9A\",\"dtype\":\"float64\",\"shape\":[12]},\"anio_nac_count\":{\"__ndarray__\":\"AAAAAAAAAEAAAAAAAAAAQAAAAAAAAPA/AAAAAAAA8D8AAAAAAAA5QAAAAAAAAPA/AAAAAAAAGEAAAAAAAADwPwAAAAAAABxAAAAAAAAA8D8AAAAAAAAAQAAAAAAAAPA/\",\"dtype\":\"float64\",\"shape\":[12]},\"anio_nac_max\":{\"__ndarray__\":\"AAAAAAB4n0AAAAAAAHifQAAAAAAAcJ9AAAAAAABMn0AAAAAAAHifQAAAAAAAeJ9AAAAAAAB4n0AAAAAAAHifQAAAAAAAeJ9AAAAAAAB4n0AAAAAAAHifQAAAAAAAbJ9A\",\"dtype\":\"float64\",\"shape\":[12]},\"anio_nac_mean\":{\"__ndarray__\":\"AAAAAAB2n0AAAAAAAHifQAAAAAAAcJ9AAAAAAABMn0Bcj8L1KGSfQAAAAAAAeJ9AVVVVVVV3n0AAAAAAAHifQLdt27Ztd59AAAAAAAB4n0AAAAAAAHSfQAAAAAAAbJ9A\",\"dtype\":\"float64\",\"shape\":[12]},\"anio_nac_min\":{\"__ndarray__\":\"AAAAAAB0n0AAAAAAAHifQAAAAAAAcJ9AAAAAAABMn0AAAAAAAJSeQAAAAAAAeJ9AAAAAAAB0n0AAAAAAAHifQAAAAAAAdJ9AAAAAAAB4n0AAAAAAAHCfQAAAAAAAbJ9A\",\"dtype\":\"float64\",\"shape\":[12]},\"anio_nac_std\":{\"__ndarray__\":\"zTt/Zp6g5j8AAAAAAAAAAAAAAAAAAPh/AAAAAAAA+H+A+0hK6zAnQAAAAAAAAPh/PiwMcL0g2j8AAAAAAAD4f+b3p+aRMNg/AAAAAAAA+H/NO39mnqD2PwAAAAAAAPh/\",\"dtype\":\"float64\",\"shape\":[12]},\"con_pren_25%\":{\"__ndarray__\":\"AAAAAAAA0D8AAAAAAAAXQAAAAAAAAPh/AAAAAAAA+H8AAAAAAAAYQAAAAAAAACJAAAAAAAAAFUAAAAAAAAAcQAAAAAAAABpAAAAAAADAWEAAAAAAAAAYQAAAAAAAAPh/\",\"dtype\":\"float64\",\"shape\":[12]},\"con_pren_50%\":{\"__ndarray__\":\"AAAAAAAA4D8AAAAAAAAaQAAAAAAAAPh/AAAAAAAA+H8AAAAAAAAcQAAAAAAAACJAAAAAAAAAGkAAAAAAAAAcQAAAAAAAACRAAAAAAADAWEAAAAAAAAAYQAAAAAAAAPh/\",\"dtype\":\"float64\",\"shape\":[12]},\"con_pren_75%\":{\"__ndarray__\":\"AAAAAAAA6D8AAAAAAAAdQAAAAAAAAPh/AAAAAAAA+H8AAAAAAAAgQAAAAAAAACJAAAAAAAAAHEAAAAAAAAAcQAAAAAAAACRAAAAAAADAWEAAAAAAAAAYQAAAAAAAAPh/\",\"dtype\":\"float64\",\"shape\":[12]},\"con_pren_count\":{\"__ndarray__\":\"AAAAAAAAAEAAAAAAAAAAQAAAAAAAAAAAAAAAAAAAAAAAAAAAAAAsQAAAAAAAAPA/AAAAAAAAGEAAAAAAAADwPwAAAAAAABxAAAAAAAAA8D8AAAAAAADwPwAAAAAAAAAA\",\"dtype\":\"float64\",\"shape\":[12]},\"con_pren_max\":{\"__ndarray__\":\"AAAAAAAA8D8AAAAAAAAgQAAAAAAAAPh/AAAAAAAA+H8AAAAAAAAoQAAAAAAAACJAAAAAAADAWEAAAAAAAAAcQAAAAAAAACRAAAAAAADAWEAAAAAAAAAYQAAAAAAAAPh/\",\"dtype\":\"float64\",\"shape\":[12]},\"con_pren_mean\":{\"__ndarray__\":\"AAAAAAAA4D8AAAAAAAAaQAAAAAAAAPh/AAAAAAAA+H8AAAAAAAAcQAAAAAAAACJAAAAAAAAANUAAAAAAAAAcQLdt27Zt2x5AAAAAAADAWEAAAAAAAAAYQAAAAAAAAPh/\",\"dtype\":\"float64\",\"shape\":[12]},\"con_pren_min\":{\"__ndarray__\":\"AAAAAAAAAAAAAAAAAAAUQAAAAAAAAPh/AAAAAAAA+H8AAAAAAAAAAAAAAAAAACJAAAAAAAAAAEAAAAAAAAAcQAAAAAAAAPA/AAAAAADAWEAAAAAAAAAYQAAAAAAAAPh/\",\"dtype\":\"float64\",\"shape\":[12]},\"con_pren_std\":{\"__ndarray__\":\"zTt/Zp6g5j/ZbN/MdvgAQAAAAAAAAPh/AAAAAAAA+H979XbgXkUHQAAAAAAAAPh/AFknNuYgQ0AAAAAAAAD4f+P2fCOkNgtAAAAAAAAA+H8AAAAAAAD4fwAAAAAAAPh/\",\"dtype\":\"float64\",\"shape\":[12]},\"dia_insc_25%\":{\"__ndarray__\":\"AAAAAAAA/D8AAAAAAIAnQAAAAAAAADtAAAAAAAAAO0AAAAAAAAAkQAAAAAAAADxAAAAAAACAIEAAAAAAAAA3QAAAAAAAABhAAAAAAAAAMkAAAAAAAADwPwAAAAAAACJA\",\"dtype\":\"float64\",\"shape\":[12]},\"dia_insc_50%\":{\"__ndarray__\":\"AAAAAAAABEAAAAAAAAApQAAAAAAAADtAAAAAAAAAO0AAAAAAAAA1QAAAAAAAADxAAAAAAAAAJEAAAAAAAAA3QAAAAAAAADNAAAAAAAAAMkAAAAAAAADwPwAAAAAAACJA\",\"dtype\":\"float64\",\"shape\":[12]},\"dia_insc_75%\":{\"__ndarray__\":\"AAAAAAAACkAAAAAAAIAqQAAAAAAAADtAAAAAAAAAO0AAAAAAAAA5QAAAAAAAADxAAAAAAACAKkAAAAAAAAA3QAAAAAAAgDdAAAAAAAAAMkAAAAAAAADwPwAAAAAAACJA\",\"dtype\":\"float64\",\"shape\":[12]},\"dia_insc_count\":{\"__ndarray__\":\"AAAAAAAAAEAAAAAAAAAAQAAAAAAAAPA/AAAAAAAA8D8AAAAAAAA5QAAAAAAAAPA/AAAAAAAAGEAAAAAAAADwPwAAAAAAABxAAAAAAAAA8D8AAAAAAAAAQAAAAAAAAPA/\",\"dtype\":\"float64\",\"shape\":[12]},\"dia_insc_max\":{\"__ndarray__\":\"AAAAAAAAEEAAAAAAAAAsQAAAAAAAADtAAAAAAAAAO0AAAAAAAAA/QAAAAAAAADxAAAAAAAAAMkAAAAAAAAA3QAAAAAAAAD5AAAAAAAAAMkAAAAAAAADwPwAAAAAAACJA\",\"dtype\":\"float64\",\"shape\":[12]},\"dia_insc_mean\":{\"__ndarray__\":\"AAAAAAAABEAAAAAAAAApQAAAAAAAADtAAAAAAAAAO0A9CtejcD0zQAAAAAAAADxAq6qqqqqqJEAAAAAAAAA3QEmSJEmSJC9AAAAAAAAAMkAAAAAAAADwPwAAAAAAACJA\",\"dtype\":\"float64\",\"shape\":[12]},\"dia_insc_min\":{\"__ndarray__\":\"AAAAAAAA8D8AAAAAAAAmQAAAAAAAADtAAAAAAAAAO0AAAAAAAAAUQAAAAAAAADxAAAAAAAAAAEAAAAAAAAA3QAAAAAAAAPA/AAAAAAAAMkAAAAAAAADwPwAAAAAAACJA\",\"dtype\":\"float64\",\"shape\":[12]},\"dia_insc_std\":{\"__ndarray__\":\"2WzfzHb4AEDZbN/MdvgAQAAAAAAAAPh/AAAAAAAA+H8QXY55PG8gQAAAAAAAAPh/o4GHjTPcFUAAAAAAAAD4fyUVgWBJgSZAAAAAAAAA+H8AAAAAAAAAAAAAAAAAAPh/\",\"dtype\":\"float64\",\"shape\":[12]},\"dia_mad_25%\":{\"__ndarray__\":\"AAAAAAAAE0AAAAAAAEA1QAAAAAAAAPh/AAAAAAAA+H8AAAAAAAAVQAAAAAAAABRAAAAAAACAIUAAAAAAAAA8QAAAAAAAACNAAAAAAAAAEEAAAAAAAAA+QAAAAAAAAPh/\",\"dtype\":\"float64\",\"shape\":[12]},\"dia_mad_50%\":{\"__ndarray__\":\"AAAAAAAAHkAAAAAAAIA2QAAAAAAAAPh/AAAAAAAA+H8AAAAAAAAeQAAAAAAAABRAAAAAAAAAMUAAAAAAAAA8QAAAAAAAADRAAAAAAAAAEEAAAAAAAAA+QAAAAAAAAPh/\",\"dtype\":\"float64\",\"shape\":[12]},\"dia_mad_75%\":{\"__ndarray__\":\"AAAAAACAJEAAAAAAAMA3QAAAAAAAAPh/AAAAAAAA+H8AAAAAAEA0QAAAAAAAABRAAAAAAACAO0AAAAAAAAA8QAAAAAAAgDVAAAAAAAAAEEAAAAAAAAA+QAAAAAAAAPh/\",\"dtype\":\"float64\",\"shape\":[12]},\"dia_mad_count\":{\"__ndarray__\":\"AAAAAAAAAEAAAAAAAAAAQAAAAAAAAAAAAAAAAAAAAAAAAAAAAAAsQAAAAAAAAPA/AAAAAAAAGEAAAAAAAADwPwAAAAAAABxAAAAAAAAA8D8AAAAAAADwPwAAAAAAAAAA\",\"dtype\":\"float64\",\"shape\":[12]},\"dia_mad_max\":{\"__ndarray__\":\"AAAAAAAAKkAAAAAAAAA5QAAAAAAAAPh/AAAAAAAA+H8AAAAAAAA4QAAAAAAAABRAAAAAAAAAP0AAAAAAAAA8QAAAAAAAwFhAAAAAAAAAEEAAAAAAAAA+QAAAAAAAAPh/\",\"dtype\":\"float64\",\"shape\":[12]},\"dia_mad_mean\":{\"__ndarray__\":\"AAAAAAAAHkAAAAAAAIA2QAAAAAAAAPh/AAAAAAAA+H9u27Zt27YnQAAAAAAAABRAAAAAAAAAMkAAAAAAAAA8QEmSJEmSJDpAAAAAAAAAEEAAAAAAAAA+QAAAAAAAAPh/\",\"dtype\":\"float64\",\"shape\":[12]},\"dia_mad_min\":{\"__ndarray__\":\"AAAAAAAAAEAAAAAAAAA0QAAAAAAAAPh/AAAAAAAA+H8AAAAAAAAAQAAAAAAAABRAAAAAAAAAGEAAAAAAAAA8QAAAAAAAAABAAAAAAAAAEEAAAAAAAAA+QAAAAAAAAPh/\",\"dtype\":\"float64\",\"shape\":[12]},\"dia_mad_std\":{\"__ndarray__\":\"OfLuzNkcH0DACh8AxkgMQAAAAAAAAPh/AAAAAAAA+H9S1npn0c0gQAAAAAAAAPh/I7c6RfINJkAAAAAAAAD4f3EBvef7fkBAAAAAAAAA+H8AAAAAAAD4fwAAAAAAAPh/\",\"dtype\":\"float64\",\"shape\":[12]},\"dia_nac_25%\":{\"__ndarray__\":\"AAAAAACAI0AAAAAAAAArQAAAAAAAABRAAAAAAAAAIEAAAAAAAAAcQAAAAAAAADdAAAAAAACAMUAAAAAAAAAmQAAAAAAAACtAAAAAAAAAOUAAAAAAAAASQAAAAAAAABBA\",\"dtype\":\"float64\",\"shape\":[12]},\"dia_nac_50%\":{\"__ndarray__\":\"AAAAAAAAJ0AAAAAAAAAyQAAAAAAAABRAAAAAAAAAIEAAAAAAAAAqQAAAAAAAADdAAAAAAAAANEAAAAAAAAAmQAAAAAAAADBAAAAAAAAAOUAAAAAAAAAYQAAAAAAAABBA\",\"dtype\":\"float64\",\"shape\":[12]},\"dia_nac_75%\":{\"__ndarray__\":\"AAAAAACAKkAAAAAAAIA2QAAAAAAAABRAAAAAAAAAIEAAAAAAAAA1QAAAAAAAADdAAAAAAAAAOEAAAAAAAAAmQAAAAAAAgDlAAAAAAAAAOUAAAAAAAAAeQAAAAAAAABBA\",\"dtype\":\"float64\",\"shape\":[12]},\"dia_nac_count\":{\"__ndarray__\":\"AAAAAAAAAEAAAAAAAAAAQAAAAAAAAPA/AAAAAAAA8D8AAAAAAAA5QAAAAAAAAPA/AAAAAAAAGEAAAAAAAADwPwAAAAAAABxAAAAAAAAA8D8AAAAAAAAAQAAAAAAAAPA/\",\"dtype\":\"float64\",\"shape\":[12]},\"dia_nac_max\":{\"__ndarray__\":\"AAAAAAAALkAAAAAAAAA7QAAAAAAAABRAAAAAAAAAIEAAAAAAAAA9QAAAAAAAADdAAAAAAAAAOkAAAAAAAAAmQAAAAAAAADxAAAAAAAAAOUAAAAAAAAAiQAAAAAAAABBA\",\"dtype\":\"float64\",\"shape\":[12]},\"dia_nac_mean\":{\"__ndarray__\":\"AAAAAAAAJ0AAAAAAAAAyQAAAAAAAABRAAAAAAAAAIEBSuB6F61EsQAAAAAAAADdAq6qqqqoqM0AAAAAAAAAmQG7btm3btjFAAAAAAAAAOUAAAAAAAAAYQAAAAAAAABBA\",\"dtype\":\"float64\",\"shape\":[12]},\"dia_nac_min\":{\"__ndarray__\":\"AAAAAAAAIEAAAAAAAAAiQAAAAAAAABRAAAAAAAAAIEAAAAAAAAAAQAAAAAAAADdAAAAAAAAAHEAAAAAAAAAmQAAAAAAAAABAAAAAAAAAOUAAAAAAAAAIQAAAAAAAABBA\",\"dtype\":\"float64\",\"shape\":[12]},\"dia_nac_std\":{\"__ndarray__\":\"U1SvmYrME0BGI08zsnQpQAAAAAAAAPh/AAAAAAAA+H8+rUO64a0fQAAAAAAAAPh/kRkyVYWHG0AAAAAAAAD4f6VvmimpkiJAAAAAAAAA+H/ZbN/MdvgQQAAAAAAAAPh/\",\"dtype\":\"float64\",\"shape\":[12]},\"edad_mad_25%\":{\"__ndarray__\":\"AAAAAAAANEAAAAAAAMAyQAAAAAAAAPh/AAAAAAAA+H8AAAAAAAA4QAAAAAAAAENAAAAAAACANkAAAAAAAABBQAAAAAAAADpAAAAAAAAAM0AAAAAAAAA3QAAAAAAAAPh/\",\"dtype\":\"float64\",\"shape\":[12]},\"edad_mad_50%\":{\"__ndarray__\":\"AAAAAAAANUAAAAAAAIA0QAAAAAAAAPh/AAAAAAAA+H8AAAAAAIA7QAAAAAAAAENAAAAAAAAAOEAAAAAAAABBQAAAAAAAAD1AAAAAAAAAM0AAAAAAAAA3QAAAAAAAAPh/\",\"dtype\":\"float64\",\"shape\":[12]},\"edad_mad_75%\":{\"__ndarray__\":\"AAAAAAAANkAAAAAAAEA2QAAAAAAAAPh/AAAAAAAA+H8AAAAAAMA9QAAAAAAAAENAAAAAAAAAO0AAAAAAAABBQAAAAAAAgD5AAAAAAAAAM0AAAAAAAAA3QAAAAAAAAPh/\",\"dtype\":\"float64\",\"shape\":[12]},\"edad_mad_count\":{\"__ndarray__\":\"AAAAAAAAAEAAAAAAAAAAQAAAAAAAAAAAAAAAAAAAAAAAAAAAAAAsQAAAAAAAAPA/AAAAAAAAGEAAAAAAAADwPwAAAAAAABxAAAAAAAAA8D8AAAAAAADwPwAAAAAAAAAA\",\"dtype\":\"float64\",\"shape\":[12]},\"edad_mad_max\":{\"__ndarray__\":\"AAAAAAAAN0AAAAAAAAA4QAAAAAAAAPh/AAAAAAAA+H8AAAAAAABDQAAAAAAAAENAAAAAAAAAP0AAAAAAAABBQAAAAAAAgEJAAAAAAAAAM0AAAAAAAAA3QAAAAAAAAPh/\",\"dtype\":\"float64\",\"shape\":[12]},\"edad_mad_mean\":{\"__ndarray__\":\"AAAAAAAANUAAAAAAAIA0QAAAAAAAAPh/AAAAAAAA+H/btm3btm07QAAAAAAAAENAq6qqqqoqOEAAAAAAAABBQNu2bdu2bTxAAAAAAAAAM0AAAAAAAAA3QAAAAAAAAPh/\",\"dtype\":\"float64\",\"shape\":[12]},\"edad_mad_min\":{\"__ndarray__\":\"AAAAAAAAM0AAAAAAAAAxQAAAAAAAAPh/AAAAAAAA+H8AAAAAAAA1QAAAAAAAAENAAAAAAAAAMEAAAAAAAABBQAAAAAAAADRAAAAAAAAAM0AAAAAAAAA3QAAAAAAAAPh/\",\"dtype\":\"float64\",\"shape\":[12]},\"edad_mad_std\":{\"__ndarray__\":\"zTt/Zp6gBkBTVK+ZiswTQAAAAAAAAPh/AAAAAAAA+H8K2pYmd3oSQAAAAAAAAPh/bRxyNv2dFEAAAAAAAAD4f+M3rqiaXxZAAAAAAAAA+H8AAAAAAAD4fwAAAAAAAPh/\",\"dtype\":\"float64\",\"shape\":[12]},\"fecha_insc_25%\":{\"__ndarray__\":\"AAAAEc1iCUIAAADpoVsJQgAAABANYAlCAAAAfNRZCUIAAACcdF0JQgAAAECUXQlCAAAAy4FdCUIAAADg4l8JQgAAAMCIYQlCAAAAJK5fCUIAAABAN2AJQgAAAEzZZglC\",\"dtype\":\"float64\",\"shape\":[12]},\"fecha_insc_50%\":{\"__ndarray__\":\"AAAA+tRiCUIAAADSqVsJQgAAABANYAlCAAAAfNRZCUIAAADsm14JQgAAAECUXQlCAAAAPMNfCUIAAADg4l8JQgAAAIgZYwlCAAAAJK5fCUIAAABAN2AJQgAAAEzZZglC\",\"dtype\":\"float64\",\"shape\":[12]},\"fecha_insc_75%\":{\"__ndarray__\":\"AAAA49xiCUIAAAC7sVsJQgAAABANYAlCAAAAfNRZCUIAAADEWV8JQgAAAECUXQlCAAAA/YhgCUIAAADg4l8JQgAAAHayYwlCAAAAJK5fCUIAAABAN2AJQgAAAEzZZglC\",\"dtype\":\"float64\",\"shape\":[12]},\"fecha_insc_count\":{\"__ndarray__\":\"AAAAAAAAAEAAAAAAAAAAQAAAAAAAAPA/AAAAAAAA8D8AAAAAAAA5QAAAAAAAAPA/AAAAAAAAGEAAAAAAAADwPwAAAAAAABxAAAAAAAAA8D8AAAAAAAAAQAAAAAAAAPA/\",\"dtype\":\"float64\",\"shape\":[12]},\"fecha_insc_max\":{\"__ndarray__\":\"AAAAzORiCUIAAACkuVsJQgAAABANYAlCAAAAfNRZCUIAAAC8FGEJQgAAAECUXQlCAAAAuKBgCUIAAADg4l8JQgAAAAT3YwlCAAAAJK5fCUIAAABAN2AJQgAAAEzZZglC\",\"dtype\":\"float64\",\"shape\":[12]},\"fecha_insc_mean\":{\"__ndarray__\":\"AAAA+tRiCUIAAADSqVsJQgAAABANYAlCAAAAfNRZCUIAAADY7F0JQgAAAECUXQlCAAAAiu5eCUIAAADg4l8JQkmSJDHsYQlCAAAAJK5fCUIAAABAN2AJQgAAAEzZZglC\",\"dtype\":\"float64\",\"shape\":[12]},\"fecha_insc_min\":{\"__ndarray__\":\"AAAAKMViCUIAAAAAmlsJQgAAABANYAlCAAAAfNRZCUIAAAA0lVkJQgAAAECUXQlCAAAA1ONbCUIAAADg4l8JQgAAAGDuWwlCAAAAJK5fCUIAAABAN2AJQgAAAEzZZglC\",\"dtype\":\"float64\",\"shape\":[12]},\"fecha_insc_std\":{\"__ndarray__\":\"AY4Yn5BfBkEBjhifkF8GQQAAAAAAAPh/AAAAAAAA+H8hnb9lh7xSQQAAAAAAAPh/M7OyEsleUEEAAAAAAAD4f+0iWzHgcVdBAAAAAAAA+H8AAAAAAAAAAAAAAAAAAPh/\",\"dtype\":\"float64\",\"shape\":[12]},\"fecha_nac_25%\":{\"__ndarray__\":\"AAAAlQZaCUIAAADONVsJQgAAACDcRAlCAAAAtMm0CEIAAADMnCMJQgAAAIRfXQlCAAAAiDBbCUIAAABQZF8JQgAAAJTpWQlCAAAABLFeCUIAAAD8sEgJQgAAANT5NglC\",\"dtype\":\"float64\",\"shape\":[12]},\"fecha_nac_50%\":{\"__ndarray__\":\"AAAABkhcCUIAAAAsUFsJQgAAACDcRAlCAAAAtMm0CEIAAABwj1AJQgAAAIRfXQlCAAAAoOhdCUIAAABQZF8JQgAAAAyZXwlCAAAABLFeCUIAAAD4JVAJQgAAANT5NglC\",\"dtype\":\"float64\",\"shape\":[12]},\"fecha_nac_75%\":{\"__ndarray__\":\"AAAAd4leCUIAAACKalsJQgAAACDcRAlCAAAAtMm0CEIAAAAIglwJQgAAAIRfXQlCAAAAyepfCUIAAABQZF8JQgAAAISlYglCAAAABLFeCUIAAAD0mlcJQgAAANT5NglC\",\"dtype\":\"float64\",\"shape\":[12]},\"fecha_nac_count\":{\"__ndarray__\":\"AAAAAAAAAEAAAAAAAAAAQAAAAAAAAPA/AAAAAAAA8D8AAAAAAAA5QAAAAAAAAPA/AAAAAAAAGEAAAAAAAADwPwAAAAAAABxAAAAAAAAA8D8AAAAAAAAAQAAAAAAAAPA/\",\"dtype\":\"float64\",\"shape\":[12]},\"fecha_nac_max\":{\"__ndarray__\":\"AAAA6MpgCUIAAADohFsJQgAAACDcRAlCAAAAtMm0CEIAAACgi2AJQgAAAIRfXQlCAAAAiHZgCUIAAABQZF8JQgAAANTMYwlCAAAABLFeCUIAAADwD18JQgAAANT5NglC\",\"dtype\":\"float64\",\"shape\":[12]},\"fecha_nac_mean\":{\"__ndarray__\":\"AAAABkhcCUIAAAAsUFsJQgAAACDcRAlCAAAAtMm0CEIAAAAgPRQJQgAAAIRfXQlCAAAAYM9cCUIAAABQZF8JQiVJkjSpXAlCAAAABLFeCUIAAAD4JVAJQgAAANT5NglC\",\"dtype\":\"float64\",\"shape\":[12]},\"fecha_nac_min\":{\"__ndarray__\":\"AAAAJMVXCUIAAABwG1sJQgAAACDcRAlCAAAAtMm0CEIAAABsuAEGQgAAAIRfXQlCAAAAzLVVCUIAAABQZF8JQgAAAGAcTAlCAAAABLFeCUIAAAAAPEEJQgAAANT5NglC\",\"dtype\":\"float64\",\"shape\":[12]},\"fecha_nac_std\":{\"__ndarray__\":\"+QF49QCFaUFWdpSE+KQiQQAAAAAAAPh/AAAAAAAA+H913CDaPuq1QQAAAAAAAPh/9j4+H6ubYEEAAAAAAAD4f0cMbsqeznBBAAAAAAAA+H/eJftVbBeFQQAAAAAAAPh/\",\"dtype\":\"float64\",\"shape\":[12]},\"hij_nacm_25%\":{\"__ndarray__\":\"AAAAAAAAAAAAAAAAAADQPwAAAAAAAPh/AAAAAAAA+H8AAAAAAAAAAAAAAAAAAAAAAAAAAAAAAAAAAAAAAAAAAAAAAAAAAAAAAAAAAAAAAAAAAAAAAAAAAAAAAAAAAPh/\",\"dtype\":\"float64\",\"shape\":[12]},\"hij_nacm_50%\":{\"__ndarray__\":\"AAAAAAAAAAAAAAAAAADgPwAAAAAAAPh/AAAAAAAA+H8AAAAAAAAAAAAAAAAAAAAAAAAAAAAAAAAAAAAAAAAAAAAAAAAAAAAAAAAAAAAAAAAAAAAAAAAAAAAAAAAAAPh/\",\"dtype\":\"float64\",\"shape\":[12]},\"hij_nacm_75%\":{\"__ndarray__\":\"AAAAAAAAAAAAAAAAAADoPwAAAAAAAPh/AAAAAAAA+H8AAAAAAAAAAAAAAAAAAAAAAAAAAACQUkAAAAAAAAAAAAAAAAAAAAAAAAAAAAAAAAAAAAAAAAAAAAAAAAAAAPh/\",\"dtype\":\"float64\",\"shape\":[12]},\"hij_nacm_count\":{\"__ndarray__\":\"AAAAAAAAAEAAAAAAAAAAQAAAAAAAAAAAAAAAAAAAAAAAAAAAAAAsQAAAAAAAAPA/AAAAAAAAGEAAAAAAAADwPwAAAAAAABxAAAAAAAAA8D8AAAAAAADwPwAAAAAAAAAA\",\"dtype\":\"float64\",\"shape\":[12]},\"hij_nacm_max\":{\"__ndarray__\":\"AAAAAAAAAAAAAAAAAADwPwAAAAAAAPh/AAAAAAAA+H8AAAAAAAAAAAAAAAAAAAAAAAAAAADAWEAAAAAAAAAAAAAAAAAAAAAAAAAAAAAAAAAAAAAAAAAAAAAAAAAAAPh/\",\"dtype\":\"float64\",\"shape\":[12]},\"hij_nacm_mean\":{\"__ndarray__\":\"AAAAAAAAAAAAAAAAAADgPwAAAAAAAPh/AAAAAAAA+H8AAAAAAAAAAAAAAAAAAAAAAAAAAACAQEAAAAAAAAAAAAAAAAAAAAAAAAAAAAAAAAAAAAAAAAAAAAAAAAAAAPh/\",\"dtype\":\"float64\",\"shape\":[12]},\"hij_nacm_min\":{\"__ndarray__\":\"AAAAAAAAAAAAAAAAAAAAAAAAAAAAAPh/AAAAAAAA+H8AAAAAAAAAAAAAAAAAAAAAAAAAAAAAAAAAAAAAAAAAAAAAAAAAAAAAAAAAAAAAAAAAAAAAAAAAAAAAAAAAAPh/\",\"dtype\":\"float64\",\"shape\":[12]},\"hij_nacm_std\":{\"__ndarray__\":\"AAAAAAAAAADNO39mnqDmPwAAAAAAAPh/AAAAAAAA+H8AAAAAAAAAAAAAAAAAAPh/2m3h68qPSUAAAAAAAAD4fwAAAAAAAAAAAAAAAAAA+H8AAAAAAAD4fwAAAAAAAPh/\",\"dtype\":\"float64\",\"shape\":[12]},\"hij_viv_25%\":{\"__ndarray__\":\"AAAAAAAAAEAAAAAAAAD0PwAAAAAAAPh/AAAAAAAA+H8AAAAAAAAAQAAAAAAAAAhAAAAAAAAA9D8AAAAAAAAIQAAAAAAAAABAAAAAAAAA8D8AAAAAAADwPwAAAAAAAPh/\",\"dtype\":\"float64\",\"shape\":[12]},\"hij_viv_50%\":{\"__ndarray__\":\"AAAAAAAAAEAAAAAAAAD4PwAAAAAAAPh/AAAAAAAA+H8AAAAAAAAEQAAAAAAAAAhAAAAAAAAAAEAAAAAAAAAIQAAAAAAAAABAAAAAAAAA8D8AAAAAAADwPwAAAAAAAPh/\",\"dtype\":\"float64\",\"shape\":[12]},\"hij_viv_75%\":{\"__ndarray__\":\"AAAAAAAAAEAAAAAAAAD8PwAAAAAAAPh/AAAAAAAA+H8AAAAAAAAIQAAAAAAAAAhAAAAAAAAAAEAAAAAAAAAIQAAAAAAAAABAAAAAAAAA8D8AAAAAAADwPwAAAAAAAPh/\",\"dtype\":\"float64\",\"shape\":[12]},\"hij_viv_count\":{\"__ndarray__\":\"AAAAAAAAAEAAAAAAAAAAQAAAAAAAAAAAAAAAAAAAAAAAAAAAAAAsQAAAAAAAAPA/AAAAAAAAGEAAAAAAAADwPwAAAAAAABxAAAAAAAAA8D8AAAAAAADwPwAAAAAAAAAA\",\"dtype\":\"float64\",\"shape\":[12]},\"hij_viv_max\":{\"__ndarray__\":\"AAAAAAAAAEAAAAAAAAAAQAAAAAAAAPh/AAAAAAAA+H8AAAAAAAAcQAAAAAAAAAhAAAAAAAAACEAAAAAAAAAIQAAAAAAAAABAAAAAAAAA8D8AAAAAAADwPwAAAAAAAPh/\",\"dtype\":\"float64\",\"shape\":[12]},\"hij_viv_mean\":{\"__ndarray__\":\"AAAAAAAAAEAAAAAAAAD4PwAAAAAAAPh/AAAAAAAA+H+SJEmSJEkGQAAAAAAAAAhAVVVVVVVV/T8AAAAAAAAIQAAAAAAAAABAAAAAAAAA8D8AAAAAAADwPwAAAAAAAPh/\",\"dtype\":\"float64\",\"shape\":[12]},\"hij_viv_min\":{\"__ndarray__\":\"AAAAAAAAAEAAAAAAAADwPwAAAAAAAPh/AAAAAAAA+H8AAAAAAADwPwAAAAAAAAhAAAAAAAAA8D8AAAAAAAAIQAAAAAAAAABAAAAAAAAA8D8AAAAAAADwPwAAAAAAAPh/\",\"dtype\":\"float64\",\"shape\":[12]},\"hij_viv_std\":{\"__ndarray__\":\"AAAAAAAAAADNO39mnqDmPwAAAAAAAPh/AAAAAAAA+H/fqoTLMnP4PwAAAAAAAPh/aq2WrLYW6D8AAAAAAAD4fwAAAAAAAAAAAAAAAAAA+H8AAAAAAAD4fwAAAAAAAPh/\",\"dtype\":\"float64\",\"shape\":[12]},\"hij_vivm_25%\":{\"__ndarray__\":\"AAAAAAAAAAAAAAAAAAAAAAAAAAAAAPh/AAAAAAAA+H8AAAAAAAAAAAAAAAAAAAAAAAAAAAAAAAAAAAAAAAAAAAAAAAAAAAAAAAAAAAAAAAAAAAAAAAAAAAAAAAAAAPh/\",\"dtype\":\"float64\",\"shape\":[12]},\"hij_vivm_50%\":{\"__ndarray__\":\"AAAAAAAAAAAAAAAAAAAAAAAAAAAAAPh/AAAAAAAA+H8AAAAAAAAAAAAAAAAAAAAAAAAAAAAAAAAAAAAAAAAAAAAAAAAAAAAAAAAAAAAAAAAAAAAAAAAAAAAAAAAAAPh/\",\"dtype\":\"float64\",\"shape\":[12]},\"hij_vivm_75%\":{\"__ndarray__\":\"AAAAAAAAAAAAAAAAAAAAAAAAAAAAAPh/AAAAAAAA+H8AAAAAAAAAAAAAAAAAAAAAAAAAAAAAAAAAAAAAAAAAAAAAAAAAAAAAAAAAAAAAAAAAAAAAAAAAAAAAAAAAAPh/\",\"dtype\":\"float64\",\"shape\":[12]},\"hij_vivm_count\":{\"__ndarray__\":\"AAAAAAAAAEAAAAAAAAAAQAAAAAAAAAAAAAAAAAAAAAAAAAAAAAAsQAAAAAAAAPA/AAAAAAAAGEAAAAAAAADwPwAAAAAAABxAAAAAAAAA8D8AAAAAAADwPwAAAAAAAAAA\",\"dtype\":\"float64\",\"shape\":[12]},\"hij_vivm_max\":{\"__ndarray__\":\"AAAAAAAAAAAAAAAAAAAAAAAAAAAAAPh/AAAAAAAA+H8AAAAAAADwPwAAAAAAAAAAAAAAAADAWEAAAAAAAAAAAAAAAAAAAAAAAAAAAAAAAAAAAAAAAAAAAAAAAAAAAPh/\",\"dtype\":\"float64\",\"shape\":[12]},\"hij_vivm_mean\":{\"__ndarray__\":\"AAAAAAAAAAAAAAAAAAAAAAAAAAAAAPh/AAAAAAAA+H+SJEmSJEmyPwAAAAAAAAAAAAAAAACAMEAAAAAAAAAAAAAAAAAAAAAAAAAAAAAAAAAAAAAAAAAAAAAAAAAAAPh/\",\"dtype\":\"float64\",\"shape\":[12]},\"hij_vivm_min\":{\"__ndarray__\":\"AAAAAAAAAAAAAAAAAAAAAAAAAAAAAPh/AAAAAAAA+H8AAAAAAAAAAAAAAAAAAAAAAAAAAAAAAAAAAAAAAAAAAAAAAAAAAAAAAAAAAAAAAAAAAAAAAAAAAAAAAAAAAPh/\",\"dtype\":\"float64\",\"shape\":[12]},\"hij_vivm_std\":{\"__ndarray__\":\"AAAAAAAAAAAAAAAAAAAAAAAAAAAAAPh/AAAAAAAA+H8qJGDlzhrRPwAAAAAAAPh/OGqphFI1REAAAAAAAAD4fwAAAAAAAAAAAAAAAAAA+H8AAAAAAAD4fwAAAAAAAPh/\",\"dtype\":\"float64\",\"shape\":[12]},\"mes_mad_25%\":{\"__ndarray__\":\"AAAAAAAAE0AAAAAAAAARQAAAAAAAAPh/AAAAAAAA+H8AAAAAAAD4PwAAAAAAAChAAAAAAAAACkAAAAAAAAAQQAAAAAAAAAxAAAAAAAAAFEAAAAAAAAAoQAAAAAAAAPh/\",\"dtype\":\"float64\",\"shape\":[12]},\"mes_mad_50%\":{\"__ndarray__\":\"AAAAAAAAGkAAAAAAAAASQAAAAAAAAPh/AAAAAAAA+H8AAAAAAAAMQAAAAAAAAChAAAAAAAAAFkAAAAAAAAAQQAAAAAAAABRAAAAAAAAAFEAAAAAAAAAoQAAAAAAAAPh/\",\"dtype\":\"float64\",\"shape\":[12]},\"mes_mad_75%\":{\"__ndarray__\":\"AAAAAACAIEAAAAAAAAATQAAAAAAAAPh/AAAAAAAA+H8AAAAAAAAYQAAAAAAAAChAAAAAAAAAIUAAAAAAAAAQQAAAAAAAACFAAAAAAAAAFEAAAAAAAAAoQAAAAAAAAPh/\",\"dtype\":\"float64\",\"shape\":[12]},\"mes_mad_count\":{\"__ndarray__\":\"AAAAAAAAAEAAAAAAAAAAQAAAAAAAAAAAAAAAAAAAAAAAAAAAAAAsQAAAAAAAAPA/AAAAAAAAGEAAAAAAAADwPwAAAAAAABxAAAAAAAAA8D8AAAAAAADwPwAAAAAAAAAA\",\"dtype\":\"float64\",\"shape\":[12]},\"mes_mad_max\":{\"__ndarray__\":\"AAAAAAAAJEAAAAAAAAAUQAAAAAAAAPh/AAAAAAAA+H8AAAAAAAAkQAAAAAAAAChAAAAAAAAAJkAAAAAAAAAQQAAAAAAAwFhAAAAAAAAAFEAAAAAAAAAoQAAAAAAAAPh/\",\"dtype\":\"float64\",\"shape\":[12]},\"mes_mad_mean\":{\"__ndarray__\":\"AAAAAAAAGkAAAAAAAAASQAAAAAAAAPh/AAAAAAAA+H+3bdu2bdsQQAAAAAAAAChAAAAAAAAAGEAAAAAAAAAQQNu2bdu2bTJAAAAAAAAAFEAAAAAAAAAoQAAAAAAAAPh/\",\"dtype\":\"float64\",\"shape\":[12]},\"mes_mad_min\":{\"__ndarray__\":\"AAAAAAAACEAAAAAAAAAQQAAAAAAAAPh/AAAAAAAA+H8AAAAAAADwPwAAAAAAAChAAAAAAAAAAEAAAAAAAAAQQAAAAAAAAPA/AAAAAAAAFEAAAAAAAAAoQAAAAAAAAPh/\",\"dtype\":\"float64\",\"shape\":[12]},\"mes_mad_std\":{\"__ndarray__\":\"U1SvmYrME0DNO39mnqDmPwAAAAAAAPh/AAAAAAAA+H+X8+NltxgHQAAAAAAAAPh/2e2/xSWfDEAAAAAAAAD4f6Dvr0R10UFAAAAAAAAA+H8AAAAAAAD4fwAAAAAAAPh/\",\"dtype\":\"float64\",\"shape\":[12]},\"num_par_25%\":{\"__ndarray__\":\"AAAAAAAAAEAAAAAAAAD0PwAAAAAAAPh/AAAAAAAA+H8AAAAAAAAAQAAAAAAAAAhAAAAAAAAA9D8AAAAAAAAIQAAAAAAAAABAAAAAAAAA8D8AAAAAAADwPwAAAAAAAPh/\",\"dtype\":\"float64\",\"shape\":[12]},\"num_par_50%\":{\"__ndarray__\":\"AAAAAAAAAEAAAAAAAAD4PwAAAAAAAPh/AAAAAAAA+H8AAAAAAAAAQAAAAAAAAAhAAAAAAAAAAEAAAAAAAAAIQAAAAAAAAABAAAAAAAAA8D8AAAAAAADwPwAAAAAAAPh/\",\"dtype\":\"float64\",\"shape\":[12]},\"num_par_75%\":{\"__ndarray__\":\"AAAAAAAAAEAAAAAAAAD8PwAAAAAAAPh/AAAAAAAA+H8AAAAAAAAIQAAAAAAAAAhAAAAAAAAAAEAAAAAAAAAIQAAAAAAAAABAAAAAAAAA8D8AAAAAAADwPwAAAAAAAPh/\",\"dtype\":\"float64\",\"shape\":[12]},\"num_par_count\":{\"__ndarray__\":\"AAAAAAAAAEAAAAAAAAAAQAAAAAAAAAAAAAAAAAAAAAAAAAAAAAAsQAAAAAAAAPA/AAAAAAAAGEAAAAAAAADwPwAAAAAAABxAAAAAAAAA8D8AAAAAAADwPwAAAAAAAAAA\",\"dtype\":\"float64\",\"shape\":[12]},\"num_par_max\":{\"__ndarray__\":\"AAAAAAAAAEAAAAAAAAAAQAAAAAAAAPh/AAAAAAAA+H8AAAAAAAAgQAAAAAAAAAhAAAAAAAAACEAAAAAAAAAIQAAAAAAAAABAAAAAAAAA8D8AAAAAAADwPwAAAAAAAPh/\",\"dtype\":\"float64\",\"shape\":[12]},\"num_par_mean\":{\"__ndarray__\":\"AAAAAAAAAEAAAAAAAAD4PwAAAAAAAPh/AAAAAAAA+H9u27Zt27YFQAAAAAAAAAhAVVVVVVVV/T8AAAAAAAAIQAAAAAAAAABAAAAAAAAA8D8AAAAAAADwPwAAAAAAAPh/\",\"dtype\":\"float64\",\"shape\":[12]},\"num_par_min\":{\"__ndarray__\":\"AAAAAAAAAEAAAAAAAADwPwAAAAAAAPh/AAAAAAAA+H8AAAAAAADwPwAAAAAAAAhAAAAAAAAA8D8AAAAAAAAIQAAAAAAAAABAAAAAAAAA8D8AAAAAAADwPwAAAAAAAPh/\",\"dtype\":\"float64\",\"shape\":[12]},\"num_par_std\":{\"__ndarray__\":\"AAAAAAAAAADNO39mnqDmPwAAAAAAAPh/AAAAAAAA+H9PqSUyCQ39PwAAAAAAAPh/aq2WrLYW6D8AAAAAAAD4fwAAAAAAAAAAAAAAAAAA+H8AAAAAAAD4fwAAAAAAAPh/\",\"dtype\":\"float64\",\"shape\":[12]},\"ofi_insc_25%\":{\"__ndarray__\":\"AAAAAAAA8D8AAAAAAAAAQAAAAAAAAPA/AAAAAAAA8D8AAAAAAADwPwAAAAAAAPA/AAAAAAAA8D8AAAAAAADwPwAAAAAAAPA/AAAAAAAA8D8AAAAAAADwPwAAAAAAAPA/\",\"dtype\":\"float64\",\"shape\":[12]},\"ofi_insc_50%\":{\"__ndarray__\":\"AAAAAAAA8D8AAAAAAAAAQAAAAAAAAPA/AAAAAAAA8D8AAAAAAADwPwAAAAAAAPA/AAAAAAAA8D8AAAAAAADwPwAAAAAAAPA/AAAAAAAA8D8AAAAAAADwPwAAAAAAAPA/\",\"dtype\":\"float64\",\"shape\":[12]},\"ofi_insc_75%\":{\"__ndarray__\":\"AAAAAAAA8D8AAAAAAAAAQAAAAAAAAPA/AAAAAAAA8D8AAAAAAADwPwAAAAAAAPA/AAAAAAAA8D8AAAAAAADwPwAAAAAAAPA/AAAAAAAA8D8AAAAAAADwPwAAAAAAAPA/\",\"dtype\":\"float64\",\"shape\":[12]},\"ofi_insc_count\":{\"__ndarray__\":\"AAAAAAAAAEAAAAAAAAAAQAAAAAAAAPA/AAAAAAAA8D8AAAAAAAA5QAAAAAAAAPA/AAAAAAAAGEAAAAAAAADwPwAAAAAAABxAAAAAAAAA8D8AAAAAAAAAQAAAAAAAAPA/\",\"dtype\":\"float64\",\"shape\":[12]},\"ofi_insc_max\":{\"__ndarray__\":\"AAAAAAAA8D8AAAAAAAAAQAAAAAAAAPA/AAAAAAAA8D8AAAAAAADwPwAAAAAAAPA/AAAAAAAA8D8AAAAAAADwPwAAAAAAAPA/AAAAAAAA8D8AAAAAAADwPwAAAAAAAPA/\",\"dtype\":\"float64\",\"shape\":[12]},\"ofi_insc_mean\":{\"__ndarray__\":\"AAAAAAAA8D8AAAAAAAAAQAAAAAAAAPA/AAAAAAAA8D8AAAAAAADwPwAAAAAAAPA/AAAAAAAA8D8AAAAAAADwPwAAAAAAAPA/AAAAAAAA8D8AAAAAAADwPwAAAAAAAPA/\",\"dtype\":\"float64\",\"shape\":[12]},\"ofi_insc_min\":{\"__ndarray__\":\"AAAAAAAA8D8AAAAAAAAAQAAAAAAAAPA/AAAAAAAA8D8AAAAAAADwPwAAAAAAAPA/AAAAAAAA8D8AAAAAAADwPwAAAAAAAPA/AAAAAAAA8D8AAAAAAADwPwAAAAAAAPA/\",\"dtype\":\"float64\",\"shape\":[12]},\"ofi_insc_std\":{\"__ndarray__\":\"AAAAAAAAAAAAAAAAAAAAAAAAAAAAAPh/AAAAAAAA+H8AAAAAAAAAAAAAAAAAAPh/AAAAAAAAAAAAAAAAAAD4fwAAAAAAAAAAAAAAAAAA+H8AAAAAAAAAAAAAAAAAAPh/\",\"dtype\":\"float64\",\"shape\":[12]},\"peso_25%\":{\"__ndarray__\":\"AAAAAIB3p0AAAAAAAPenQAAAAAAAAPh/AAAAAAAA+H8AAAAAADKnQAAAAAAA6KxAAAAAAADXp0AAAAAAABCoQAAAAAAAUJlAAAAAAAAAqUAAAAAAAFirQAAAAAAAAPh/\",\"dtype\":\"float64\",\"shape\":[12]},\"peso_50%\":{\"__ndarray__\":\"AAAAAAB/p0AAAAAAAFqpQAAAAAAAAPh/AAAAAAAA+H8AAAAAAMipQAAAAAAA6KxAAAAAAAAyqkAAAAAAABCoQAAAAAAA4KVAAAAAAAAAqUAAAAAAAFirQAAAAAAAAPh/\",\"dtype\":\"float64\",\"shape\":[12]},\"peso_75%\":{\"__ndarray__\":\"AAAAAICGp0AAAAAAAL2qQAAAAAAAAPh/AAAAAAAA+H8AAAAAACarQAAAAAAA6KxAAAAAAAAbrEAAAAAAABCoQAAAAAAAOadAAAAAAAAAqUAAAAAAAFirQAAAAAAAAPh/\",\"dtype\":\"float64\",\"shape\":[12]},\"peso_count\":{\"__ndarray__\":\"AAAAAAAAAEAAAAAAAAAAQAAAAAAAAAAAAAAAAAAAAAAAAAAAAAAsQAAAAAAAAPA/AAAAAAAAGEAAAAAAAADwPwAAAAAAABxAAAAAAAAA8D8AAAAAAADwPwAAAAAAAAAA\",\"dtype\":\"float64\",\"shape\":[12]},\"peso_max\":{\"__ndarray__\":\"AAAAAACOp0AAAAAAACCsQAAAAAAAAPh/AAAAAAAA+H8AAAAAALCtQAAAAAAA6KxAAAAAAACkr0AAAAAAABCoQAAAAAAAaKpAAAAAAAAAqUAAAAAAAFirQAAAAAAAAPh/\",\"dtype\":\"float64\",\"shape\":[12]},\"peso_mean\":{\"__ndarray__\":\"AAAAAAB/p0AAAAAAAFqpQAAAAAAAAPh/AAAAAAAA+H8AAAAAAJioQAAAAAAA6KxAVVVVVVWLqkAAAAAAABCoQCVJkiRJQqFAAAAAAAAAqUAAAAAAAFirQAAAAAAAAPh/\",\"dtype\":\"float64\",\"shape\":[12]},\"peso_min\":{\"__ndarray__\":\"AAAAAABwp0AAAAAAAJSmQAAAAAAAAPh/AAAAAAAA+H8AAAAAAByhQAAAAAAA6KxAAAAAAABwp0AAAAAAABCoQAAAAAAAwFhAAAAAAAAAqUAAAAAAAFirQAAAAAAAAPh/\",\"dtype\":\"float64\",\"shape\":[12]},\"peso_std\":{\"__ndarray__\":\"EEgXgJQ2JUDtbyKou2B/QAAAAAAAAPh/AAAAAAAA+H+sIlkVVkh+QAAAAAAAAPh/AYobCMOpeUAAAAAAAAD4f+H6DSSSiJNAAAAAAAAA+H8AAAAAAAD4fwAAAAAAAPh/\",\"dtype\":\"float64\",\"shape\":[12]},\"prov_insc\":[\"Azuay\",\"Ca\\ufffdar\",\"Cotopaxi\",\"Esmeraldas\",\"Guayas\",\"Loja\",\"Manab\\ufffd\",\"Morona Santiago\",\"Pichincha\",\"Santa Elena\",\"Santo Domingo de los Ts\\ufffdchilas\",\"Sucumb\\ufffdos\"],\"sem_gest_25%\":{\"__ndarray__\":\"AAAAAAAAS0AAAAAAAEBDQAAAAAAAAPh/AAAAAAAA+H8AAAAAAKBCQAAAAAAAAENAAAAAAACAQ0AAAAAAAABDQAAAAAAAgEJAAAAAAACAREAAAAAAAABEQAAAAAAAAPh/\",\"dtype\":\"float64\",\"shape\":[12]},\"sem_gest_50%\":{\"__ndarray__\":\"AAAAAABAUUAAAAAAAIBDQAAAAAAAAPh/AAAAAAAA+H8AAAAAAIBDQAAAAAAAAENAAAAAAACAQ0AAAAAAAABDQAAAAAAAAENAAAAAAACAREAAAAAAAABEQAAAAAAAAPh/\",\"dtype\":\"float64\",\"shape\":[12]},\"sem_gest_75%\":{\"__ndarray__\":\"AAAAAAAAVUAAAAAAAMBDQAAAAAAAAPh/AAAAAAAA+H8AAAAAAIBDQAAAAAAAAENAAAAAAADgQ0AAAAAAAABDQAAAAAAAwENAAAAAAACAREAAAAAAAABEQAAAAAAAAPh/\",\"dtype\":\"float64\",\"shape\":[12]},\"sem_gest_count\":{\"__ndarray__\":\"AAAAAAAAAEAAAAAAAAAAQAAAAAAAAAAAAAAAAAAAAAAAAAAAAAAsQAAAAAAAAPA/AAAAAAAAGEAAAAAAAADwPwAAAAAAABxAAAAAAAAA8D8AAAAAAADwPwAAAAAAAAAA\",\"dtype\":\"float64\",\"shape\":[12]},\"sem_gest_max\":{\"__ndarray__\":\"AAAAAADAWEAAAAAAAABEQAAAAAAAAPh/AAAAAAAA+H8AAAAAAABEQAAAAAAAAENAAAAAAADAWEAAAAAAAABDQAAAAAAAwFhAAAAAAACAREAAAAAAAABEQAAAAAAAAPh/\",\"dtype\":\"float64\",\"shape\":[12]},\"sem_gest_mean\":{\"__ndarray__\":\"AAAAAABAUUAAAAAAAIBDQAAAAAAAAPh/AAAAAAAA+H9JkiRJkiRDQAAAAAAAAENAq6qqqqpqSEAAAAAAAABDQCVJkiRJkkZAAAAAAACAREAAAAAAAABEQAAAAAAAAPh/\",\"dtype\":\"float64\",\"shape\":[12]},\"sem_gest_min\":{\"__ndarray__\":\"AAAAAACAQ0AAAAAAAABDQAAAAAAAAPh/AAAAAAAA+H8AAAAAAIBBQAAAAAAAAENAAAAAAACAQkAAAAAAAABDQAAAAAAAADpAAAAAAACAREAAAAAAAABEQAAAAAAAAPh/\",\"dtype\":\"float64\",\"shape\":[12]},\"sem_gest_std\":{\"__ndarray__\":\"EEgXgJQ2RUDNO39mnqD2PwAAAAAAAPh/AAAAAAAA+H8qgJIpFzP6PwAAAAAAAPh/zqiaDZiYOEAAAAAAAAD4fzlPifLbNThAAAAAAAAA+H8AAAAAAAD4fwAAAAAAAPh/\",\"dtype\":\"float64\",\"shape\":[12]},\"talla_25%\":{\"__ndarray__\":\"AAAAAADAR0AAAAAAAIBIQAAAAAAAAPh/AAAAAAAA+H8AAAAAAKBHQAAAAAAAgEhAAAAAAAAASUAAAAAAAIBIQAAAAAAAgEdAAAAAAACASEAAAAAAAIBJQAAAAAAAAPh/\",\"dtype\":\"float64\",\"shape\":[12]},\"talla_50%\":{\"__ndarray__\":\"AAAAAAAASEAAAAAAAIBIQAAAAAAAAPh/AAAAAAAA+H8AAAAAAIBIQAAAAAAAgEhAAAAAAAAASUAAAAAAAIBIQAAAAAAAgEdAAAAAAACASEAAAAAAAIBJQAAAAAAAAPh/\",\"dtype\":\"float64\",\"shape\":[12]},\"talla_75%\":{\"__ndarray__\":\"AAAAAABASEAAAAAAAIBIQAAAAAAAAPh/AAAAAAAA+H8AAAAAAABJQAAAAAAAgEhAAAAAAADASUAAAAAAAIBIQAAAAAAAwEhAAAAAAACASEAAAAAAAIBJQAAAAAAAAPh/\",\"dtype\":\"float64\",\"shape\":[12]},\"talla_count\":{\"__ndarray__\":\"AAAAAAAAAEAAAAAAAAAAQAAAAAAAAAAAAAAAAAAAAAAAAAAAAAAsQAAAAAAAAPA/AAAAAAAAGEAAAAAAAADwPwAAAAAAABxAAAAAAAAA8D8AAAAAAADwPwAAAAAAAAAA\",\"dtype\":\"float64\",\"shape\":[12]},\"talla_max\":{\"__ndarray__\":\"AAAAAACASEAAAAAAAIBIQAAAAAAAAPh/AAAAAAAA+H8AAAAAAIBJQAAAAAAAgEhAAAAAAAAASkAAAAAAAIBIQAAAAAAAwFhAAAAAAACASEAAAAAAAIBJQAAAAAAAAPh/\",\"dtype\":\"float64\",\"shape\":[12]},\"talla_mean\":{\"__ndarray__\":\"AAAAAAAASEAAAAAAAIBIQAAAAAAAAPh/AAAAAAAA+H/btm3btu1HQAAAAAAAgEhAq6qqqqoqSUAAAAAAAIBIQNu2bdu27UpAAAAAAACASEAAAAAAAIBJQAAAAAAAAPh/\",\"dtype\":\"float64\",\"shape\":[12]},\"talla_min\":{\"__ndarray__\":\"AAAAAACAR0AAAAAAAIBIQAAAAAAAAPh/AAAAAAAA+H8AAAAAAABDQAAAAAAAgEhAAAAAAAAASEAAAAAAAIBIQAAAAAAAAENAAAAAAACASEAAAAAAAIBJQAAAAAAAAPh/\",\"dtype\":\"float64\",\"shape\":[12]},\"talla_std\":{\"__ndarray__\":\"zTt/Zp6g9j8AAAAAAAAAAAAAAAAAAPh/AAAAAAAA+H+0V/D9cAoMQAAAAAAAAPh/aq2WrLYW+D8AAAAAAAD4f5nblqDtSDRAAAAAAAAA+H8AAAAAAAD4fwAAAAAAAPh/\",\"dtype\":\"float64\",\"shape\":[12]}},\"selected\":{\"id\":\"1055\",\"type\":\"Selection\"},\"selection_policy\":{\"id\":\"1054\",\"type\":\"UnionRenderers\"}},\"id\":\"1002\",\"type\":\"ColumnDataSource\"},{\"attributes\":{},\"id\":\"1026\",\"type\":\"HelpTool\"},{\"attributes\":{\"bottom_units\":\"screen\",\"fill_alpha\":{\"value\":0.5},\"fill_color\":{\"value\":\"lightgrey\"},\"left_units\":\"screen\",\"level\":\"overlay\",\"line_alpha\":{\"value\":1.0},\"line_color\":{\"value\":\"black\"},\"line_dash\":[4,4],\"line_width\":{\"value\":2},\"plot\":null,\"render_mode\":\"css\",\"right_units\":\"screen\",\"top_units\":\"screen\"},\"id\":\"1029\",\"type\":\"BoxAnnotation\"},{\"attributes\":{\"source\":{\"id\":\"1002\",\"type\":\"ColumnDataSource\"}},\"id\":\"1041\",\"type\":\"CDSView\"},{\"attributes\":{},\"id\":\"1010\",\"type\":\"LinearScale\"},{\"attributes\":{\"data_source\":{\"id\":\"1002\",\"type\":\"ColumnDataSource\"},\"glyph\":{\"id\":\"1038\",\"type\":\"VBar\"},\"hover_glyph\":null,\"muted_glyph\":null,\"nonselection_glyph\":{\"id\":\"1039\",\"type\":\"VBar\"},\"selection_glyph\":null,\"view\":{\"id\":\"1041\",\"type\":\"CDSView\"}},\"id\":\"1040\",\"type\":\"GlyphRenderer\"},{\"attributes\":{\"plot\":null,\"text\":\"Gr\\u00e1fica de barras con respecto a las provincias de Ecuador (50 muestras)\"},\"id\":\"1044\",\"type\":\"Title\"},{\"attributes\":{},\"id\":\"1054\",\"type\":\"UnionRenderers\"},{\"attributes\":{\"grid_line_color\":{\"value\":null},\"plot\":{\"id\":\"1003\",\"subtype\":\"Figure\",\"type\":\"Plot\"},\"ticker\":{\"id\":\"1013\",\"type\":\"CategoricalTicker\"}},\"id\":\"1015\",\"type\":\"Grid\"},{\"attributes\":{},\"id\":\"1024\",\"type\":\"SaveTool\"},{\"attributes\":{\"callback\":null,\"start\":0},\"id\":\"1006\",\"type\":\"DataRange1d\"},{\"attributes\":{},\"id\":\"1025\",\"type\":\"ResetTool\"},{\"attributes\":{\"callback\":null,\"factors\":[\"Azuay\",\"Ca\\ufffdar\",\"Cotopaxi\",\"Esmeraldas\",\"Guayas\",\"Loja\",\"Manab\\ufffd\",\"Morona Santiago\",\"Pichincha\",\"Santa Elena\",\"Santo Domingo de los Ts\\ufffdchilas\",\"Sucumb\\ufffdos\"],\"range_padding\":0.1},\"id\":\"1004\",\"type\":\"FactorRange\"},{\"attributes\":{},\"id\":\"1013\",\"type\":\"CategoricalTicker\"},{\"attributes\":{\"callback\":null,\"mode\":\"vline\",\"tooltips\":[[\"Valor\",\"@anio_insc_count\"],[\"Provincia\",\"@prov_insc\"]]},\"id\":\"1045\",\"type\":\"HoverTool\"},{\"attributes\":{\"factors\":[\"Azuay\",\"Ca\\ufffdar\",\"Cotopaxi\",\"Esmeraldas\",\"Guayas\",\"Loja\",\"Manab\\ufffd\",\"Morona Santiago\",\"Pichincha\",\"Santa Elena\",\"Santo Domingo de los Ts\\ufffdchilas\",\"Sucumb\\ufffdos\"],\"palette\":[\"#393b79\",\"#5254a3\",\"#6b6ecf\",\"#9c9ede\",\"#637939\",\"#8ca252\",\"#b5cf6b\",\"#cedb9c\",\"#8c6d31\",\"#bd9e39\",\"#e7ba52\",\"#e7cb94\"]},\"id\":\"1036\",\"type\":\"CategoricalColorMapper\"},{\"attributes\":{},\"id\":\"1050\",\"type\":\"CategoricalTickFormatter\"},{\"attributes\":{\"active_drag\":\"auto\",\"active_inspect\":\"auto\",\"active_multi\":null,\"active_scroll\":\"auto\",\"active_tap\":\"auto\",\"tools\":[{\"id\":\"1021\",\"type\":\"PanTool\"},{\"id\":\"1022\",\"type\":\"WheelZoomTool\"},{\"id\":\"1023\",\"type\":\"BoxZoomTool\"},{\"id\":\"1024\",\"type\":\"SaveTool\"},{\"id\":\"1025\",\"type\":\"ResetTool\"},{\"id\":\"1026\",\"type\":\"HelpTool\"},{\"id\":\"1045\",\"type\":\"HoverTool\"}]},\"id\":\"1027\",\"type\":\"Toolbar\"},{\"attributes\":{},\"id\":\"1022\",\"type\":\"WheelZoomTool\"},{\"attributes\":{\"overlay\":{\"id\":\"1029\",\"type\":\"BoxAnnotation\"}},\"id\":\"1023\",\"type\":\"BoxZoomTool\"},{\"attributes\":{\"dimension\":1,\"plot\":{\"id\":\"1003\",\"subtype\":\"Figure\",\"type\":\"Plot\"},\"ticker\":{\"id\":\"1017\",\"type\":\"BasicTicker\"}},\"id\":\"1020\",\"type\":\"Grid\"},{\"attributes\":{\"fill_color\":{\"field\":\"prov_insc\",\"transform\":{\"id\":\"1036\",\"type\":\"CategoricalColorMapper\"}},\"line_color\":{\"field\":\"prov_insc\",\"transform\":{\"id\":\"1036\",\"type\":\"CategoricalColorMapper\"}},\"top\":{\"field\":\"anio_insc_count\"},\"width\":{\"value\":0.7},\"x\":{\"field\":\"prov_insc\"}},\"id\":\"1038\",\"type\":\"VBar\"},{\"attributes\":{\"fill_alpha\":{\"value\":0.1},\"fill_color\":{\"value\":\"#1f77b4\"},\"line_alpha\":{\"value\":0.1},\"line_color\":{\"value\":\"#1f77b4\"},\"top\":{\"field\":\"anio_insc_count\"},\"width\":{\"value\":0.7},\"x\":{\"field\":\"prov_insc\"}},\"id\":\"1039\",\"type\":\"VBar\"},{\"attributes\":{},\"id\":\"1055\",\"type\":\"Selection\"},{\"attributes\":{\"axis_label\":\"# de nacimientos\",\"formatter\":{\"id\":\"1052\",\"type\":\"BasicTickFormatter\"},\"plot\":{\"id\":\"1003\",\"subtype\":\"Figure\",\"type\":\"Plot\"},\"ticker\":{\"id\":\"1017\",\"type\":\"BasicTicker\"}},\"id\":\"1016\",\"type\":\"LinearAxis\"},{\"attributes\":{\"axis_label\":\"Ciudades\",\"formatter\":{\"id\":\"1050\",\"type\":\"CategoricalTickFormatter\"},\"major_label_orientation\":1,\"plot\":{\"id\":\"1003\",\"subtype\":\"Figure\",\"type\":\"Plot\"},\"ticker\":{\"id\":\"1013\",\"type\":\"CategoricalTicker\"}},\"id\":\"1012\",\"type\":\"CategoricalAxis\"},{\"attributes\":{},\"id\":\"1021\",\"type\":\"PanTool\"}],\"root_ids\":[\"1003\"]},\"title\":\"Bokeh Application\",\"version\":\"1.0.4\"}};\n",
       "  var render_items = [{\"docid\":\"271defc5-7e58-479e-8880-02bfeedaa4a3\",\"roots\":{\"1003\":\"83b0890f-edf5-4a9e-be0e-c513db18dace\"}}];\n",
       "  root.Bokeh.embed.embed_items_notebook(docs_json, render_items);\n",
       "\n",
       "  }\n",
       "  if (root.Bokeh !== undefined) {\n",
       "    embed_document(root);\n",
       "  } else {\n",
       "    var attempts = 0;\n",
       "    var timer = setInterval(function(root) {\n",
       "      if (root.Bokeh !== undefined) {\n",
       "        embed_document(root);\n",
       "        clearInterval(timer);\n",
       "      }\n",
       "      attempts++;\n",
       "      if (attempts > 100) {\n",
       "        console.log(\"Bokeh: ERROR: Unable to run BokehJS code because BokehJS library is missing\");\n",
       "        clearInterval(timer);\n",
       "      }\n",
       "    }, 10, root)\n",
       "  }\n",
       "})(window);"
      ],
      "application/vnd.bokehjs_exec.v0+json": ""
     },
     "metadata": {
      "application/vnd.bokehjs_exec.v0+json": {
       "id": "1003"
      }
     },
     "output_type": "display_data"
    }
   ],
   "source": [
    "show(p)"
   ]
  }
 ],
 "metadata": {
  "kernelspec": {
   "display_name": "Python 3",
   "language": "python",
   "name": "python3"
  },
  "language_info": {
   "codemirror_mode": {
    "name": "ipython",
    "version": 3
   },
   "file_extension": ".py",
   "mimetype": "text/x-python",
   "name": "python",
   "nbconvert_exporter": "python",
   "pygments_lexer": "ipython3",
   "version": "3.7.0b3"
  }
 },
 "nbformat": 4,
 "nbformat_minor": 2
}
