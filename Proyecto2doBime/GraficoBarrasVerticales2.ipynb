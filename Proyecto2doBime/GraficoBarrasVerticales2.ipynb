{
 "cells": [
  {
   "cell_type": "markdown",
   "metadata": {},
   "source": [
    "## Gráfica de barras verticales"
   ]
  },
  {
   "cell_type": "markdown",
   "metadata": {},
   "source": [
    "En la primera línea realizamos la importación de la librería de pandas para leer los datos en el formato csv y la denominamos dp, las siguientes importaciones son de la librería de bokeh que es para realizar los gráficos estadísticos."
   ]
  },
  {
   "cell_type": "code",
   "execution_count": 1,
   "metadata": {},
   "outputs": [],
   "source": [
    "import pandas as pd\n",
    "from bokeh.plotting import figure, show, output_notebook\n",
    "from bokeh.models import ColumnDataSource\n",
    "from bokeh.models.tools import HoverTool\n",
    "from bokeh.transform import factor_cmap\n",
    "from bokeh.palettes import viridis"
   ]
  },
  {
   "cell_type": "markdown",
   "metadata": {},
   "source": [
    "\"output_notebook\" es una función de bokeh para hacer la presentación grafica."
   ]
  },
  {
   "cell_type": "code",
   "execution_count": 2,
   "metadata": {},
   "outputs": [
    {
     "data": {
      "text/html": [
       "\n",
       "    <div class=\"bk-root\">\n",
       "        <a href=\"https://bokeh.pydata.org\" target=\"_blank\" class=\"bk-logo bk-logo-small bk-logo-notebook\"></a>\n",
       "        <span id=\"1001\">Loading BokehJS ...</span>\n",
       "    </div>"
      ]
     },
     "metadata": {},
     "output_type": "display_data"
    },
    {
     "data": {
      "application/javascript": [
       "\n",
       "(function(root) {\n",
       "  function now() {\n",
       "    return new Date();\n",
       "  }\n",
       "\n",
       "  var force = true;\n",
       "\n",
       "  if (typeof (root._bokeh_onload_callbacks) === \"undefined\" || force === true) {\n",
       "    root._bokeh_onload_callbacks = [];\n",
       "    root._bokeh_is_loading = undefined;\n",
       "  }\n",
       "\n",
       "  var JS_MIME_TYPE = 'application/javascript';\n",
       "  var HTML_MIME_TYPE = 'text/html';\n",
       "  var EXEC_MIME_TYPE = 'application/vnd.bokehjs_exec.v0+json';\n",
       "  var CLASS_NAME = 'output_bokeh rendered_html';\n",
       "\n",
       "  /**\n",
       "   * Render data to the DOM node\n",
       "   */\n",
       "  function render(props, node) {\n",
       "    var script = document.createElement(\"script\");\n",
       "    node.appendChild(script);\n",
       "  }\n",
       "\n",
       "  /**\n",
       "   * Handle when an output is cleared or removed\n",
       "   */\n",
       "  function handleClearOutput(event, handle) {\n",
       "    var cell = handle.cell;\n",
       "\n",
       "    var id = cell.output_area._bokeh_element_id;\n",
       "    var server_id = cell.output_area._bokeh_server_id;\n",
       "    // Clean up Bokeh references\n",
       "    if (id != null && id in Bokeh.index) {\n",
       "      Bokeh.index[id].model.document.clear();\n",
       "      delete Bokeh.index[id];\n",
       "    }\n",
       "\n",
       "    if (server_id !== undefined) {\n",
       "      // Clean up Bokeh references\n",
       "      var cmd = \"from bokeh.io.state import curstate; print(curstate().uuid_to_server['\" + server_id + \"'].get_sessions()[0].document.roots[0]._id)\";\n",
       "      cell.notebook.kernel.execute(cmd, {\n",
       "        iopub: {\n",
       "          output: function(msg) {\n",
       "            var id = msg.content.text.trim();\n",
       "            if (id in Bokeh.index) {\n",
       "              Bokeh.index[id].model.document.clear();\n",
       "              delete Bokeh.index[id];\n",
       "            }\n",
       "          }\n",
       "        }\n",
       "      });\n",
       "      // Destroy server and session\n",
       "      var cmd = \"import bokeh.io.notebook as ion; ion.destroy_server('\" + server_id + \"')\";\n",
       "      cell.notebook.kernel.execute(cmd);\n",
       "    }\n",
       "  }\n",
       "\n",
       "  /**\n",
       "   * Handle when a new output is added\n",
       "   */\n",
       "  function handleAddOutput(event, handle) {\n",
       "    var output_area = handle.output_area;\n",
       "    var output = handle.output;\n",
       "\n",
       "    // limit handleAddOutput to display_data with EXEC_MIME_TYPE content only\n",
       "    if ((output.output_type != \"display_data\") || (!output.data.hasOwnProperty(EXEC_MIME_TYPE))) {\n",
       "      return\n",
       "    }\n",
       "\n",
       "    var toinsert = output_area.element.find(\".\" + CLASS_NAME.split(' ')[0]);\n",
       "\n",
       "    if (output.metadata[EXEC_MIME_TYPE][\"id\"] !== undefined) {\n",
       "      toinsert[toinsert.length - 1].firstChild.textContent = output.data[JS_MIME_TYPE];\n",
       "      // store reference to embed id on output_area\n",
       "      output_area._bokeh_element_id = output.metadata[EXEC_MIME_TYPE][\"id\"];\n",
       "    }\n",
       "    if (output.metadata[EXEC_MIME_TYPE][\"server_id\"] !== undefined) {\n",
       "      var bk_div = document.createElement(\"div\");\n",
       "      bk_div.innerHTML = output.data[HTML_MIME_TYPE];\n",
       "      var script_attrs = bk_div.children[0].attributes;\n",
       "      for (var i = 0; i < script_attrs.length; i++) {\n",
       "        toinsert[toinsert.length - 1].firstChild.setAttribute(script_attrs[i].name, script_attrs[i].value);\n",
       "      }\n",
       "      // store reference to server id on output_area\n",
       "      output_area._bokeh_server_id = output.metadata[EXEC_MIME_TYPE][\"server_id\"];\n",
       "    }\n",
       "  }\n",
       "\n",
       "  function register_renderer(events, OutputArea) {\n",
       "\n",
       "    function append_mime(data, metadata, element) {\n",
       "      // create a DOM node to render to\n",
       "      var toinsert = this.create_output_subarea(\n",
       "        metadata,\n",
       "        CLASS_NAME,\n",
       "        EXEC_MIME_TYPE\n",
       "      );\n",
       "      this.keyboard_manager.register_events(toinsert);\n",
       "      // Render to node\n",
       "      var props = {data: data, metadata: metadata[EXEC_MIME_TYPE]};\n",
       "      render(props, toinsert[toinsert.length - 1]);\n",
       "      element.append(toinsert);\n",
       "      return toinsert\n",
       "    }\n",
       "\n",
       "    /* Handle when an output is cleared or removed */\n",
       "    events.on('clear_output.CodeCell', handleClearOutput);\n",
       "    events.on('delete.Cell', handleClearOutput);\n",
       "\n",
       "    /* Handle when a new output is added */\n",
       "    events.on('output_added.OutputArea', handleAddOutput);\n",
       "\n",
       "    /**\n",
       "     * Register the mime type and append_mime function with output_area\n",
       "     */\n",
       "    OutputArea.prototype.register_mime_type(EXEC_MIME_TYPE, append_mime, {\n",
       "      /* Is output safe? */\n",
       "      safe: true,\n",
       "      /* Index of renderer in `output_area.display_order` */\n",
       "      index: 0\n",
       "    });\n",
       "  }\n",
       "\n",
       "  // register the mime type if in Jupyter Notebook environment and previously unregistered\n",
       "  if (root.Jupyter !== undefined) {\n",
       "    var events = require('base/js/events');\n",
       "    var OutputArea = require('notebook/js/outputarea').OutputArea;\n",
       "\n",
       "    if (OutputArea.prototype.mime_types().indexOf(EXEC_MIME_TYPE) == -1) {\n",
       "      register_renderer(events, OutputArea);\n",
       "    }\n",
       "  }\n",
       "\n",
       "  \n",
       "  if (typeof (root._bokeh_timeout) === \"undefined\" || force === true) {\n",
       "    root._bokeh_timeout = Date.now() + 5000;\n",
       "    root._bokeh_failed_load = false;\n",
       "  }\n",
       "\n",
       "  var NB_LOAD_WARNING = {'data': {'text/html':\n",
       "     \"<div style='background-color: #fdd'>\\n\"+\n",
       "     \"<p>\\n\"+\n",
       "     \"BokehJS does not appear to have successfully loaded. If loading BokehJS from CDN, this \\n\"+\n",
       "     \"may be due to a slow or bad network connection. Possible fixes:\\n\"+\n",
       "     \"</p>\\n\"+\n",
       "     \"<ul>\\n\"+\n",
       "     \"<li>re-rerun `output_notebook()` to attempt to load from CDN again, or</li>\\n\"+\n",
       "     \"<li>use INLINE resources instead, as so:</li>\\n\"+\n",
       "     \"</ul>\\n\"+\n",
       "     \"<code>\\n\"+\n",
       "     \"from bokeh.resources import INLINE\\n\"+\n",
       "     \"output_notebook(resources=INLINE)\\n\"+\n",
       "     \"</code>\\n\"+\n",
       "     \"</div>\"}};\n",
       "\n",
       "  function display_loaded() {\n",
       "    var el = document.getElementById(\"1001\");\n",
       "    if (el != null) {\n",
       "      el.textContent = \"BokehJS is loading...\";\n",
       "    }\n",
       "    if (root.Bokeh !== undefined) {\n",
       "      if (el != null) {\n",
       "        el.textContent = \"BokehJS \" + root.Bokeh.version + \" successfully loaded.\";\n",
       "      }\n",
       "    } else if (Date.now() < root._bokeh_timeout) {\n",
       "      setTimeout(display_loaded, 100)\n",
       "    }\n",
       "  }\n",
       "\n",
       "\n",
       "  function run_callbacks() {\n",
       "    try {\n",
       "      root._bokeh_onload_callbacks.forEach(function(callback) { callback() });\n",
       "    }\n",
       "    finally {\n",
       "      delete root._bokeh_onload_callbacks\n",
       "    }\n",
       "    console.info(\"Bokeh: all callbacks have finished\");\n",
       "  }\n",
       "\n",
       "  function load_libs(js_urls, callback) {\n",
       "    root._bokeh_onload_callbacks.push(callback);\n",
       "    if (root._bokeh_is_loading > 0) {\n",
       "      console.log(\"Bokeh: BokehJS is being loaded, scheduling callback at\", now());\n",
       "      return null;\n",
       "    }\n",
       "    if (js_urls == null || js_urls.length === 0) {\n",
       "      run_callbacks();\n",
       "      return null;\n",
       "    }\n",
       "    console.log(\"Bokeh: BokehJS not loaded, scheduling load and callback at\", now());\n",
       "    root._bokeh_is_loading = js_urls.length;\n",
       "    for (var i = 0; i < js_urls.length; i++) {\n",
       "      var url = js_urls[i];\n",
       "      var s = document.createElement('script');\n",
       "      s.src = url;\n",
       "      s.async = false;\n",
       "      s.onreadystatechange = s.onload = function() {\n",
       "        root._bokeh_is_loading--;\n",
       "        if (root._bokeh_is_loading === 0) {\n",
       "          console.log(\"Bokeh: all BokehJS libraries loaded\");\n",
       "          run_callbacks()\n",
       "        }\n",
       "      };\n",
       "      s.onerror = function() {\n",
       "        console.warn(\"failed to load library \" + url);\n",
       "      };\n",
       "      console.log(\"Bokeh: injecting script tag for BokehJS library: \", url);\n",
       "      document.getElementsByTagName(\"head\")[0].appendChild(s);\n",
       "    }\n",
       "  };var element = document.getElementById(\"1001\");\n",
       "  if (element == null) {\n",
       "    console.log(\"Bokeh: ERROR: autoload.js configured with elementid '1001' but no matching script tag was found. \")\n",
       "    return false;\n",
       "  }\n",
       "\n",
       "  var js_urls = [\"https://cdn.pydata.org/bokeh/release/bokeh-1.0.4.min.js\", \"https://cdn.pydata.org/bokeh/release/bokeh-widgets-1.0.4.min.js\", \"https://cdn.pydata.org/bokeh/release/bokeh-tables-1.0.4.min.js\", \"https://cdn.pydata.org/bokeh/release/bokeh-gl-1.0.4.min.js\"];\n",
       "\n",
       "  var inline_js = [\n",
       "    function(Bokeh) {\n",
       "      Bokeh.set_log_level(\"info\");\n",
       "    },\n",
       "    \n",
       "    function(Bokeh) {\n",
       "      \n",
       "    },\n",
       "    function(Bokeh) {\n",
       "      console.log(\"Bokeh: injecting CSS: https://cdn.pydata.org/bokeh/release/bokeh-1.0.4.min.css\");\n",
       "      Bokeh.embed.inject_css(\"https://cdn.pydata.org/bokeh/release/bokeh-1.0.4.min.css\");\n",
       "      console.log(\"Bokeh: injecting CSS: https://cdn.pydata.org/bokeh/release/bokeh-widgets-1.0.4.min.css\");\n",
       "      Bokeh.embed.inject_css(\"https://cdn.pydata.org/bokeh/release/bokeh-widgets-1.0.4.min.css\");\n",
       "      console.log(\"Bokeh: injecting CSS: https://cdn.pydata.org/bokeh/release/bokeh-tables-1.0.4.min.css\");\n",
       "      Bokeh.embed.inject_css(\"https://cdn.pydata.org/bokeh/release/bokeh-tables-1.0.4.min.css\");\n",
       "    }\n",
       "  ];\n",
       "\n",
       "  function run_inline_js() {\n",
       "    \n",
       "    if ((root.Bokeh !== undefined) || (force === true)) {\n",
       "      for (var i = 0; i < inline_js.length; i++) {\n",
       "        inline_js[i].call(root, root.Bokeh);\n",
       "      }if (force === true) {\n",
       "        display_loaded();\n",
       "      }} else if (Date.now() < root._bokeh_timeout) {\n",
       "      setTimeout(run_inline_js, 100);\n",
       "    } else if (!root._bokeh_failed_load) {\n",
       "      console.log(\"Bokeh: BokehJS failed to load within specified timeout.\");\n",
       "      root._bokeh_failed_load = true;\n",
       "    } else if (force !== true) {\n",
       "      var cell = $(document.getElementById(\"1001\")).parents('.cell').data().cell;\n",
       "      cell.output_area.append_execute_result(NB_LOAD_WARNING)\n",
       "    }\n",
       "\n",
       "  }\n",
       "\n",
       "  if (root._bokeh_is_loading === 0) {\n",
       "    console.log(\"Bokeh: BokehJS loaded, going straight to plotting\");\n",
       "    run_inline_js();\n",
       "  } else {\n",
       "    load_libs(js_urls, function() {\n",
       "      console.log(\"Bokeh: BokehJS plotting callback run at\", now());\n",
       "      run_inline_js();\n",
       "    });\n",
       "  }\n",
       "}(window));"
      ],
      "application/vnd.bokehjs_load.v0+json": "\n(function(root) {\n  function now() {\n    return new Date();\n  }\n\n  var force = true;\n\n  if (typeof (root._bokeh_onload_callbacks) === \"undefined\" || force === true) {\n    root._bokeh_onload_callbacks = [];\n    root._bokeh_is_loading = undefined;\n  }\n\n  \n\n  \n  if (typeof (root._bokeh_timeout) === \"undefined\" || force === true) {\n    root._bokeh_timeout = Date.now() + 5000;\n    root._bokeh_failed_load = false;\n  }\n\n  var NB_LOAD_WARNING = {'data': {'text/html':\n     \"<div style='background-color: #fdd'>\\n\"+\n     \"<p>\\n\"+\n     \"BokehJS does not appear to have successfully loaded. If loading BokehJS from CDN, this \\n\"+\n     \"may be due to a slow or bad network connection. Possible fixes:\\n\"+\n     \"</p>\\n\"+\n     \"<ul>\\n\"+\n     \"<li>re-rerun `output_notebook()` to attempt to load from CDN again, or</li>\\n\"+\n     \"<li>use INLINE resources instead, as so:</li>\\n\"+\n     \"</ul>\\n\"+\n     \"<code>\\n\"+\n     \"from bokeh.resources import INLINE\\n\"+\n     \"output_notebook(resources=INLINE)\\n\"+\n     \"</code>\\n\"+\n     \"</div>\"}};\n\n  function display_loaded() {\n    var el = document.getElementById(\"1001\");\n    if (el != null) {\n      el.textContent = \"BokehJS is loading...\";\n    }\n    if (root.Bokeh !== undefined) {\n      if (el != null) {\n        el.textContent = \"BokehJS \" + root.Bokeh.version + \" successfully loaded.\";\n      }\n    } else if (Date.now() < root._bokeh_timeout) {\n      setTimeout(display_loaded, 100)\n    }\n  }\n\n\n  function run_callbacks() {\n    try {\n      root._bokeh_onload_callbacks.forEach(function(callback) { callback() });\n    }\n    finally {\n      delete root._bokeh_onload_callbacks\n    }\n    console.info(\"Bokeh: all callbacks have finished\");\n  }\n\n  function load_libs(js_urls, callback) {\n    root._bokeh_onload_callbacks.push(callback);\n    if (root._bokeh_is_loading > 0) {\n      console.log(\"Bokeh: BokehJS is being loaded, scheduling callback at\", now());\n      return null;\n    }\n    if (js_urls == null || js_urls.length === 0) {\n      run_callbacks();\n      return null;\n    }\n    console.log(\"Bokeh: BokehJS not loaded, scheduling load and callback at\", now());\n    root._bokeh_is_loading = js_urls.length;\n    for (var i = 0; i < js_urls.length; i++) {\n      var url = js_urls[i];\n      var s = document.createElement('script');\n      s.src = url;\n      s.async = false;\n      s.onreadystatechange = s.onload = function() {\n        root._bokeh_is_loading--;\n        if (root._bokeh_is_loading === 0) {\n          console.log(\"Bokeh: all BokehJS libraries loaded\");\n          run_callbacks()\n        }\n      };\n      s.onerror = function() {\n        console.warn(\"failed to load library \" + url);\n      };\n      console.log(\"Bokeh: injecting script tag for BokehJS library: \", url);\n      document.getElementsByTagName(\"head\")[0].appendChild(s);\n    }\n  };var element = document.getElementById(\"1001\");\n  if (element == null) {\n    console.log(\"Bokeh: ERROR: autoload.js configured with elementid '1001' but no matching script tag was found. \")\n    return false;\n  }\n\n  var js_urls = [\"https://cdn.pydata.org/bokeh/release/bokeh-1.0.4.min.js\", \"https://cdn.pydata.org/bokeh/release/bokeh-widgets-1.0.4.min.js\", \"https://cdn.pydata.org/bokeh/release/bokeh-tables-1.0.4.min.js\", \"https://cdn.pydata.org/bokeh/release/bokeh-gl-1.0.4.min.js\"];\n\n  var inline_js = [\n    function(Bokeh) {\n      Bokeh.set_log_level(\"info\");\n    },\n    \n    function(Bokeh) {\n      \n    },\n    function(Bokeh) {\n      console.log(\"Bokeh: injecting CSS: https://cdn.pydata.org/bokeh/release/bokeh-1.0.4.min.css\");\n      Bokeh.embed.inject_css(\"https://cdn.pydata.org/bokeh/release/bokeh-1.0.4.min.css\");\n      console.log(\"Bokeh: injecting CSS: https://cdn.pydata.org/bokeh/release/bokeh-widgets-1.0.4.min.css\");\n      Bokeh.embed.inject_css(\"https://cdn.pydata.org/bokeh/release/bokeh-widgets-1.0.4.min.css\");\n      console.log(\"Bokeh: injecting CSS: https://cdn.pydata.org/bokeh/release/bokeh-tables-1.0.4.min.css\");\n      Bokeh.embed.inject_css(\"https://cdn.pydata.org/bokeh/release/bokeh-tables-1.0.4.min.css\");\n    }\n  ];\n\n  function run_inline_js() {\n    \n    if ((root.Bokeh !== undefined) || (force === true)) {\n      for (var i = 0; i < inline_js.length; i++) {\n        inline_js[i].call(root, root.Bokeh);\n      }if (force === true) {\n        display_loaded();\n      }} else if (Date.now() < root._bokeh_timeout) {\n      setTimeout(run_inline_js, 100);\n    } else if (!root._bokeh_failed_load) {\n      console.log(\"Bokeh: BokehJS failed to load within specified timeout.\");\n      root._bokeh_failed_load = true;\n    } else if (force !== true) {\n      var cell = $(document.getElementById(\"1001\")).parents('.cell').data().cell;\n      cell.output_area.append_execute_result(NB_LOAD_WARNING)\n    }\n\n  }\n\n  if (root._bokeh_is_loading === 0) {\n    console.log(\"Bokeh: BokehJS loaded, going straight to plotting\");\n    run_inline_js();\n  } else {\n    load_libs(js_urls, function() {\n      console.log(\"Bokeh: BokehJS plotting callback run at\", now());\n      run_inline_js();\n    });\n  }\n}(window));"
     },
     "metadata": {},
     "output_type": "display_data"
    }
   ],
   "source": [
    "output_notebook()"
   ]
  },
  {
   "cell_type": "markdown",
   "metadata": {},
   "source": [
    "Creo la variable df para que realice la lectura de la base de datos, la cual esta en formato .csv, para ello usamos read_csv.En las siguiente le defino con \"Sample\" para definir 50 datos aleatorios de la data"
   ]
  },
  {
   "cell_type": "code",
   "execution_count": 3,
   "metadata": {},
   "outputs": [],
   "source": [
    "df = pd.read_csv('data/nacimientos2014.csv', encoding='utf8')\n",
    "df = df.sample(50)"
   ]
  },
  {
   "cell_type": "markdown",
   "metadata": {},
   "source": [
    "Creo una variable denominada grupo, la cuál por la función de bokeh que es groupby la cuál realiza grupos de las variables de datos que le asigno, en la siguiente línea creamos una variable source, que será a ColumnDataSoruce del grupo que definí en la anterior línea. \"ColumnDataSource\" la cuál convierte los datos de un objeto dataframe a un objeto de columnas de bokeh. Creo una variable parroquia la cual almacena todos los datos en formato de lista de la columna \"parr_insc\" de los datos source.Creo el objeto p, asignadole el rango por el eje de las x igualandolo a parroquia"
   ]
  },
  {
   "cell_type": "code",
   "execution_count": 4,
   "metadata": {},
   "outputs": [],
   "source": [
    "grupo = df.groupby('parr_insc').describe()\n",
    "source = ColumnDataSource(grupo)\n",
    "parroquia = source.data['parr_insc'].tolist()\n",
    "p = figure(x_range=parroquia)"
   ]
  },
  {
   "cell_type": "markdown",
   "metadata": {},
   "source": [
    "Creo la variable mapa_color que será igual a una función de bokeh para definir los colores y el tamaño de la gráfica estadística. Usando el objeto creado le asigno funciones de bokeh para realizar la gráfica de barras que es \"vbar\" la misma que le asigno las datos que necesita para realizar la gráfica, para dibujar el resultado de los parámetros a dibujar."
   ]
  },
  {
   "cell_type": "code",
   "execution_count": 5,
   "metadata": {},
   "outputs": [
    {
     "data": {
      "text/html": [
       "<div style=\"display: table;\"><div style=\"display: table-row;\"><div style=\"display: table-cell;\"><b title=\"bokeh.models.renderers.GlyphRenderer\">GlyphRenderer</b>(</div><div style=\"display: table-cell;\">id&nbsp;=&nbsp;'1040', <span id=\"1043\" style=\"cursor: pointer;\">&hellip;)</span></div></div><div class=\"1042\" style=\"display: none;\"><div style=\"display: table-cell;\"></div><div style=\"display: table-cell;\">data_source&nbsp;=&nbsp;ColumnDataSource(id='1002', ...),</div></div><div class=\"1042\" style=\"display: none;\"><div style=\"display: table-cell;\"></div><div style=\"display: table-cell;\">glyph&nbsp;=&nbsp;VBar(id='1038', ...),</div></div><div class=\"1042\" style=\"display: none;\"><div style=\"display: table-cell;\"></div><div style=\"display: table-cell;\">hover_glyph&nbsp;=&nbsp;None,</div></div><div class=\"1042\" style=\"display: none;\"><div style=\"display: table-cell;\"></div><div style=\"display: table-cell;\">js_event_callbacks&nbsp;=&nbsp;{},</div></div><div class=\"1042\" style=\"display: none;\"><div style=\"display: table-cell;\"></div><div style=\"display: table-cell;\">js_property_callbacks&nbsp;=&nbsp;{},</div></div><div class=\"1042\" style=\"display: none;\"><div style=\"display: table-cell;\"></div><div style=\"display: table-cell;\">level&nbsp;=&nbsp;'glyph',</div></div><div class=\"1042\" style=\"display: none;\"><div style=\"display: table-cell;\"></div><div style=\"display: table-cell;\">muted&nbsp;=&nbsp;False,</div></div><div class=\"1042\" style=\"display: none;\"><div style=\"display: table-cell;\"></div><div style=\"display: table-cell;\">muted_glyph&nbsp;=&nbsp;None,</div></div><div class=\"1042\" style=\"display: none;\"><div style=\"display: table-cell;\"></div><div style=\"display: table-cell;\">name&nbsp;=&nbsp;None,</div></div><div class=\"1042\" style=\"display: none;\"><div style=\"display: table-cell;\"></div><div style=\"display: table-cell;\">nonselection_glyph&nbsp;=&nbsp;VBar(id='1039', ...),</div></div><div class=\"1042\" style=\"display: none;\"><div style=\"display: table-cell;\"></div><div style=\"display: table-cell;\">selection_glyph&nbsp;=&nbsp;None,</div></div><div class=\"1042\" style=\"display: none;\"><div style=\"display: table-cell;\"></div><div style=\"display: table-cell;\">subscribed_events&nbsp;=&nbsp;[],</div></div><div class=\"1042\" style=\"display: none;\"><div style=\"display: table-cell;\"></div><div style=\"display: table-cell;\">tags&nbsp;=&nbsp;[],</div></div><div class=\"1042\" style=\"display: none;\"><div style=\"display: table-cell;\"></div><div style=\"display: table-cell;\">view&nbsp;=&nbsp;CDSView(id='1041', ...),</div></div><div class=\"1042\" style=\"display: none;\"><div style=\"display: table-cell;\"></div><div style=\"display: table-cell;\">visible&nbsp;=&nbsp;True,</div></div><div class=\"1042\" style=\"display: none;\"><div style=\"display: table-cell;\"></div><div style=\"display: table-cell;\">x_range_name&nbsp;=&nbsp;'default',</div></div><div class=\"1042\" style=\"display: none;\"><div style=\"display: table-cell;\"></div><div style=\"display: table-cell;\">y_range_name&nbsp;=&nbsp;'default')</div></div></div>\n",
       "<script>\n",
       "(function() {\n",
       "  var expanded = false;\n",
       "  var ellipsis = document.getElementById(\"1043\");\n",
       "  ellipsis.addEventListener(\"click\", function() {\n",
       "    var rows = document.getElementsByClassName(\"1042\");\n",
       "    for (var i = 0; i < rows.length; i++) {\n",
       "      var el = rows[i];\n",
       "      el.style.display = expanded ? \"none\" : \"table-row\";\n",
       "    }\n",
       "    ellipsis.innerHTML = expanded ? \"&hellip;)\" : \"&lsaquo;&lsaquo;&lsaquo;\";\n",
       "    expanded = !expanded;\n",
       "  });\n",
       "})();\n",
       "</script>\n"
      ],
      "text/plain": [
       "GlyphRenderer(id='1040', ...)"
      ]
     },
     "execution_count": 5,
     "metadata": {},
     "output_type": "execute_result"
    }
   ],
   "source": [
    "mapa_color = factor_cmap(field_name='parr_insc', palette=viridis(len(parroquia)), factors=parroquia)\n",
    "p.vbar(x='parr_insc', top='anio_insc_count', source=source, width=0.7, color=mapa_color)"
   ]
  },
  {
   "cell_type": "markdown",
   "metadata": {},
   "source": [
    "En las siguientes líneas de código le colocó el título a la gráfica y los nombres de las variables a dibujarse para mayor compresión del usuario."
   ]
  },
  {
   "cell_type": "code",
   "execution_count": 6,
   "metadata": {},
   "outputs": [],
   "source": [
    "p.title.text= 'Gráfica de barras con respecto a las parroquias de nacimiento({} muestras)'.format(len(df))\n",
    "p.xaxis.axis_label = 'Parroquía'\n",
    "p.yaxis.axis_label = '#'\n",
    "p.xgrid.grid_line_color = None"
   ]
  },
  {
   "cell_type": "markdown",
   "metadata": {},
   "source": [
    "\"HoverTool\" es un objeto de bokeh el cuál me permite mostrar al usuario los datos exactos al momento de pasar el ratón o mouse por los datos dibujados"
   ]
  },
  {
   "cell_type": "code",
   "execution_count": 7,
   "metadata": {},
   "outputs": [],
   "source": [
    "hover = HoverTool()\n",
    "hover.tooltips = [\n",
    "    ('Total', \"@anio_insc_count\"),\n",
    "    ('Parroquía', \"@parr_insc\")\n",
    "]\n",
    "hover.mode = 'vline'\n",
    "p.add_tools(hover)"
   ]
  },
  {
   "cell_type": "markdown",
   "metadata": {},
   "source": [
    "En las siguientes líneas de código, llamo al objeto creado para asignarle valores los cuáles colocaran los nombres de las variables de el eje de las x,en forma diagonal "
   ]
  },
  {
   "cell_type": "code",
   "execution_count": 8,
   "metadata": {},
   "outputs": [],
   "source": [
    "p.y_range.start = 0\n",
    "p.x_range.range_padding = 0.1\n",
    "p.xaxis.major_label_orientation = 1\n",
    "p.xgrid.grid_line_color = None"
   ]
  },
  {
   "cell_type": "markdown",
   "metadata": {},
   "source": [
    "Mostramos p, el cuál ya está creado, tiene todas las funciones como colores, los datos filtrados y la gráfica que debe realiza"
   ]
  },
  {
   "cell_type": "markdown",
   "metadata": {},
   "source": [
    "En la siguiente gráfica, lo que quiero demostar que dependiendo de las parroquias de inscripción cuál es el total de nacidos que existen."
   ]
  },
  {
   "cell_type": "code",
   "execution_count": 9,
   "metadata": {},
   "outputs": [
    {
     "data": {
      "text/html": [
       "\n",
       "\n",
       "\n",
       "\n",
       "\n",
       "\n",
       "  <div class=\"bk-root\" id=\"57606f04-5c3c-438f-9b26-dc00bd1fca58\" data-root-id=\"1003\"></div>\n"
      ]
     },
     "metadata": {},
     "output_type": "display_data"
    },
    {
     "data": {
      "application/javascript": [
       "(function(root) {\n",
       "  function embed_document(root) {\n",
       "    \n",
       "  var docs_json = {\"b11b2f04-f769-4ac6-9209-1c393431012b\":{\"roots\":{\"references\":[{\"attributes\":{\"below\":[{\"id\":\"1012\",\"type\":\"CategoricalAxis\"}],\"left\":[{\"id\":\"1016\",\"type\":\"LinearAxis\"}],\"renderers\":[{\"id\":\"1012\",\"type\":\"CategoricalAxis\"},{\"id\":\"1015\",\"type\":\"Grid\"},{\"id\":\"1016\",\"type\":\"LinearAxis\"},{\"id\":\"1020\",\"type\":\"Grid\"},{\"id\":\"1029\",\"type\":\"BoxAnnotation\"},{\"id\":\"1040\",\"type\":\"GlyphRenderer\"}],\"title\":{\"id\":\"1044\",\"type\":\"Title\"},\"toolbar\":{\"id\":\"1027\",\"type\":\"Toolbar\"},\"x_range\":{\"id\":\"1004\",\"type\":\"FactorRange\"},\"x_scale\":{\"id\":\"1008\",\"type\":\"CategoricalScale\"},\"y_range\":{\"id\":\"1006\",\"type\":\"DataRange1d\"},\"y_scale\":{\"id\":\"1010\",\"type\":\"LinearScale\"}},\"id\":\"1003\",\"subtype\":\"Figure\",\"type\":\"Plot\"},{\"attributes\":{},\"id\":\"1008\",\"type\":\"CategoricalScale\"},{\"attributes\":{\"callback\":null,\"start\":0},\"id\":\"1006\",\"type\":\"DataRange1d\"},{\"attributes\":{\"active_drag\":\"auto\",\"active_inspect\":\"auto\",\"active_multi\":null,\"active_scroll\":\"auto\",\"active_tap\":\"auto\",\"tools\":[{\"id\":\"1021\",\"type\":\"PanTool\"},{\"id\":\"1022\",\"type\":\"WheelZoomTool\"},{\"id\":\"1023\",\"type\":\"BoxZoomTool\"},{\"id\":\"1024\",\"type\":\"SaveTool\"},{\"id\":\"1025\",\"type\":\"ResetTool\"},{\"id\":\"1026\",\"type\":\"HelpTool\"},{\"id\":\"1045\",\"type\":\"HoverTool\"}]},\"id\":\"1027\",\"type\":\"Toolbar\"},{\"attributes\":{\"plot\":null,\"text\":\"Gr\\u00e1fica de barras con respecto a las parroquias de nacimiento(50 muestras)\"},\"id\":\"1044\",\"type\":\"Title\"},{\"attributes\":{},\"id\":\"1026\",\"type\":\"HelpTool\"},{\"attributes\":{\"callback\":null,\"data\":{\"Unnamed: 0_25%\":{\"__ndarray__\":\"AAAAAADwgkAAAAAAAACRQAAAAAAA7plAAAAAAADslUAAAAAAALCBQAAAAAAAzJhAAAAAAABkj0AAAAAAAPhlQAAAAAAAkJVAAAAAAAAwdEAAAAAAAASQQAAAAAAAVJVAAAAAAADwhkAAAAAAAJCdQAAAAAAA1JhAAAAAAAC4iEAAAAAAAKWYQAAAAAAAEIhAAAAAAAA2o0AAAAAAAHiRQAAAAAAAuGxAAAAAAAB4lEAAAAAAAMBVQAAAAAAAgIdAAAAAAAAQlkAAAAAAANCBQAAAAAAAIJtAAAAAAACYcEAAAAAAANCHQA==\",\"dtype\":\"float64\",\"shape\":[29]},\"Unnamed: 0_50%\":{\"__ndarray__\":\"AAAAAADwgkAAAAAAAACRQAAAAAAA9JpAAAAAAADslUAAAAAAALCBQAAAAAAAzJhAAAAAAADkkkAAAAAAAPBvQAAAAAAAkJVAAAAAAABQeEAAAAAAAASQQAAAAAAAVJVAAAAAAADwhkAAAAAAAJCdQAAAAAAA1JhAAAAAAAC4iEAAAAAAAACeQAAAAAAAEIhAAAAAAAA2o0AAAAAAAHiRQAAAAAAAKHJAAAAAAAB4lEAAAAAAAMBVQAAAAAAAgIdAAAAAAAAQlkAAAAAAANCBQAAAAAAAIJtAAAAAAABgdUAAAAAAANCHQA==\",\"dtype\":\"float64\",\"shape\":[29]},\"Unnamed: 0_75%\":{\"__ndarray__\":\"AAAAAADwgkAAAAAAAACRQAAAAAAA+ptAAAAAAADslUAAAAAAALCBQAAAAAAAzJhAAAAAAAAWlkAAAAAAACqJQAAAAAAAkJVAAAAAAAC4fUAAAAAAAASQQAAAAAAAVJVAAAAAAADwhkAAAAAAAJCdQAAAAAAA1JhAAAAAAAC4iEAAAAAAAFihQAAAAAAAEIhAAAAAAAA2o0AAAAAAAHiRQAAAAAAA9HVAAAAAAAB4lEAAAAAAAMBVQAAAAAAAgIdAAAAAAAAQlkAAAAAAANCBQAAAAAAAIJtAAAAAAABofEAAAAAAANCHQA==\",\"dtype\":\"float64\",\"shape\":[29]},\"Unnamed: 0_count\":{\"__ndarray__\":\"AAAAAAAA8D8AAAAAAADwPwAAAAAAAABAAAAAAAAA8D8AAAAAAADwPwAAAAAAAPA/AAAAAAAAAEAAAAAAAAAQQAAAAAAAAPA/AAAAAAAACEAAAAAAAADwPwAAAAAAAPA/AAAAAAAA8D8AAAAAAADwPwAAAAAAAPA/AAAAAAAA8D8AAAAAAAAgQAAAAAAAAPA/AAAAAAAA8D8AAAAAAADwPwAAAAAAAABAAAAAAAAA8D8AAAAAAADwPwAAAAAAAPA/AAAAAAAA8D8AAAAAAADwPwAAAAAAAPA/AAAAAAAAHEAAAAAAAADwPw==\",\"dtype\":\"float64\",\"shape\":[29]},\"Unnamed: 0_max\":{\"__ndarray__\":\"AAAAAADwgkAAAAAAAACRQAAAAAAAAJ1AAAAAAADslUAAAAAAALCBQAAAAAAAzJhAAAAAAABImUAAAAAAAHShQAAAAAAAkJVAAAAAAACQgUAAAAAAAASQQAAAAAAAVJVAAAAAAADwhkAAAAAAAJCdQAAAAAAA1JhAAAAAAAC4iEAAAAAAAKqhQAAAAAAAEIhAAAAAAAA2o0AAAAAAAHiRQAAAAAAAwHlAAAAAAAB4lEAAAAAAAMBVQAAAAAAAgIdAAAAAAAAQlkAAAAAAANCBQAAAAAAAIJtAAAAAAABQgEAAAAAAANCHQA==\",\"dtype\":\"float64\",\"shape\":[29]},\"Unnamed: 0_mean\":{\"__ndarray__\":\"AAAAAADwgkAAAAAAAACRQAAAAAAA9JpAAAAAAADslUAAAAAAALCBQAAAAAAAzJhAAAAAAADkkkAAAAAAAKyGQAAAAAAAkJVAq6qqqqoqeUAAAAAAAASQQAAAAAAAVJVAAAAAAADwhkAAAAAAAJCdQAAAAAAA1JhAAAAAAAC4iEAAAAAAgAebQAAAAAAAEIhAAAAAAAA2o0AAAAAAAHiRQAAAAAAAKHJAAAAAAAB4lEAAAAAAAMBVQAAAAAAAgIdAAAAAAAAQlkAAAAAAANCBQAAAAAAAIJtAJUmSJEnydEAAAAAAANCHQA==\",\"dtype\":\"float64\",\"shape\":[29]},\"Unnamed: 0_min\":{\"__ndarray__\":\"AAAAAADwgkAAAAAAAACRQAAAAAAA6JhAAAAAAADslUAAAAAAALCBQAAAAAAAzJhAAAAAAAAAiUAAAAAAAKBjQAAAAAAAkJVAAAAAAAAQcEAAAAAAAASQQAAAAAAAVJVAAAAAAADwhkAAAAAAAJCdQAAAAAAA1JhAAAAAAAC4iEAAAAAAADiCQAAAAAAAEIhAAAAAAAA2o0AAAAAAAHiRQAAAAAAAIGVAAAAAAAB4lEAAAAAAAMBVQAAAAAAAgIdAAAAAAAAQlkAAAAAAANCBQAAAAAAAIJtAAAAAAAAARUAAAAAAANCHQA==\",\"dtype\":\"float64\",\"shape\":[29]},\"Unnamed: 0_std\":{\"__ndarray__\":\"AAAAAAAA+H8AAAAAAAD4fzM35hxiKGdAAAAAAAAA+H8AAAAAAAD4fwAAAAAAAPh/RaPgiE4TgkD3oIOHM4SPQAAAAAAAAPh/Fz4K2qweY0AAAAAAAAD4fwAAAAAAAPh/AAAAAAAA+H8AAAAAAAD4fwAAAAAAAPh/AAAAAAAA+H/yjmYxdfWDQAAAAAAAAPh/AAAAAAAA+H8AAAAAAAD4f8PFSlt2emVAAAAAAAAA+H8AAAAAAAD4fwAAAAAAAPh/AAAAAAAA+H8AAAAAAAD4fwAAAAAAAPh/GUnKEEQEZUAAAAAAAAD4fw==\",\"dtype\":\"float64\",\"shape\":[29]},\"anio_insc_25%\":{\"__ndarray__\":\"AAAAAAB4n0AAAAAAAHifQAAAAAAAeJ9AAAAAAAB4n0AAAAAAAHifQAAAAAAAeJ9AAAAAAAB4n0AAAAAAAHifQAAAAAAAeJ9AAAAAAAB4n0AAAAAAAHifQAAAAAAAeJ9AAAAAAAB4n0AAAAAAAHifQAAAAAAAeJ9AAAAAAAB4n0AAAAAAAHifQAAAAAAAeJ9AAAAAAAB4n0AAAAAAAHifQAAAAAAAeJ9AAAAAAAB4n0AAAAAAAHifQAAAAAAAeJ9AAAAAAAB4n0AAAAAAAHifQAAAAAAAeJ9AAAAAAAB4n0AAAAAAAHifQA==\",\"dtype\":\"float64\",\"shape\":[29]},\"anio_insc_50%\":{\"__ndarray__\":\"AAAAAAB4n0AAAAAAAHifQAAAAAAAeJ9AAAAAAAB4n0AAAAAAAHifQAAAAAAAeJ9AAAAAAAB4n0AAAAAAAHifQAAAAAAAeJ9AAAAAAAB4n0AAAAAAAHifQAAAAAAAeJ9AAAAAAAB4n0AAAAAAAHifQAAAAAAAeJ9AAAAAAAB4n0AAAAAAAHifQAAAAAAAeJ9AAAAAAAB4n0AAAAAAAHifQAAAAAAAeJ9AAAAAAAB4n0AAAAAAAHifQAAAAAAAeJ9AAAAAAAB4n0AAAAAAAHifQAAAAAAAeJ9AAAAAAAB4n0AAAAAAAHifQA==\",\"dtype\":\"float64\",\"shape\":[29]},\"anio_insc_75%\":{\"__ndarray__\":\"AAAAAAB4n0AAAAAAAHifQAAAAAAAeJ9AAAAAAAB4n0AAAAAAAHifQAAAAAAAeJ9AAAAAAAB4n0AAAAAAAHifQAAAAAAAeJ9AAAAAAAB4n0AAAAAAAHifQAAAAAAAeJ9AAAAAAAB4n0AAAAAAAHifQAAAAAAAeJ9AAAAAAAB4n0AAAAAAAHifQAAAAAAAeJ9AAAAAAAB4n0AAAAAAAHifQAAAAAAAeJ9AAAAAAAB4n0AAAAAAAHifQAAAAAAAeJ9AAAAAAAB4n0AAAAAAAHifQAAAAAAAeJ9AAAAAAAB4n0AAAAAAAHifQA==\",\"dtype\":\"float64\",\"shape\":[29]},\"anio_insc_count\":{\"__ndarray__\":\"AAAAAAAA8D8AAAAAAADwPwAAAAAAAABAAAAAAAAA8D8AAAAAAADwPwAAAAAAAPA/AAAAAAAAAEAAAAAAAAAQQAAAAAAAAPA/AAAAAAAACEAAAAAAAADwPwAAAAAAAPA/AAAAAAAA8D8AAAAAAADwPwAAAAAAAPA/AAAAAAAA8D8AAAAAAAAgQAAAAAAAAPA/AAAAAAAA8D8AAAAAAADwPwAAAAAAAABAAAAAAAAA8D8AAAAAAADwPwAAAAAAAPA/AAAAAAAA8D8AAAAAAADwPwAAAAAAAPA/AAAAAAAAHEAAAAAAAADwPw==\",\"dtype\":\"float64\",\"shape\":[29]},\"anio_insc_max\":{\"__ndarray__\":\"AAAAAAB4n0AAAAAAAHifQAAAAAAAeJ9AAAAAAAB4n0AAAAAAAHifQAAAAAAAeJ9AAAAAAAB4n0AAAAAAAHifQAAAAAAAeJ9AAAAAAAB4n0AAAAAAAHifQAAAAAAAeJ9AAAAAAAB4n0AAAAAAAHifQAAAAAAAeJ9AAAAAAAB4n0AAAAAAAHifQAAAAAAAeJ9AAAAAAAB4n0AAAAAAAHifQAAAAAAAeJ9AAAAAAAB4n0AAAAAAAHifQAAAAAAAeJ9AAAAAAAB4n0AAAAAAAHifQAAAAAAAeJ9AAAAAAAB4n0AAAAAAAHifQA==\",\"dtype\":\"float64\",\"shape\":[29]},\"anio_insc_mean\":{\"__ndarray__\":\"AAAAAAB4n0AAAAAAAHifQAAAAAAAeJ9AAAAAAAB4n0AAAAAAAHifQAAAAAAAeJ9AAAAAAAB4n0AAAAAAAHifQAAAAAAAeJ9AAAAAAAB4n0AAAAAAAHifQAAAAAAAeJ9AAAAAAAB4n0AAAAAAAHifQAAAAAAAeJ9AAAAAAAB4n0AAAAAAAHifQAAAAAAAeJ9AAAAAAAB4n0AAAAAAAHifQAAAAAAAeJ9AAAAAAAB4n0AAAAAAAHifQAAAAAAAeJ9AAAAAAAB4n0AAAAAAAHifQAAAAAAAeJ9AAAAAAAB4n0AAAAAAAHifQA==\",\"dtype\":\"float64\",\"shape\":[29]},\"anio_insc_min\":{\"__ndarray__\":\"AAAAAAB4n0AAAAAAAHifQAAAAAAAeJ9AAAAAAAB4n0AAAAAAAHifQAAAAAAAeJ9AAAAAAAB4n0AAAAAAAHifQAAAAAAAeJ9AAAAAAAB4n0AAAAAAAHifQAAAAAAAeJ9AAAAAAAB4n0AAAAAAAHifQAAAAAAAeJ9AAAAAAAB4n0AAAAAAAHifQAAAAAAAeJ9AAAAAAAB4n0AAAAAAAHifQAAAAAAAeJ9AAAAAAAB4n0AAAAAAAHifQAAAAAAAeJ9AAAAAAAB4n0AAAAAAAHifQAAAAAAAeJ9AAAAAAAB4n0AAAAAAAHifQA==\",\"dtype\":\"float64\",\"shape\":[29]},\"anio_insc_std\":{\"__ndarray__\":\"AAAAAAAA+H8AAAAAAAD4fwAAAAAAAAAAAAAAAAAA+H8AAAAAAAD4fwAAAAAAAPh/AAAAAAAAAAAAAAAAAAAAAAAAAAAAAPh/AAAAAAAAAAAAAAAAAAD4fwAAAAAAAPh/AAAAAAAA+H8AAAAAAAD4fwAAAAAAAPh/AAAAAAAA+H8AAAAAAAAAAAAAAAAAAPh/AAAAAAAA+H8AAAAAAAD4fwAAAAAAAAAAAAAAAAAA+H8AAAAAAAD4fwAAAAAAAPh/AAAAAAAA+H8AAAAAAAD4fwAAAAAAAPh/AAAAAAAAAAAAAAAAAAD4fw==\",\"dtype\":\"float64\",\"shape\":[29]},\"anio_mad_25%\":{\"__ndarray__\":\"AAAAAAAMn0AAAAAAAAD4fwAAAAAAGZ9AAAAAAAAYn0AAAAAAAOyeQAAAAAAABJ9AAAAAAAAxn0AAAAAAAOyeQAAAAAAA+J5AAAAAAADynkAAAAAAAACfQAAAAAAANJ9AAAAAAAAA+H8AAAAAACSfQAAAAAAAMJ9AAAAAAAAUn0AAAAAAAPeeQAAAAAAA5J5AAAAAAAAIn0AAAAAAAAD4fwAAAAAA3p5AAAAAAAAA+H8AAAAAACCfQAAAAAAAJJ9AAAAAAAAA+H8AAAAAACifQAAAAAAAAPh/AAAAAADynkAAAAAAAAD4fw==\",\"dtype\":\"float64\",\"shape\":[29]},\"anio_mad_50%\":{\"__ndarray__\":\"AAAAAAAMn0AAAAAAAAD4fwAAAAAAHp9AAAAAAAAYn0AAAAAAAOyeQAAAAAAABJ9AAAAAAAAyn0AAAAAAAPCeQAAAAAAA+J5AAAAAAAD0nkAAAAAAAACfQAAAAAAANJ9AAAAAAAAA+H8AAAAAACSfQAAAAAAAMJ9AAAAAAAAUn0AAAAAAAAqfQAAAAAAA5J5AAAAAAAAIn0AAAAAAAAD4fwAAAAAA4J5AAAAAAAAA+H8AAAAAACCfQAAAAAAAJJ9AAAAAAAAA+H8AAAAAACifQAAAAAAAAPh/AAAAAAAUn0AAAAAAAAD4fw==\",\"dtype\":\"float64\",\"shape\":[29]},\"anio_mad_75%\":{\"__ndarray__\":\"AAAAAAAMn0AAAAAAAAD4fwAAAAAAI59AAAAAAAAYn0AAAAAAAOyeQAAAAAAABJ9AAAAAAAAzn0AAAAAAAACfQAAAAAAA+J5AAAAAAAD4nkAAAAAAAACfQAAAAAAANJ9AAAAAAAAA+H8AAAAAACSfQAAAAAAAMJ9AAAAAAAAUn0AAAAAAABefQAAAAAAA5J5AAAAAAAAIn0AAAAAAAAD4fwAAAAAA4p5AAAAAAAAA+H8AAAAAACCfQAAAAAAAJJ9AAAAAAAAA+H8AAAAAACifQAAAAAAAAPh/AAAAAAAsn0AAAAAAAAD4fw==\",\"dtype\":\"float64\",\"shape\":[29]},\"anio_mad_count\":{\"__ndarray__\":\"AAAAAAAA8D8AAAAAAAAAAAAAAAAAAABAAAAAAAAA8D8AAAAAAADwPwAAAAAAAPA/AAAAAAAAAEAAAAAAAAAIQAAAAAAAAPA/AAAAAAAACEAAAAAAAADwPwAAAAAAAPA/AAAAAAAAAAAAAAAAAADwPwAAAAAAAPA/AAAAAAAA8D8AAAAAAAAQQAAAAAAAAPA/AAAAAAAA8D8AAAAAAAAAAAAAAAAAAABAAAAAAAAAAAAAAAAAAADwPwAAAAAAAPA/AAAAAAAAAAAAAAAAAADwPwAAAAAAAAAAAAAAAAAAHEAAAAAAAAAAAA==\",\"dtype\":\"float64\",\"shape\":[29]},\"anio_mad_max\":{\"__ndarray__\":\"AAAAAAAMn0AAAAAAAAD4fwAAAAAAKJ9AAAAAAAAYn0AAAAAAAOyeQAAAAAAABJ9AAAAAAAA0n0AAAAAAABCfQAAAAAAA+J5AAAAAAAD8nkAAAAAAAACfQAAAAAAANJ9AAAAAAAAA+H8AAAAAACSfQAAAAAAAMJ9AAAAAAAAUn0AAAAAAACCfQAAAAAAA5J5AAAAAAAAIn0AAAAAAAAD4fwAAAAAA5J5AAAAAAAAA+H8AAAAAACCfQAAAAAAAJJ9AAAAAAAAA+H8AAAAAACifQAAAAAAAAPh/AAAAAAAwn0AAAAAAAAD4fw==\",\"dtype\":\"float64\",\"shape\":[29]},\"anio_mad_mean\":{\"__ndarray__\":\"AAAAAAAMn0AAAAAAAAD4fwAAAAAAHp9AAAAAAAAYn0AAAAAAAOyeQAAAAAAABJ9AAAAAAAAyn0AAAAAAAPieQAAAAAAA+J5AVVVVVVX1nkAAAAAAAACfQAAAAAAANJ9AAAAAAAAA+H8AAAAAACSfQAAAAAAAMJ9AAAAAAAAUn0AAAAAAAASfQAAAAAAA5J5AAAAAAAAIn0AAAAAAAAD4fwAAAAAA4J5AAAAAAAAA+H8AAAAAACCfQAAAAAAAJJ9AAAAAAAAA+H8AAAAAACifQAAAAAAAAPh/t23btm0Ln0AAAAAAAAD4fw==\",\"dtype\":\"float64\",\"shape\":[29]},\"anio_mad_min\":{\"__ndarray__\":\"AAAAAAAMn0AAAAAAAAD4fwAAAAAAFJ9AAAAAAAAYn0AAAAAAAOyeQAAAAAAABJ9AAAAAAAAwn0AAAAAAAOieQAAAAAAA+J5AAAAAAADwnkAAAAAAAACfQAAAAAAANJ9AAAAAAAAA+H8AAAAAACSfQAAAAAAAMJ9AAAAAAAAUn0AAAAAAANyeQAAAAAAA5J5AAAAAAAAIn0AAAAAAAAD4fwAAAAAA3J5AAAAAAAAA+H8AAAAAACCfQAAAAAAAJJ9AAAAAAAAA+H8AAAAAACifQAAAAAAAAPh/AAAAAADQnkAAAAAAAAD4fw==\",\"dtype\":\"float64\",\"shape\":[29]},\"anio_mad_std\":{\"__ndarray__\":\"AAAAAAAA+H8AAAAAAAD4f8AKHwDGSAxAAAAAAAAA+H8AAAAAAAD4fwAAAAAAAPh/zTt/Zp6g5j/q+NKpfyoVQAAAAAAAAPh/sSgcTL5w+D8AAAAAAAD4fwAAAAAAAPh/AAAAAAAA+H8AAAAAAAD4fwAAAAAAAPh/AAAAAAAA+H9GzQlJKsEdQAAAAAAAAPh/AAAAAAAA+H8AAAAAAAD4f807f2aeoPY/AAAAAAAA+H8AAAAAAAD4fwAAAAAAAPh/AAAAAAAA+H8AAAAAAAD4fwAAAAAAAPh/D/fnXBrrIkAAAAAAAAD4fw==\",\"dtype\":\"float64\",\"shape\":[29]},\"anio_nac_25%\":{\"__ndarray__\":\"AAAAAAB4n0AAAAAAAHCfQAAAAAAAeJ9AAAAAAAB4n0AAAAAAAHifQAAAAAAAdJ9AAAAAAAB1n0AAAAAAAHafQAAAAAAAeJ9AAAAAAAB2n0AAAAAAAHifQAAAAAAAeJ9AAAAAAABwn0AAAAAAAHifQAAAAAAAdJ9AAAAAAAB4n0AAAAAAAGGfQAAAAAAAeJ9AAAAAAAB4n0AAAAAAAGyfQAAAAAAAeJ9AAAAAAABon0AAAAAAAHifQAAAAAAAdJ9AAAAAAABon0AAAAAAAHSfQAAAAAAARJ9AAAAAAAB4n0AAAAAAAFifQA==\",\"dtype\":\"float64\",\"shape\":[29]},\"anio_nac_50%\":{\"__ndarray__\":\"AAAAAAB4n0AAAAAAAHCfQAAAAAAAeJ9AAAAAAAB4n0AAAAAAAHifQAAAAAAAdJ9AAAAAAAB2n0AAAAAAAHifQAAAAAAAeJ9AAAAAAAB4n0AAAAAAAHifQAAAAAAAeJ9AAAAAAABwn0AAAAAAAHifQAAAAAAAdJ9AAAAAAAB4n0AAAAAAAHKfQAAAAAAAeJ9AAAAAAAB4n0AAAAAAAGyfQAAAAAAAeJ9AAAAAAABon0AAAAAAAHifQAAAAAAAdJ9AAAAAAABon0AAAAAAAHSfQAAAAAAARJ9AAAAAAAB4n0AAAAAAAFifQA==\",\"dtype\":\"float64\",\"shape\":[29]},\"anio_nac_75%\":{\"__ndarray__\":\"AAAAAAB4n0AAAAAAAHCfQAAAAAAAeJ9AAAAAAAB4n0AAAAAAAHifQAAAAAAAdJ9AAAAAAAB3n0AAAAAAAHifQAAAAAAAeJ9AAAAAAAB4n0AAAAAAAHifQAAAAAAAeJ9AAAAAAABwn0AAAAAAAHifQAAAAAAAdJ9AAAAAAAB4n0AAAAAAAHWfQAAAAAAAeJ9AAAAAAAB4n0AAAAAAAGyfQAAAAAAAeJ9AAAAAAABon0AAAAAAAHifQAAAAAAAdJ9AAAAAAABon0AAAAAAAHSfQAAAAAAARJ9AAAAAAAB4n0AAAAAAAFifQA==\",\"dtype\":\"float64\",\"shape\":[29]},\"anio_nac_count\":{\"__ndarray__\":\"AAAAAAAA8D8AAAAAAADwPwAAAAAAAABAAAAAAAAA8D8AAAAAAADwPwAAAAAAAPA/AAAAAAAAAEAAAAAAAAAQQAAAAAAAAPA/AAAAAAAACEAAAAAAAADwPwAAAAAAAPA/AAAAAAAA8D8AAAAAAADwPwAAAAAAAPA/AAAAAAAA8D8AAAAAAAAgQAAAAAAAAPA/AAAAAAAA8D8AAAAAAADwPwAAAAAAAABAAAAAAAAA8D8AAAAAAADwPwAAAAAAAPA/AAAAAAAA8D8AAAAAAADwPwAAAAAAAPA/AAAAAAAAHEAAAAAAAADwPw==\",\"dtype\":\"float64\",\"shape\":[29]},\"anio_nac_max\":{\"__ndarray__\":\"AAAAAAB4n0AAAAAAAHCfQAAAAAAAeJ9AAAAAAAB4n0AAAAAAAHifQAAAAAAAdJ9AAAAAAAB4n0AAAAAAAHifQAAAAAAAeJ9AAAAAAAB4n0AAAAAAAHifQAAAAAAAeJ9AAAAAAABwn0AAAAAAAHifQAAAAAAAdJ9AAAAAAAB4n0AAAAAAAHifQAAAAAAAeJ9AAAAAAAB4n0AAAAAAAGyfQAAAAAAAeJ9AAAAAAABon0AAAAAAAHifQAAAAAAAdJ9AAAAAAABon0AAAAAAAHSfQAAAAAAARJ9AAAAAAAB4n0AAAAAAAFifQA==\",\"dtype\":\"float64\",\"shape\":[29]},\"anio_nac_mean\":{\"__ndarray__\":\"AAAAAAB4n0AAAAAAAHCfQAAAAAAAeJ9AAAAAAAB4n0AAAAAAAHifQAAAAAAAdJ9AAAAAAAB2n0AAAAAAAHafQAAAAAAAeJ9Aq6qqqqp2n0AAAAAAAHifQAAAAAAAeJ9AAAAAAABwn0AAAAAAAHifQAAAAAAAdJ9AAAAAAAB4n0AAAAAAgGufQAAAAAAAeJ9AAAAAAAB4n0AAAAAAAGyfQAAAAAAAeJ9AAAAAAABon0AAAAAAAHifQAAAAAAAdJ9AAAAAAABon0AAAAAAAHSfQAAAAAAARJ9AAAAAAAB4n0AAAAAAAFifQA==\",\"dtype\":\"float64\",\"shape\":[29]},\"anio_nac_min\":{\"__ndarray__\":\"AAAAAAB4n0AAAAAAAHCfQAAAAAAAeJ9AAAAAAAB4n0AAAAAAAHifQAAAAAAAdJ9AAAAAAAB0n0AAAAAAAHCfQAAAAAAAeJ9AAAAAAAB0n0AAAAAAAHifQAAAAAAAeJ9AAAAAAABwn0AAAAAAAHifQAAAAAAAdJ9AAAAAAAB4n0AAAAAAAFifQAAAAAAAeJ9AAAAAAAB4n0AAAAAAAGyfQAAAAAAAeJ9AAAAAAABon0AAAAAAAHifQAAAAAAAdJ9AAAAAAABon0AAAAAAAHSfQAAAAAAARJ9AAAAAAAB4n0AAAAAAAFifQA==\",\"dtype\":\"float64\",\"shape\":[29]},\"anio_nac_std\":{\"__ndarray__\":\"AAAAAAAA+H8AAAAAAAD4fwAAAAAAAAAAAAAAAAAA+H8AAAAAAAD4fwAAAAAAAPh/zTt/Zp6g5j8AAAAAAADwPwAAAAAAAPh/HTOQRad54j8AAAAAAAD4fwAAAAAAAPh/AAAAAAAA+H8AAAAAAAD4fwAAAAAAAPh/AAAAAAAA+H/6Bgx7QzELQAAAAAAAAPh/AAAAAAAA+H8AAAAAAAD4fwAAAAAAAAAAAAAAAAAA+H8AAAAAAAD4fwAAAAAAAPh/AAAAAAAA+H8AAAAAAAD4fwAAAAAAAPh/AAAAAAAAAAAAAAAAAAD4fw==\",\"dtype\":\"float64\",\"shape\":[29]},\"con_pren_25%\":{\"__ndarray__\":\"AAAAAAAAJEAAAAAAAAD4fwAAAAAAABZAAAAAAADAWEAAAAAAAAAQQAAAAAAAACBAAAAAAAAAFUAAAAAAAAAeQAAAAAAAACRAAAAAAAAABEAAAAAAAAAiQAAAAAAAACJAAAAAAAAA+H8AAAAAAAAgQAAAAAAAAABAAAAAAAAAFEAAAAAAAAAbQAAAAAAAwFhAAAAAAAAAJEAAAAAAAAD4fwAAAAAAgCNAAAAAAAAA+H8AAAAAAAAkQAAAAAAAACBAAAAAAAAA+H8AAAAAAAAiQAAAAAAAAPh/AAAAAAAAHkAAAAAAAAD4fw==\",\"dtype\":\"float64\",\"shape\":[29]},\"con_pren_50%\":{\"__ndarray__\":\"AAAAAAAAJEAAAAAAAAD4fwAAAAAAABhAAAAAAADAWEAAAAAAAAAQQAAAAAAAACBAAAAAAAAAFkAAAAAAAAAgQAAAAAAAACRAAAAAAAAAFEAAAAAAAAAiQAAAAAAAACJAAAAAAAAA+H8AAAAAAAAgQAAAAAAAAABAAAAAAAAAFEAAAAAAAAAcQAAAAAAAwFhAAAAAAAAAJEAAAAAAAAD4fwAAAAAAACVAAAAAAAAA+H8AAAAAAAAkQAAAAAAAACBAAAAAAAAA+H8AAAAAAAAiQAAAAAAAAPh/AAAAAAAAIkAAAAAAAAD4fw==\",\"dtype\":\"float64\",\"shape\":[29]},\"con_pren_75%\":{\"__ndarray__\":\"AAAAAAAAJEAAAAAAAAD4fwAAAAAAABpAAAAAAADAWEAAAAAAAAAQQAAAAAAAACBAAAAAAAAAF0AAAAAAAAAgQAAAAAAAACRAAAAAAAAAGEAAAAAAAAAiQAAAAAAAACJAAAAAAAAA+H8AAAAAAAAgQAAAAAAAAABAAAAAAAAAFEAAAAAAAAAeQAAAAAAAwFhAAAAAAAAAJEAAAAAAAAD4fwAAAAAAgCZAAAAAAAAA+H8AAAAAAAAkQAAAAAAAACBAAAAAAAAA+H8AAAAAAAAiQAAAAAAAAPh/AAAAAAAAIkAAAAAAAAD4fw==\",\"dtype\":\"float64\",\"shape\":[29]},\"con_pren_count\":{\"__ndarray__\":\"AAAAAAAA8D8AAAAAAAAAAAAAAAAAAABAAAAAAAAA8D8AAAAAAADwPwAAAAAAAPA/AAAAAAAAAEAAAAAAAAAIQAAAAAAAAPA/AAAAAAAACEAAAAAAAADwPwAAAAAAAPA/AAAAAAAAAAAAAAAAAADwPwAAAAAAAPA/AAAAAAAA8D8AAAAAAAAQQAAAAAAAAPA/AAAAAAAA8D8AAAAAAAAAAAAAAAAAAABAAAAAAAAAAAAAAAAAAADwPwAAAAAAAPA/AAAAAAAAAAAAAAAAAADwPwAAAAAAAAAAAAAAAAAAHEAAAAAAAAAAAA==\",\"dtype\":\"float64\",\"shape\":[29]},\"con_pren_max\":{\"__ndarray__\":\"AAAAAAAAJEAAAAAAAAD4fwAAAAAAABxAAAAAAADAWEAAAAAAAAAQQAAAAAAAACBAAAAAAAAAGEAAAAAAAAAgQAAAAAAAACRAAAAAAAAAHEAAAAAAAAAiQAAAAAAAACJAAAAAAAAA+H8AAAAAAAAgQAAAAAAAAABAAAAAAAAAFEAAAAAAAAAiQAAAAAAAwFhAAAAAAAAAJEAAAAAAAAD4fwAAAAAAAChAAAAAAAAA+H8AAAAAAAAkQAAAAAAAACBAAAAAAAAA+H8AAAAAAAAiQAAAAAAAAPh/AAAAAAAAJEAAAAAAAAD4fw==\",\"dtype\":\"float64\",\"shape\":[29]},\"con_pren_mean\":{\"__ndarray__\":\"AAAAAAAAJEAAAAAAAAD4fwAAAAAAABhAAAAAAADAWEAAAAAAAAAQQAAAAAAAACBAAAAAAAAAFkCrqqqqqqoeQAAAAAAAACRAAAAAAAAAEEAAAAAAAAAiQAAAAAAAACJAAAAAAAAA+H8AAAAAAAAgQAAAAAAAAABAAAAAAAAAFEAAAAAAAAAdQAAAAAAAwFhAAAAAAAAAJEAAAAAAAAD4fwAAAAAAACVAAAAAAAAA+H8AAAAAAAAkQAAAAAAAACBAAAAAAAAA+H8AAAAAAAAiQAAAAAAAAPh/JUmSJEmSIEAAAAAAAAD4fw==\",\"dtype\":\"float64\",\"shape\":[29]},\"con_pren_min\":{\"__ndarray__\":\"AAAAAAAAJEAAAAAAAAD4fwAAAAAAABRAAAAAAADAWEAAAAAAAAAQQAAAAAAAACBAAAAAAAAAFEAAAAAAAAAcQAAAAAAAACRAAAAAAAAAAAAAAAAAAAAiQAAAAAAAACJAAAAAAAAA+H8AAAAAAAAgQAAAAAAAAABAAAAAAAAAFEAAAAAAAAAYQAAAAAAAwFhAAAAAAAAAJEAAAAAAAAD4fwAAAAAAACJAAAAAAAAA+H8AAAAAAAAkQAAAAAAAACBAAAAAAAAA+H8AAAAAAAAiQAAAAAAAAPh/AAAAAAAAGEAAAAAAAAD4fw==\",\"dtype\":\"float64\",\"shape\":[29]},\"con_pren_std\":{\"__ndarray__\":\"AAAAAAAA+H8AAAAAAAD4f807f2aeoPY/AAAAAAAA+H8AAAAAAAD4fwAAAAAAAPh/zTt/Zp6g5j8dM5BFp3niPwAAAAAAAPh/81lhRCvYDEAAAAAAAAD4fwAAAAAAAPh/AAAAAAAA+H8AAAAAAAD4fwAAAAAAAPh/AAAAAAAA+H89iuQyBSL0PwAAAAAAAPh/AAAAAAAA+H8AAAAAAAD4f9ls38x2+ABAAAAAAAAA+H8AAAAAAAD4fwAAAAAAAPh/AAAAAAAA+H8AAAAAAAD4fwAAAAAAAPh/XxUvXgQV9j8AAAAAAAD4fw==\",\"dtype\":\"float64\",\"shape\":[29]},\"dia_insc_25%\":{\"__ndarray__\":\"AAAAAAAAGEAAAAAAAAAuQAAAAAAAQDNAAAAAAAAAAEAAAAAAAAA1QAAAAAAAADFAAAAAAAAALEAAAAAAAMAwQAAAAAAAABxAAAAAAAAAKUAAAAAAAAAoQAAAAAAAACJAAAAAAAAANEAAAAAAAAAoQAAAAAAAABRAAAAAAAAANkAAAAAAAMAzQAAAAAAAADFAAAAAAAAACEAAAAAAAAAkQAAAAAAAAPw/AAAAAAAAEEAAAAAAAAA9QAAAAAAAACBAAAAAAAAAAEAAAAAAAAA2QAAAAAAAABRAAAAAAAAAIkAAAAAAAAAuQA==\",\"dtype\":\"float64\",\"shape\":[29]},\"dia_insc_50%\":{\"__ndarray__\":\"AAAAAAAAGEAAAAAAAAAuQAAAAAAAgDZAAAAAAAAAAEAAAAAAAAA1QAAAAAAAADFAAAAAAAAAMUAAAAAAAAA2QAAAAAAAABxAAAAAAAAAMEAAAAAAAAAoQAAAAAAAACJAAAAAAAAANEAAAAAAAAAoQAAAAAAAABRAAAAAAAAANkAAAAAAAIA2QAAAAAAAADFAAAAAAAAACEAAAAAAAAAkQAAAAAAAAARAAAAAAAAAEEAAAAAAAAA9QAAAAAAAACBAAAAAAAAAAEAAAAAAAAA2QAAAAAAAABRAAAAAAAAAJEAAAAAAAAAuQA==\",\"dtype\":\"float64\",\"shape\":[29]},\"dia_insc_75%\":{\"__ndarray__\":\"AAAAAAAAGEAAAAAAAAAuQAAAAAAAwDlAAAAAAAAAAEAAAAAAAAA1QAAAAAAAADFAAAAAAAAANEAAAAAAAEA2QAAAAAAAABxAAAAAAAAAMkAAAAAAAAAoQAAAAAAAACJAAAAAAAAANEAAAAAAAAAoQAAAAAAAABRAAAAAAAAANkAAAAAAAMA7QAAAAAAAADFAAAAAAAAACEAAAAAAAAAkQAAAAAAAAApAAAAAAAAAEEAAAAAAAAA9QAAAAAAAACBAAAAAAAAAAEAAAAAAAAA2QAAAAAAAABRAAAAAAAAAJUAAAAAAAAAuQA==\",\"dtype\":\"float64\",\"shape\":[29]},\"dia_insc_count\":{\"__ndarray__\":\"AAAAAAAA8D8AAAAAAADwPwAAAAAAAABAAAAAAAAA8D8AAAAAAADwPwAAAAAAAPA/AAAAAAAAAEAAAAAAAAAQQAAAAAAAAPA/AAAAAAAACEAAAAAAAADwPwAAAAAAAPA/AAAAAAAA8D8AAAAAAADwPwAAAAAAAPA/AAAAAAAA8D8AAAAAAAAgQAAAAAAAAPA/AAAAAAAA8D8AAAAAAADwPwAAAAAAAABAAAAAAAAA8D8AAAAAAADwPwAAAAAAAPA/AAAAAAAA8D8AAAAAAADwPwAAAAAAAPA/AAAAAAAAHEAAAAAAAADwPw==\",\"dtype\":\"float64\",\"shape\":[29]},\"dia_insc_max\":{\"__ndarray__\":\"AAAAAAAAGEAAAAAAAAAuQAAAAAAAAD1AAAAAAAAAAEAAAAAAAAA1QAAAAAAAADFAAAAAAAAAN0AAAAAAAAA3QAAAAAAAABxAAAAAAAAANEAAAAAAAAAoQAAAAAAAACJAAAAAAAAANEAAAAAAAAAoQAAAAAAAABRAAAAAAAAANkAAAAAAAAA+QAAAAAAAADFAAAAAAAAACEAAAAAAAAAkQAAAAAAAABBAAAAAAAAAEEAAAAAAAAA9QAAAAAAAACBAAAAAAAAAAEAAAAAAAAA2QAAAAAAAABRAAAAAAAAAJkAAAAAAAAAuQA==\",\"dtype\":\"float64\",\"shape\":[29]},\"dia_insc_mean\":{\"__ndarray__\":\"AAAAAAAAGEAAAAAAAAAuQAAAAAAAgDZAAAAAAAAAAEAAAAAAAAA1QAAAAAAAADFAAAAAAAAAMUAAAAAAAAAxQAAAAAAAABxAAAAAAAAALkAAAAAAAAAoQAAAAAAAACJAAAAAAAAANEAAAAAAAAAoQAAAAAAAABRAAAAAAAAANkAAAAAAACA2QAAAAAAAADFAAAAAAAAACEAAAAAAAAAkQAAAAAAAAARAAAAAAAAAEEAAAAAAAAA9QAAAAAAAACBAAAAAAAAAAEAAAAAAAAA2QAAAAAAAABRAbtu2bdu2I0AAAAAAAAAuQA==\",\"dtype\":\"float64\",\"shape\":[29]},\"dia_insc_min\":{\"__ndarray__\":\"AAAAAAAAGEAAAAAAAAAuQAAAAAAAADBAAAAAAAAAAEAAAAAAAAA1QAAAAAAAADFAAAAAAAAAJkAAAAAAAADwPwAAAAAAABxAAAAAAAAAIkAAAAAAAAAoQAAAAAAAACJAAAAAAAAANEAAAAAAAAAoQAAAAAAAABRAAAAAAAAANkAAAAAAAAAYQAAAAAAAADFAAAAAAAAACEAAAAAAAAAkQAAAAAAAAPA/AAAAAAAAEEAAAAAAAAA9QAAAAAAAACBAAAAAAAAAAEAAAAAAAAA2QAAAAAAAABRAAAAAAAAAIkAAAAAAAAAuQA==\",\"dtype\":\"float64\",\"shape\":[29]},\"dia_insc_std\":{\"__ndarray__\":\"AAAAAAAA+H8AAAAAAAD4f5ZgR7OAYiJAAAAAAAAA+H8AAAAAAAD4fwAAAAAAAPh/2WzfzHb4IEBanSoAqlolQAAAAAAAAPh/w8FoBWRFFkAAAAAAAAD4fwAAAAAAAPh/AAAAAAAA+H8AAAAAAAD4fwAAAAAAAPh/AAAAAAAA+H/w5i+r+BYfQAAAAAAAAPh/AAAAAAAA+H8AAAAAAAD4f9ls38x2+ABAAAAAAAAA+H8AAAAAAAD4fwAAAAAAAPh/AAAAAAAA+H8AAAAAAAD4fwAAAAAAAPh/ceKT6qHK7D8AAAAAAAD4fw==\",\"dtype\":\"float64\",\"shape\":[29]},\"dia_mad_25%\":{\"__ndarray__\":\"AAAAAAAANUAAAAAAAAD4fwAAAAAAABJAAAAAAAAAN0AAAAAAAAA+QAAAAAAAAD1AAAAAAAAAK0AAAAAAAAAsQAAAAAAAADtAAAAAAAAAGEAAAAAAAAAQQAAAAAAAABhAAAAAAAAA+H8AAAAAAADwPwAAAAAAABxAAAAAAAAALEAAAAAAAIAlQAAAAAAAADhAAAAAAAAAOkAAAAAAAAD4fwAAAAAAAA5AAAAAAAAA+H8AAAAAAAA7QAAAAAAAACxAAAAAAAAA+H8AAAAAAAA7QAAAAAAAAPh/AAAAAACAM0AAAAAAAAD4fw==\",\"dtype\":\"float64\",\"shape\":[29]},\"dia_mad_50%\":{\"__ndarray__\":\"AAAAAAAANUAAAAAAAAD4fwAAAAAAABRAAAAAAAAAN0AAAAAAAAA+QAAAAAAAAD1AAAAAAAAAM0AAAAAAAAAyQAAAAAAAADtAAAAAAAAAHEAAAAAAAAAQQAAAAAAAABhAAAAAAAAA+H8AAAAAAADwPwAAAAAAABxAAAAAAAAALEAAAAAAAAAsQAAAAAAAADhAAAAAAAAAOkAAAAAAAAD4fwAAAAAAABZAAAAAAAAA+H8AAAAAAAA7QAAAAAAAACxAAAAAAAAA+H8AAAAAAAA7QAAAAAAAAPh/AAAAAAAAN0AAAAAAAAD4fw==\",\"dtype\":\"float64\",\"shape\":[29]},\"dia_mad_75%\":{\"__ndarray__\":\"AAAAAAAANUAAAAAAAAD4fwAAAAAAABZAAAAAAAAAN0AAAAAAAAA+QAAAAAAAAD1AAAAAAACAOEAAAAAAAAAzQAAAAAAAADtAAAAAAAAALEAAAAAAAAAQQAAAAAAAABhAAAAAAAAA+H8AAAAAAADwPwAAAAAAABxAAAAAAAAALEAAAAAAAIAuQAAAAAAAADhAAAAAAAAAOkAAAAAAAAD4fwAAAAAAAB1AAAAAAAAA+H8AAAAAAAA7QAAAAAAAACxAAAAAAAAA+H8AAAAAAAA7QAAAAAAAAPh/AAAAAACAOkAAAAAAAAD4fw==\",\"dtype\":\"float64\",\"shape\":[29]},\"dia_mad_count\":{\"__ndarray__\":\"AAAAAAAA8D8AAAAAAAAAAAAAAAAAAABAAAAAAAAA8D8AAAAAAADwPwAAAAAAAPA/AAAAAAAAAEAAAAAAAAAIQAAAAAAAAPA/AAAAAAAACEAAAAAAAADwPwAAAAAAAPA/AAAAAAAAAAAAAAAAAADwPwAAAAAAAPA/AAAAAAAA8D8AAAAAAAAQQAAAAAAAAPA/AAAAAAAA8D8AAAAAAAAAAAAAAAAAAABAAAAAAAAAAAAAAAAAAADwPwAAAAAAAPA/AAAAAAAAAAAAAAAAAADwPwAAAAAAAAAAAAAAAAAAHEAAAAAAAAAAAA==\",\"dtype\":\"float64\",\"shape\":[29]},\"dia_mad_max\":{\"__ndarray__\":\"AAAAAAAANUAAAAAAAAD4fwAAAAAAABhAAAAAAAAAN0AAAAAAAAA+QAAAAAAAAD1AAAAAAAAAPkAAAAAAAAA0QAAAAAAAADtAAAAAAAAANUAAAAAAAAAQQAAAAAAAABhAAAAAAAAA+H8AAAAAAADwPwAAAAAAABxAAAAAAAAALEAAAAAAAAAwQAAAAAAAADhAAAAAAAAAOkAAAAAAAAD4fwAAAAAAACJAAAAAAAAA+H8AAAAAAAA7QAAAAAAAACxAAAAAAAAA+H8AAAAAAAA7QAAAAAAAAPh/AAAAAAAAPkAAAAAAAAD4fw==\",\"dtype\":\"float64\",\"shape\":[29]},\"dia_mad_mean\":{\"__ndarray__\":\"AAAAAAAANUAAAAAAAAD4fwAAAAAAABRAAAAAAAAAN0AAAAAAAAA+QAAAAAAAAD1AAAAAAAAAM0AAAAAAAAAwQAAAAAAAADtAAAAAAAAAJkAAAAAAAAAQQAAAAAAAABhAAAAAAAAA+H8AAAAAAADwPwAAAAAAABxAAAAAAAAALEAAAAAAAAAoQAAAAAAAADhAAAAAAAAAOkAAAAAAAAD4fwAAAAAAABZAAAAAAAAA+H8AAAAAAAA7QAAAAAAAACxAAAAAAAAA+H8AAAAAAAA7QAAAAAAAAPh/btu2bdu2NUAAAAAAAAD4fw==\",\"dtype\":\"float64\",\"shape\":[29]},\"dia_mad_min\":{\"__ndarray__\":\"AAAAAAAANUAAAAAAAAD4fwAAAAAAABBAAAAAAAAAN0AAAAAAAAA+QAAAAAAAAD1AAAAAAAAAIEAAAAAAAAAkQAAAAAAAADtAAAAAAAAAFEAAAAAAAAAQQAAAAAAAABhAAAAAAAAA+H8AAAAAAADwPwAAAAAAABxAAAAAAAAALEAAAAAAAAAQQAAAAAAAADhAAAAAAAAAOkAAAAAAAAD4fwAAAAAAAABAAAAAAAAA+H8AAAAAAAA7QAAAAAAAACxAAAAAAAAA+H8AAAAAAAA7QAAAAAAAAPh/AAAAAAAAHEAAAAAAAAD4fw==\",\"dtype\":\"float64\",\"shape\":[29]},\"dia_mad_std\":{\"__ndarray__\":\"AAAAAAAA+H8AAAAAAAD4f807f2aeoPY/AAAAAAAA+H8AAAAAAAD4fwAAAAAAAPh/OfLuzNkcL0Dq+NKpfyoVQAAAAAAAAPh/+U1kNINvIUAAAAAAAAD4fwAAAAAAAPh/AAAAAAAA+H8AAAAAAAD4fwAAAAAAAPh/AAAAAAAA+H+PpTbSregVQAAAAAAAAPh/AAAAAAAA+H8AAAAAAAD4f1NUr5mKzBNAAAAAAAAA+H8AAAAAAAD4fwAAAAAAAPh/AAAAAAAA+H8AAAAAAAD4fwAAAAAAAPh/g3mCf5L1HkAAAAAAAAD4fw==\",\"dtype\":\"float64\",\"shape\":[29]},\"dia_nac_25%\":{\"__ndarray__\":\"AAAAAAAAPkAAAAAAAAA5QAAAAAAAAC9AAAAAAAAAOUAAAAAAAAAoQAAAAAAAAD5AAAAAAAAADkAAAAAAAAD8PwAAAAAAAChAAAAAAAAAHEAAAAAAAAAmQAAAAAAAABRAAAAAAAAAJkAAAAAAAAAoQAAAAAAAAAhAAAAAAAAAKkAAAAAAAAAOQAAAAAAAABRAAAAAAAAAOkAAAAAAAAAgQAAAAAAAABRAAAAAAAAAP0AAAAAAAAAkQAAAAAAAADlAAAAAAAAAAEAAAAAAAAA0QAAAAAAAABxAAAAAAAAAGkAAAAAAAAAzQA==\",\"dtype\":\"float64\",\"shape\":[29]},\"dia_nac_50%\":{\"__ndarray__\":\"AAAAAAAAPkAAAAAAAAA5QAAAAAAAADJAAAAAAAAAOUAAAAAAAAAoQAAAAAAAAD5AAAAAAAAAGkAAAAAAAAAEQAAAAAAAAChAAAAAAAAAJEAAAAAAAAAmQAAAAAAAABRAAAAAAAAAJkAAAAAAAAAoQAAAAAAAAAhAAAAAAAAAKkAAAAAAAAAaQAAAAAAAABRAAAAAAAAAOkAAAAAAAAAgQAAAAAAAABRAAAAAAAAAP0AAAAAAAAAkQAAAAAAAADlAAAAAAAAAAEAAAAAAAAA0QAAAAAAAABxAAAAAAAAAIEAAAAAAAAAzQA==\",\"dtype\":\"float64\",\"shape\":[29]},\"dia_nac_75%\":{\"__ndarray__\":\"AAAAAAAAPkAAAAAAAAA5QAAAAAAAgDRAAAAAAAAAOUAAAAAAAAAoQAAAAAAAAD5AAAAAAACAIkAAAAAAAIAiQAAAAAAAAChAAAAAAAAAK0AAAAAAAAAmQAAAAAAAABRAAAAAAAAAJkAAAAAAAAAoQAAAAAAAAAhAAAAAAAAAKkAAAAAAAAAxQAAAAAAAABRAAAAAAAAAOkAAAAAAAAAgQAAAAAAAABRAAAAAAAAAP0AAAAAAAAAkQAAAAAAAADlAAAAAAAAAAEAAAAAAAAA0QAAAAAAAABxAAAAAAAAAIEAAAAAAAAAzQA==\",\"dtype\":\"float64\",\"shape\":[29]},\"dia_nac_count\":{\"__ndarray__\":\"AAAAAAAA8D8AAAAAAADwPwAAAAAAAABAAAAAAAAA8D8AAAAAAADwPwAAAAAAAPA/AAAAAAAAAEAAAAAAAAAQQAAAAAAAAPA/AAAAAAAACEAAAAAAAADwPwAAAAAAAPA/AAAAAAAA8D8AAAAAAADwPwAAAAAAAPA/AAAAAAAA8D8AAAAAAAAgQAAAAAAAAPA/AAAAAAAA8D8AAAAAAADwPwAAAAAAAABAAAAAAAAA8D8AAAAAAADwPwAAAAAAAPA/AAAAAAAA8D8AAAAAAADwPwAAAAAAAPA/AAAAAAAAHEAAAAAAAADwPw==\",\"dtype\":\"float64\",\"shape\":[29]},\"dia_nac_max\":{\"__ndarray__\":\"AAAAAAAAPkAAAAAAAAA5QAAAAAAAADdAAAAAAAAAOUAAAAAAAAAoQAAAAAAAAD5AAAAAAAAAKEAAAAAAAAA8QAAAAAAAAChAAAAAAAAAMUAAAAAAAAAmQAAAAAAAABRAAAAAAAAAJkAAAAAAAAAoQAAAAAAAAAhAAAAAAAAAKkAAAAAAAAA5QAAAAAAAABRAAAAAAAAAOkAAAAAAAAAgQAAAAAAAABRAAAAAAAAAP0AAAAAAAAAkQAAAAAAAADlAAAAAAAAAAEAAAAAAAAA0QAAAAAAAABxAAAAAAAAANEAAAAAAAAAzQA==\",\"dtype\":\"float64\",\"shape\":[29]},\"dia_nac_mean\":{\"__ndarray__\":\"AAAAAAAAPkAAAAAAAAA5QAAAAAAAADJAAAAAAAAAOUAAAAAAAAAoQAAAAAAAAD5AAAAAAAAAGkAAAAAAAAAhQAAAAAAAAChAq6qqqqqqJEAAAAAAAAAmQAAAAAAAABRAAAAAAAAAJkAAAAAAAAAoQAAAAAAAAAhAAAAAAAAAKkAAAAAAAAAlQAAAAAAAABRAAAAAAAAAOkAAAAAAAAAgQAAAAAAAABRAAAAAAAAAP0AAAAAAAAAkQAAAAAAAADlAAAAAAAAAAEAAAAAAAAA0QAAAAAAAABxAt23btm3bIEAAAAAAAAAzQA==\",\"dtype\":\"float64\",\"shape\":[29]},\"dia_nac_min\":{\"__ndarray__\":\"AAAAAAAAPkAAAAAAAAA5QAAAAAAAACpAAAAAAAAAOUAAAAAAAAAoQAAAAAAAAD5AAAAAAAAA8D8AAAAAAADwPwAAAAAAAChAAAAAAAAAEEAAAAAAAAAmQAAAAAAAABRAAAAAAAAAJkAAAAAAAAAoQAAAAAAAAAhAAAAAAAAAKkAAAAAAAADwPwAAAAAAABRAAAAAAAAAOkAAAAAAAAAgQAAAAAAAABRAAAAAAAAAP0AAAAAAAAAkQAAAAAAAADlAAAAAAAAAAEAAAAAAAAA0QAAAAAAAABxAAAAAAAAAAEAAAAAAAAAzQA==\",\"dtype\":\"float64\",\"shape\":[29]},\"dia_nac_std\":{\"__ndarray__\":\"AAAAAAAA+H8AAAAAAAD4f8AKHwDGSBxAAAAAAAAA+H8AAAAAAAD4fwAAAAAAAPh/OfLuzNkcH0B3wzqDHQ0qQAAAAAAAAPh/3p0clY8GGkAAAAAAAAD4fwAAAAAAAPh/AAAAAAAA+H8AAAAAAAD4fwAAAAAAAPh/AAAAAAAA+H/ylE7BXbMiQAAAAAAAAPh/AAAAAAAA+H8AAAAAAAD4fwAAAAAAAAAAAAAAAAAA+H8AAAAAAAD4fwAAAAAAAPh/AAAAAAAA+H8AAAAAAAD4fwAAAAAAAPh/uYJwNkAiFkAAAAAAAAD4fw==\",\"dtype\":\"float64\",\"shape\":[29]},\"edad_mad_25%\":{\"__ndarray__\":\"AAAAAAAAO0AAAAAAAAD4fwAAAAAAQDVAAAAAAAAAOEAAAAAAAIBBQAAAAAAAAD1AAAAAAABAMUAAAAAAAAA+QAAAAAAAAEBAAAAAAAAAQEAAAAAAAAA+QAAAAAAAADFAAAAAAAAA+H8AAAAAAAA1QAAAAAAAADJAAAAAAAAAOUAAAAAAAEA4QAAAAAAAgEJAAAAAAAAAPEAAAAAAAAD4fwAAAAAAwEJAAAAAAAAA+H8AAAAAAAA2QAAAAAAAADVAAAAAAAAA+H8AAAAAAAA0QAAAAAAAAPh/AAAAAAAAM0AAAAAAAAD4fw==\",\"dtype\":\"float64\",\"shape\":[29]},\"edad_mad_50%\":{\"__ndarray__\":\"AAAAAAAAO0AAAAAAAAD4fwAAAAAAgDZAAAAAAAAAOEAAAAAAAIBBQAAAAAAAAD1AAAAAAACAMUAAAAAAAABBQAAAAAAAAEBAAAAAAACAQEAAAAAAAAA+QAAAAAAAADFAAAAAAAAA+H8AAAAAAAA1QAAAAAAAADJAAAAAAAAAOUAAAAAAAIA7QAAAAAAAgEJAAAAAAAAAPEAAAAAAAAD4fwAAAAAAAENAAAAAAAAA+H8AAAAAAAA2QAAAAAAAADVAAAAAAAAA+H8AAAAAAAA0QAAAAAAAAPh/AAAAAAAAOUAAAAAAAAD4fw==\",\"dtype\":\"float64\",\"shape\":[29]},\"edad_mad_75%\":{\"__ndarray__\":\"AAAAAAAAO0AAAAAAAAD4fwAAAAAAwDdAAAAAAAAAOEAAAAAAAIBBQAAAAAAAAD1AAAAAAADAMUAAAAAAAIBBQAAAAAAAAEBAAAAAAADAQEAAAAAAAAA+QAAAAAAAADFAAAAAAAAA+H8AAAAAAAA1QAAAAAAAADJAAAAAAAAAOUAAAAAAACBAQAAAAAAAgEJAAAAAAAAAPEAAAAAAAAD4fwAAAAAAQENAAAAAAAAA+H8AAAAAAAA2QAAAAAAAADVAAAAAAAAA+H8AAAAAAAA0QAAAAAAAAPh/AAAAAADAQEAAAAAAAAD4fw==\",\"dtype\":\"float64\",\"shape\":[29]},\"edad_mad_count\":{\"__ndarray__\":\"AAAAAAAA8D8AAAAAAAAAAAAAAAAAAABAAAAAAAAA8D8AAAAAAADwPwAAAAAAAPA/AAAAAAAAAEAAAAAAAAAIQAAAAAAAAPA/AAAAAAAACEAAAAAAAADwPwAAAAAAAPA/AAAAAAAAAAAAAAAAAADwPwAAAAAAAPA/AAAAAAAA8D8AAAAAAAAQQAAAAAAAAPA/AAAAAAAA8D8AAAAAAAAAAAAAAAAAAABAAAAAAAAAAAAAAAAAAADwPwAAAAAAAPA/AAAAAAAAAAAAAAAAAADwPwAAAAAAAAAAAAAAAAAAHEAAAAAAAAAAAA==\",\"dtype\":\"float64\",\"shape\":[29]},\"edad_mad_max\":{\"__ndarray__\":\"AAAAAAAAO0AAAAAAAAD4fwAAAAAAADlAAAAAAAAAOEAAAAAAAIBBQAAAAAAAAD1AAAAAAAAAMkAAAAAAAABCQAAAAAAAAEBAAAAAAAAAQUAAAAAAAAA+QAAAAAAAADFAAAAAAAAA+H8AAAAAAAA1QAAAAAAAADJAAAAAAAAAOUAAAAAAAIBDQAAAAAAAgEJAAAAAAAAAPEAAAAAAAAD4fwAAAAAAgENAAAAAAAAA+H8AAAAAAAA2QAAAAAAAADVAAAAAAAAA+H8AAAAAAAA0QAAAAAAAAPh/AAAAAAAARUAAAAAAAAD4fw==\",\"dtype\":\"float64\",\"shape\":[29]},\"edad_mad_mean\":{\"__ndarray__\":\"AAAAAAAAO0AAAAAAAAD4fwAAAAAAgDZAAAAAAAAAOEAAAAAAAIBBQAAAAAAAAD1AAAAAAACAMUAAAAAAAABAQAAAAAAAAEBAVVVVVVVVQEAAAAAAAAA+QAAAAAAAADFAAAAAAAAA+H8AAAAAAAA1QAAAAAAAADJAAAAAAAAAOUAAAAAAAAA9QAAAAAAAgEJAAAAAAAAAPEAAAAAAAAD4fwAAAAAAAENAAAAAAAAA+H8AAAAAAAA2QAAAAAAAADVAAAAAAAAA+H8AAAAAAAA0QAAAAAAAAPh/SZIkSZIkO0AAAAAAAAD4fw==\",\"dtype\":\"float64\",\"shape\":[29]},\"edad_mad_min\":{\"__ndarray__\":\"AAAAAAAAO0AAAAAAAAD4fwAAAAAAADRAAAAAAAAAOEAAAAAAAIBBQAAAAAAAAD1AAAAAAAAAMUAAAAAAAAA6QAAAAAAAAEBAAAAAAAAAP0AAAAAAAAA+QAAAAAAAADFAAAAAAAAA+H8AAAAAAAA1QAAAAAAAADJAAAAAAAAAOUAAAAAAAAA2QAAAAAAAgEJAAAAAAAAAPEAAAAAAAAD4fwAAAAAAgEJAAAAAAAAA+H8AAAAAAAA2QAAAAAAAADVAAAAAAAAA+H8AAAAAAAA0QAAAAAAAAPh/AAAAAAAAMkAAAAAAAAD4fw==\",\"dtype\":\"float64\",\"shape\":[29]},\"edad_mad_std\":{\"__ndarray__\":\"AAAAAAAA+H8AAAAAAAD4f8AKHwDGSAxAAAAAAAAA+H8AAAAAAAD4fwAAAAAAAPh/zTt/Zp6g5j/q+NKpfyoVQAAAAAAAAPh/sSgcTL5w+D8AAAAAAAD4fwAAAAAAAPh/AAAAAAAA+H8AAAAAAAD4fwAAAAAAAPh/AAAAAAAA+H9GzQlJKsEdQAAAAAAAAPh/AAAAAAAA+H8AAAAAAAD4f807f2aeoPY/AAAAAAAA+H8AAAAAAAD4fwAAAAAAAPh/AAAAAAAA+H8AAAAAAAD4fwAAAAAAAPh/D/fnXBrrIkAAAAAAAAD4fw==\",\"dtype\":\"float64\",\"shape\":[29]},\"fecha_insc_25%\":{\"__ndarray__\":\"AAAA9D1aCUIAAAAkC10JQgAAAKOFYwlCAAAAZAVfCUIAAABsSl0JQgAAAJijXwlCAAAAvM5bCUIAAABFa2MJQgAAACzzXQlCAAAAkvVeCUIAAADoJ14JQgAAANzLXAlCAAAAqIpZCUIAAAAsOWMJQgAAAAglXwlCAAAA+FRdCUIAAACpp1kJQgAAAPixWglCAAAAQNpiCUIAAAAkaFoJQgAAABHNYglCAAAAfBpfCUIAAACQXmEJQgAAABgMWQlCAAAAZAVfCUIAAAD4VF0JQgAAAGSoYQlCAAAAoItgCUIAAADsVVkJQg==\",\"dtype\":\"float64\",\"shape\":[29]},\"fecha_insc_50%\":{\"__ndarray__\":\"AAAA9D1aCUIAAAAkC10JQgAAAOqnYwlCAAAAZAVfCUIAAABsSl0JQgAAAJijXwlCAAAAyCpdCUIAAACkomMJQgAAACzzXQlCAAAAiBljCUIAAADoJ14JQgAAANzLXAlCAAAAqIpZCUIAAAAsOWMJQgAAAAglXwlCAAAA+FRdCUIAAACYXVoJQgAAAPixWglCAAAAQNpiCUIAAAAkaFoJQgAAAPrUYglCAAAAfBpfCUIAAACQXmEJQgAAABgMWQlCAAAAZAVfCUIAAAD4VF0JQgAAAGSoYQlCAAAALJZgCUIAAADsVVkJQg==\",\"dtype\":\"float64\",\"shape\":[29]},\"fecha_insc_75%\":{\"__ndarray__\":\"AAAA9D1aCUIAAAAkC10JQgAAADHKYwlCAAAAZAVfCUIAAABsSl0JQgAAAJijXwlCAAAA1IZeCUIAAABHpWMJQgAAACzzXQlCAAAAcj5jCUIAAADoJ14JQgAAANzLXAlCAAAAqIpZCUIAAAAsOWMJQgAAAAglXwlCAAAA+FRdCUIAAAB6PVwJQgAAAPixWglCAAAAQNpiCUIAAAAkaFoJQgAAAOPcYglCAAAAfBpfCUIAAACQXmEJQgAAABgMWQlCAAAAZAVfCUIAAAD4VF0JQgAAAGSoYQlCAAAAcptgCUIAAADsVVkJQg==\",\"dtype\":\"float64\",\"shape\":[29]},\"fecha_insc_count\":{\"__ndarray__\":\"AAAAAAAA8D8AAAAAAADwPwAAAAAAAABAAAAAAAAA8D8AAAAAAADwPwAAAAAAAPA/AAAAAAAAAEAAAAAAAAAQQAAAAAAAAPA/AAAAAAAACEAAAAAAAADwPwAAAAAAAPA/AAAAAAAA8D8AAAAAAADwPwAAAAAAAPA/AAAAAAAA8D8AAAAAAAAgQAAAAAAAAPA/AAAAAAAA8D8AAAAAAADwPwAAAAAAAABAAAAAAAAA8D8AAAAAAADwPwAAAAAAAPA/AAAAAAAA8D8AAAAAAADwPwAAAAAAAPA/AAAAAAAAHEAAAAAAAADwPw==\",\"dtype\":\"float64\",\"shape\":[29]},\"fecha_insc_max\":{\"__ndarray__\":\"AAAA9D1aCUIAAAAkC10JQgAAAHjsYwlCAAAAZAVfCUIAAABsSl0JQgAAAJijXwlCAAAA4OJfCUIAAAAwrWMJQgAAACzzXQlCAAAAXGNjCUIAAADoJ14JQgAAANzLXAlCAAAAqIpZCUIAAAAsOWMJQgAAAAglXwlCAAAA+FRdCUIAAAC0LGAJQgAAAPixWglCAAAAQNpiCUIAAAAkaFoJQgAAAMzkYglCAAAAfBpfCUIAAACQXmEJQgAAABgMWQlCAAAAZAVfCUIAAAD4VF0JQgAAAGSoYQlCAAAAuKBgCUIAAADsVVkJQg==\",\"dtype\":\"float64\",\"shape\":[29]},\"fecha_insc_mean\":{\"__ndarray__\":\"AAAA9D1aCUIAAAAkC10JQgAAAOqnYwlCAAAAZAVfCUIAAABsSl0JQgAAAJijXwlCAAAAyCpdCUIAAADobWMJQgAAACzzXQlCAAAAgG9gCUIAAADoJ14JQgAAANzLXAlCAAAAqIpZCUIAAAAsOWMJQgAAAAglXwlCAAAA+FRdCUIAAAD/fFsJQgAAAPixWglCAAAAQNpiCUIAAAAkaFoJQgAAAPrUYglCAAAAfBpfCUIAAACQXmEJQgAAABgMWQlCAAAAZAVfCUIAAAD4VF0JQgAAAGSoYQlCkiRJqpRgCUIAAADsVVkJQg==\",\"dtype\":\"float64\",\"shape\":[29]},\"fecha_insc_min\":{\"__ndarray__\":\"AAAA9D1aCUIAAAAkC10JQgAAAFxjYwlCAAAAZAVfCUIAAABsSl0JQgAAAJijXwlCAAAAsHJaCUIAAAAoxWIJQgAAACzzXQlCAAAAnNFaCUIAAADoJ14JQgAAANzLXAlCAAAAqIpZCUIAAAAsOWMJQgAAAAglXwlCAAAA+FRdCUIAAACoilkJQgAAAPixWglCAAAAQNpiCUIAAAAkaFoJQgAAACjFYglCAAAAfBpfCUIAAACQXmEJQgAAABgMWQlCAAAAZAVfCUIAAAD4VF0JQgAAAGSoYQlCAAAAoItgCUIAAADsVVkJQg==\",\"dtype\":\"float64\",\"shape\":[29]},\"fecha_insc_std\":{\"__ndarray__\":\"AAAAAAAA+H8AAAAAAAD4f9aZWqzcPChBAAAAAAAA+H8AAAAAAAD4fwAAAAAAAPh/QcPB2mbDXkFyLjgfBycsQQAAAAAAAPh/WTSE8y93Y0EAAAAAAAD4fwAAAAAAAPh/AAAAAAAA+H8AAAAAAAD4fwAAAAAAAPh/AAAAAAAA+H8uaqc6N45UQQAAAAAAAPh/AAAAAAAA+H8AAAAAAAD4fwGOGJ+QXwZBAAAAAAAA+H8AAAAAAAD4fwAAAAAAAPh/AAAAAAAA+H8AAAAAAAD4fwAAAAAAAPh/hftgO5L68kAAAAAAAAD4fw==\",\"dtype\":\"float64\",\"shape\":[29]},\"fecha_nac_25%\":{\"__ndarray__\":\"AAAAIPRZCUIAAAAoIUMJQgAAAN9oYglCAAAAqC1cCUIAAACA61wJQgAAALyfTglCAAAAf4hXCUIAAADFMFoJQgAAAEg2WQlCAAAAPH1aCUIAAABcHV4JQgAAAKyhXAlCAAAAaBtFCUIAAAA48mEJQgAAAMDNSQlCAAAADPZcCUIAAABgjgcJQgAAAGgzWglCAAAA4IViCUIAAABY1jAJQgAAAC2zYAlCAAAA/AwpCUIAAAAslmAJQgAAAHB4WAlCAAAA0BAkCUIAAAAAyEsJQgAAAPxklQhCAAAA5FZgCUIAAAC4VucIQg==\",\"dtype\":\"float64\",\"shape\":[29]},\"fecha_nac_50%\":{\"__ndarray__\":\"AAAAIPRZCUIAAAAoIUMJQgAAAPrUYglCAAAAqC1cCUIAAACA61wJQgAAALyfTglCAAAAEl5YCUIAAADoymAJQgAAAEg2WQlCAAAAaNZcCUIAAABcHV4JQgAAAKyhXAlCAAAAaBtFCUIAAAA48mEJQgAAAMDNSQlCAAAADPZcCUIAAABcS04JQgAAAGgzWglCAAAA4IViCUIAAABY1jAJQgAAAOoEYQlCAAAA/AwpCUIAAAAslmAJQgAAAHB4WAlCAAAA0BAkCUIAAAAAyEsJQgAAAPxklQhCAAAAiHZgCUIAAAC4VucIQg==\",\"dtype\":\"float64\",\"shape\":[29]},\"fecha_nac_75%\":{\"__ndarray__\":\"AAAAIPRZCUIAAAAoIUMJQgAAABVBYwlCAAAAqC1cCUIAAACA61wJQgAAALyfTglCAAAApTNZCUIAAAB6g2EJQgAAAEg2WQlCAAAAIDpfCUIAAABcHV4JQgAAAKyhXAlCAAAAaBtFCUIAAAA48mEJQgAAAMDNSQlCAAAADPZcCUIAAAAqc1gJQgAAAGgzWglCAAAA4IViCUIAAABY1jAJQgAAAKdWYQlCAAAA/AwpCUIAAAAslmAJQgAAAHB4WAlCAAAA0BAkCUIAAAAAyEsJQgAAAPxklQhCAAAAFIFgCUIAAAC4VucIQg==\",\"dtype\":\"float64\",\"shape\":[29]},\"fecha_nac_count\":{\"__ndarray__\":\"AAAAAAAA8D8AAAAAAADwPwAAAAAAAABAAAAAAAAA8D8AAAAAAADwPwAAAAAAAPA/AAAAAAAAAEAAAAAAAAAQQAAAAAAAAPA/AAAAAAAACEAAAAAAAADwPwAAAAAAAPA/AAAAAAAA8D8AAAAAAADwPwAAAAAAAPA/AAAAAAAA8D8AAAAAAAAgQAAAAAAAAPA/AAAAAAAA8D8AAAAAAADwPwAAAAAAAABAAAAAAAAA8D8AAAAAAADwPwAAAAAAAPA/AAAAAAAA8D8AAAAAAADwPwAAAAAAAPA/AAAAAAAAHEAAAAAAAADwPw==\",\"dtype\":\"float64\",\"shape\":[29]},\"fecha_nac_max\":{\"__ndarray__\":\"AAAAIPRZCUIAAAAoIUMJQgAAADCtYwlCAAAAqC1cCUIAAACA61wJQgAAALyfTglCAAAAOAlaCUIAAABMk2EJQgAAAEg2WQlCAAAA2J1hCUIAAABcHV4JQgAAAKyhXAlCAAAAaBtFCUIAAAA48mEJQgAAAMDNSQlCAAAADPZcCUIAAADsm14JQgAAAGgzWglCAAAA4IViCUIAAABY1jAJQgAAAGSoYQlCAAAA/AwpCUIAAAAslmAJQgAAAHB4WAlCAAAA0BAkCUIAAAAAyEsJQgAAAPxklQhCAAAAFIFgCUIAAAC4VucIQg==\",\"dtype\":\"float64\",\"shape\":[29]},\"fecha_nac_mean\":{\"__ndarray__\":\"AAAAIPRZCUIAAAAoIUMJQgAAAPrUYglCAAAAqC1cCUIAAACA61wJQgAAALyfTglCAAAAEl5YCUIAAABX6VoJQgAAAEg2WQlCAAAAcN1cCUIAAABcHV4JQgAAAKyhXAlCAAAAaBtFCUIAAAA48mEJQgAAAMDNSQlCAAAADPZcCUIAAACMdDEJQgAAAGgzWglCAAAA4IViCUIAAABY1jAJQgAAAOoEYQlCAAAA/AwpCUIAAAAslmAJQgAAAHB4WAlCAAAA0BAkCUIAAAAAyEsJQgAAAPxklQhCbtu2ZVhgCUIAAAC4VucIQg==\",\"dtype\":\"float64\",\"shape\":[29]},\"fecha_nac_min\":{\"__ndarray__\":\"AAAAIPRZCUIAAAAoIUMJQgAAAMT8YQlCAAAAqC1cCUIAAACA61wJQgAAALyfTglCAAAA7LJWCUIAAABAfEgJQgAAAEg2WQlCAAAAECRYCUIAAABcHV4JQgAAAKyhXAlCAAAAaBtFCUIAAAA48mEJQgAAAMDNSQlCAAAADPZcCUIAAABkdeAIQgAAAGgzWglCAAAA4IViCUIAAABY1jAJQgAAAHBhYAlCAAAA/AwpCUIAAAAslmAJQgAAAHB4WAlCAAAA0BAkCUIAAAAAyEsJQgAAAPxklQhCAAAAPMNfCUIAAAC4VucIQg==\",\"dtype\":\"float64\",\"shape\":[29]},\"fecha_nac_std\":{\"__ndarray__\":\"AAAAAAAA+H8AAAAAAAD4f0v55IdLHENBAAAAAAAA+H8AAAAAAAD4fwAAAAAAAPh/0bc8BqLgUkEOgTM1GZt4QQAAAAAAAPh/8Gfupp/zYkEAAAAAAAD4fwAAAAAAAPh/AAAAAAAA+H8AAAAAAAD4fwAAAAAAAPh/AAAAAAAA+H83gLrDeFaaQQAAAAAAAPh/AAAAAAAA+H8AAAAAAAD4f2u3f80a5jxBAAAAAAAA+H8AAAAAAAD4fwAAAAAAAPh/AAAAAAAA+H8AAAAAAAD4fwAAAAAAAPh/G1YzVLZiIUEAAAAAAAD4fw==\",\"dtype\":\"float64\",\"shape\":[29]},\"hij_nacm_25%\":{\"__ndarray__\":\"AAAAAAAAAAAAAAAAAAD4fwAAAAAAAAAAAAAAAADAWEAAAAAAAAAAAAAAAAAAAAAAAAAAAAAAAAAAAAAAAAAAAAAAAAAAAAAAAAAAAAAAAAAAAAAAAAAAAAAAAAAAAAAAAAAAAAAA+H8AAAAAAAAAAAAAAAAAAAAAAAAAAAAAAAAAAAAAAAAAAAAAAAAAwFhAAAAAAAAAAAAAAAAAAAD4fwAAAAAAwDhAAAAAAAAA+H8AAAAAAAAAAAAAAAAAAAAAAAAAAAAA+H8AAAAAAAAAAAAAAAAAAPh/AAAAAAAAAAAAAAAAAAD4fw==\",\"dtype\":\"float64\",\"shape\":[29]},\"hij_nacm_50%\":{\"__ndarray__\":\"AAAAAAAAAAAAAAAAAAD4fwAAAAAAAAAAAAAAAADAWEAAAAAAAAAAAAAAAAAAAAAAAAAAAAAAAAAAAAAAAAAAAAAAAAAAAAAAAAAAAAAAAAAAAAAAAAAAAAAAAAAAAAAAAAAAAAAA+H8AAAAAAAAAAAAAAAAAAAAAAAAAAAAAAAAAAAAAAAAAAAAAAAAAwFhAAAAAAAAAAAAAAAAAAAD4fwAAAAAAwEhAAAAAAAAA+H8AAAAAAAAAAAAAAAAAAAAAAAAAAAAA+H8AAAAAAAAAAAAAAAAAAPh/AAAAAAAAAAAAAAAAAAD4fw==\",\"dtype\":\"float64\",\"shape\":[29]},\"hij_nacm_75%\":{\"__ndarray__\":\"AAAAAAAAAAAAAAAAAAD4fwAAAAAAAAAAAAAAAADAWEAAAAAAAAAAAAAAAAAAAAAAAAAAAAAAAAAAAAAAAMBIQAAAAAAAAAAAAAAAAAAAAAAAAAAAAAAAAAAAAAAAAAAAAAAAAAAA+H8AAAAAAAAAAAAAAAAAAAAAAAAAAAAAAAAAAAAAAAAAAAAAAAAAwFhAAAAAAAAAAAAAAAAAAAD4fwAAAAAAkFJAAAAAAAAA+H8AAAAAAAAAAAAAAAAAAAAAAAAAAAAA+H8AAAAAAAAAAAAAAAAAAPh/AAAAAAAAAAAAAAAAAAD4fw==\",\"dtype\":\"float64\",\"shape\":[29]},\"hij_nacm_count\":{\"__ndarray__\":\"AAAAAAAA8D8AAAAAAAAAAAAAAAAAAABAAAAAAAAA8D8AAAAAAADwPwAAAAAAAPA/AAAAAAAAAEAAAAAAAAAIQAAAAAAAAPA/AAAAAAAACEAAAAAAAADwPwAAAAAAAPA/AAAAAAAAAAAAAAAAAADwPwAAAAAAAPA/AAAAAAAA8D8AAAAAAAAQQAAAAAAAAPA/AAAAAAAA8D8AAAAAAAAAAAAAAAAAAABAAAAAAAAAAAAAAAAAAADwPwAAAAAAAPA/AAAAAAAAAAAAAAAAAADwPwAAAAAAAAAAAAAAAAAAHEAAAAAAAAAAAA==\",\"dtype\":\"float64\",\"shape\":[29]},\"hij_nacm_max\":{\"__ndarray__\":\"AAAAAAAAAAAAAAAAAAD4fwAAAAAAAAAAAAAAAADAWEAAAAAAAAAAAAAAAAAAAAAAAAAAAAAAAAAAAAAAAMBYQAAAAAAAAAAAAAAAAAAAAAAAAAAAAAAAAAAAAAAAAAAAAAAAAAAA+H8AAAAAAAAAAAAAAAAAAAAAAAAAAAAAAAAAAAAAAAAAAAAAAAAAwFhAAAAAAAAAAAAAAAAAAAD4fwAAAAAAwFhAAAAAAAAA+H8AAAAAAAAAAAAAAAAAAAAAAAAAAAAA+H8AAAAAAAAAAAAAAAAAAPh/AAAAAAAAAAAAAAAAAAD4fw==\",\"dtype\":\"float64\",\"shape\":[29]},\"hij_nacm_mean\":{\"__ndarray__\":\"AAAAAAAAAAAAAAAAAAD4fwAAAAAAAAAAAAAAAADAWEAAAAAAAAAAAAAAAAAAAAAAAAAAAAAAAAAAAAAAAIBAQAAAAAAAAAAAAAAAAAAAAAAAAAAAAAAAAAAAAAAAAAAAAAAAAAAA+H8AAAAAAAAAAAAAAAAAAAAAAAAAAAAAAAAAAAAAAAAAAAAAAAAAwFhAAAAAAAAAAAAAAAAAAAD4fwAAAAAAwEhAAAAAAAAA+H8AAAAAAAAAAAAAAAAAAAAAAAAAAAAA+H8AAAAAAAAAAAAAAAAAAPh/AAAAAAAAAAAAAAAAAAD4fw==\",\"dtype\":\"float64\",\"shape\":[29]},\"hij_nacm_min\":{\"__ndarray__\":\"AAAAAAAAAAAAAAAAAAD4fwAAAAAAAAAAAAAAAADAWEAAAAAAAAAAAAAAAAAAAAAAAAAAAAAAAAAAAAAAAAAAAAAAAAAAAAAAAAAAAAAAAAAAAAAAAAAAAAAAAAAAAAAAAAAAAAAA+H8AAAAAAAAAAAAAAAAAAAAAAAAAAAAAAAAAAAAAAAAAAAAAAAAAwFhAAAAAAAAAAAAAAAAAAAD4fwAAAAAAAAAAAAAAAAAA+H8AAAAAAAAAAAAAAAAAAAAAAAAAAAAA+H8AAAAAAAAAAAAAAAAAAPh/AAAAAAAAAAAAAAAAAAD4fw==\",\"dtype\":\"float64\",\"shape\":[29]},\"hij_nacm_std\":{\"__ndarray__\":\"AAAAAAAA+H8AAAAAAAD4fwAAAAAAAAAAAAAAAAAA+H8AAAAAAAD4fwAAAAAAAPh/AAAAAAAAAAAQD5u/LpRMQAAAAAAAAPh/AAAAAAAAAAAAAAAAAAD4fwAAAAAAAPh/AAAAAAAA+H8AAAAAAAD4fwAAAAAAAPh/AAAAAAAA+H8AAAAAAAAAAAAAAAAAAPh/AAAAAAAA+H8AAAAAAAD4f0BoRoM6gFFAAAAAAAAA+H8AAAAAAAD4fwAAAAAAAPh/AAAAAAAA+H8AAAAAAAD4fwAAAAAAAPh/AAAAAAAAAAAAAAAAAAD4fw==\",\"dtype\":\"float64\",\"shape\":[29]},\"hij_viv_25%\":{\"__ndarray__\":\"AAAAAAAAAEAAAAAAAAD4fwAAAAAAAPQ/AAAAAAAAAEAAAAAAAAAIQAAAAAAAABBAAAAAAAAA8D8AAAAAAAD4PwAAAAAAAABAAAAAAAAAAEAAAAAAAAAQQAAAAAAAAPA/AAAAAAAA+H8AAAAAAAAIQAAAAAAAAPA/AAAAAAAA8D8AAAAAAAD8PwAAAAAAAPA/AAAAAAAA8D8AAAAAAAD4fwAAAAAAAAJAAAAAAAAA+H8AAAAAAADwPwAAAAAAAPA/AAAAAAAA+H8AAAAAAAAIQAAAAAAAAPh/AAAAAAAA8D8AAAAAAAD4fw==\",\"dtype\":\"float64\",\"shape\":[29]},\"hij_viv_50%\":{\"__ndarray__\":\"AAAAAAAAAEAAAAAAAAD4fwAAAAAAAPg/AAAAAAAAAEAAAAAAAAAIQAAAAAAAABBAAAAAAAAA8D8AAAAAAAAAQAAAAAAAAABAAAAAAAAAAEAAAAAAAAAQQAAAAAAAAPA/AAAAAAAA+H8AAAAAAAAIQAAAAAAAAPA/AAAAAAAA8D8AAAAAAAAAQAAAAAAAAPA/AAAAAAAA8D8AAAAAAAD4fwAAAAAAAARAAAAAAAAA+H8AAAAAAADwPwAAAAAAAPA/AAAAAAAA+H8AAAAAAAAIQAAAAAAAAPh/AAAAAAAA8D8AAAAAAAD4fw==\",\"dtype\":\"float64\",\"shape\":[29]},\"hij_viv_75%\":{\"__ndarray__\":\"AAAAAAAAAEAAAAAAAAD4fwAAAAAAAPw/AAAAAAAAAEAAAAAAAAAIQAAAAAAAABBAAAAAAAAA8D8AAAAAAAAIQAAAAAAAAABAAAAAAAAABEAAAAAAAAAQQAAAAAAAAPA/AAAAAAAA+H8AAAAAAAAIQAAAAAAAAPA/AAAAAAAA8D8AAAAAAAACQAAAAAAAAPA/AAAAAAAA8D8AAAAAAAD4fwAAAAAAAAZAAAAAAAAA+H8AAAAAAADwPwAAAAAAAPA/AAAAAAAA+H8AAAAAAAAIQAAAAAAAAPh/AAAAAAAA+D8AAAAAAAD4fw==\",\"dtype\":\"float64\",\"shape\":[29]},\"hij_viv_count\":{\"__ndarray__\":\"AAAAAAAA8D8AAAAAAAAAAAAAAAAAAABAAAAAAAAA8D8AAAAAAADwPwAAAAAAAPA/AAAAAAAAAEAAAAAAAAAIQAAAAAAAAPA/AAAAAAAACEAAAAAAAADwPwAAAAAAAPA/AAAAAAAAAAAAAAAAAADwPwAAAAAAAPA/AAAAAAAA8D8AAAAAAAAQQAAAAAAAAPA/AAAAAAAA8D8AAAAAAAAAAAAAAAAAAABAAAAAAAAAAAAAAAAAAADwPwAAAAAAAPA/AAAAAAAAAAAAAAAAAADwPwAAAAAAAAAAAAAAAAAAHEAAAAAAAAAAAA==\",\"dtype\":\"float64\",\"shape\":[29]},\"hij_viv_max\":{\"__ndarray__\":\"AAAAAAAAAEAAAAAAAAD4fwAAAAAAAABAAAAAAAAAAEAAAAAAAAAIQAAAAAAAABBAAAAAAAAA8D8AAAAAAAAQQAAAAAAAAABAAAAAAAAACEAAAAAAAAAQQAAAAAAAAPA/AAAAAAAA+H8AAAAAAAAIQAAAAAAAAPA/AAAAAAAA8D8AAAAAAAAIQAAAAAAAAPA/AAAAAAAA8D8AAAAAAAD4fwAAAAAAAAhAAAAAAAAA+H8AAAAAAADwPwAAAAAAAPA/AAAAAAAA+H8AAAAAAAAIQAAAAAAAAPh/AAAAAAAAAEAAAAAAAAD4fw==\",\"dtype\":\"float64\",\"shape\":[29]},\"hij_viv_mean\":{\"__ndarray__\":\"AAAAAAAAAEAAAAAAAAD4fwAAAAAAAPg/AAAAAAAAAEAAAAAAAAAIQAAAAAAAABBAAAAAAAAA8D+rqqqqqqoCQAAAAAAAAABAq6qqqqqqAkAAAAAAAAAQQAAAAAAAAPA/AAAAAAAA+H8AAAAAAAAIQAAAAAAAAPA/AAAAAAAA8D8AAAAAAAAAQAAAAAAAAPA/AAAAAAAA8D8AAAAAAAD4fwAAAAAAAARAAAAAAAAA+H8AAAAAAADwPwAAAAAAAPA/AAAAAAAA+H8AAAAAAAAIQAAAAAAAAPh/JUmSJEmS9D8AAAAAAAD4fw==\",\"dtype\":\"float64\",\"shape\":[29]},\"hij_viv_min\":{\"__ndarray__\":\"AAAAAAAAAEAAAAAAAAD4fwAAAAAAAPA/AAAAAAAAAEAAAAAAAAAIQAAAAAAAABBAAAAAAAAA8D8AAAAAAADwPwAAAAAAAABAAAAAAAAAAEAAAAAAAAAQQAAAAAAAAPA/AAAAAAAA+H8AAAAAAAAIQAAAAAAAAPA/AAAAAAAA8D8AAAAAAADwPwAAAAAAAPA/AAAAAAAA8D8AAAAAAAD4fwAAAAAAAABAAAAAAAAA+H8AAAAAAADwPwAAAAAAAPA/AAAAAAAA+H8AAAAAAAAIQAAAAAAAAPh/AAAAAAAA8D8AAAAAAAD4fw==\",\"dtype\":\"float64\",\"shape\":[29]},\"hij_viv_std\":{\"__ndarray__\":\"AAAAAAAA+H8AAAAAAAD4f807f2aeoOY/AAAAAAAA+H8AAAAAAAD4fwAAAAAAAPh/AAAAAAAAAACyKBxMvnD4PwAAAAAAAPh/HTOQRad54j8AAAAAAAD4fwAAAAAAAPh/AAAAAAAA+H8AAAAAAAD4fwAAAAAAAPh/AAAAAAAA+H8+LAxwvSDqPwAAAAAAAPh/AAAAAAAA+H8AAAAAAAD4f807f2aeoOY/AAAAAAAA+H8AAAAAAAD4fwAAAAAAAPh/AAAAAAAA+H8AAAAAAAD4fwAAAAAAAPh/fUsvypI63z8AAAAAAAD4fw==\",\"dtype\":\"float64\",\"shape\":[29]},\"hij_vivm_25%\":{\"__ndarray__\":\"AAAAAAAAAAAAAAAAAAD4fwAAAAAAAAAAAAAAAAAAAAAAAAAAAAAAAAAAAAAAAAAAAAAAAAAAAAAAAAAAAAAAAAAAAAAAAAAAAAAAAAAAAAAAAAAAAAAAAAAAAAAAAAAAAAAAAAAA+H8AAAAAAAAAAAAAAAAAAAAAAAAAAAAAAAAAAAAAAAAAAAAAAAAAwFhAAAAAAAAAAAAAAAAAAAD4fwAAAAAAwDhAAAAAAAAA+H8AAAAAAAAAAAAAAAAAAAAAAAAAAAAA+H8AAAAAAAAAAAAAAAAAAPh/AAAAAAAAAAAAAAAAAAD4fw==\",\"dtype\":\"float64\",\"shape\":[29]},\"hij_vivm_50%\":{\"__ndarray__\":\"AAAAAAAAAAAAAAAAAAD4fwAAAAAAAAAAAAAAAAAAAAAAAAAAAAAAAAAAAAAAAAAAAAAAAAAAAAAAAAAAAAAAAAAAAAAAAAAAAAAAAAAAAAAAAAAAAAAAAAAAAAAAAAAAAAAAAAAA+H8AAAAAAAAAAAAAAAAAAAAAAAAAAAAAAAAAAAAAAAAAAAAAAAAAwFhAAAAAAAAAAAAAAAAAAAD4fwAAAAAAwEhAAAAAAAAA+H8AAAAAAAAAAAAAAAAAAAAAAAAAAAAA+H8AAAAAAAAAAAAAAAAAAPh/AAAAAAAAAAAAAAAAAAD4fw==\",\"dtype\":\"float64\",\"shape\":[29]},\"hij_vivm_75%\":{\"__ndarray__\":\"AAAAAAAAAAAAAAAAAAD4fwAAAAAAAAAAAAAAAAAAAAAAAAAAAAAAAAAAAAAAAAAAAAAAAAAAAAAAAAAAAMBIQAAAAAAAAAAAAAAAAAAAAAAAAAAAAAAAAAAAAAAAAAAAAAAAAAAA+H8AAAAAAAAAAAAAAAAAAAAAAAAAAAAAAAAAAAAAAAAAAAAAAAAAwFhAAAAAAAAAAAAAAAAAAAD4fwAAAAAAkFJAAAAAAAAA+H8AAAAAAAAAAAAAAAAAAAAAAAAAAAAA+H8AAAAAAAAAAAAAAAAAAPh/AAAAAAAAAAAAAAAAAAD4fw==\",\"dtype\":\"float64\",\"shape\":[29]},\"hij_vivm_count\":{\"__ndarray__\":\"AAAAAAAA8D8AAAAAAAAAAAAAAAAAAABAAAAAAAAA8D8AAAAAAADwPwAAAAAAAPA/AAAAAAAAAEAAAAAAAAAIQAAAAAAAAPA/AAAAAAAACEAAAAAAAADwPwAAAAAAAPA/AAAAAAAAAAAAAAAAAADwPwAAAAAAAPA/AAAAAAAA8D8AAAAAAAAQQAAAAAAAAPA/AAAAAAAA8D8AAAAAAAAAAAAAAAAAAABAAAAAAAAAAAAAAAAAAADwPwAAAAAAAPA/AAAAAAAAAAAAAAAAAADwPwAAAAAAAAAAAAAAAAAAHEAAAAAAAAAAAA==\",\"dtype\":\"float64\",\"shape\":[29]},\"hij_vivm_max\":{\"__ndarray__\":\"AAAAAAAAAAAAAAAAAAD4fwAAAAAAAAAAAAAAAAAAAAAAAAAAAAAAAAAAAAAAAAAAAAAAAAAAAAAAAAAAAMBYQAAAAAAAAAAAAAAAAAAAAAAAAAAAAAAAAAAAAAAAAAAAAAAAAAAA+H8AAAAAAAAAAAAAAAAAAAAAAAAAAAAAAAAAAAAAAAAAAAAAAAAAwFhAAAAAAAAAAAAAAAAAAAD4fwAAAAAAwFhAAAAAAAAA+H8AAAAAAAAAAAAAAAAAAAAAAAAAAAAA+H8AAAAAAAAAAAAAAAAAAPh/AAAAAAAAAAAAAAAAAAD4fw==\",\"dtype\":\"float64\",\"shape\":[29]},\"hij_vivm_mean\":{\"__ndarray__\":\"AAAAAAAAAAAAAAAAAAD4fwAAAAAAAAAAAAAAAAAAAAAAAAAAAAAAAAAAAAAAAAAAAAAAAAAAAAAAAAAAAIBAQAAAAAAAAAAAAAAAAAAAAAAAAAAAAAAAAAAAAAAAAAAAAAAAAAAA+H8AAAAAAAAAAAAAAAAAAAAAAAAAAAAAAAAAAAAAAAAAAAAAAAAAwFhAAAAAAAAAAAAAAAAAAAD4fwAAAAAAwEhAAAAAAAAA+H8AAAAAAAAAAAAAAAAAAAAAAAAAAAAA+H8AAAAAAAAAAAAAAAAAAPh/AAAAAAAAAAAAAAAAAAD4fw==\",\"dtype\":\"float64\",\"shape\":[29]},\"hij_vivm_min\":{\"__ndarray__\":\"AAAAAAAAAAAAAAAAAAD4fwAAAAAAAAAAAAAAAAAAAAAAAAAAAAAAAAAAAAAAAAAAAAAAAAAAAAAAAAAAAAAAAAAAAAAAAAAAAAAAAAAAAAAAAAAAAAAAAAAAAAAAAAAAAAAAAAAA+H8AAAAAAAAAAAAAAAAAAAAAAAAAAAAAAAAAAAAAAAAAAAAAAAAAwFhAAAAAAAAAAAAAAAAAAAD4fwAAAAAAAAAAAAAAAAAA+H8AAAAAAAAAAAAAAAAAAAAAAAAAAAAA+H8AAAAAAAAAAAAAAAAAAPh/AAAAAAAAAAAAAAAAAAD4fw==\",\"dtype\":\"float64\",\"shape\":[29]},\"hij_vivm_std\":{\"__ndarray__\":\"AAAAAAAA+H8AAAAAAAD4fwAAAAAAAAAAAAAAAAAA+H8AAAAAAAD4fwAAAAAAAPh/AAAAAAAAAAAQD5u/LpRMQAAAAAAAAPh/AAAAAAAAAAAAAAAAAAD4fwAAAAAAAPh/AAAAAAAA+H8AAAAAAAD4fwAAAAAAAPh/AAAAAAAA+H8AAAAAAAAAAAAAAAAAAPh/AAAAAAAA+H8AAAAAAAD4f0BoRoM6gFFAAAAAAAAA+H8AAAAAAAD4fwAAAAAAAPh/AAAAAAAA+H8AAAAAAAD4fwAAAAAAAPh/AAAAAAAAAAAAAAAAAAD4fw==\",\"dtype\":\"float64\",\"shape\":[29]},\"mes_mad_25%\":{\"__ndarray__\":\"AAAAAAAAEEAAAAAAAAD4fwAAAAAAABVAAAAAAAAAEEAAAAAAAAAIQAAAAAAAABxAAAAAAAAAEEAAAAAAAAASQAAAAAAAABhAAAAAAAAADEAAAAAAAAAgQAAAAAAAABhAAAAAAAAA+H8AAAAAAAAmQAAAAAAAAChAAAAAAAAAEEAAAAAAAAAOQAAAAAAAACBAAAAAAAAAJkAAAAAAAAD4fwAAAAAAAARAAAAAAAAA+H8AAAAAAAAoQAAAAAAAAPA/AAAAAAAA+H8AAAAAAAAoQAAAAAAAAPh/AAAAAAAAFEAAAAAAAAD4fw==\",\"dtype\":\"float64\",\"shape\":[29]},\"mes_mad_50%\":{\"__ndarray__\":\"AAAAAAAAEEAAAAAAAAD4fwAAAAAAABpAAAAAAAAAEEAAAAAAAAAIQAAAAAAAABxAAAAAAAAAEEAAAAAAAAAgQAAAAAAAABhAAAAAAAAAFEAAAAAAAAAgQAAAAAAAABhAAAAAAAAA+H8AAAAAAAAmQAAAAAAAAChAAAAAAAAAEEAAAAAAAAAaQAAAAAAAACBAAAAAAAAAJkAAAAAAAAD4fwAAAAAAABBAAAAAAAAA+H8AAAAAAAAoQAAAAAAAAPA/AAAAAAAA+H8AAAAAAAAoQAAAAAAAAPh/AAAAAAAAGEAAAAAAAAD4fw==\",\"dtype\":\"float64\",\"shape\":[29]},\"mes_mad_75%\":{\"__ndarray__\":\"AAAAAAAAEEAAAAAAAAD4fwAAAAAAAB9AAAAAAAAAEEAAAAAAAAAIQAAAAAAAABxAAAAAAAAAEEAAAAAAAAAiQAAAAAAAABhAAAAAAAAAGEAAAAAAAAAgQAAAAAAAABhAAAAAAAAA+H8AAAAAAAAmQAAAAAAAAChAAAAAAAAAEEAAAAAAAIAjQAAAAAAAACBAAAAAAAAAJkAAAAAAAAD4fwAAAAAAABZAAAAAAAAA+H8AAAAAAAAoQAAAAAAAAPA/AAAAAAAA+H8AAAAAAAAoQAAAAAAAAPh/AAAAAAAAIEAAAAAAAAD4fw==\",\"dtype\":\"float64\",\"shape\":[29]},\"mes_mad_count\":{\"__ndarray__\":\"AAAAAAAA8D8AAAAAAAAAAAAAAAAAAABAAAAAAAAA8D8AAAAAAADwPwAAAAAAAPA/AAAAAAAAAEAAAAAAAAAIQAAAAAAAAPA/AAAAAAAACEAAAAAAAADwPwAAAAAAAPA/AAAAAAAAAAAAAAAAAADwPwAAAAAAAPA/AAAAAAAA8D8AAAAAAAAQQAAAAAAAAPA/AAAAAAAA8D8AAAAAAAAAAAAAAAAAAABAAAAAAAAAAAAAAAAAAADwPwAAAAAAAPA/AAAAAAAAAAAAAAAAAADwPwAAAAAAAAAAAAAAAAAAHEAAAAAAAAAAAA==\",\"dtype\":\"float64\",\"shape\":[29]},\"mes_mad_max\":{\"__ndarray__\":\"AAAAAAAAEEAAAAAAAAD4fwAAAAAAACJAAAAAAAAAEEAAAAAAAAAIQAAAAAAAABxAAAAAAAAAEEAAAAAAAAAkQAAAAAAAABhAAAAAAAAAHEAAAAAAAAAgQAAAAAAAABhAAAAAAAAA+H8AAAAAAAAmQAAAAAAAAChAAAAAAAAAEEAAAAAAAAAoQAAAAAAAACBAAAAAAAAAJkAAAAAAAAD4fwAAAAAAABxAAAAAAAAA+H8AAAAAAAAoQAAAAAAAAPA/AAAAAAAA+H8AAAAAAAAoQAAAAAAAAPh/AAAAAAAAIkAAAAAAAAD4fw==\",\"dtype\":\"float64\",\"shape\":[29]},\"mes_mad_mean\":{\"__ndarray__\":\"AAAAAAAAEEAAAAAAAAD4fwAAAAAAABpAAAAAAAAAEEAAAAAAAAAIQAAAAAAAABxAAAAAAAAAEEBVVVVVVVUZQAAAAAAAABhAq6qqqqqqEkAAAAAAAAAgQAAAAAAAABhAAAAAAAAA+H8AAAAAAAAmQAAAAAAAAChAAAAAAAAAEEAAAAAAAAAcQAAAAAAAACBAAAAAAAAAJkAAAAAAAAD4fwAAAAAAABBAAAAAAAAA+H8AAAAAAAAoQAAAAAAAAPA/AAAAAAAA+H8AAAAAAAAoQAAAAAAAAPh/JUmSJEmSGEAAAAAAAAD4fw==\",\"dtype\":\"float64\",\"shape\":[29]},\"mes_mad_min\":{\"__ndarray__\":\"AAAAAAAAEEAAAAAAAAD4fwAAAAAAABBAAAAAAAAAEEAAAAAAAAAIQAAAAAAAABxAAAAAAAAAEEAAAAAAAADwPwAAAAAAABhAAAAAAAAAAEAAAAAAAAAgQAAAAAAAABhAAAAAAAAA+H8AAAAAAAAmQAAAAAAAAChAAAAAAAAAEEAAAAAAAAAIQAAAAAAAACBAAAAAAAAAJkAAAAAAAAD4fwAAAAAAAPA/AAAAAAAA+H8AAAAAAAAoQAAAAAAAAPA/AAAAAAAA+H8AAAAAAAAoQAAAAAAAAPh/AAAAAAAAAEAAAAAAAAD4fw==\",\"dtype\":\"float64\",\"shape\":[29]},\"mes_mad_std\":{\"__ndarray__\":\"AAAAAAAA+H8AAAAAAAD4f8AKHwDGSAxAAAAAAAAA+H8AAAAAAAD4fwAAAAAAAPh/AAAAAAAAAAANuSY2POcSQAAAAAAAAPh/PYrkMgUiBEAAAAAAAAD4fwAAAAAAAPh/AAAAAAAA+H8AAAAAAAD4fwAAAAAAAPh/AAAAAAAA+H/ZbN/MdvgQQAAAAAAAAPh/AAAAAAAA+H8AAAAAAAD4f9ls38x2+BBAAAAAAAAA+H8AAAAAAAD4fwAAAAAAAPh/AAAAAAAA+H8AAAAAAAD4fwAAAAAAAPh/1pnpsOzTA0AAAAAAAAD4fw==\",\"dtype\":\"float64\",\"shape\":[29]},\"num_par_25%\":{\"__ndarray__\":\"AAAAAAAAAEAAAAAAAAD4fwAAAAAAAPQ/AAAAAAAAAEAAAAAAAAAIQAAAAAAAABBAAAAAAAAA8D8AAAAAAAD4PwAAAAAAAABAAAAAAAAAAEAAAAAAAAAQQAAAAAAAAPA/AAAAAAAA+H8AAAAAAAAIQAAAAAAAAPA/AAAAAAAA8D8AAAAAAAD8PwAAAAAAAPA/AAAAAAAA8D8AAAAAAAD4fwAAAAAAAAJAAAAAAAAA+H8AAAAAAADwPwAAAAAAAPA/AAAAAAAA+H8AAAAAAAAIQAAAAAAAAPh/AAAAAAAA8D8AAAAAAAD4fw==\",\"dtype\":\"float64\",\"shape\":[29]},\"num_par_50%\":{\"__ndarray__\":\"AAAAAAAAAEAAAAAAAAD4fwAAAAAAAPg/AAAAAAAAAEAAAAAAAAAIQAAAAAAAABBAAAAAAAAA8D8AAAAAAAAAQAAAAAAAAABAAAAAAAAAAEAAAAAAAAAQQAAAAAAAAPA/AAAAAAAA+H8AAAAAAAAIQAAAAAAAAPA/AAAAAAAA8D8AAAAAAAAAQAAAAAAAAPA/AAAAAAAA8D8AAAAAAAD4fwAAAAAAAARAAAAAAAAA+H8AAAAAAADwPwAAAAAAAPA/AAAAAAAA+H8AAAAAAAAIQAAAAAAAAPh/AAAAAAAA8D8AAAAAAAD4fw==\",\"dtype\":\"float64\",\"shape\":[29]},\"num_par_75%\":{\"__ndarray__\":\"AAAAAAAAAEAAAAAAAAD4fwAAAAAAAPw/AAAAAAAAAEAAAAAAAAAIQAAAAAAAABBAAAAAAAAA8D8AAAAAAAAIQAAAAAAAAABAAAAAAAAABEAAAAAAAAAQQAAAAAAAAPA/AAAAAAAA+H8AAAAAAAAIQAAAAAAAAPA/AAAAAAAA8D8AAAAAAAACQAAAAAAAAPA/AAAAAAAA8D8AAAAAAAD4fwAAAAAAAAZAAAAAAAAA+H8AAAAAAADwPwAAAAAAAPA/AAAAAAAA+H8AAAAAAAAIQAAAAAAAAPh/AAAAAAAA+D8AAAAAAAD4fw==\",\"dtype\":\"float64\",\"shape\":[29]},\"num_par_count\":{\"__ndarray__\":\"AAAAAAAA8D8AAAAAAAAAAAAAAAAAAABAAAAAAAAA8D8AAAAAAADwPwAAAAAAAPA/AAAAAAAAAEAAAAAAAAAIQAAAAAAAAPA/AAAAAAAACEAAAAAAAADwPwAAAAAAAPA/AAAAAAAAAAAAAAAAAADwPwAAAAAAAPA/AAAAAAAA8D8AAAAAAAAQQAAAAAAAAPA/AAAAAAAA8D8AAAAAAAAAAAAAAAAAAABAAAAAAAAAAAAAAAAAAADwPwAAAAAAAPA/AAAAAAAAAAAAAAAAAADwPwAAAAAAAAAAAAAAAAAAHEAAAAAAAAAAAA==\",\"dtype\":\"float64\",\"shape\":[29]},\"num_par_max\":{\"__ndarray__\":\"AAAAAAAAAEAAAAAAAAD4fwAAAAAAAABAAAAAAAAAAEAAAAAAAAAIQAAAAAAAABBAAAAAAAAA8D8AAAAAAAAQQAAAAAAAAABAAAAAAAAACEAAAAAAAAAQQAAAAAAAAPA/AAAAAAAA+H8AAAAAAAAIQAAAAAAAAPA/AAAAAAAA8D8AAAAAAAAIQAAAAAAAAPA/AAAAAAAA8D8AAAAAAAD4fwAAAAAAAAhAAAAAAAAA+H8AAAAAAADwPwAAAAAAAPA/AAAAAAAA+H8AAAAAAAAIQAAAAAAAAPh/AAAAAAAAAEAAAAAAAAD4fw==\",\"dtype\":\"float64\",\"shape\":[29]},\"num_par_mean\":{\"__ndarray__\":\"AAAAAAAAAEAAAAAAAAD4fwAAAAAAAPg/AAAAAAAAAEAAAAAAAAAIQAAAAAAAABBAAAAAAAAA8D+rqqqqqqoCQAAAAAAAAABAq6qqqqqqAkAAAAAAAAAQQAAAAAAAAPA/AAAAAAAA+H8AAAAAAAAIQAAAAAAAAPA/AAAAAAAA8D8AAAAAAAAAQAAAAAAAAPA/AAAAAAAA8D8AAAAAAAD4fwAAAAAAAARAAAAAAAAA+H8AAAAAAADwPwAAAAAAAPA/AAAAAAAA+H8AAAAAAAAIQAAAAAAAAPh/JUmSJEmS9D8AAAAAAAD4fw==\",\"dtype\":\"float64\",\"shape\":[29]},\"num_par_min\":{\"__ndarray__\":\"AAAAAAAAAEAAAAAAAAD4fwAAAAAAAPA/AAAAAAAAAEAAAAAAAAAIQAAAAAAAABBAAAAAAAAA8D8AAAAAAADwPwAAAAAAAABAAAAAAAAAAEAAAAAAAAAQQAAAAAAAAPA/AAAAAAAA+H8AAAAAAAAIQAAAAAAAAPA/AAAAAAAA8D8AAAAAAADwPwAAAAAAAPA/AAAAAAAA8D8AAAAAAAD4fwAAAAAAAABAAAAAAAAA+H8AAAAAAADwPwAAAAAAAPA/AAAAAAAA+H8AAAAAAAAIQAAAAAAAAPh/AAAAAAAA8D8AAAAAAAD4fw==\",\"dtype\":\"float64\",\"shape\":[29]},\"num_par_std\":{\"__ndarray__\":\"AAAAAAAA+H8AAAAAAAD4f807f2aeoOY/AAAAAAAA+H8AAAAAAAD4fwAAAAAAAPh/AAAAAAAAAACyKBxMvnD4PwAAAAAAAPh/HTOQRad54j8AAAAAAAD4fwAAAAAAAPh/AAAAAAAA+H8AAAAAAAD4fwAAAAAAAPh/AAAAAAAA+H8+LAxwvSDqPwAAAAAAAPh/AAAAAAAA+H8AAAAAAAD4f807f2aeoOY/AAAAAAAA+H8AAAAAAAD4fwAAAAAAAPh/AAAAAAAA+H8AAAAAAAD4fwAAAAAAAPh/fUsvypI63z8AAAAAAAD4fw==\",\"dtype\":\"float64\",\"shape\":[29]},\"ofi_insc_25%\":{\"__ndarray__\":\"AAAAAAAA8D8AAAAAAADwPwAAAAAAAPA/AAAAAAAA8D8AAAAAAADwPwAAAAAAAPA/AAAAAAAA8D8AAAAAAADwPwAAAAAAAPA/AAAAAAAA8D8AAAAAAAAAQAAAAAAAAPA/AAAAAAAA8D8AAAAAAAAAQAAAAAAAAPA/AAAAAAAAAEAAAAAAAADwPwAAAAAAAABAAAAAAAAA8D8AAAAAAADwPwAAAAAAAPA/AAAAAAAA8D8AAAAAAADwPwAAAAAAAABAAAAAAAAA8D8AAAAAAADwPwAAAAAAAPA/AAAAAAAA8D8AAAAAAADwPw==\",\"dtype\":\"float64\",\"shape\":[29]},\"ofi_insc_50%\":{\"__ndarray__\":\"AAAAAAAA8D8AAAAAAADwPwAAAAAAAPA/AAAAAAAA8D8AAAAAAADwPwAAAAAAAPA/AAAAAAAA8D8AAAAAAADwPwAAAAAAAPA/AAAAAAAA8D8AAAAAAAAAQAAAAAAAAPA/AAAAAAAA8D8AAAAAAAAAQAAAAAAAAPA/AAAAAAAAAEAAAAAAAADwPwAAAAAAAABAAAAAAAAA8D8AAAAAAADwPwAAAAAAAPA/AAAAAAAA8D8AAAAAAADwPwAAAAAAAABAAAAAAAAA8D8AAAAAAADwPwAAAAAAAPA/AAAAAAAA8D8AAAAAAADwPw==\",\"dtype\":\"float64\",\"shape\":[29]},\"ofi_insc_75%\":{\"__ndarray__\":\"AAAAAAAA8D8AAAAAAADwPwAAAAAAAPA/AAAAAAAA8D8AAAAAAADwPwAAAAAAAPA/AAAAAAAA8D8AAAAAAADwPwAAAAAAAPA/AAAAAAAA8D8AAAAAAAAAQAAAAAAAAPA/AAAAAAAA8D8AAAAAAAAAQAAAAAAAAPA/AAAAAAAAAEAAAAAAAADwPwAAAAAAAABAAAAAAAAA8D8AAAAAAADwPwAAAAAAAPA/AAAAAAAA8D8AAAAAAADwPwAAAAAAAABAAAAAAAAA8D8AAAAAAADwPwAAAAAAAPA/AAAAAAAA8D8AAAAAAADwPw==\",\"dtype\":\"float64\",\"shape\":[29]},\"ofi_insc_count\":{\"__ndarray__\":\"AAAAAAAA8D8AAAAAAADwPwAAAAAAAABAAAAAAAAA8D8AAAAAAADwPwAAAAAAAPA/AAAAAAAAAEAAAAAAAAAQQAAAAAAAAPA/AAAAAAAACEAAAAAAAADwPwAAAAAAAPA/AAAAAAAA8D8AAAAAAADwPwAAAAAAAPA/AAAAAAAA8D8AAAAAAAAgQAAAAAAAAPA/AAAAAAAA8D8AAAAAAADwPwAAAAAAAABAAAAAAAAA8D8AAAAAAADwPwAAAAAAAPA/AAAAAAAA8D8AAAAAAADwPwAAAAAAAPA/AAAAAAAAHEAAAAAAAADwPw==\",\"dtype\":\"float64\",\"shape\":[29]},\"ofi_insc_max\":{\"__ndarray__\":\"AAAAAAAA8D8AAAAAAADwPwAAAAAAAPA/AAAAAAAA8D8AAAAAAADwPwAAAAAAAPA/AAAAAAAA8D8AAAAAAADwPwAAAAAAAPA/AAAAAAAA8D8AAAAAAAAAQAAAAAAAAPA/AAAAAAAA8D8AAAAAAAAAQAAAAAAAAPA/AAAAAAAAAEAAAAAAAADwPwAAAAAAAABAAAAAAAAA8D8AAAAAAADwPwAAAAAAAPA/AAAAAAAA8D8AAAAAAADwPwAAAAAAAABAAAAAAAAA8D8AAAAAAADwPwAAAAAAAPA/AAAAAAAA8D8AAAAAAADwPw==\",\"dtype\":\"float64\",\"shape\":[29]},\"ofi_insc_mean\":{\"__ndarray__\":\"AAAAAAAA8D8AAAAAAADwPwAAAAAAAPA/AAAAAAAA8D8AAAAAAADwPwAAAAAAAPA/AAAAAAAA8D8AAAAAAADwPwAAAAAAAPA/AAAAAAAA8D8AAAAAAAAAQAAAAAAAAPA/AAAAAAAA8D8AAAAAAAAAQAAAAAAAAPA/AAAAAAAAAEAAAAAAAADwPwAAAAAAAABAAAAAAAAA8D8AAAAAAADwPwAAAAAAAPA/AAAAAAAA8D8AAAAAAADwPwAAAAAAAABAAAAAAAAA8D8AAAAAAADwPwAAAAAAAPA/AAAAAAAA8D8AAAAAAADwPw==\",\"dtype\":\"float64\",\"shape\":[29]},\"ofi_insc_min\":{\"__ndarray__\":\"AAAAAAAA8D8AAAAAAADwPwAAAAAAAPA/AAAAAAAA8D8AAAAAAADwPwAAAAAAAPA/AAAAAAAA8D8AAAAAAADwPwAAAAAAAPA/AAAAAAAA8D8AAAAAAAAAQAAAAAAAAPA/AAAAAAAA8D8AAAAAAAAAQAAAAAAAAPA/AAAAAAAAAEAAAAAAAADwPwAAAAAAAABAAAAAAAAA8D8AAAAAAADwPwAAAAAAAPA/AAAAAAAA8D8AAAAAAADwPwAAAAAAAABAAAAAAAAA8D8AAAAAAADwPwAAAAAAAPA/AAAAAAAA8D8AAAAAAADwPw==\",\"dtype\":\"float64\",\"shape\":[29]},\"ofi_insc_std\":{\"__ndarray__\":\"AAAAAAAA+H8AAAAAAAD4fwAAAAAAAAAAAAAAAAAA+H8AAAAAAAD4fwAAAAAAAPh/AAAAAAAAAAAAAAAAAAAAAAAAAAAAAPh/AAAAAAAAAAAAAAAAAAD4fwAAAAAAAPh/AAAAAAAA+H8AAAAAAAD4fwAAAAAAAPh/AAAAAAAA+H8AAAAAAAAAAAAAAAAAAPh/AAAAAAAA+H8AAAAAAAD4fwAAAAAAAAAAAAAAAAAA+H8AAAAAAAD4fwAAAAAAAPh/AAAAAAAA+H8AAAAAAAD4fwAAAAAAAPh/AAAAAAAAAAAAAAAAAAD4fw==\",\"dtype\":\"float64\",\"shape\":[29]},\"parr_insc\":[\"Azogues\",\"Cariamanga, Cabecera Cantonal\",\"Centro Hist\\ufffdrico\",\"Chone, Cabecera Cantonal\",\"Cotocollao\",\"Daule, Cabecera Cantonal\",\"El Carmen, Cabecera Cantonal\",\"I\\ufffdaquito\",\"Jos\\ufffd Luis Tamayo (Muey)\",\"Lizarzaburu\",\"Macas, Cabecera Cantonal y Capital Provincial\",\"Manta, Cabecera Cantonal\",\"Milagro, Cabecera Cantonal\",\"Otavalo, Cabecera Cantonal\",\"Pedernales, Cabecera Cantonal\",\"Portoviejo, Cabecera Cantonal y Capital Provincial\",\"Rocafuerte\",\"Rosa Z\\ufffdrate (Quinind\\ufffd), Cabecera Cantonal\",\"Rumipamba\",\"Samborond\\ufffdn, Cabecera Cantonal\",\"San Blas\",\"San Jacinto de Buena F\\ufffd, Cabecera Cantonal\",\"San Jacinto de Yaguachi, Cabecera Cantonal\",\"San Miguel de Ibarra, Cabecera Cantonal y Capital Provincial\",\"Santa Elena, Cabecera Cantonal y Capital Provincial\",\"Santo Domingo de los Colorados, Cabecera Cantonal y Capital Provincial\",\"Shushufindi, Cabecera Cantonal\",\"Tarqui\",\"Vuelta Larga\"],\"peso_25%\":{\"__ndarray__\":\"AAAAAADMpUAAAAAAAAD4fwAAAACAY6dAAAAAAABYq0AAAAAAAO6mQAAAAAAAWK5AAAAAAADLpkAAAAAAAAynQAAAAAAA9KpAAAAAAADqqkAAAAAAADKkQAAAAAAAWKtAAAAAAAAA+H8AAAAAAPynQAAAAAAA6KxAAAAAAAA4qEAAAAAAALSkQAAAAAAAiKNAAAAAAAB4nkAAAAAAAAD4fwAAAAAAtqdAAAAAAAAA+H8AAAAAAGSpQAAAAAAAnKhAAAAAAAAA+H8AAAAAAHylQAAAAAAAAPh/AAAAAACQpUAAAAAAAAD4fw==\",\"dtype\":\"float64\",\"shape\":[29]},\"peso_50%\":{\"__ndarray__\":\"AAAAAADMpUAAAAAAAAD4fwAAAAAAu6dAAAAAAABYq0AAAAAAAO6mQAAAAAAAWK5AAAAAAAAGqEAAAAAAADioQAAAAAAA9KpAAAAAAAA4rUAAAAAAADKkQAAAAAAAWKtAAAAAAAAA+H8AAAAAAPynQAAAAAAA6KxAAAAAAAA4qEAAAAAAAAynQAAAAAAAiKNAAAAAAAB4nkAAAAAAAAD4fwAAAAAA/KdAAAAAAAAA+H8AAAAAAGSpQAAAAAAAnKhAAAAAAAAA+H8AAAAAAHylQAAAAAAAAPh/AAAAAABspkAAAAAAAAD4fw==\",\"dtype\":\"float64\",\"shape\":[29]},\"peso_75%\":{\"__ndarray__\":\"AAAAAADMpUAAAAAAAAD4fwAAAACAEqhAAAAAAABYq0AAAAAAAO6mQAAAAAAAWK5AAAAAAABBqUAAAAAAAEqqQAAAAAAA9KpAAAAAAAB0rUAAAAAAADKkQAAAAAAAWKtAAAAAAAAA+H8AAAAAAPynQAAAAAAA6KxAAAAAAAA4qEAAAAAAAM6oQAAAAAAAiKNAAAAAAAB4nkAAAAAAAAD4fwAAAAAAQqhAAAAAAAAA+H8AAAAAAGSpQAAAAAAAnKhAAAAAAAAA+H8AAAAAAHylQAAAAAAAAPh/AAAAAABRp0AAAAAAAAD4fw==\",\"dtype\":\"float64\",\"shape\":[29]},\"peso_count\":{\"__ndarray__\":\"AAAAAAAA8D8AAAAAAAAAAAAAAAAAAABAAAAAAAAA8D8AAAAAAADwPwAAAAAAAPA/AAAAAAAAAEAAAAAAAAAIQAAAAAAAAPA/AAAAAAAACEAAAAAAAADwPwAAAAAAAPA/AAAAAAAAAAAAAAAAAADwPwAAAAAAAPA/AAAAAAAA8D8AAAAAAAAQQAAAAAAAAPA/AAAAAAAA8D8AAAAAAAAAAAAAAAAAAABAAAAAAAAAAAAAAAAAAADwPwAAAAAAAPA/AAAAAAAAAAAAAAAAAADwPwAAAAAAAAAAAAAAAAAAHEAAAAAAAAAAAA==\",\"dtype\":\"float64\",\"shape\":[29]},\"peso_max\":{\"__ndarray__\":\"AAAAAADMpUAAAAAAAAD4fwAAAAAAaqhAAAAAAABYq0AAAAAAAO6mQAAAAAAAWK5AAAAAAAB8qkAAAAAAAFysQAAAAAAA9KpAAAAAAACwrUAAAAAAADKkQAAAAAAAWKtAAAAAAAAA+H8AAAAAAPynQAAAAAAA6KxAAAAAAAA4qEAAAAAAAJCqQAAAAAAAiKNAAAAAAAB4nkAAAAAAAAD4fwAAAAAAiKhAAAAAAAAA+H8AAAAAAGSpQAAAAAAAnKhAAAAAAAAA+H8AAAAAAHylQAAAAAAAAPh/AAAAAAB8qkAAAAAAAAD4fw==\",\"dtype\":\"float64\",\"shape\":[29]},\"peso_mean\":{\"__ndarray__\":\"AAAAAADMpUAAAAAAAAD4fwAAAAAAu6dAAAAAAABYq0AAAAAAAO6mQAAAAAAAWK5AAAAAAAAGqEBVVVVVVdGoQAAAAAAA9KpAq6qqqqrWq0AAAAAAADKkQAAAAAAAWKtAAAAAAAAA+H8AAAAAAPynQAAAAAAA6KxAAAAAAAA4qEAAAAAAAHamQAAAAAAAiKNAAAAAAAB4nkAAAAAAAAD4fwAAAAAA/KdAAAAAAAAA+H8AAAAAAGSpQAAAAAAAnKhAAAAAAAAA+H8AAAAAAHylQAAAAAAAAPh/27Zt27aPpUAAAAAAAAD4fw==\",\"dtype\":\"float64\",\"shape\":[29]},\"peso_min\":{\"__ndarray__\":\"AAAAAADMpUAAAAAAAAD4fwAAAAAADKdAAAAAAABYq0AAAAAAAO6mQAAAAAAAWK5AAAAAAACQpUAAAAAAAOClQAAAAAAA9KpAAAAAAACcqEAAAAAAADKkQAAAAAAAWKtAAAAAAAAA+H8AAAAAAPynQAAAAAAA6KxAAAAAAAA4qEAAAAAAADChQAAAAAAAiKNAAAAAAAB4nkAAAAAAAAD4fwAAAAAAcKdAAAAAAAAA+H8AAAAAAGSpQAAAAAAAnKhAAAAAAAAA+H8AAAAAAHylQAAAAAAAAPh/AAAAAACImEAAAAAAAAD4fw==\",\"dtype\":\"float64\",\"shape\":[29]},\"peso_std\":{\"__ndarray__\":\"AAAAAAAA+H8AAAAAAAD4f8LzIZCY715AAAAAAAAA+H8AAAAAAAD4fwAAAAAAAPh/lY4e6KLXe0AE3tpmcUR6QAAAAAAAAPh/mpLEw2RzdkAAAAAAAAD4fwAAAAAAAPh/AAAAAAAA+H8AAAAAAAD4fwAAAAAAAPh/AAAAAAAA+H9zvyjCxwKAQAAAAAAAAPh/AAAAAAAA+H8AAAAAAAD4f2gpG0Ctv1hAAAAAAAAA+H8AAAAAAAD4fwAAAAAAAPh/AAAAAAAA+H8AAAAAAAD4fwAAAAAAAPh/iCqkmHe3gUAAAAAAAAD4fw==\",\"dtype\":\"float64\",\"shape\":[29]},\"sem_gest_25%\":{\"__ndarray__\":\"AAAAAAAAREAAAAAAAAD4fwAAAAAAwEJAAAAAAAAAREAAAAAAAABDQAAAAAAAgENAAAAAAACAQ0AAAAAAAMBDQAAAAAAAgENAAAAAAABAQ0AAAAAAAIBCQAAAAAAAgENAAAAAAAAA+H8AAAAAAIBDQAAAAAAAwFhAAAAAAAAAREAAAAAAAMBCQAAAAAAAwFhAAAAAAACAQEAAAAAAAAD4fwAAAAAAIENAAAAAAAAA+H8AAAAAAIBDQAAAAAAAwFhAAAAAAAAA+H8AAAAAAABEQAAAAAAAAPh/AAAAAAAAQ0AAAAAAAAD4fw==\",\"dtype\":\"float64\",\"shape\":[29]},\"sem_gest_50%\":{\"__ndarray__\":\"AAAAAAAAREAAAAAAAAD4fwAAAAAAAENAAAAAAAAAREAAAAAAAABDQAAAAAAAgENAAAAAAACAQ0AAAAAAAABEQAAAAAAAgENAAAAAAACAQ0AAAAAAAIBCQAAAAAAAgENAAAAAAAAA+H8AAAAAAIBDQAAAAAAAwFhAAAAAAAAAREAAAAAAAEBDQAAAAAAAwFhAAAAAAACAQEAAAAAAAAD4fwAAAAAAQENAAAAAAAAA+H8AAAAAAIBDQAAAAAAAwFhAAAAAAAAA+H8AAAAAAABEQAAAAAAAAPh/AAAAAAAAQ0AAAAAAAAD4fw==\",\"dtype\":\"float64\",\"shape\":[29]},\"sem_gest_75%\":{\"__ndarray__\":\"AAAAAAAAREAAAAAAAAD4fwAAAAAAQENAAAAAAAAAREAAAAAAAABDQAAAAAAAgENAAAAAAACAQ0AAAAAAAABEQAAAAAAAgENAAAAAAACAQ0AAAAAAAIBCQAAAAAAAgENAAAAAAAAA+H8AAAAAAIBDQAAAAAAAwFhAAAAAAAAAREAAAAAAAIBDQAAAAAAAwFhAAAAAAACAQEAAAAAAAAD4fwAAAAAAYENAAAAAAAAA+H8AAAAAAIBDQAAAAAAAwFhAAAAAAAAA+H8AAAAAAABEQAAAAAAAAPh/AAAAAABAUUAAAAAAAAD4fw==\",\"dtype\":\"float64\",\"shape\":[29]},\"sem_gest_count\":{\"__ndarray__\":\"AAAAAAAA8D8AAAAAAAAAAAAAAAAAAABAAAAAAAAA8D8AAAAAAADwPwAAAAAAAPA/AAAAAAAAAEAAAAAAAAAIQAAAAAAAAPA/AAAAAAAACEAAAAAAAADwPwAAAAAAAPA/AAAAAAAAAAAAAAAAAADwPwAAAAAAAPA/AAAAAAAA8D8AAAAAAAAQQAAAAAAAAPA/AAAAAAAA8D8AAAAAAAAAAAAAAAAAAABAAAAAAAAAAAAAAAAAAADwPwAAAAAAAPA/AAAAAAAAAAAAAAAAAADwPwAAAAAAAAAAAAAAAAAAHEAAAAAAAAAAAA==\",\"dtype\":\"float64\",\"shape\":[29]},\"sem_gest_max\":{\"__ndarray__\":\"AAAAAAAAREAAAAAAAAD4fwAAAAAAgENAAAAAAAAAREAAAAAAAABDQAAAAAAAgENAAAAAAACAQ0AAAAAAAABEQAAAAAAAgENAAAAAAACAQ0AAAAAAAIBCQAAAAAAAgENAAAAAAAAA+H8AAAAAAIBDQAAAAAAAwFhAAAAAAAAAREAAAAAAAIBDQAAAAAAAwFhAAAAAAACAQEAAAAAAAAD4fwAAAAAAgENAAAAAAAAA+H8AAAAAAIBDQAAAAAAAwFhAAAAAAAAA+H8AAAAAAABEQAAAAAAAAPh/AAAAAADAWEAAAAAAAAD4fw==\",\"dtype\":\"float64\",\"shape\":[29]},\"sem_gest_mean\":{\"__ndarray__\":\"AAAAAAAAREAAAAAAAAD4fwAAAAAAAENAAAAAAAAAREAAAAAAAABDQAAAAAAAgENAAAAAAACAQ0BVVVVVVdVDQAAAAAAAgENAVVVVVVVVQ0AAAAAAAIBCQAAAAAAAgENAAAAAAAAA+H8AAAAAAIBDQAAAAAAAwFhAAAAAAAAAREAAAAAAAABDQAAAAAAAwFhAAAAAAACAQEAAAAAAAAD4fwAAAAAAQENAAAAAAAAA+H8AAAAAAIBDQAAAAAAAwFhAAAAAAAAA+H8AAAAAAABEQAAAAAAAAPh/27Zt27ZtS0AAAAAAAAD4fw==\",\"dtype\":\"float64\",\"shape\":[29]},\"sem_gest_min\":{\"__ndarray__\":\"AAAAAAAAREAAAAAAAAD4fwAAAAAAgEJAAAAAAAAAREAAAAAAAABDQAAAAAAAgENAAAAAAACAQ0AAAAAAAIBDQAAAAAAAgENAAAAAAAAAQ0AAAAAAAIBCQAAAAAAAgENAAAAAAAAA+H8AAAAAAIBDQAAAAAAAwFhAAAAAAAAAREAAAAAAAABCQAAAAAAAwFhAAAAAAACAQEAAAAAAAAD4fwAAAAAAAENAAAAAAAAA+H8AAAAAAIBDQAAAAAAAwFhAAAAAAAAA+H8AAAAAAABEQAAAAAAAAPh/AAAAAACAQEAAAAAAAAD4fw==\",\"dtype\":\"float64\",\"shape\":[29]},\"sem_gest_std\":{\"__ndarray__\":\"AAAAAAAA+H8AAAAAAAD4f807f2aeoPY/AAAAAAAA+H8AAAAAAAD4fwAAAAAAAPh/AAAAAAAAAAAdM5BFp3niPwAAAAAAAPh/HTOQRad54j8AAAAAAAD4fwAAAAAAAPh/AAAAAAAA+H8AAAAAAAD4fwAAAAAAAPh/AAAAAAAA+H/NO39mnqD2PwAAAAAAAPh/AAAAAAAA+H8AAAAAAAD4f807f2aeoOY/AAAAAAAA+H8AAAAAAAD4fwAAAAAAAPh/AAAAAAAA+H8AAAAAAAD4fwAAAAAAAPh/JcyYed83PkAAAAAAAAD4fw==\",\"dtype\":\"float64\",\"shape\":[29]},\"talla_25%\":{\"__ndarray__\":\"AAAAAAAASEAAAAAAAAD4fwAAAAAAQEdAAAAAAAAASUAAAAAAAABJQAAAAAAAAEhAAAAAAAAASEAAAAAAAABIQAAAAAAAAEpAAAAAAAAASEAAAAAAAIBHQAAAAAAAgElAAAAAAAAA+H8AAAAAAABIQAAAAAAAgElAAAAAAAAASUAAAAAAAGBIQAAAAAAAAEdAAAAAAACARkAAAAAAAAD4fwAAAAAAoEhAAAAAAAAA+H8AAAAAAABJQAAAAAAAAEhAAAAAAAAA+H8AAAAAAIBHQAAAAAAAAPh/AAAAAADARkAAAAAAAAD4fw==\",\"dtype\":\"float64\",\"shape\":[29]},\"talla_50%\":{\"__ndarray__\":\"AAAAAAAASEAAAAAAAAD4fwAAAAAAgEdAAAAAAAAASUAAAAAAAABJQAAAAAAAAEhAAAAAAAAASEAAAAAAAIBIQAAAAAAAAEpAAAAAAAAASEAAAAAAAIBHQAAAAAAAgElAAAAAAAAA+H8AAAAAAABIQAAAAAAAgElAAAAAAAAASUAAAAAAAEBJQAAAAAAAAEdAAAAAAACARkAAAAAAAAD4fwAAAAAAwEhAAAAAAAAA+H8AAAAAAABJQAAAAAAAAEhAAAAAAAAA+H8AAAAAAIBHQAAAAAAAAPh/AAAAAACAR0AAAAAAAAD4fw==\",\"dtype\":\"float64\",\"shape\":[29]},\"talla_75%\":{\"__ndarray__\":\"AAAAAAAASEAAAAAAAAD4fwAAAAAAwEdAAAAAAAAASUAAAAAAAABJQAAAAAAAAEhAAAAAAAAASEAAAAAAAIBIQAAAAAAAAEpAAAAAAABASEAAAAAAAIBHQAAAAAAAgElAAAAAAAAA+H8AAAAAAABIQAAAAAAAgElAAAAAAAAASUAAAAAAAKBJQAAAAAAAAEdAAAAAAACARkAAAAAAAAD4fwAAAAAA4EhAAAAAAAAA+H8AAAAAAABJQAAAAAAAAEhAAAAAAAAA+H8AAAAAAIBHQAAAAAAAAPh/AAAAAACASEAAAAAAAAD4fw==\",\"dtype\":\"float64\",\"shape\":[29]},\"talla_count\":{\"__ndarray__\":\"AAAAAAAA8D8AAAAAAAAAAAAAAAAAAABAAAAAAAAA8D8AAAAAAADwPwAAAAAAAPA/AAAAAAAAAEAAAAAAAAAIQAAAAAAAAPA/AAAAAAAACEAAAAAAAADwPwAAAAAAAPA/AAAAAAAAAAAAAAAAAADwPwAAAAAAAPA/AAAAAAAA8D8AAAAAAAAQQAAAAAAAAPA/AAAAAAAA8D8AAAAAAAAAAAAAAAAAAABAAAAAAAAAAAAAAAAAAADwPwAAAAAAAPA/AAAAAAAAAAAAAAAAAADwPwAAAAAAAAAAAAAAAAAAHEAAAAAAAAAAAA==\",\"dtype\":\"float64\",\"shape\":[29]},\"talla_max\":{\"__ndarray__\":\"AAAAAAAASEAAAAAAAAD4fwAAAAAAAEhAAAAAAAAASUAAAAAAAABJQAAAAAAAAEhAAAAAAAAASEAAAAAAAIBIQAAAAAAAAEpAAAAAAACASEAAAAAAAIBHQAAAAAAAgElAAAAAAAAA+H8AAAAAAABIQAAAAAAAgElAAAAAAAAASUAAAAAAAABKQAAAAAAAAEdAAAAAAACARkAAAAAAAAD4fwAAAAAAAElAAAAAAAAA+H8AAAAAAABJQAAAAAAAAEhAAAAAAAAA+H8AAAAAAIBHQAAAAAAAAPh/AAAAAAAASUAAAAAAAAD4fw==\",\"dtype\":\"float64\",\"shape\":[29]},\"talla_mean\":{\"__ndarray__\":\"AAAAAAAASEAAAAAAAAD4fwAAAAAAgEdAAAAAAAAASUAAAAAAAABJQAAAAAAAAEhAAAAAAAAASECrqqqqqipIQAAAAAAAAEpAq6qqqqoqSEAAAAAAAIBHQAAAAAAAgElAAAAAAAAA+H8AAAAAAABIQAAAAAAAgElAAAAAAAAASUAAAAAAAMBIQAAAAAAAAEdAAAAAAACARkAAAAAAAAD4fwAAAAAAwEhAAAAAAAAA+H8AAAAAAABJQAAAAAAAAEhAAAAAAAAA+H8AAAAAAIBHQAAAAAAAAPh/27Zt27ZtR0AAAAAAAAD4fw==\",\"dtype\":\"float64\",\"shape\":[29]},\"talla_min\":{\"__ndarray__\":\"AAAAAAAASEAAAAAAAAD4fwAAAAAAAEdAAAAAAAAASUAAAAAAAABJQAAAAAAAAEhAAAAAAAAASEAAAAAAAIBHQAAAAAAAAEpAAAAAAAAASEAAAAAAAIBHQAAAAAAAgElAAAAAAAAA+H8AAAAAAABIQAAAAAAAgElAAAAAAAAASUAAAAAAAIBGQAAAAAAAAEdAAAAAAACARkAAAAAAAAD4fwAAAAAAgEhAAAAAAAAA+H8AAAAAAABJQAAAAAAAAEhAAAAAAAAA+H8AAAAAAIBHQAAAAAAAAPh/AAAAAAAARUAAAAAAAAD4fw==\",\"dtype\":\"float64\",\"shape\":[29]},\"talla_std\":{\"__ndarray__\":\"AAAAAAAA+H8AAAAAAAD4f807f2aeoPY/AAAAAAAA+H8AAAAAAAD4fwAAAAAAAPh/AAAAAAAAAAAdM5BFp3nyPwAAAAAAAPh/HTOQRad54j8AAAAAAAD4fwAAAAAAAPh/AAAAAAAA+H8AAAAAAAD4fwAAAAAAAPh/AAAAAAAA+H+Hbuaifd8IQAAAAAAAAPh/AAAAAAAA+H8AAAAAAAD4f807f2aeoOY/AAAAAAAA+H8AAAAAAAD4fwAAAAAAAPh/AAAAAAAA+H8AAAAAAAD4fwAAAAAAAPh/9z/cFRzUBkAAAAAAAAD4fw==\",\"dtype\":\"float64\",\"shape\":[29]}},\"selected\":{\"id\":\"1054\",\"type\":\"Selection\"},\"selection_policy\":{\"id\":\"1055\",\"type\":\"UnionRenderers\"}},\"id\":\"1002\",\"type\":\"ColumnDataSource\"},{\"attributes\":{\"axis_label\":\"#\",\"formatter\":{\"id\":\"1049\",\"type\":\"BasicTickFormatter\"},\"plot\":{\"id\":\"1003\",\"subtype\":\"Figure\",\"type\":\"Plot\"},\"ticker\":{\"id\":\"1017\",\"type\":\"BasicTicker\"}},\"id\":\"1016\",\"type\":\"LinearAxis\"},{\"attributes\":{},\"id\":\"1010\",\"type\":\"LinearScale\"},{\"attributes\":{},\"id\":\"1055\",\"type\":\"UnionRenderers\"},{\"attributes\":{\"callback\":null,\"mode\":\"vline\",\"tooltips\":[[\"Total\",\"@anio_insc_count\"],[\"Parroqu\\u00eda\",\"@parr_insc\"]]},\"id\":\"1045\",\"type\":\"HoverTool\"},{\"attributes\":{},\"id\":\"1051\",\"type\":\"CategoricalTickFormatter\"},{\"attributes\":{\"dimension\":1,\"plot\":{\"id\":\"1003\",\"subtype\":\"Figure\",\"type\":\"Plot\"},\"ticker\":{\"id\":\"1017\",\"type\":\"BasicTicker\"}},\"id\":\"1020\",\"type\":\"Grid\"},{\"attributes\":{},\"id\":\"1021\",\"type\":\"PanTool\"},{\"attributes\":{},\"id\":\"1017\",\"type\":\"BasicTicker\"},{\"attributes\":{},\"id\":\"1025\",\"type\":\"ResetTool\"},{\"attributes\":{\"axis_label\":\"Parroqu\\u00eda\",\"formatter\":{\"id\":\"1051\",\"type\":\"CategoricalTickFormatter\"},\"major_label_orientation\":1,\"plot\":{\"id\":\"1003\",\"subtype\":\"Figure\",\"type\":\"Plot\"},\"ticker\":{\"id\":\"1013\",\"type\":\"CategoricalTicker\"}},\"id\":\"1012\",\"type\":\"CategoricalAxis\"},{\"attributes\":{},\"id\":\"1024\",\"type\":\"SaveTool\"},{\"attributes\":{},\"id\":\"1054\",\"type\":\"Selection\"},{\"attributes\":{},\"id\":\"1049\",\"type\":\"BasicTickFormatter\"},{\"attributes\":{\"data_source\":{\"id\":\"1002\",\"type\":\"ColumnDataSource\"},\"glyph\":{\"id\":\"1038\",\"type\":\"VBar\"},\"hover_glyph\":null,\"muted_glyph\":null,\"nonselection_glyph\":{\"id\":\"1039\",\"type\":\"VBar\"},\"selection_glyph\":null,\"view\":{\"id\":\"1041\",\"type\":\"CDSView\"}},\"id\":\"1040\",\"type\":\"GlyphRenderer\"},{\"attributes\":{\"bottom_units\":\"screen\",\"fill_alpha\":{\"value\":0.5},\"fill_color\":{\"value\":\"lightgrey\"},\"left_units\":\"screen\",\"level\":\"overlay\",\"line_alpha\":{\"value\":1.0},\"line_color\":{\"value\":\"black\"},\"line_dash\":[4,4],\"line_width\":{\"value\":2},\"plot\":null,\"render_mode\":\"css\",\"right_units\":\"screen\",\"top_units\":\"screen\"},\"id\":\"1029\",\"type\":\"BoxAnnotation\"},{\"attributes\":{\"fill_alpha\":{\"value\":0.1},\"fill_color\":{\"value\":\"#1f77b4\"},\"line_alpha\":{\"value\":0.1},\"line_color\":{\"value\":\"#1f77b4\"},\"top\":{\"field\":\"anio_insc_count\"},\"width\":{\"value\":0.7},\"x\":{\"field\":\"parr_insc\"}},\"id\":\"1039\",\"type\":\"VBar\"},{\"attributes\":{},\"id\":\"1022\",\"type\":\"WheelZoomTool\"},{\"attributes\":{\"overlay\":{\"id\":\"1029\",\"type\":\"BoxAnnotation\"}},\"id\":\"1023\",\"type\":\"BoxZoomTool\"},{\"attributes\":{\"grid_line_color\":{\"value\":null},\"plot\":{\"id\":\"1003\",\"subtype\":\"Figure\",\"type\":\"Plot\"},\"ticker\":{\"id\":\"1013\",\"type\":\"CategoricalTicker\"}},\"id\":\"1015\",\"type\":\"Grid\"},{\"attributes\":{\"factors\":[\"Azogues\",\"Cariamanga, Cabecera Cantonal\",\"Centro Hist\\ufffdrico\",\"Chone, Cabecera Cantonal\",\"Cotocollao\",\"Daule, Cabecera Cantonal\",\"El Carmen, Cabecera Cantonal\",\"I\\ufffdaquito\",\"Jos\\ufffd Luis Tamayo (Muey)\",\"Lizarzaburu\",\"Macas, Cabecera Cantonal y Capital Provincial\",\"Manta, Cabecera Cantonal\",\"Milagro, Cabecera Cantonal\",\"Otavalo, Cabecera Cantonal\",\"Pedernales, Cabecera Cantonal\",\"Portoviejo, Cabecera Cantonal y Capital Provincial\",\"Rocafuerte\",\"Rosa Z\\ufffdrate (Quinind\\ufffd), Cabecera Cantonal\",\"Rumipamba\",\"Samborond\\ufffdn, Cabecera Cantonal\",\"San Blas\",\"San Jacinto de Buena F\\ufffd, Cabecera Cantonal\",\"San Jacinto de Yaguachi, Cabecera Cantonal\",\"San Miguel de Ibarra, Cabecera Cantonal y Capital Provincial\",\"Santa Elena, Cabecera Cantonal y Capital Provincial\",\"Santo Domingo de los Colorados, Cabecera Cantonal y Capital Provincial\",\"Shushufindi, Cabecera Cantonal\",\"Tarqui\",\"Vuelta Larga\"],\"palette\":[\"#440154\",\"#460E61\",\"#481A6C\",\"#472676\",\"#46317E\",\"#433C84\",\"#3F4788\",\"#3B518A\",\"#365A8C\",\"#32638D\",\"#2E6D8E\",\"#2A768E\",\"#277E8E\",\"#23878D\",\"#208F8C\",\"#1E988A\",\"#1EA087\",\"#23A883\",\"#2BB17D\",\"#39B976\",\"#49C16D\",\"#5BC862\",\"#70CE56\",\"#86D449\",\"#9DD93A\",\"#B5DD2B\",\"#CDE01D\",\"#E4E318\",\"#FDE724\"]},\"id\":\"1036\",\"type\":\"CategoricalColorMapper\"},{\"attributes\":{\"source\":{\"id\":\"1002\",\"type\":\"ColumnDataSource\"}},\"id\":\"1041\",\"type\":\"CDSView\"},{\"attributes\":{\"fill_color\":{\"field\":\"parr_insc\",\"transform\":{\"id\":\"1036\",\"type\":\"CategoricalColorMapper\"}},\"line_color\":{\"field\":\"parr_insc\",\"transform\":{\"id\":\"1036\",\"type\":\"CategoricalColorMapper\"}},\"top\":{\"field\":\"anio_insc_count\"},\"width\":{\"value\":0.7},\"x\":{\"field\":\"parr_insc\"}},\"id\":\"1038\",\"type\":\"VBar\"},{\"attributes\":{},\"id\":\"1013\",\"type\":\"CategoricalTicker\"},{\"attributes\":{\"callback\":null,\"factors\":[\"Azogues\",\"Cariamanga, Cabecera Cantonal\",\"Centro Hist\\ufffdrico\",\"Chone, Cabecera Cantonal\",\"Cotocollao\",\"Daule, Cabecera Cantonal\",\"El Carmen, Cabecera Cantonal\",\"I\\ufffdaquito\",\"Jos\\ufffd Luis Tamayo (Muey)\",\"Lizarzaburu\",\"Macas, Cabecera Cantonal y Capital Provincial\",\"Manta, Cabecera Cantonal\",\"Milagro, Cabecera Cantonal\",\"Otavalo, Cabecera Cantonal\",\"Pedernales, Cabecera Cantonal\",\"Portoviejo, Cabecera Cantonal y Capital Provincial\",\"Rocafuerte\",\"Rosa Z\\ufffdrate (Quinind\\ufffd), Cabecera Cantonal\",\"Rumipamba\",\"Samborond\\ufffdn, Cabecera Cantonal\",\"San Blas\",\"San Jacinto de Buena F\\ufffd, Cabecera Cantonal\",\"San Jacinto de Yaguachi, Cabecera Cantonal\",\"San Miguel de Ibarra, Cabecera Cantonal y Capital Provincial\",\"Santa Elena, Cabecera Cantonal y Capital Provincial\",\"Santo Domingo de los Colorados, Cabecera Cantonal y Capital Provincial\",\"Shushufindi, Cabecera Cantonal\",\"Tarqui\",\"Vuelta Larga\"],\"range_padding\":0.1},\"id\":\"1004\",\"type\":\"FactorRange\"}],\"root_ids\":[\"1003\"]},\"title\":\"Bokeh Application\",\"version\":\"1.0.4\"}};\n",
       "  var render_items = [{\"docid\":\"b11b2f04-f769-4ac6-9209-1c393431012b\",\"roots\":{\"1003\":\"57606f04-5c3c-438f-9b26-dc00bd1fca58\"}}];\n",
       "  root.Bokeh.embed.embed_items_notebook(docs_json, render_items);\n",
       "\n",
       "  }\n",
       "  if (root.Bokeh !== undefined) {\n",
       "    embed_document(root);\n",
       "  } else {\n",
       "    var attempts = 0;\n",
       "    var timer = setInterval(function(root) {\n",
       "      if (root.Bokeh !== undefined) {\n",
       "        embed_document(root);\n",
       "        clearInterval(timer);\n",
       "      }\n",
       "      attempts++;\n",
       "      if (attempts > 100) {\n",
       "        console.log(\"Bokeh: ERROR: Unable to run BokehJS code because BokehJS library is missing\");\n",
       "        clearInterval(timer);\n",
       "      }\n",
       "    }, 10, root)\n",
       "  }\n",
       "})(window);"
      ],
      "application/vnd.bokehjs_exec.v0+json": ""
     },
     "metadata": {
      "application/vnd.bokehjs_exec.v0+json": {
       "id": "1003"
      }
     },
     "output_type": "display_data"
    }
   ],
   "source": [
    "show(p)"
   ]
  }
 ],
 "metadata": {
  "kernelspec": {
   "display_name": "Python 3",
   "language": "python",
   "name": "python3"
  },
  "language_info": {
   "codemirror_mode": {
    "name": "ipython",
    "version": 3
   },
   "file_extension": ".py",
   "mimetype": "text/x-python",
   "name": "python",
   "nbconvert_exporter": "python",
   "pygments_lexer": "ipython3",
   "version": "3.7.0b3"
  }
 },
 "nbformat": 4,
 "nbformat_minor": 2
}
